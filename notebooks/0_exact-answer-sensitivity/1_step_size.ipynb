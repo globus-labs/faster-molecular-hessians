{
 "cells": [
  {
   "cell_type": "markdown",
   "id": "4bdf2dd5-2160-4343-97c8-c140b028bc6f",
   "metadata": {},
   "source": [
    "# Get the Exact Answer\n",
    "Start off by computing the exact Hessian to use a reference point. \n",
    "First relax the structure then compute the Hessians using [ase's Vibrations module](https://databases.fysik.dtu.dk/ase/ase/vibrations/modes.html), which will compute them numerically using central derivatives"
   ]
  },
  {
   "cell_type": "code",
   "execution_count": 1,
   "id": "06732ce7-a249-448d-8b77-bd7974f83c59",
   "metadata": {
    "tags": []
   },
   "outputs": [],
   "source": [
    "from ase.thermochemistry import IdealGasThermo\n",
    "from ase.vibrations import VibrationsData, Vibrations\n",
    "from ase.calculators.mopac import MOPAC\n",
    "from ase.calculators.psi4 import Psi4\n",
    "from ase.optimize import QuasiNewton\n",
    "from ase import Atoms, units\n",
    "from ase.io import write\n",
    "from time import perf_counter\n",
    "from platform import node\n",
    "from pathlib import Path\n",
    "import numpy as np\n",
    "import shutil\n",
    "import json\n",
    "import os"
   ]
  },
  {
   "cell_type": "markdown",
   "id": "70e35fde-8d07-46e2-86e7-642a201a8c4a",
   "metadata": {},
   "source": [
    "Configuration"
   ]
  },
  {
   "cell_type": "code",
   "execution_count": 2,
   "id": "1abbc967-a788-4a2d-8342-6a88c75cebec",
   "metadata": {
    "tags": [
     "parameters"
    ]
   },
   "outputs": [],
   "source": [
    "molecule_name = 'water'\n",
    "run_analytic = True\n",
    "deltas = [0.0005, 0.002, 0.005, 0.008, 0.01, 0.012, 0.02, 0.05]\n",
    "fmax = .01\n",
    "#method = 'ccsd(t)'\n",
    "#basis = 'cc-pvdz'\n",
    "levels = [\n",
    "    ['hf', 'def2-svpd'], \n",
    "    ['hf', '6-31g*'],\n",
    "    ['b3lyp','6-31g*'],\n",
    "    ['b3lyp','cc-pvtz'],\n",
    "    ['wb97x-d','cc-pvtz'], \n",
    "    ['m062x', 'cc-pvtz'],\n",
    "    ['ccsd(t)','cc-pvdz']]\n",
    "method = levels[6][0]\n",
    "basis = levels[6][1]\n",
    "mopac_methods=['pm6', 'pm7']\n",
    "#molecule_name = 'water'\n",
    "#method = 'pm7'\n",
    "#mopac_methods = ['pm7']  # Use MOPAC for these methods\n",
    "#basis = None  # Set to None for MOPAC methods\n",
    "threads = min(os.cpu_count(), 12)\n",
    "#assert (method in mopac_methods) == (basis is None), 'Use a basis of None for MOPAC computations'"
   ]
  },
  {
   "cell_type": "markdown",
   "id": "748e04a6-dd84-4142-aa0d-7bd543346d79",
   "metadata": {},
   "source": [
    "Derived"
   ]
  },
  {
   "cell_type": "code",
   "execution_count": 3,
   "id": "aeebbc77-70e4-4709-90a0-b9aaf54d4cd9",
   "metadata": {},
   "outputs": [],
   "source": [
    "run_name = f'{molecule_name}_{method}_{basis}'"
   ]
  },
  {
   "cell_type": "markdown",
   "id": "026bbc46-d5e6-4b67-a9a4-aa0cd86f9ad2",
   "metadata": {},
   "source": [
    "## Load in Target Molecule\n",
    "We have it in a JSON file from PubChem"
   ]
  },
  {
   "cell_type": "code",
   "execution_count": 4,
   "id": "d52bd814-a353-467f-99a6-02201a64416e",
   "metadata": {
    "tags": []
   },
   "outputs": [],
   "source": [
    "def load_molecule(name: str) -> Atoms:\n",
    "    \"\"\"Load a molecule from a PubChem JSON file\n",
    "    \n",
    "    Args:\n",
    "        name: Name of the molecule\n",
    "    Returns:\n",
    "        ASE Atoms object\n",
    "    \"\"\"\n",
    "    \n",
    "    # Get the compound data\n",
    "    with open(f'../data/structures/{name}.json') as fp:\n",
    "        data = json.load(fp)\n",
    "    data = data['PC_Compounds'][0]\n",
    "        \n",
    "    # Extract data from the JSON\n",
    "    atomic_numbers = data['atoms']['element']\n",
    "    positions = np.zeros((len(atomic_numbers), 3))\n",
    "    conf_data = data['coords'][0]['conformers'][0]\n",
    "    for i, c in enumerate('xyz'):\n",
    "        if c in conf_data:\n",
    "            positions[:, i] = conf_data[c]\n",
    "        \n",
    "    # Build the object    \n",
    "    return Atoms(numbers=atomic_numbers, positions=positions)"
   ]
  },
  {
   "cell_type": "code",
   "execution_count": 5,
   "id": "02010c51-39a9-42e6-a4c8-f03d447267ff",
   "metadata": {
    "tags": []
   },
   "outputs": [],
   "source": [
    "atoms = load_molecule(molecule_name)"
   ]
  },
  {
   "cell_type": "markdown",
   "id": "9a42b230-c0c2-4512-9afb-57cea203c96e",
   "metadata": {},
   "source": [
    "## Perform the Geometry Optimization\n",
    "Build the ASE calculator then run QuasiNewton to a high tolerance"
   ]
  },
  {
   "cell_type": "code",
   "execution_count": 6,
   "id": "7073bdd7-9ee6-45bf-a401-93cfe122413a",
   "metadata": {
    "tags": []
   },
   "outputs": [
    {
     "ename": "KeyboardInterrupt",
     "evalue": "",
     "output_type": "error",
     "traceback": [
      "\u001b[0;31m---------------------------------------------------------------------------\u001b[0m",
      "\u001b[0;31mKeyboardInterrupt\u001b[0m                         Traceback (most recent call last)",
      "Cell \u001b[0;32mIn[6], line 2\u001b[0m\n\u001b[1;32m      1\u001b[0m \u001b[38;5;28;01mif\u001b[39;00m method \u001b[38;5;129;01mnot\u001b[39;00m \u001b[38;5;129;01min\u001b[39;00m mopac_methods:\n\u001b[0;32m----> 2\u001b[0m     calc \u001b[38;5;241m=\u001b[39m \u001b[43mPsi4\u001b[49m\u001b[43m(\u001b[49m\u001b[43mmethod\u001b[49m\u001b[38;5;241;43m=\u001b[39;49m\u001b[43mmethod\u001b[49m\u001b[43m,\u001b[49m\u001b[43m \u001b[49m\u001b[43mbasis\u001b[49m\u001b[38;5;241;43m=\u001b[39;49m\u001b[43mbasis\u001b[49m\u001b[43m,\u001b[49m\u001b[43m \u001b[49m\u001b[43mnum_threads\u001b[49m\u001b[38;5;241;43m=\u001b[39;49m\u001b[43mthreads\u001b[49m\u001b[43m,\u001b[49m\u001b[43m \u001b[49m\u001b[43mmemory\u001b[49m\u001b[38;5;241;43m=\u001b[39;49m\u001b[38;5;124;43m'\u001b[39;49m\u001b[38;5;124;43m4096MB\u001b[39;49m\u001b[38;5;124;43m'\u001b[39;49m\u001b[43m)\u001b[49m\n\u001b[1;32m      3\u001b[0m \u001b[38;5;28;01melse\u001b[39;00m:\n\u001b[1;32m      4\u001b[0m     calc \u001b[38;5;241m=\u001b[39m MOPAC(method\u001b[38;5;241m=\u001b[39mmethod, command\u001b[38;5;241m=\u001b[39m\u001b[38;5;124m'\u001b[39m\u001b[38;5;124mmopac PREFIX.mop > /dev/null\u001b[39m\u001b[38;5;124m'\u001b[39m)\n",
      "File \u001b[0;32m/lcrc/project/PACC/conda/elliott/miniconda3/envs/jitterbug/lib/python3.10/site-packages/ase/calculators/psi4.py:43\u001b[0m, in \u001b[0;36mPsi4.__init__\u001b[0;34m(self, restart, ignore_bad_restart, label, atoms, command, **kwargs)\u001b[0m\n\u001b[1;32m     37\u001b[0m \u001b[38;5;28;01mdef\u001b[39;00m \u001b[38;5;21m__init__\u001b[39m(\u001b[38;5;28mself\u001b[39m, restart\u001b[38;5;241m=\u001b[39m\u001b[38;5;28;01mNone\u001b[39;00m, ignore_bad_restart\u001b[38;5;241m=\u001b[39m\u001b[38;5;28;01mFalse\u001b[39;00m,\n\u001b[1;32m     38\u001b[0m              label\u001b[38;5;241m=\u001b[39m\u001b[38;5;124m'\u001b[39m\u001b[38;5;124mpsi4-calc\u001b[39m\u001b[38;5;124m'\u001b[39m, atoms\u001b[38;5;241m=\u001b[39m\u001b[38;5;28;01mNone\u001b[39;00m, command\u001b[38;5;241m=\u001b[39m\u001b[38;5;28;01mNone\u001b[39;00m,\n\u001b[1;32m     39\u001b[0m              \u001b[38;5;241m*\u001b[39m\u001b[38;5;241m*\u001b[39mkwargs):\n\u001b[1;32m     40\u001b[0m     Calculator\u001b[38;5;241m.\u001b[39m\u001b[38;5;21m__init__\u001b[39m(\u001b[38;5;28mself\u001b[39m, restart\u001b[38;5;241m=\u001b[39mrestart,\n\u001b[1;32m     41\u001b[0m                         ignore_bad_restart\u001b[38;5;241m=\u001b[39mignore_bad_restart, label\u001b[38;5;241m=\u001b[39mlabel,\n\u001b[1;32m     42\u001b[0m                         atoms\u001b[38;5;241m=\u001b[39matoms, command\u001b[38;5;241m=\u001b[39mcommand, \u001b[38;5;241m*\u001b[39m\u001b[38;5;241m*\u001b[39mkwargs)\n\u001b[0;32m---> 43\u001b[0m     \u001b[38;5;28;01mimport\u001b[39;00m \u001b[38;5;21;01mpsi4\u001b[39;00m\n\u001b[1;32m     44\u001b[0m     \u001b[38;5;28mself\u001b[39m\u001b[38;5;241m.\u001b[39mpsi4 \u001b[38;5;241m=\u001b[39m psi4\n\u001b[1;32m     45\u001b[0m     \u001b[38;5;66;03m# perform initial setup of psi4 python API\u001b[39;00m\n",
      "File \u001b[0;32m/lcrc/project/PACC/conda/elliott/miniconda3/envs/jitterbug/lib/python3.10/site-packages/psi4/__init__.py:90\u001b[0m\n\u001b[1;32m     87\u001b[0m atexit\u001b[38;5;241m.\u001b[39mregister(core\u001b[38;5;241m.\u001b[39mfinalize)\n\u001b[1;32m     89\u001b[0m \u001b[38;5;66;03m# Make official plugins accessible in input\u001b[39;00m\n\u001b[0;32m---> 90\u001b[0m \u001b[38;5;28;01mfrom\u001b[39;00m \u001b[38;5;21;01m.\u001b[39;00m\u001b[38;5;21;01mdriver\u001b[39;00m \u001b[38;5;28;01mimport\u001b[39;00m endorsed_plugins\n\u001b[1;32m     92\u001b[0m \u001b[38;5;66;03m# Manage threads. Must be after endorsed plugins, honestly.\u001b[39;00m\n\u001b[1;32m     93\u001b[0m core\u001b[38;5;241m.\u001b[39mset_num_threads(\u001b[38;5;241m1\u001b[39m, quiet\u001b[38;5;241m=\u001b[39m\u001b[38;5;28;01mTrue\u001b[39;00m)\n",
      "File \u001b[0;32m/lcrc/project/PACC/conda/elliott/miniconda3/envs/jitterbug/lib/python3.10/site-packages/psi4/driver/__init__.py:46\u001b[0m\n\u001b[1;32m     43\u001b[0m \u001b[38;5;28;01mfrom\u001b[39;00m \u001b[38;5;21;01mpsi4\u001b[39;00m\u001b[38;5;21;01m.\u001b[39;00m\u001b[38;5;21;01mdriver\u001b[39;00m \u001b[38;5;28;01mimport\u001b[39;00m psifiles \u001b[38;5;28;01mas\u001b[39;00m psif\n\u001b[1;32m     45\u001b[0m \u001b[38;5;28;01mfrom\u001b[39;00m \u001b[38;5;21;01mpsi4\u001b[39;00m\u001b[38;5;21;01m.\u001b[39;00m\u001b[38;5;21;01mdriver\u001b[39;00m\u001b[38;5;21;01m.\u001b[39;00m\u001b[38;5;21;01mipi_broker\u001b[39;00m \u001b[38;5;28;01mimport\u001b[39;00m ipi_broker\n\u001b[0;32m---> 46\u001b[0m \u001b[38;5;28;01mfrom\u001b[39;00m \u001b[38;5;21;01mpsi4\u001b[39;00m\u001b[38;5;21;01m.\u001b[39;00m\u001b[38;5;21;01mdriver\u001b[39;00m\u001b[38;5;21;01m.\u001b[39;00m\u001b[38;5;21;01mmolutil\u001b[39;00m \u001b[38;5;28;01mimport\u001b[39;00m \u001b[38;5;241m*\u001b[39m\n\u001b[1;32m     47\u001b[0m \u001b[38;5;28;01mfrom\u001b[39;00m \u001b[38;5;21;01mpsi4\u001b[39;00m\u001b[38;5;21;01m.\u001b[39;00m\u001b[38;5;21;01mdriver\u001b[39;00m\u001b[38;5;21;01m.\u001b[39;00m\u001b[38;5;21;01minputparser\u001b[39;00m \u001b[38;5;28;01mimport\u001b[39;00m process_input\n\u001b[1;32m     48\u001b[0m \u001b[38;5;28;01mfrom\u001b[39;00m \u001b[38;5;21;01mpsi4\u001b[39;00m\u001b[38;5;21;01m.\u001b[39;00m\u001b[38;5;21;01mdriver\u001b[39;00m\u001b[38;5;21;01m.\u001b[39;00m\u001b[38;5;21;01mp4util\u001b[39;00m\u001b[38;5;21;01m.\u001b[39;00m\u001b[38;5;21;01mutil\u001b[39;00m \u001b[38;5;28;01mimport\u001b[39;00m \u001b[38;5;241m*\u001b[39m\n",
      "File \u001b[0;32m/lcrc/project/PACC/conda/elliott/miniconda3/envs/jitterbug/lib/python3.10/site-packages/psi4/driver/molutil.py:36\u001b[0m\n\u001b[1;32m     33\u001b[0m \u001b[38;5;28;01mimport\u001b[39;00m \u001b[38;5;21;01mqcelemental\u001b[39;00m \u001b[38;5;28;01mas\u001b[39;00m \u001b[38;5;21;01mqcel\u001b[39;00m\n\u001b[1;32m     35\u001b[0m \u001b[38;5;28;01mfrom\u001b[39;00m \u001b[38;5;21;01mpsi4\u001b[39;00m \u001b[38;5;28;01mimport\u001b[39;00m core\n\u001b[0;32m---> 36\u001b[0m \u001b[38;5;28;01mfrom\u001b[39;00m \u001b[38;5;21;01mpsi4\u001b[39;00m\u001b[38;5;21;01m.\u001b[39;00m\u001b[38;5;21;01mdriver\u001b[39;00m\u001b[38;5;21;01m.\u001b[39;00m\u001b[38;5;21;01mp4util\u001b[39;00m \u001b[38;5;28;01mimport\u001b[39;00m temp_circular_import_blocker\n\u001b[1;32m     37\u001b[0m \u001b[38;5;28;01mfrom\u001b[39;00m \u001b[38;5;21;01mpsi4\u001b[39;00m\u001b[38;5;21;01m.\u001b[39;00m\u001b[38;5;21;01mdriver\u001b[39;00m \u001b[38;5;28;01mimport\u001b[39;00m qcdb\n\u001b[1;32m     38\u001b[0m \u001b[38;5;28;01mfrom\u001b[39;00m \u001b[38;5;21;01mpsi4\u001b[39;00m\u001b[38;5;21;01m.\u001b[39;00m\u001b[38;5;21;01mdriver\u001b[39;00m\u001b[38;5;21;01m.\u001b[39;00m\u001b[38;5;21;01mp4util\u001b[39;00m\u001b[38;5;21;01m.\u001b[39;00m\u001b[38;5;21;01mexceptions\u001b[39;00m \u001b[38;5;28;01mimport\u001b[39;00m \u001b[38;5;241m*\u001b[39m\n",
      "File \u001b[0;32m/lcrc/project/PACC/conda/elliott/miniconda3/envs/jitterbug/lib/python3.10/site-packages/psi4/driver/p4util/__init__.py:35\u001b[0m\n\u001b[1;32m     33\u001b[0m \u001b[38;5;28;01mfrom\u001b[39;00m \u001b[38;5;21;01m.\u001b[39;00m\u001b[38;5;21;01mexceptions\u001b[39;00m \u001b[38;5;28;01mimport\u001b[39;00m \u001b[38;5;241m*\u001b[39m\n\u001b[1;32m     34\u001b[0m \u001b[38;5;28;01mfrom\u001b[39;00m \u001b[38;5;21;01m.\u001b[39;00m\u001b[38;5;21;01mfchk\u001b[39;00m \u001b[38;5;28;01mimport\u001b[39;00m \u001b[38;5;241m*\u001b[39m\n\u001b[0;32m---> 35\u001b[0m \u001b[38;5;28;01mfrom\u001b[39;00m \u001b[38;5;21;01m.\u001b[39;00m\u001b[38;5;21;01mfcidump\u001b[39;00m \u001b[38;5;28;01mimport\u001b[39;00m \u001b[38;5;241m*\u001b[39m\n\u001b[1;32m     36\u001b[0m \u001b[38;5;28;01mfrom\u001b[39;00m \u001b[38;5;21;01m.\u001b[39;00m\u001b[38;5;21;01minpsight\u001b[39;00m \u001b[38;5;28;01mimport\u001b[39;00m \u001b[38;5;241m*\u001b[39m\n\u001b[1;32m     37\u001b[0m \u001b[38;5;28;01mfrom\u001b[39;00m \u001b[38;5;21;01m.\u001b[39;00m\u001b[38;5;21;01mnumpy_helper\u001b[39;00m \u001b[38;5;28;01mimport\u001b[39;00m \u001b[38;5;241m*\u001b[39m\n",
      "File \u001b[0;32m/lcrc/project/PACC/conda/elliott/miniconda3/envs/jitterbug/lib/python3.10/site-packages/psi4/driver/p4util/fcidump.py:43\u001b[0m\n\u001b[1;32m     41\u001b[0m \u001b[38;5;28;01mfrom\u001b[39;00m \u001b[38;5;21;01mpsi4\u001b[39;00m\u001b[38;5;21;01m.\u001b[39;00m\u001b[38;5;21;01mdriver\u001b[39;00m \u001b[38;5;28;01mimport\u001b[39;00m psifiles \u001b[38;5;28;01mas\u001b[39;00m psif\n\u001b[1;32m     42\u001b[0m \u001b[38;5;28;01mfrom\u001b[39;00m \u001b[38;5;21;01mpsi4\u001b[39;00m\u001b[38;5;21;01m.\u001b[39;00m\u001b[38;5;21;01mdriver\u001b[39;00m\u001b[38;5;21;01m.\u001b[39;00m\u001b[38;5;21;01mp4util\u001b[39;00m\u001b[38;5;21;01m.\u001b[39;00m\u001b[38;5;21;01mtesting\u001b[39;00m \u001b[38;5;28;01mimport\u001b[39;00m compare_integers, compare_values, compare_recursive\n\u001b[0;32m---> 43\u001b[0m \u001b[38;5;28;01mfrom\u001b[39;00m \u001b[38;5;21;01mpsi4\u001b[39;00m\u001b[38;5;21;01m.\u001b[39;00m\u001b[38;5;21;01mdriver\u001b[39;00m\u001b[38;5;21;01m.\u001b[39;00m\u001b[38;5;21;01mprocrouting\u001b[39;00m\u001b[38;5;21;01m.\u001b[39;00m\u001b[38;5;21;01mproc_util\u001b[39;00m \u001b[38;5;28;01mimport\u001b[39;00m check_iwl_file_from_scf_type\n\u001b[1;32m     45\u001b[0m \u001b[38;5;28;01mfrom\u001b[39;00m \u001b[38;5;21;01mpsi4\u001b[39;00m \u001b[38;5;28;01mimport\u001b[39;00m core\n\u001b[1;32m     46\u001b[0m \u001b[38;5;28;01mfrom\u001b[39;00m \u001b[38;5;21;01m.\u001b[39;00m\u001b[38;5;21;01mexceptions\u001b[39;00m \u001b[38;5;28;01mimport\u001b[39;00m ValidationError, TestComparisonError\n",
      "File \u001b[0;32m/lcrc/project/PACC/conda/elliott/miniconda3/envs/jitterbug/lib/python3.10/site-packages/psi4/driver/procrouting/__init__.py:29\u001b[0m\n\u001b[1;32m      1\u001b[0m \u001b[38;5;66;03m#\u001b[39;00m\n\u001b[1;32m      2\u001b[0m \u001b[38;5;66;03m# @BEGIN LICENSE\u001b[39;00m\n\u001b[1;32m      3\u001b[0m \u001b[38;5;66;03m#\u001b[39;00m\n\u001b[0;32m   (...)\u001b[0m\n\u001b[1;32m     26\u001b[0m \u001b[38;5;66;03m# @END LICENSE\u001b[39;00m\n\u001b[1;32m     27\u001b[0m \u001b[38;5;66;03m#\u001b[39;00m\n\u001b[0;32m---> 29\u001b[0m \u001b[38;5;28;01mfrom\u001b[39;00m \u001b[38;5;21;01m.\u001b[39;00m\u001b[38;5;21;01mproc_table\u001b[39;00m \u001b[38;5;28;01mimport\u001b[39;00m procedures, hooks, energy_only_methods, integrated_basis_methods\n\u001b[1;32m     30\u001b[0m \u001b[38;5;28;01mfrom\u001b[39;00m \u001b[38;5;21;01m.\u001b[39;00m\u001b[38;5;21;01mproc\u001b[39;00m \u001b[38;5;28;01mimport\u001b[39;00m scf_helper, scf_wavefunction_factory\n\u001b[1;32m     31\u001b[0m \u001b[38;5;28;01mfrom\u001b[39;00m \u001b[38;5;21;01m.\u001b[39;00m\u001b[38;5;21;01mempirical_dispersion\u001b[39;00m \u001b[38;5;28;01mimport\u001b[39;00m EmpiricalDispersion\n",
      "File \u001b[0;32m/lcrc/project/PACC/conda/elliott/miniconda3/envs/jitterbug/lib/python3.10/site-packages/psi4/driver/procrouting/proc_table.py:34\u001b[0m\n\u001b[1;32m     28\u001b[0m \u001b[38;5;124;03m\"\"\"Module with a *procedures* dictionary specifying available quantum\u001b[39;00m\n\u001b[1;32m     29\u001b[0m \u001b[38;5;124;03mchemical methods.\u001b[39;00m\n\u001b[1;32m     30\u001b[0m \u001b[38;5;124;03m\"\"\"\u001b[39;00m\n\u001b[1;32m     32\u001b[0m \u001b[38;5;28;01mfrom\u001b[39;00m \u001b[38;5;21;01mqcelemental\u001b[39;00m\u001b[38;5;21;01m.\u001b[39;00m\u001b[38;5;21;01mutil\u001b[39;00m \u001b[38;5;28;01mimport\u001b[39;00m which\n\u001b[0;32m---> 34\u001b[0m \u001b[38;5;28;01mfrom\u001b[39;00m \u001b[38;5;21;01m.\u001b[39;00m \u001b[38;5;28;01mimport\u001b[39;00m sapt\n\u001b[1;32m     35\u001b[0m \u001b[38;5;28;01mfrom\u001b[39;00m \u001b[38;5;21;01m.\u001b[39;00m \u001b[38;5;28;01mimport\u001b[39;00m proc\n\u001b[1;32m     36\u001b[0m \u001b[38;5;28;01mfrom\u001b[39;00m \u001b[38;5;21;01m.\u001b[39;00m \u001b[38;5;28;01mimport\u001b[39;00m interface_cfour\n",
      "File \u001b[0;32m/lcrc/project/PACC/conda/elliott/miniconda3/envs/jitterbug/lib/python3.10/site-packages/psi4/driver/procrouting/sapt/__init__.py:29\u001b[0m\n\u001b[1;32m      1\u001b[0m \u001b[38;5;66;03m#\u001b[39;00m\n\u001b[1;32m      2\u001b[0m \u001b[38;5;66;03m# @BEGIN LICENSE\u001b[39;00m\n\u001b[1;32m      3\u001b[0m \u001b[38;5;66;03m#\u001b[39;00m\n\u001b[0;32m   (...)\u001b[0m\n\u001b[1;32m     26\u001b[0m \u001b[38;5;66;03m# @END LICENSE\u001b[39;00m\n\u001b[1;32m     27\u001b[0m \u001b[38;5;66;03m#\u001b[39;00m\n\u001b[0;32m---> 29\u001b[0m \u001b[38;5;28;01mfrom\u001b[39;00m \u001b[38;5;21;01m.\u001b[39;00m\u001b[38;5;21;01msapt_proc\u001b[39;00m \u001b[38;5;28;01mimport\u001b[39;00m run_sapt_dft, sapt_dft, run_sf_sapt\n",
      "File \u001b[0;32m/lcrc/project/PACC/conda/elliott/miniconda3/envs/jitterbug/lib/python3.10/site-packages/psi4/driver/procrouting/sapt/sapt_proc.py:36\u001b[0m\n\u001b[1;32m     34\u001b[0m \u001b[38;5;28;01mfrom\u001b[39;00m \u001b[38;5;21;01mpsi4\u001b[39;00m\u001b[38;5;21;01m.\u001b[39;00m\u001b[38;5;21;01mdriver\u001b[39;00m\u001b[38;5;21;01m.\u001b[39;00m\u001b[38;5;21;01mp4util\u001b[39;00m\u001b[38;5;21;01m.\u001b[39;00m\u001b[38;5;21;01mexceptions\u001b[39;00m \u001b[38;5;28;01mimport\u001b[39;00m \u001b[38;5;241m*\u001b[39m\n\u001b[1;32m     35\u001b[0m \u001b[38;5;28;01mfrom\u001b[39;00m \u001b[38;5;21;01mpsi4\u001b[39;00m\u001b[38;5;21;01m.\u001b[39;00m\u001b[38;5;21;01mdriver\u001b[39;00m\u001b[38;5;21;01m.\u001b[39;00m\u001b[38;5;21;01mmolutil\u001b[39;00m \u001b[38;5;28;01mimport\u001b[39;00m \u001b[38;5;241m*\u001b[39m\n\u001b[0;32m---> 36\u001b[0m \u001b[38;5;28;01mfrom\u001b[39;00m \u001b[38;5;21;01mpsi4\u001b[39;00m\u001b[38;5;21;01m.\u001b[39;00m\u001b[38;5;21;01mdriver\u001b[39;00m\u001b[38;5;21;01m.\u001b[39;00m\u001b[38;5;21;01mprocrouting\u001b[39;00m\u001b[38;5;21;01m.\u001b[39;00m\u001b[38;5;21;01mproc\u001b[39;00m \u001b[38;5;28;01mimport\u001b[39;00m scf_helper\n\u001b[1;32m     37\u001b[0m \u001b[38;5;28;01mfrom\u001b[39;00m \u001b[38;5;21;01mpsi4\u001b[39;00m\u001b[38;5;21;01m.\u001b[39;00m\u001b[38;5;21;01mdriver\u001b[39;00m\u001b[38;5;21;01m.\u001b[39;00m\u001b[38;5;21;01mprocrouting\u001b[39;00m \u001b[38;5;28;01mimport\u001b[39;00m proc_util\n\u001b[1;32m     39\u001b[0m \u001b[38;5;28;01mfrom\u001b[39;00m \u001b[38;5;21;01m.\u001b[39;00m \u001b[38;5;28;01mimport\u001b[39;00m sapt_jk_terms\n",
      "File \u001b[0;32m/lcrc/project/PACC/conda/elliott/miniconda3/envs/jitterbug/lib/python3.10/site-packages/psi4/driver/procrouting/proc.py:58\u001b[0m\n\u001b[1;32m     56\u001b[0m \u001b[38;5;28;01mfrom\u001b[39;00m \u001b[38;5;21;01m.\u001b[39;00m\u001b[38;5;21;01mproc_data\u001b[39;00m \u001b[38;5;28;01mimport\u001b[39;00m method_algorithm_type\n\u001b[1;32m     57\u001b[0m \u001b[38;5;28;01mfrom\u001b[39;00m \u001b[38;5;21;01m.\u001b[39;00m\u001b[38;5;21;01mroa\u001b[39;00m \u001b[38;5;28;01mimport\u001b[39;00m run_roa\n\u001b[0;32m---> 58\u001b[0m \u001b[38;5;28;01mfrom\u001b[39;00m \u001b[38;5;21;01m.\u001b[39;00m \u001b[38;5;28;01mimport\u001b[39;00m proc_util\n\u001b[1;32m     59\u001b[0m \u001b[38;5;28;01mfrom\u001b[39;00m \u001b[38;5;21;01m.\u001b[39;00m \u001b[38;5;28;01mimport\u001b[39;00m empirical_dispersion\n\u001b[1;32m     60\u001b[0m \u001b[38;5;28;01mfrom\u001b[39;00m \u001b[38;5;21;01m.\u001b[39;00m \u001b[38;5;28;01mimport\u001b[39;00m dft\n",
      "File \u001b[0;32m/lcrc/project/PACC/conda/elliott/miniconda3/envs/jitterbug/lib/python3.10/site-packages/psi4/driver/procrouting/proc_util.py:37\u001b[0m\n\u001b[1;32m     35\u001b[0m \u001b[38;5;28;01mfrom\u001b[39;00m \u001b[38;5;21;01mpsi4\u001b[39;00m\u001b[38;5;21;01m.\u001b[39;00m\u001b[38;5;21;01mdriver\u001b[39;00m \u001b[38;5;28;01mimport\u001b[39;00m p4util\n\u001b[1;32m     36\u001b[0m \u001b[38;5;28;01mfrom\u001b[39;00m \u001b[38;5;21;01mpsi4\u001b[39;00m\u001b[38;5;21;01m.\u001b[39;00m\u001b[38;5;21;01mdriver\u001b[39;00m\u001b[38;5;21;01m.\u001b[39;00m\u001b[38;5;21;01mp4util\u001b[39;00m\u001b[38;5;21;01m.\u001b[39;00m\u001b[38;5;21;01mexceptions\u001b[39;00m \u001b[38;5;28;01mimport\u001b[39;00m \u001b[38;5;241m*\u001b[39m\n\u001b[0;32m---> 37\u001b[0m \u001b[38;5;28;01mfrom\u001b[39;00m \u001b[38;5;21;01mpsi4\u001b[39;00m\u001b[38;5;21;01m.\u001b[39;00m\u001b[38;5;21;01mdriver\u001b[39;00m\u001b[38;5;21;01m.\u001b[39;00m\u001b[38;5;21;01mprocrouting\u001b[39;00m\u001b[38;5;21;01m.\u001b[39;00m\u001b[38;5;21;01mdft\u001b[39;00m \u001b[38;5;28;01mimport\u001b[39;00m functionals, build_superfunctional_from_dictionary\n\u001b[1;32m     38\u001b[0m \u001b[38;5;28;01mfrom\u001b[39;00m \u001b[38;5;21;01mpsi4\u001b[39;00m\u001b[38;5;21;01m.\u001b[39;00m\u001b[38;5;21;01mdriver\u001b[39;00m\u001b[38;5;21;01m.\u001b[39;00m\u001b[38;5;21;01mprocrouting\u001b[39;00m\u001b[38;5;21;01m.\u001b[39;00m\u001b[38;5;21;01msapt\u001b[39;00m \u001b[38;5;28;01mimport\u001b[39;00m fisapt_proc\n\u001b[1;32m     41\u001b[0m \u001b[38;5;28;01mdef\u001b[39;00m \u001b[38;5;21mscf_set_reference_local\u001b[39m(name, is_dft\u001b[38;5;241m=\u001b[39m\u001b[38;5;28;01mFalse\u001b[39;00m):\n",
      "File \u001b[0;32m/lcrc/project/PACC/conda/elliott/miniconda3/envs/jitterbug/lib/python3.10/site-packages/psi4/driver/procrouting/dft/__init__.py:29\u001b[0m\n\u001b[1;32m      1\u001b[0m \u001b[38;5;66;03m#\u001b[39;00m\n\u001b[1;32m      2\u001b[0m \u001b[38;5;66;03m# @BEGIN LICENSE\u001b[39;00m\n\u001b[1;32m      3\u001b[0m \u001b[38;5;66;03m#\u001b[39;00m\n\u001b[0;32m   (...)\u001b[0m\n\u001b[1;32m     26\u001b[0m \u001b[38;5;66;03m# @END LICENSE\u001b[39;00m\n\u001b[1;32m     27\u001b[0m \u001b[38;5;66;03m#\u001b[39;00m\n\u001b[0;32m---> 29\u001b[0m \u001b[38;5;28;01mfrom\u001b[39;00m \u001b[38;5;21;01m.\u001b[39;00m\u001b[38;5;21;01msuperfunctionals\u001b[39;00m \u001b[38;5;28;01mimport\u001b[39;00m build_superfunctional\n\u001b[1;32m     30\u001b[0m \u001b[38;5;28;01mfrom\u001b[39;00m \u001b[38;5;21;01m.\u001b[39;00m\u001b[38;5;21;01mdft_builder\u001b[39;00m \u001b[38;5;28;01mimport\u001b[39;00m build_superfunctional_from_dictionary, dashcoeff_supplement, functionals\n",
      "File \u001b[0;32m/lcrc/project/PACC/conda/elliott/miniconda3/envs/jitterbug/lib/python3.10/site-packages/psi4/driver/procrouting/dft/superfunctionals.py:37\u001b[0m\n\u001b[1;32m     35\u001b[0m \u001b[38;5;28;01mfrom\u001b[39;00m \u001b[38;5;21;01mpsi4\u001b[39;00m \u001b[38;5;28;01mimport\u001b[39;00m core\n\u001b[1;32m     36\u001b[0m \u001b[38;5;28;01mfrom\u001b[39;00m \u001b[38;5;21;01mpsi4\u001b[39;00m\u001b[38;5;21;01m.\u001b[39;00m\u001b[38;5;21;01mdriver\u001b[39;00m\u001b[38;5;21;01m.\u001b[39;00m\u001b[38;5;21;01mp4util\u001b[39;00m\u001b[38;5;21;01m.\u001b[39;00m\u001b[38;5;21;01mexceptions\u001b[39;00m \u001b[38;5;28;01mimport\u001b[39;00m ValidationError\n\u001b[0;32m---> 37\u001b[0m \u001b[38;5;28;01mfrom\u001b[39;00m \u001b[38;5;21;01m.\u001b[39;00m \u001b[38;5;28;01mimport\u001b[39;00m dft_builder\n\u001b[1;32m     40\u001b[0m \u001b[38;5;28;01mdef\u001b[39;00m \u001b[38;5;21mbuild_superfunctional\u001b[39m(name, restricted, npoints\u001b[38;5;241m=\u001b[39m\u001b[38;5;28;01mNone\u001b[39;00m, deriv\u001b[38;5;241m=\u001b[39m\u001b[38;5;241m1\u001b[39m):\n\u001b[1;32m     41\u001b[0m     \u001b[38;5;28;01mif\u001b[39;00m npoints \u001b[38;5;129;01mis\u001b[39;00m \u001b[38;5;28;01mNone\u001b[39;00m:\n",
      "File \u001b[0;32m/lcrc/project/PACC/conda/elliott/miniconda3/envs/jitterbug/lib/python3.10/site-packages/psi4/driver/procrouting/dft/dft_builder.py:156\u001b[0m\n\u001b[1;32m    153\u001b[0m \u001b[38;5;66;03m# if not, build it from dashparam logic if possible\u001b[39;00m\n\u001b[1;32m    154\u001b[0m \u001b[38;5;28;01melse\u001b[39;00m:\n\u001b[1;32m    155\u001b[0m     \u001b[38;5;28;01mfor\u001b[39;00m dispersion_functional \u001b[38;5;129;01min\u001b[39;00m dashcoeff[resolved_dispersion_level][\u001b[38;5;124m'\u001b[39m\u001b[38;5;124mdefinitions\u001b[39m\u001b[38;5;124m'\u001b[39m]:\n\u001b[0;32m--> 156\u001b[0m         \u001b[38;5;28;01mif\u001b[39;00m \u001b[43mdispersion_functional\u001b[49m\u001b[38;5;241;43m.\u001b[39;49m\u001b[43mlower\u001b[49m\u001b[43m(\u001b[49m\u001b[43m)\u001b[49m \u001b[38;5;129;01min\u001b[39;00m functional_aliases:\n\u001b[1;32m    157\u001b[0m             func \u001b[38;5;241m=\u001b[39m copy\u001b[38;5;241m.\u001b[39mdeepcopy(dict_functionals[functional_name])\n\u001b[1;32m    158\u001b[0m             func[\u001b[38;5;124m\"\u001b[39m\u001b[38;5;124mname\u001b[39m\u001b[38;5;124m\"\u001b[39m] \u001b[38;5;241m+\u001b[39m\u001b[38;5;241m=\u001b[39m \u001b[38;5;124m\"\u001b[39m\u001b[38;5;124m-\u001b[39m\u001b[38;5;124m\"\u001b[39m \u001b[38;5;241m+\u001b[39m resolved_dispersion_level\n",
      "\u001b[0;31mKeyboardInterrupt\u001b[0m: "
     ]
    }
   ],
   "source": [
    "if method not in mopac_methods:\n",
    "    calc = Psi4(method=method, basis=basis, num_threads=threads, memory='4096MB')\n",
    "else:\n",
    "    calc = MOPAC(method=method, command='mopac PREFIX.mop > /dev/null')"
   ]
  },
  {
   "cell_type": "code",
   "execution_count": null,
   "id": "ef903a43-5d6c-47fb-a500-837599c95f91",
   "metadata": {},
   "outputs": [],
   "source": [
    "%%time\n",
    "atoms.calc = calc\n",
    "dyn = QuasiNewton(atoms)\n",
    "dyn.run(fmax=fmax)"
   ]
  },
  {
   "cell_type": "markdown",
   "id": "bce1a800-943a-4627-b383-eff82e43a456",
   "metadata": {},
   "source": [
    "Save the output file"
   ]
  },
  {
   "cell_type": "code",
   "execution_count": null,
   "id": "a695054d-a768-466e-9771-54395a3c2b81",
   "metadata": {
    "tags": []
   },
   "outputs": [],
   "source": [
    "out_dir = Path('../data') / 'exact'\n",
    "out_dir.mkdir(exist_ok=True)"
   ]
  },
  {
   "cell_type": "code",
   "execution_count": null,
   "id": "16317d90-cb1d-4347-9eca-4ba3123bdf4b",
   "metadata": {
    "tags": []
   },
   "outputs": [],
   "source": [
    "write(out_dir / f'{run_name}.xyz', atoms)"
   ]
  },
  {
   "cell_type": "markdown",
   "id": "da5b9bdc-a0b1-4c0e-b2d9-42f79dfbac6a",
   "metadata": {},
   "source": [
    "## Compute the Hessian using ASE\n",
    "ASE has a built-in method which uses finite displacements"
   ]
  },
  {
   "cell_type": "code",
   "execution_count": null,
   "id": "857e38e3-8b92-4246-8469-5ce6f381d56b",
   "metadata": {
    "tags": []
   },
   "outputs": [],
   "source": []
  },
  {
   "cell_type": "code",
   "execution_count": null,
   "id": "73b9b8bb-1d32-4e29-9380-95002bb1081e",
   "metadata": {
    "tags": []
   },
   "outputs": [],
   "source": [
    "for delta in deltas:\n",
    "    if Path('vib').is_dir():\n",
    "        shutil.rmtree('vib')\n",
    "    finite_diff_time = perf_counter()\n",
    "    vib = Vibrations(atoms, delta=delta)\n",
    "    vib.run()\n",
    "    finite_diff_time = perf_counter() - finite_diff_time\n",
    "    vib_data = vib.get_vibrations()\n",
    "    with (out_dir / f'{run_name}-{delta}-ase.json').open('w') as fp:\n",
    "        vib_data.write(fp)\n",
    "    vib_data.get_zero_point_energy()"
   ]
  },
  {
   "cell_type": "markdown",
   "id": "497a7013-9ac6-484f-a5e3-d19e11224f4a",
   "metadata": {},
   "source": [
    "Save the vibration data"
   ]
  },
  {
   "cell_type": "code",
   "execution_count": null,
   "id": "588b0344-ad43-4a6b-b57b-03782327f1e7",
   "metadata": {
    "tags": []
   },
   "outputs": [],
   "source": []
  },
  {
   "cell_type": "markdown",
   "id": "4711060e-aaee-4d64-ac26-0833965703ad",
   "metadata": {},
   "source": [
    "Print the ZPE for reference"
   ]
  },
  {
   "cell_type": "code",
   "execution_count": null,
   "id": "450b9a10-5c0b-434a-8b20-fedf5f1b1f48",
   "metadata": {
    "tags": []
   },
   "outputs": [],
   "source": []
  },
  {
   "cell_type": "markdown",
   "id": "47b7eea7-b7c6-4765-961d-7ebaf7332fe6",
   "metadata": {},
   "source": [
    "## Repeat with Psi4's analytic derivatives\n",
    "See if we get the same answer faster"
   ]
  },
  {
   "cell_type": "code",
   "execution_count": null,
   "id": "577cd427-7829-4f7b-8457-a6c709c3ea80",
   "metadata": {
    "tags": []
   },
   "outputs": [],
   "source": [
    "if isinstance(calc, Psi4) and run_analytic:\n",
    "    for level in levels:\n",
    "        print(out_dir)\n",
    "        method, basis = level\n",
    "        run_name = f'{molecule_name}_{method}_{basis}'\n",
    "        ## Compute\n",
    "        # # Get the compound data\n",
    "        #with open(f'../data/structures/{molecule_name}.json') as fp:\n",
    "        #    data = json.load(fp)\n",
    "        #data = data['PC_Compounds'][0]\n",
    "        #\n",
    "        ## Extract data from the JSON\n",
    "        #atomic_numbers = data['atoms']['element']\n",
    "        #positions = np.zeros((len(atomic_numbers), 3))\n",
    "        #conf_data = data['coords'][0]['conformers'][0]\n",
    "        #for i, c in enumerate('xyz'):\n",
    "        #    if c in conf_data:\n",
    "        #        positions[:, i] = conf_data[c]\n",
    "           \n",
    "        # Build the object    \n",
    "        calc = Psi4(method=method, basis=basis, num_threads=threads, memory='4096MB')\n",
    "        atoms.calc = calc\n",
    "        dyn = QuasiNewton(atoms)\n",
    "        dyn.run(fmax=0.01)\n",
    "        atoms = Atoms(numbers=atomic_numbers, positions=positions)\n",
    "        calc.set_psi4(atoms)\n",
    "        hess = calc.psi4.hessian(f'{method}/{basis}')\n",
    "        # Convert to ASE format\n",
    "        analytic_hess = hess.to_array() * units.Hartree / units.Bohr / units.Bohr\n",
    "        vib_data = VibrationsData.from_2d(atoms, analytic_hess)\n",
    "        with (out_dir / f'{run_name}-analytic.json').open('w') as fp:\n",
    "            vib_data.write(fp)\n",
    "        # with (out_dir / f'{run_name}-times.json').open('w') as fp:\n",
    "        #    json.dump({\n",
    "        #        'hostname': node(),\n",
    "        #        'finite-diff': finite_diff_time,\n",
    "        #        'analytic': analytic_time,\n",
    "        #    }, fp)\n"
   ]
  },
  {
   "cell_type": "code",
   "execution_count": null,
   "id": "273b5116-06ec-4098-8b20-537d1f9d7e84",
   "metadata": {
    "tags": []
   },
   "outputs": [],
   "source": [
    "with (out_dir / f'{run_name}-times.json').open('w') as fp:\n",
    "    json.dump({\n",
    "        'hostname': node(),\n",
    "        'finite-diff': finite_diff_time,\n",
    "        'analytic': analytic_time,\n",
    "    }, fp)"
   ]
  },
  {
   "cell_type": "code",
   "execution_count": null,
   "id": "0d611176-e94d-44de-a57b-6750625463a1",
   "metadata": {
    "tags": []
   },
   "outputs": [],
   "source": []
  },
  {
   "cell_type": "code",
   "execution_count": null,
   "id": "9e9422b7-a62d-49b7-af4a-b433d24804ae",
   "metadata": {
    "tags": []
   },
   "outputs": [],
   "source": []
  },
  {
   "cell_type": "code",
   "execution_count": null,
   "id": "b5053fa4-e301-472a-8982-1b02c7727d90",
   "metadata": {
    "tags": []
   },
   "outputs": [],
   "source": []
  },
  {
   "cell_type": "code",
   "execution_count": null,
   "id": "8a767054-2b20-4a87-8f51-5e715d71d539",
   "metadata": {
    "tags": []
   },
   "outputs": [],
   "source": []
  },
  {
   "cell_type": "code",
   "execution_count": null,
   "id": "b24037ee-0ecc-4616-9fa5-f5941fb049d9",
   "metadata": {},
   "outputs": [],
   "source": []
  }
 ],
 "metadata": {
  "kernelspec": {
   "display_name": "Python 3 (ipykernel)",
   "language": "python",
   "name": "python3"
  },
  "language_info": {
   "codemirror_mode": {
    "name": "ipython",
    "version": 3
   },
   "file_extension": ".py",
   "mimetype": "text/x-python",
   "name": "python",
   "nbconvert_exporter": "python",
   "pygments_lexer": "ipython3",
   "version": "3.10.12"
  }
 },
 "nbformat": 4,
 "nbformat_minor": 5
}
