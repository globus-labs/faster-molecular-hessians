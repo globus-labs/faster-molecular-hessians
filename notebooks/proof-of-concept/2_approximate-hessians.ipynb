{
 "cells": [
  {
   "cell_type": "markdown",
   "id": "201346ec-3f5a-4235-b8ef-4a0051373865",
   "metadata": {},
   "source": [
    "# Generate Approximate Hessians\n",
    "Use the random displacement data to get the full Hessian matrix. We assume that many parameters of the Hessian matrix are zero, and therefore that we can fit the Hessian matrix with a reduced number of points using [sparse linear regression](https://scikit-learn.org/stable/modules/linear_model.html#lasso)"
   ]
  },
  {
   "cell_type": "code",
   "execution_count": 1,
   "id": "ebbbc7f5-3007-420f-861a-9f65f84436be",
   "metadata": {
    "tags": []
   },
   "outputs": [],
   "source": [
    "%matplotlib inline\n",
    "from matplotlib import pyplot as plt\n",
    "from jitterbug.model.linear import HarmonicModel\n",
    "from jitterbug.model.linear import get_model_inputs\n",
    "from sklearn.linear_model import LinearRegression, ElasticNetCV\n",
    "from ase.vibrations import VibrationsData\n",
    "from ase.db import connect\n",
    "from pathlib import Path\n",
    "from tqdm import tqdm\n",
    "import numpy as np\n",
    "import warnings"
   ]
  },
  {
   "cell_type": "markdown",
   "id": "85a147c1-2758-465b-bc54-dc373d73a0f3",
   "metadata": {},
   "source": [
    "Configuration"
   ]
  },
  {
   "cell_type": "code",
   "execution_count": 2,
   "id": "99bd4c92-9a7b-4e88-ac45-dbf30fbfc9e0",
   "metadata": {
    "tags": [
     "parameters"
    ]
   },
   "outputs": [],
   "source": [
    "molecule_name = 'caffeine'\n",
    "method = 'pm7'\n",
    "basis = None\n",
    "step_size: float = 0.005 # Perturbation amount, used as maximum L2 norm\n",
    "regressor = LinearRegression"
   ]
  },
  {
   "cell_type": "markdown",
   "id": "8505d400-8427-45b9-b626-3f9ca557d0c8",
   "metadata": {},
   "source": [
    "Derived"
   ]
  },
  {
   "cell_type": "code",
   "execution_count": 3,
   "id": "a8be3c37-bf1f-4ba4-ba8f-afff6d6bed7d",
   "metadata": {
    "tags": []
   },
   "outputs": [],
   "source": [
    "run_name = f'{molecule_name}_{method}_{basis}'\n",
    "out_dir = Path('data') / 'approx'\n",
    "db_path = out_dir / f'{run_name}-random-d={step_size:.2e}.db'"
   ]
  },
  {
   "cell_type": "markdown",
   "id": "de1f6aac-b93e-45a7-98e6-ffd5205916a6",
   "metadata": {},
   "source": [
    "## Read in the Data\n",
    "Get all computations for the desired calculation and the exact solution"
   ]
  },
  {
   "cell_type": "code",
   "execution_count": 4,
   "id": "797b96d8-050c-4bdf-9815-586cfb5bc311",
   "metadata": {
    "tags": []
   },
   "outputs": [
    {
     "name": "stdout",
     "output_type": "stream",
     "text": [
      "Loaded 46 structures\n"
     ]
    },
    {
     "data": {
      "text/plain": [
       "array([ 1.35768557e+03,  5.13074732e+02, -1.78611307e+03, -3.68960372e+02,\n",
       "        4.06940665e+02, -5.02709874e+02,  9.81422728e+02, -7.49646372e+02,\n",
       "        2.31747899e+03,  9.21655058e+05,  6.96594162e+05, -2.42497995e+06,\n",
       "       -5.00932174e+05,  5.52497470e+05, -6.82521944e+05,  1.33246348e+06,\n",
       "       -1.01778406e+06,  3.14640779e+06,  1.31622840e+05, -9.16409487e+05,\n",
       "       -1.89304244e+05,  2.08790973e+05, -2.57927734e+05,  5.03543203e+05,\n",
       "       -3.84624612e+05,  1.18903991e+06,  1.59509996e+06,  6.59004944e+05,\n",
       "       -7.26842042e+05,  8.97896679e+05, -1.75293196e+06,  1.33895319e+06,\n",
       "       -4.13927952e+06,  6.80658780e+04, -1.50144979e+05,  1.85480022e+05,\n",
       "       -3.62106095e+05,  2.76589804e+05, -8.55057910e+05,  8.28003524e+04,\n",
       "       -2.04573091e+05,  3.99380817e+05, -3.05061593e+05,  9.43076441e+05,\n",
       "        1.26358609e+05, -4.93370896e+05,  3.76854634e+05, -1.16501957e+06,\n",
       "        4.81595285e+05, -7.35719987e+05,  2.27442655e+06,  2.80984842e+05,\n",
       "       -1.73728972e+06,  2.68535444e+06])"
      ]
     },
     "execution_count": 4,
     "metadata": {},
     "output_type": "execute_result"
    }
   ],
   "source": [
    "with connect(db_path) as db:\n",
    "    data = [a.toatoms() for a in db.select('')]\n",
    "print(f'Loaded {len(data)} structures')\n",
    "get_model_inputs(data[1], data[0])"
   ]
  },
  {
   "cell_type": "markdown",
   "id": "cb1a8e03-b045-49a4-95fd-61636a48fbad",
   "metadata": {},
   "source": [
    "Read in the exact Hessian"
   ]
  },
  {
   "cell_type": "code",
   "execution_count": 5,
   "id": "7389208d-9323-492c-8fc5-d05a372206c6",
   "metadata": {
    "tags": []
   },
   "outputs": [],
   "source": [
    "with open(f'data/exact/{run_name}-ase.json') as fp:\n",
    "    exact_vibs = VibrationsData.read(fp)"
   ]
  },
  {
   "cell_type": "code",
   "execution_count": 6,
   "id": "a9965595-532c-4067-ba24-7620bd977007",
   "metadata": {
    "tags": []
   },
   "outputs": [],
   "source": [
    "exact_hess = exact_vibs.get_hessian_2d()\n",
    "exact_zpe = exact_vibs.get_zero_point_energy()\n",
    "exact_freqs = exact_vibs.get_frequencies()"
   ]
  },
  {
   "cell_type": "markdown",
   "id": "04c60da8-4a1d-4ae3-b45d-b77e71fd598f",
   "metadata": {},
   "source": [
    "## Fit a Hessian with All Data\n",
    "Fit a model which explains the energy data by fitting a Hessian matrix using compressed sensing (i.e., Lasso)."
   ]
  },
  {
   "cell_type": "code",
   "execution_count": 7,
   "id": "d6a7d756-37d3-44e0-b5e2-348d07c9d296",
   "metadata": {
    "tags": []
   },
   "outputs": [
    {
     "name": "stderr",
     "output_type": "stream",
     "text": [
      "/Users/elliott/Packages/faster-molecular-hessians/jitterbug/model/linear.py:27: RuntimeWarning: divide by zero encountered in reciprocal\n",
      "  disp_matrix = np.reciprocal((atoms.positions - reference.positions).flatten())\n"
     ]
    },
    {
     "ename": "ValueError",
     "evalue": "Input X contains infinity or a value too large for dtype('float64').",
     "output_type": "error",
     "traceback": [
      "\u001b[0;31m---------------------------------------------------------------------------\u001b[0m",
      "\u001b[0;31mValueError\u001b[0m                                Traceback (most recent call last)",
      "Cell \u001b[0;32mIn[7], line 2\u001b[0m\n\u001b[1;32m      1\u001b[0m model \u001b[38;5;241m=\u001b[39m HarmonicModel(reference\u001b[38;5;241m=\u001b[39mdata[\u001b[38;5;241m0\u001b[39m], regressor\u001b[38;5;241m=\u001b[39mregressor)\n\u001b[0;32m----> 2\u001b[0m hess_model \u001b[38;5;241m=\u001b[39m \u001b[43mmodel\u001b[49m\u001b[38;5;241;43m.\u001b[39;49m\u001b[43mtrain\u001b[49m\u001b[43m(\u001b[49m\u001b[43mdata\u001b[49m\u001b[43m)\u001b[49m\n",
      "File \u001b[0;32m~/Packages/faster-molecular-hessians/jitterbug/model/linear.py:75\u001b[0m, in \u001b[0;36mHarmonicModel.train\u001b[0;34m(self, data)\u001b[0m\n\u001b[1;32m     73\u001b[0m y \u001b[38;5;241m=\u001b[39m [atoms\u001b[38;5;241m.\u001b[39mget_potential_energy() \u001b[38;5;241m-\u001b[39m ref_energy \u001b[38;5;28;01mfor\u001b[39;00m atoms \u001b[38;5;129;01min\u001b[39;00m data]\n\u001b[1;32m     74\u001b[0m \u001b[38;5;66;03m# Fit the ARD model and ensure it captures the data well\u001b[39;00m\n\u001b[0;32m---> 75\u001b[0m model \u001b[38;5;241m=\u001b[39m \u001b[38;5;28;43mself\u001b[39;49m\u001b[38;5;241;43m.\u001b[39;49m\u001b[43mregressor\u001b[49m\u001b[43m(\u001b[49m\u001b[43mfit_intercept\u001b[49m\u001b[38;5;241;43m=\u001b[39;49m\u001b[38;5;28;43;01mFalse\u001b[39;49;00m\u001b[43m)\u001b[49m\u001b[38;5;241;43m.\u001b[39;49m\u001b[43mfit\u001b[49m\u001b[43m(\u001b[49m\u001b[43mx\u001b[49m\u001b[43m,\u001b[49m\u001b[43m \u001b[49m\u001b[43my\u001b[49m\u001b[43m)\u001b[49m\n\u001b[1;32m     76\u001b[0m pred \u001b[38;5;241m=\u001b[39m model\u001b[38;5;241m.\u001b[39mpredict(x)\n\u001b[1;32m     77\u001b[0m max_error \u001b[38;5;241m=\u001b[39m np\u001b[38;5;241m.\u001b[39mabs(pred \u001b[38;5;241m-\u001b[39m y)\u001b[38;5;241m.\u001b[39mmax()\n",
      "File \u001b[0;32m~/miniconda3/envs/jitterbug/lib/python3.10/site-packages/sklearn/linear_model/_base.py:648\u001b[0m, in \u001b[0;36mLinearRegression.fit\u001b[0;34m(self, X, y, sample_weight)\u001b[0m\n\u001b[1;32m    644\u001b[0m n_jobs_ \u001b[38;5;241m=\u001b[39m \u001b[38;5;28mself\u001b[39m\u001b[38;5;241m.\u001b[39mn_jobs\n\u001b[1;32m    646\u001b[0m accept_sparse \u001b[38;5;241m=\u001b[39m \u001b[38;5;28;01mFalse\u001b[39;00m \u001b[38;5;28;01mif\u001b[39;00m \u001b[38;5;28mself\u001b[39m\u001b[38;5;241m.\u001b[39mpositive \u001b[38;5;28;01melse\u001b[39;00m [\u001b[38;5;124m\"\u001b[39m\u001b[38;5;124mcsr\u001b[39m\u001b[38;5;124m\"\u001b[39m, \u001b[38;5;124m\"\u001b[39m\u001b[38;5;124mcsc\u001b[39m\u001b[38;5;124m\"\u001b[39m, \u001b[38;5;124m\"\u001b[39m\u001b[38;5;124mcoo\u001b[39m\u001b[38;5;124m\"\u001b[39m]\n\u001b[0;32m--> 648\u001b[0m X, y \u001b[38;5;241m=\u001b[39m \u001b[38;5;28;43mself\u001b[39;49m\u001b[38;5;241;43m.\u001b[39;49m\u001b[43m_validate_data\u001b[49m\u001b[43m(\u001b[49m\n\u001b[1;32m    649\u001b[0m \u001b[43m    \u001b[49m\u001b[43mX\u001b[49m\u001b[43m,\u001b[49m\u001b[43m \u001b[49m\u001b[43my\u001b[49m\u001b[43m,\u001b[49m\u001b[43m \u001b[49m\u001b[43maccept_sparse\u001b[49m\u001b[38;5;241;43m=\u001b[39;49m\u001b[43maccept_sparse\u001b[49m\u001b[43m,\u001b[49m\u001b[43m \u001b[49m\u001b[43my_numeric\u001b[49m\u001b[38;5;241;43m=\u001b[39;49m\u001b[38;5;28;43;01mTrue\u001b[39;49;00m\u001b[43m,\u001b[49m\u001b[43m \u001b[49m\u001b[43mmulti_output\u001b[49m\u001b[38;5;241;43m=\u001b[39;49m\u001b[38;5;28;43;01mTrue\u001b[39;49;00m\n\u001b[1;32m    650\u001b[0m \u001b[43m\u001b[49m\u001b[43m)\u001b[49m\n\u001b[1;32m    652\u001b[0m sample_weight \u001b[38;5;241m=\u001b[39m _check_sample_weight(\n\u001b[1;32m    653\u001b[0m     sample_weight, X, dtype\u001b[38;5;241m=\u001b[39mX\u001b[38;5;241m.\u001b[39mdtype, only_non_negative\u001b[38;5;241m=\u001b[39m\u001b[38;5;28;01mTrue\u001b[39;00m\n\u001b[1;32m    654\u001b[0m )\n\u001b[1;32m    656\u001b[0m X, y, X_offset, y_offset, X_scale \u001b[38;5;241m=\u001b[39m _preprocess_data(\n\u001b[1;32m    657\u001b[0m     X,\n\u001b[1;32m    658\u001b[0m     y,\n\u001b[0;32m   (...)\u001b[0m\n\u001b[1;32m    661\u001b[0m     sample_weight\u001b[38;5;241m=\u001b[39msample_weight,\n\u001b[1;32m    662\u001b[0m )\n",
      "File \u001b[0;32m~/miniconda3/envs/jitterbug/lib/python3.10/site-packages/sklearn/base.py:584\u001b[0m, in \u001b[0;36mBaseEstimator._validate_data\u001b[0;34m(self, X, y, reset, validate_separately, **check_params)\u001b[0m\n\u001b[1;32m    582\u001b[0m         y \u001b[38;5;241m=\u001b[39m check_array(y, input_name\u001b[38;5;241m=\u001b[39m\u001b[38;5;124m\"\u001b[39m\u001b[38;5;124my\u001b[39m\u001b[38;5;124m\"\u001b[39m, \u001b[38;5;241m*\u001b[39m\u001b[38;5;241m*\u001b[39mcheck_y_params)\n\u001b[1;32m    583\u001b[0m     \u001b[38;5;28;01melse\u001b[39;00m:\n\u001b[0;32m--> 584\u001b[0m         X, y \u001b[38;5;241m=\u001b[39m \u001b[43mcheck_X_y\u001b[49m\u001b[43m(\u001b[49m\u001b[43mX\u001b[49m\u001b[43m,\u001b[49m\u001b[43m \u001b[49m\u001b[43my\u001b[49m\u001b[43m,\u001b[49m\u001b[43m \u001b[49m\u001b[38;5;241;43m*\u001b[39;49m\u001b[38;5;241;43m*\u001b[39;49m\u001b[43mcheck_params\u001b[49m\u001b[43m)\u001b[49m\n\u001b[1;32m    585\u001b[0m     out \u001b[38;5;241m=\u001b[39m X, y\n\u001b[1;32m    587\u001b[0m \u001b[38;5;28;01mif\u001b[39;00m \u001b[38;5;129;01mnot\u001b[39;00m no_val_X \u001b[38;5;129;01mand\u001b[39;00m check_params\u001b[38;5;241m.\u001b[39mget(\u001b[38;5;124m\"\u001b[39m\u001b[38;5;124mensure_2d\u001b[39m\u001b[38;5;124m\"\u001b[39m, \u001b[38;5;28;01mTrue\u001b[39;00m):\n",
      "File \u001b[0;32m~/miniconda3/envs/jitterbug/lib/python3.10/site-packages/sklearn/utils/validation.py:1106\u001b[0m, in \u001b[0;36mcheck_X_y\u001b[0;34m(X, y, accept_sparse, accept_large_sparse, dtype, order, copy, force_all_finite, ensure_2d, allow_nd, multi_output, ensure_min_samples, ensure_min_features, y_numeric, estimator)\u001b[0m\n\u001b[1;32m   1101\u001b[0m         estimator_name \u001b[38;5;241m=\u001b[39m _check_estimator_name(estimator)\n\u001b[1;32m   1102\u001b[0m     \u001b[38;5;28;01mraise\u001b[39;00m \u001b[38;5;167;01mValueError\u001b[39;00m(\n\u001b[1;32m   1103\u001b[0m         \u001b[38;5;124mf\u001b[39m\u001b[38;5;124m\"\u001b[39m\u001b[38;5;132;01m{\u001b[39;00mestimator_name\u001b[38;5;132;01m}\u001b[39;00m\u001b[38;5;124m requires y to be passed, but the target y is None\u001b[39m\u001b[38;5;124m\"\u001b[39m\n\u001b[1;32m   1104\u001b[0m     )\n\u001b[0;32m-> 1106\u001b[0m X \u001b[38;5;241m=\u001b[39m \u001b[43mcheck_array\u001b[49m\u001b[43m(\u001b[49m\n\u001b[1;32m   1107\u001b[0m \u001b[43m    \u001b[49m\u001b[43mX\u001b[49m\u001b[43m,\u001b[49m\n\u001b[1;32m   1108\u001b[0m \u001b[43m    \u001b[49m\u001b[43maccept_sparse\u001b[49m\u001b[38;5;241;43m=\u001b[39;49m\u001b[43maccept_sparse\u001b[49m\u001b[43m,\u001b[49m\n\u001b[1;32m   1109\u001b[0m \u001b[43m    \u001b[49m\u001b[43maccept_large_sparse\u001b[49m\u001b[38;5;241;43m=\u001b[39;49m\u001b[43maccept_large_sparse\u001b[49m\u001b[43m,\u001b[49m\n\u001b[1;32m   1110\u001b[0m \u001b[43m    \u001b[49m\u001b[43mdtype\u001b[49m\u001b[38;5;241;43m=\u001b[39;49m\u001b[43mdtype\u001b[49m\u001b[43m,\u001b[49m\n\u001b[1;32m   1111\u001b[0m \u001b[43m    \u001b[49m\u001b[43morder\u001b[49m\u001b[38;5;241;43m=\u001b[39;49m\u001b[43morder\u001b[49m\u001b[43m,\u001b[49m\n\u001b[1;32m   1112\u001b[0m \u001b[43m    \u001b[49m\u001b[43mcopy\u001b[49m\u001b[38;5;241;43m=\u001b[39;49m\u001b[43mcopy\u001b[49m\u001b[43m,\u001b[49m\n\u001b[1;32m   1113\u001b[0m \u001b[43m    \u001b[49m\u001b[43mforce_all_finite\u001b[49m\u001b[38;5;241;43m=\u001b[39;49m\u001b[43mforce_all_finite\u001b[49m\u001b[43m,\u001b[49m\n\u001b[1;32m   1114\u001b[0m \u001b[43m    \u001b[49m\u001b[43mensure_2d\u001b[49m\u001b[38;5;241;43m=\u001b[39;49m\u001b[43mensure_2d\u001b[49m\u001b[43m,\u001b[49m\n\u001b[1;32m   1115\u001b[0m \u001b[43m    \u001b[49m\u001b[43mallow_nd\u001b[49m\u001b[38;5;241;43m=\u001b[39;49m\u001b[43mallow_nd\u001b[49m\u001b[43m,\u001b[49m\n\u001b[1;32m   1116\u001b[0m \u001b[43m    \u001b[49m\u001b[43mensure_min_samples\u001b[49m\u001b[38;5;241;43m=\u001b[39;49m\u001b[43mensure_min_samples\u001b[49m\u001b[43m,\u001b[49m\n\u001b[1;32m   1117\u001b[0m \u001b[43m    \u001b[49m\u001b[43mensure_min_features\u001b[49m\u001b[38;5;241;43m=\u001b[39;49m\u001b[43mensure_min_features\u001b[49m\u001b[43m,\u001b[49m\n\u001b[1;32m   1118\u001b[0m \u001b[43m    \u001b[49m\u001b[43mestimator\u001b[49m\u001b[38;5;241;43m=\u001b[39;49m\u001b[43mestimator\u001b[49m\u001b[43m,\u001b[49m\n\u001b[1;32m   1119\u001b[0m \u001b[43m    \u001b[49m\u001b[43minput_name\u001b[49m\u001b[38;5;241;43m=\u001b[39;49m\u001b[38;5;124;43m\"\u001b[39;49m\u001b[38;5;124;43mX\u001b[39;49m\u001b[38;5;124;43m\"\u001b[39;49m\u001b[43m,\u001b[49m\n\u001b[1;32m   1120\u001b[0m \u001b[43m\u001b[49m\u001b[43m)\u001b[49m\n\u001b[1;32m   1122\u001b[0m y \u001b[38;5;241m=\u001b[39m _check_y(y, multi_output\u001b[38;5;241m=\u001b[39mmulti_output, y_numeric\u001b[38;5;241m=\u001b[39my_numeric, estimator\u001b[38;5;241m=\u001b[39mestimator)\n\u001b[1;32m   1124\u001b[0m check_consistent_length(X, y)\n",
      "File \u001b[0;32m~/miniconda3/envs/jitterbug/lib/python3.10/site-packages/sklearn/utils/validation.py:921\u001b[0m, in \u001b[0;36mcheck_array\u001b[0;34m(array, accept_sparse, accept_large_sparse, dtype, order, copy, force_all_finite, ensure_2d, allow_nd, ensure_min_samples, ensure_min_features, estimator, input_name)\u001b[0m\n\u001b[1;32m    915\u001b[0m         \u001b[38;5;28;01mraise\u001b[39;00m \u001b[38;5;167;01mValueError\u001b[39;00m(\n\u001b[1;32m    916\u001b[0m             \u001b[38;5;124m\"\u001b[39m\u001b[38;5;124mFound array with dim \u001b[39m\u001b[38;5;132;01m%d\u001b[39;00m\u001b[38;5;124m. \u001b[39m\u001b[38;5;132;01m%s\u001b[39;00m\u001b[38;5;124m expected <= 2.\u001b[39m\u001b[38;5;124m\"\u001b[39m\n\u001b[1;32m    917\u001b[0m             \u001b[38;5;241m%\u001b[39m (array\u001b[38;5;241m.\u001b[39mndim, estimator_name)\n\u001b[1;32m    918\u001b[0m         )\n\u001b[1;32m    920\u001b[0m     \u001b[38;5;28;01mif\u001b[39;00m force_all_finite:\n\u001b[0;32m--> 921\u001b[0m         \u001b[43m_assert_all_finite\u001b[49m\u001b[43m(\u001b[49m\n\u001b[1;32m    922\u001b[0m \u001b[43m            \u001b[49m\u001b[43marray\u001b[49m\u001b[43m,\u001b[49m\n\u001b[1;32m    923\u001b[0m \u001b[43m            \u001b[49m\u001b[43minput_name\u001b[49m\u001b[38;5;241;43m=\u001b[39;49m\u001b[43minput_name\u001b[49m\u001b[43m,\u001b[49m\n\u001b[1;32m    924\u001b[0m \u001b[43m            \u001b[49m\u001b[43mestimator_name\u001b[49m\u001b[38;5;241;43m=\u001b[39;49m\u001b[43mestimator_name\u001b[49m\u001b[43m,\u001b[49m\n\u001b[1;32m    925\u001b[0m \u001b[43m            \u001b[49m\u001b[43mallow_nan\u001b[49m\u001b[38;5;241;43m=\u001b[39;49m\u001b[43mforce_all_finite\u001b[49m\u001b[43m \u001b[49m\u001b[38;5;241;43m==\u001b[39;49m\u001b[43m \u001b[49m\u001b[38;5;124;43m\"\u001b[39;49m\u001b[38;5;124;43mallow-nan\u001b[39;49m\u001b[38;5;124;43m\"\u001b[39;49m\u001b[43m,\u001b[49m\n\u001b[1;32m    926\u001b[0m \u001b[43m        \u001b[49m\u001b[43m)\u001b[49m\n\u001b[1;32m    928\u001b[0m \u001b[38;5;28;01mif\u001b[39;00m ensure_min_samples \u001b[38;5;241m>\u001b[39m \u001b[38;5;241m0\u001b[39m:\n\u001b[1;32m    929\u001b[0m     n_samples \u001b[38;5;241m=\u001b[39m _num_samples(array)\n",
      "File \u001b[0;32m~/miniconda3/envs/jitterbug/lib/python3.10/site-packages/sklearn/utils/validation.py:161\u001b[0m, in \u001b[0;36m_assert_all_finite\u001b[0;34m(X, allow_nan, msg_dtype, estimator_name, input_name)\u001b[0m\n\u001b[1;32m    144\u001b[0m \u001b[38;5;28;01mif\u001b[39;00m estimator_name \u001b[38;5;129;01mand\u001b[39;00m input_name \u001b[38;5;241m==\u001b[39m \u001b[38;5;124m\"\u001b[39m\u001b[38;5;124mX\u001b[39m\u001b[38;5;124m\"\u001b[39m \u001b[38;5;129;01mand\u001b[39;00m has_nan_error:\n\u001b[1;32m    145\u001b[0m     \u001b[38;5;66;03m# Improve the error message on how to handle missing values in\u001b[39;00m\n\u001b[1;32m    146\u001b[0m     \u001b[38;5;66;03m# scikit-learn.\u001b[39;00m\n\u001b[1;32m    147\u001b[0m     msg_err \u001b[38;5;241m+\u001b[39m\u001b[38;5;241m=\u001b[39m (\n\u001b[1;32m    148\u001b[0m         \u001b[38;5;124mf\u001b[39m\u001b[38;5;124m\"\u001b[39m\u001b[38;5;130;01m\\n\u001b[39;00m\u001b[38;5;132;01m{\u001b[39;00mestimator_name\u001b[38;5;132;01m}\u001b[39;00m\u001b[38;5;124m does not accept missing values\u001b[39m\u001b[38;5;124m\"\u001b[39m\n\u001b[1;32m    149\u001b[0m         \u001b[38;5;124m\"\u001b[39m\u001b[38;5;124m encoded as NaN natively. For supervised learning, you might want\u001b[39m\u001b[38;5;124m\"\u001b[39m\n\u001b[0;32m   (...)\u001b[0m\n\u001b[1;32m    159\u001b[0m         \u001b[38;5;124m\"\u001b[39m\u001b[38;5;124m#estimators-that-handle-nan-values\u001b[39m\u001b[38;5;124m\"\u001b[39m\n\u001b[1;32m    160\u001b[0m     )\n\u001b[0;32m--> 161\u001b[0m \u001b[38;5;28;01mraise\u001b[39;00m \u001b[38;5;167;01mValueError\u001b[39;00m(msg_err)\n",
      "\u001b[0;31mValueError\u001b[0m: Input X contains infinity or a value too large for dtype('float64')."
     ]
    }
   ],
   "source": [
    "model = HarmonicModel(reference=data[0], regressor=regressor)\n",
    "hess_model = model.train(data)"
   ]
  },
  {
   "cell_type": "code",
   "execution_count": 8,
   "id": "35baa4a3-5e0e-4067-92ea-f29b3c080477",
   "metadata": {
    "tags": []
   },
   "outputs": [],
   "source": [
    "print(f'Trained a model with {len(hess_model.coef_)} terms. {(np.abs(hess_model.coef_) > 1e-7).sum()} are nonzero')"
   ]
  },
  {
   "cell_type": "markdown",
   "id": "aa509659-701d-4001-8cc7-980c9d999976",
   "metadata": {},
   "source": [
    "Compare the forces estimated at a zero displacement to the true value"
   ]
  },
  {
   "cell_type": "code",
   "execution_count": 9,
   "id": "70d80f87-9983-4bd5-a6ae-b9c966b0d838",
   "metadata": {
    "tags": []
   },
   "outputs": [],
   "source": [
    "actual_forces = data[0].get_forces()\n",
    "get_model_inputs(data[1], data[0])\n",
    "len(data)"
   ]
  },
  {
   "cell_type": "code",
   "execution_count": 10,
   "id": "f548b145-0aa8-47f7-802b-6b7232a74bd3",
   "metadata": {
    "tags": []
   },
   "outputs": [],
   "source": [
    "pred_forces = -hess_model.coef_[:actual_forces.size].reshape((-1, 3))"
   ]
  },
  {
   "cell_type": "code",
   "execution_count": 11,
   "id": "d7cd7762-6e12-4dcd-b564-67a33b18d9e0",
   "metadata": {
    "tags": []
   },
   "outputs": [],
   "source": [
    "print(f'Maximum force: {np.abs(pred_forces).max():.2e} eV/Angstrom')"
   ]
  },
  {
   "cell_type": "code",
   "execution_count": 12,
   "id": "425b77a9-7fd7-40da-af6f-eaed197c9ab6",
   "metadata": {
    "tags": []
   },
   "outputs": [
    {
     "data": {
      "image/png": "[encoded data removed]",
      "text/plain": [
       "<Figure size 400x200 with 2 Axes>"
      ]
     },
     "metadata": {},
     "output_type": "display_data"
    }
   ],
   "source": [
    "fig, axs = plt.subplots(1, 2, figsize=(4, 2))\n",
    "\n",
    "for ax, l, h in zip(axs, ['Actual', 'Estimated'], [actual_forces, pred_forces]):\n",
    "    ax.matshow(h, vmin=-0.05, vmax=0.05, aspect='auto', cmap='RdBu')\n",
    "\n",
    "    ax.set_xticklabels([])\n",
    "    ax.set_yticklabels([])\n",
    "    \n",
    "    ax.set_title(l, fontsize=10)\n",
    "\n",
    "fig.tight_layout()"
   ]
  },
  {
   "cell_type": "markdown",
   "id": "46a0f2f8-f863-4de3-bd97-97ebd92676d4",
   "metadata": {},
   "source": [
    "Get the mean Hessian"
   ]
  },
  {
   "cell_type": "code",
   "execution_count": 13,
   "id": "00a10907-667a-413c-851d-d47f0eff092b",
   "metadata": {},
   "outputs": [],
   "source": [
    "approx_hessian = model.mean_hessian(hess_model)"
   ]
  },
  {
   "cell_type": "markdown",
   "id": "f4de2e78-00c2-427f-b9bd-eb3ca881564b",
   "metadata": {},
   "source": [
    "Compare to exact answer"
   ]
  },
  {
   "cell_type": "code",
   "execution_count": 14,
   "id": "d48893fd-df0d-4fa8-bfbe-0d04b71fbf1a",
   "metadata": {
    "tags": []
   },
   "outputs": [
    {
     "data": {
      "text/plain": [
       "array([[1.96495560e+01, 2.28518485e+01, 1.08009177e-03],\n",
       "       [2.28518485e+01, 8.36964299e+01, 3.94902961e-03],\n",
       "       [1.08009177e-03, 3.94902961e-03, 4.15881408e+00]])"
      ]
     },
     "execution_count": 14,
     "metadata": {},
     "output_type": "execute_result"
    }
   ],
   "source": [
    "exact_hess[:3, :3]"
   ]
  },
  {
   "cell_type": "code",
   "execution_count": null,
   "id": "9b311dea-5744-4211-81cb-40aa1183301e",
   "metadata": {
    "tags": []
   },
   "outputs": [
    {
     "data": {
      "text/plain": [
       "array([[3.26945590e+01, 4.95882374e+00, 8.59920621e-03],\n",
       "       [4.95882374e+00, 3.93490213e+01, 6.10182117e-01],\n",
       "       [8.59920621e-03, 6.10182117e-01, 2.73150623e+01]])"
      ]
     },
     "execution_count": 15,
     "metadata": {},
     "output_type": "execute_result"
    }
   ],
   "source": [
    "approx_hessian[:3, :3]"
   ]
  },
  {
   "cell_type": "code",
   "execution_count": 16,
   "id": "addd7bef-854a-4b9f-96e9-2aa01b652495",
   "metadata": {
    "tags": []
   },
   "outputs": [
    {
     "data": {
      "image/png": "[encoded data removed]",
      "text/plain": [
       "<Figure size 400x200 with 2 Axes>"
      ]
     },
     "metadata": {},
     "output_type": "display_data"
    }
   ],
   "source": [
    "fig, axs = plt.subplots(1, 2, figsize=(4, 2))\n",
    "\n",
    "for ax, l, h in zip(axs, ['Exact', 'Approximate'], [exact_hess, approx_hessian]):\n",
    "    ax.matshow(h, vmin=-100, vmax=100, cmap='RdBu')\n",
    "\n",
    "    ax.set_xticklabels([])\n",
    "    ax.set_yticklabels([])\n",
    "    \n",
    "    ax.set_title(l, fontsize=10)\n",
    "\n",
    "fig.tight_layout()"
   ]
  },
  {
   "cell_type": "markdown",
   "id": "b516bb4e-d27d-4ad6-ad4b-b873c81670ff",
   "metadata": {},
   "source": [
    "Get the zero point energy"
   ]
  },
  {
   "cell_type": "code",
   "execution_count": 17,
   "id": "abbbbfd6-7d17-4b93-880a-3352903b56c4",
   "metadata": {
    "tags": []
   },
   "outputs": [],
   "source": [
    "approx_vibs = VibrationsData.from_2d(data[0], approx_hessian)"
   ]
  },
  {
   "cell_type": "code",
   "execution_count": 18,
   "id": "fdd80af3-8c18-40d8-b971-4a473bc91498",
   "metadata": {},
   "outputs": [
    {
     "data": {
      "text/plain": [
       "7.268532902551082"
      ]
     },
     "execution_count": 18,
     "metadata": {},
     "output_type": "execute_result"
    }
   ],
   "source": [
    "approx_vibs.get_zero_point_energy()"
   ]
  },
  {
   "cell_type": "code",
   "execution_count": 19,
   "id": "6b1af348-4bc9-4ced-9a12-44b3e49abe9c",
   "metadata": {
    "tags": []
   },
   "outputs": [
    {
     "data": {
      "text/plain": [
       "5.5067174465850215"
      ]
     },
     "execution_count": 19,
     "metadata": {},
     "output_type": "execute_result"
    }
   ],
   "source": [
    "exact_zpe"
   ]
  },
  {
   "cell_type": "markdown",
   "id": "ab6a6645-bf0e-4ed7-874e-6a345063e0b5",
   "metadata": {},
   "source": [
    "The two differ, but I'm not sure how important the difference is."
   ]
  },
  {
   "cell_type": "code",
   "execution_count": null,
   "id": "b2ad9116",
   "metadata": {},
   "outputs": [],
   "source": [
    "freq_diff = [app_freq.real-ex_freq.real for app_freq, ex_freq in zip(approx_vibs.get_frequencies(), exact_freqs)]\n"
   ]
  },
  {
   "cell_type": "code",
   "execution_count": null,
   "id": "b70a0581",
   "metadata": {},
   "outputs": [],
   "source": [
    "fig, ax = plt.subplots(figsize=(3.5, 2))\n",
    "\n",
    "ax.plot(exact_freqs, freq_diff)\n",
    "\n",
    "ax.set_xlabel('Exact frequency')\n",
    "ax.set_ylabel('Frequency difference (cm-1)')\n",
    "\n",
    "fig.tight_layout()"
   ]
  },
  {
   "cell_type": "markdown",
   "id": "6489882c-acaf-4a07-bbe9-d643f7c5c882",
   "metadata": {},
   "source": [
    "## Plot as a Function of Data\n",
    "See what happens as we add more data to the training"
   ]
  },
  {
   "cell_type": "code",
   "execution_count": 20,
   "id": "bce41a81-6c88-4b0c-9d8d-0891d1832fd6",
   "metadata": {
    "tags": []
   },
   "outputs": [],
   "source": [
    "steps = np.linspace(5, len(data), 16, dtype=int)\n",
    "print(f'Plotting at {len(steps)} steps: {\", \".join(map(str, steps[:5]))}, ...')"
   ]
  },
  {
   "cell_type": "code",
   "execution_count": 21,
   "id": "fe39ce86-1806-4367-8c86-e3ef58f81f84",
   "metadata": {
    "tags": []
   },
   "outputs": [
    {
     "name": "stderr",
     "output_type": "stream",
     "text": [
      "100%|█████████████████████████████████████████████████████████████████████████████████████████████████████████████████████████████████████████████████████████████████████████████████████████████████████████████████████████████████████████████████████| 16/16 [00:04<00:00,  3.98it/s]\n"
     ]
    }
   ],
   "source": [
    "zpes = []\n",
    "freqs = []\n",
    "freq_diffs = []\n",
    "for count in tqdm(steps):\n",
    "    with warnings.catch_warnings():\n",
    "        warnings.simplefilter(\"ignore\")\n",
    "        hess_model = model.train(data[:count])\n",
    "    \n",
    "    approx_hessian = model.mean_hessian(hess_model)\n",
    "    approx_vibs = VibrationsData.from_2d(data[0], approx_hessian)\n",
    "    zpes.append(approx_vibs.get_zero_point_energy()*23.060541945329334)\n",
    "    freqs.append(approx_vibs.get_frequencies())\n",
    "    freq_diffs.append([app_freq.real-ex_freq.real for app_freq, ex_freq in zip(approx_vibs.get_frequencies(), exact_freqs)])"
   ]
  },
  {
   "cell_type": "markdown",
   "id": "c179c3ae-695f-44ad-b548-10002c4ff30b",
   "metadata": {},
   "source": [
    "Plot it"
   ]
  },
  {
   "cell_type": "code",
   "execution_count": 22,
   "id": "1c6706a9-a27f-448f-81d4-957939bb2ca8",
   "metadata": {
    "tags": []
   },
   "outputs": [
    {
     "data": {
      "image/png": "[encoded data removed]",
      "text/plain": [
       "<Figure size 350x200 with 1 Axes>"
      ]
     },
     "metadata": {},
     "output_type": "display_data"
    }
   ],
   "source": [
    "fig, ax = plt.subplots(figsize=(3.5, 2))\n",
    "\n",
    "ax.plot(steps, zpes)\n",
    "\n",
    "ax.set_xlim([0, steps.max()])\n",
    "ax.plot(ax.get_xlim(), [exact_zpe*23.060541945329334]*2, 'k--')\n",
    "\n",
    "ax.set_xlabel('Energies')\n",
    "ax.set_ylabel('ZPE (eV)')\n",
    "\n",
    "fig.tight_layout()"
   ]
  },
  {
   "cell_type": "markdown",
   "id": "e8788f74-c208-4939-aa9b-3bbdfd8310ee",
   "metadata": {},
   "source": [
    "We consistently underestimate the ZPE. Is it because we have too few oscillators?"
   ]
  },
  {
   "cell_type": "code",
   "execution_count": null,
   "id": "384af4b3-5eb3-4eac-b176-160f19944853",
   "metadata": {},
   "outputs": [],
   "source": [
    "import matplotlib.pylab as pl\n",
    "\n",
    "fig, ax = plt.subplots(figsize=(5, 5))\n",
    "colors = pl.cm.jet(np.linspace(0,1,len(freq_diffs)))\n",
    "\n",
    "for i, freq_diff in enumerate(freq_diffs):\n",
    "    ax.plot(exact_freqs, freq_diff, color=colors[i])\n",
    "\n",
    "ax.set_xlabel('Exact frequency')\n",
    "ax.set_ylabel('Frequency difference (cm-1)')\n",
    "\n",
    "fig.tight_layout()"
   ]
  },
  {
   "cell_type": "code",
   "execution_count": null,
   "id": "6cee624f",
   "metadata": {},
   "outputs": [],
   "source": []
  }
 ],
 "metadata": {
  "kernelspec": {
   "display_name": "Python 3 (ipykernel)",
   "language": "python",
   "name": "python3"
  },
  "language_info": {
   "codemirror_mode": {
    "name": "ipython",
    "version": 3
   },
   "file_extension": ".py",
   "mimetype": "text/x-python",
   "name": "python",
   "nbconvert_exporter": "python",
   "pygments_lexer": "ipython3",
   "version": "3.9.17"
  }
 },
 "nbformat": 4,
 "nbformat_minor": 5
}
