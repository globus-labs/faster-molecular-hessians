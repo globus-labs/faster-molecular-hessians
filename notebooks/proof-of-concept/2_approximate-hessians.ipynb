{
 "cells": [
  {
   "cell_type": "markdown",
   "id": "201346ec-3f5a-4235-b8ef-4a0051373865",
   "metadata": {},
   "source": [
    "# Generate Approximate Hessians\n",
    "Use the random displacement data to get the full Hessian matrix. We assume that many parameters of the Hessian matrix are zero, and therefore that we can fit the Hessian matrix with a reduced number of points using [sparse linear regression](https://scikit-learn.org/stable/modules/linear_model.html#lasso)"
   ]
  },
  {
   "cell_type": "code",
   "execution_count": 1,
   "id": "ebbbc7f5-3007-420f-861a-9f65f84436be",
   "metadata": {
    "tags": []
   },
   "outputs": [],
   "source": [
    "%matplotlib inline\n",
    "from matplotlib import pyplot as plt\n",
    "from jitterbug.model.linear import HarmonicModel\n",
    "from sklearn.linear_model import LinearRegression, LassoCV\n",
    "from ase.vibrations import VibrationsData\n",
    "from ase.db import connect\n",
    "from pathlib import Path\n",
    "from tqdm import tqdm\n",
    "import numpy as np\n",
    "import warnings"
   ]
  },
  {
   "cell_type": "markdown",
   "id": "85a147c1-2758-465b-bc54-dc373d73a0f3",
   "metadata": {},
   "source": [
    "Configuration"
   ]
  },
  {
   "cell_type": "code",
   "execution_count": 2,
   "id": "99bd4c92-9a7b-4e88-ac45-dbf30fbfc9e0",
   "metadata": {
    "tags": [
     "parameters"
    ]
   },
   "outputs": [],
   "source": [
    "molecule_name = 'water'\n",
    "method = 'hf'\n",
    "basis = 'def2-svpd'\n",
    "step_size: float = 0.005 # Perturbation amount, used as maximum L2 norm\n",
    "regressor = LinearRegression"
   ]
  },
  {
   "cell_type": "markdown",
   "id": "8505d400-8427-45b9-b626-3f9ca557d0c8",
   "metadata": {},
   "source": [
    "Derived"
   ]
  },
  {
   "cell_type": "code",
   "execution_count": 3,
   "id": "a8be3c37-bf1f-4ba4-ba8f-afff6d6bed7d",
   "metadata": {
    "tags": []
   },
   "outputs": [],
   "source": [
    "run_name = f'{molecule_name}_{method}_{basis}'\n",
    "out_dir = Path('data') / 'approx'\n",
    "db_path = out_dir / f'{run_name}-random-d={step_size:.2e}.db'"
   ]
  },
  {
   "cell_type": "markdown",
   "id": "de1f6aac-b93e-45a7-98e6-ffd5205916a6",
   "metadata": {},
   "source": [
    "## Read in the Data\n",
    "Get all computations for the desired calculation and the exact solution"
   ]
  },
  {
   "cell_type": "code",
   "execution_count": 4,
   "id": "797b96d8-050c-4bdf-9815-586cfb5bc311",
   "metadata": {
    "tags": []
   },
   "outputs": [
    {
     "name": "stdout",
     "output_type": "stream",
     "text": [
      "Loaded 55 structures\n"
     ]
    }
   ],
   "source": [
    "with connect(db_path) as db:\n",
    "    data = [a.toatoms() for a in db.select('')]\n",
    "print(f'Loaded {len(data)} structures')"
   ]
  },
  {
   "cell_type": "markdown",
   "id": "cb1a8e03-b045-49a4-95fd-61636a48fbad",
   "metadata": {},
   "source": [
    "Read in the exact Hessian"
   ]
  },
  {
   "cell_type": "code",
   "execution_count": 5,
   "id": "7389208d-9323-492c-8fc5-d05a372206c6",
   "metadata": {
    "tags": []
   },
   "outputs": [],
   "source": [
    "with open(f'data/exact/{run_name}-ase.json') as fp:\n",
    "    exact_vibs = VibrationsData.read(fp)"
   ]
  },
  {
   "cell_type": "code",
   "execution_count": 6,
   "id": "a9965595-532c-4067-ba24-7620bd977007",
   "metadata": {
    "tags": []
   },
   "outputs": [],
   "source": [
    "exact_hess = exact_vibs.get_hessian_2d()\n",
    "exact_zpe = exact_vibs.get_zero_point_energy()"
   ]
  },
  {
   "cell_type": "markdown",
   "id": "04c60da8-4a1d-4ae3-b45d-b77e71fd598f",
   "metadata": {},
   "source": [
    "## Fit a Hessian with All Data\n",
    "Fit a model which explains the energy data by fitting a Hessian matrix using compressed sensing (i.e., Lasso)."
   ]
  },
  {
   "cell_type": "code",
   "execution_count": 7,
   "id": "d6a7d756-37d3-44e0-b5e2-348d07c9d296",
   "metadata": {
    "tags": []
   },
   "outputs": [],
   "source": [
    "model = HarmonicModel(reference=data[0], regressor=regressor)\n",
    "hess_model = model.train(data)"
   ]
  },
  {
   "cell_type": "code",
   "execution_count": 8,
   "id": "35baa4a3-5e0e-4067-92ea-f29b3c080477",
   "metadata": {
    "tags": []
   },
   "outputs": [
    {
     "name": "stdout",
     "output_type": "stream",
     "text": [
      "Trained a model with 54 terms\n"
     ]
    }
   ],
   "source": [
    "print(f'Trained a model with {len(hess_model.coef_)} terms')"
   ]
  },
  {
   "cell_type": "markdown",
   "id": "aa509659-701d-4001-8cc7-980c9d999976",
   "metadata": {},
   "source": [
    "Compare the forces estimated at a zero displacement to the true value"
   ]
  },
  {
   "cell_type": "code",
   "execution_count": 9,
   "id": "70d80f87-9983-4bd5-a6ae-b9c966b0d838",
   "metadata": {
    "tags": []
   },
   "outputs": [],
   "source": [
    "actual_forces = data[0].get_forces()"
   ]
  },
  {
   "cell_type": "code",
   "execution_count": 10,
   "id": "f548b145-0aa8-47f7-802b-6b7232a74bd3",
   "metadata": {
    "tags": []
   },
   "outputs": [],
   "source": [
    "pred_forces = hess_model.coef_[:actual_forces.size].reshape((-1, 3))"
   ]
  },
  {
   "cell_type": "code",
   "execution_count": 11,
   "id": "d7cd7762-6e12-4dcd-b564-67a33b18d9e0",
   "metadata": {
    "tags": []
   },
   "outputs": [
    {
     "name": "stdout",
     "output_type": "stream",
     "text": [
      "Maximum force: 8.14e+09 eV/Angstrom\n"
     ]
    }
   ],
   "source": [
    "print(f'Maximum force: {np.abs(pred_forces).max():.2e} eV/Angstrom')"
   ]
  },
  {
   "cell_type": "code",
   "execution_count": 12,
   "id": "425b77a9-7fd7-40da-af6f-eaed197c9ab6",
   "metadata": {
    "tags": []
   },
   "outputs": [
    {
     "data": {
      "image/png": "[encoded data removed]",
      "text/plain": [
       "<Figure size 400x200 with 2 Axes>"
      ]
     },
     "metadata": {},
     "output_type": "display_data"
    }
   ],
   "source": [
    "fig, axs = plt.subplots(1, 2, figsize=(4, 2))\n",
    "\n",
    "for ax, l, h in zip(axs, ['Actual', 'Estimated'], [actual_forces, pred_forces]):\n",
    "    ax.matshow(h, vmin=-0.01, vmax=0.01, aspect='auto', cmap='RdBu')\n",
    "\n",
    "    ax.set_xticklabels([])\n",
    "    ax.set_yticklabels([])\n",
    "    \n",
    "    ax.set_title(l, fontsize=10)\n",
    "\n",
    "fig.tight_layout()"
   ]
  },
  {
   "cell_type": "markdown",
   "id": "46a0f2f8-f863-4de3-bd97-97ebd92676d4",
   "metadata": {},
   "source": [
    "Get the mean Hessian"
   ]
  },
  {
   "cell_type": "code",
   "execution_count": 13,
   "id": "00a10907-667a-413c-851d-d47f0eff092b",
   "metadata": {},
   "outputs": [],
   "source": [
    "approx_hessian = model.mean_hessian(hess_model)"
   ]
  },
  {
   "cell_type": "markdown",
   "id": "f4de2e78-00c2-427f-b9bd-eb3ca881564b",
   "metadata": {},
   "source": [
    "Compare to exact answer"
   ]
  },
  {
   "cell_type": "code",
   "execution_count": 14,
   "id": "d48893fd-df0d-4fa8-bfbe-0d04b71fbf1a",
   "metadata": {
    "tags": []
   },
   "outputs": [
    {
     "data": {
      "text/plain": [
       "array([[ 7.98627522e+01, -2.06977559e-03,  4.97846696e-09],\n",
       "       [-2.06977559e-03,  5.13139305e+01,  9.22094694e-07],\n",
       "       [ 4.97846696e-09,  9.22094694e-07,  4.71241660e-03]])"
      ]
     },
     "execution_count": 14,
     "metadata": {},
     "output_type": "execute_result"
    }
   ],
   "source": [
    "exact_hess[:3, :3]"
   ]
  },
  {
   "cell_type": "code",
   "execution_count": 15,
   "id": "9b311dea-5744-4211-81cb-40aa1183301e",
   "metadata": {
    "tags": []
   },
   "outputs": [
    {
     "data": {
      "text/plain": [
       "array([[67.35175629, -4.36472975, -2.29630344],\n",
       "       [-4.36472975, 44.76478349, -1.04486201],\n",
       "       [-2.29630344, -1.04486201,  1.79247476]])"
      ]
     },
     "execution_count": 15,
     "metadata": {},
     "output_type": "execute_result"
    }
   ],
   "source": [
    "approx_hessian[:3, :3]"
   ]
  },
  {
   "cell_type": "code",
   "execution_count": 16,
   "id": "addd7bef-854a-4b9f-96e9-2aa01b652495",
   "metadata": {
    "tags": []
   },
   "outputs": [
    {
     "data": {
      "image/png": "[encoded data removed]",
      "text/plain": [
       "<Figure size 400x200 with 2 Axes>"
      ]
     },
     "metadata": {},
     "output_type": "display_data"
    }
   ],
   "source": [
    "fig, axs = plt.subplots(1, 2, figsize=(4, 2))\n",
    "\n",
    "for ax, l, h in zip(axs, ['Exact', 'Approximate'], [exact_hess, approx_hessian]):\n",
    "    ax.matshow(h, vmin=-100, vmax=100, cmap='RdBu')\n",
    "\n",
    "    ax.set_xticklabels([])\n",
    "    ax.set_yticklabels([])\n",
    "    \n",
    "    ax.set_title(l, fontsize=10)\n",
    "\n",
    "fig.tight_layout()"
   ]
  },
  {
   "cell_type": "markdown",
   "id": "b516bb4e-d27d-4ad6-ad4b-b873c81670ff",
   "metadata": {},
   "source": [
    "Get the zero point energy"
   ]
  },
  {
   "cell_type": "code",
   "execution_count": 17,
   "id": "abbbbfd6-7d17-4b93-880a-3352903b56c4",
   "metadata": {
    "tags": []
   },
   "outputs": [],
   "source": [
    "approx_vibs = VibrationsData.from_2d(data[0], approx_hessian)"
   ]
  },
  {
   "cell_type": "code",
   "execution_count": 18,
   "id": "fdd80af3-8c18-40d8-b971-4a473bc91498",
   "metadata": {},
   "outputs": [
    {
     "data": {
      "text/plain": [
       "0.8508675175050776"
      ]
     },
     "execution_count": 18,
     "metadata": {},
     "output_type": "execute_result"
    }
   ],
   "source": [
    "approx_vibs.get_zero_point_energy()"
   ]
  },
  {
   "cell_type": "code",
   "execution_count": 19,
   "id": "6b1af348-4bc9-4ced-9a12-44b3e49abe9c",
   "metadata": {
    "tags": []
   },
   "outputs": [
    {
     "data": {
      "text/plain": [
       "0.6306709113106749"
      ]
     },
     "execution_count": 19,
     "metadata": {},
     "output_type": "execute_result"
    }
   ],
   "source": [
    "exact_zpe"
   ]
  },
  {
   "cell_type": "markdown",
   "id": "ab6a6645-bf0e-4ed7-874e-6a345063e0b5",
   "metadata": {},
   "source": [
    "The two differ, but I'm not sure how important the difference is."
   ]
  },
  {
   "cell_type": "markdown",
   "id": "6489882c-acaf-4a07-bbe9-d643f7c5c882",
   "metadata": {},
   "source": [
    "## Plot as a Function of Data\n",
    "See what happens as we add more data to the training"
   ]
  },
  {
   "cell_type": "code",
   "execution_count": 20,
   "id": "bce41a81-6c88-4b0c-9d8d-0891d1832fd6",
   "metadata": {
    "tags": []
   },
   "outputs": [
    {
     "name": "stdout",
     "output_type": "stream",
     "text": [
      "Plotting at 16 steps: 5, 8, 11, 15, 18, ...\n"
     ]
    }
   ],
   "source": [
    "steps = np.linspace(5, len(data), 16, dtype=int)\n",
    "print(f'Plotting at {len(steps)} steps: {\", \".join(map(str, steps[:5]))}, ...')"
   ]
  },
  {
   "cell_type": "code",
   "execution_count": 21,
   "id": "fe39ce86-1806-4367-8c86-e3ef58f81f84",
   "metadata": {
    "tags": []
   },
   "outputs": [
    {
     "name": "stderr",
     "output_type": "stream",
     "text": [
      "100%|████████████████████████████████████████████████████████████████████████████████████████████████████████████████████████████████████████████████████████████████████████████████████████████████████████████████████████████████████████████████████| 16/16 [00:00<00:00, 191.66it/s]\n"
     ]
    }
   ],
   "source": [
    "zpes = []\n",
    "for count in tqdm(steps):\n",
    "    with warnings.catch_warnings():\n",
    "        warnings.simplefilter(\"ignore\")\n",
    "        hess_model = model.train(data[:count])\n",
    "    \n",
    "    approx_hessian = model.mean_hessian(hess_model)\n",
    "    approx_vibs = VibrationsData.from_2d(data[0], approx_hessian)\n",
    "    zpes.append(approx_vibs.get_zero_point_energy())"
   ]
  },
  {
   "cell_type": "markdown",
   "id": "c179c3ae-695f-44ad-b548-10002c4ff30b",
   "metadata": {},
   "source": [
    "Plot it"
   ]
  },
  {
   "cell_type": "code",
   "execution_count": 22,
   "id": "1c6706a9-a27f-448f-81d4-957939bb2ca8",
   "metadata": {
    "tags": []
   },
   "outputs": [
    {
     "data": {
      "image/png": "[encoded data removed]",
      "text/plain": [
       "<Figure size 350x200 with 1 Axes>"
      ]
     },
     "metadata": {},
     "output_type": "display_data"
    }
   ],
   "source": [
    "fig, ax = plt.subplots(figsize=(3.5, 2))\n",
    "\n",
    "ax.plot(steps, zpes)\n",
    "\n",
    "ax.set_xlim([0, steps.max()])\n",
    "ax.plot(ax.get_xlim(), [exact_zpe]*2, 'k--')\n",
    "\n",
    "ax.set_xlabel('Energies')\n",
    "ax.set_ylabel('ZPE (eV)')\n",
    "\n",
    "fig.tight_layout()"
   ]
  },
  {
   "cell_type": "markdown",
   "id": "e8788f74-c208-4939-aa9b-3bbdfd8310ee",
   "metadata": {},
   "source": [
    "We consistently underestimate the ZPE. Is it because we have too few oscillators?"
   ]
  },
  {
   "cell_type": "code",
   "execution_count": null,
   "id": "384af4b3-5eb3-4eac-b176-160f19944853",
   "metadata": {},
   "outputs": [],
   "source": []
  }
 ],
 "metadata": {
  "kernelspec": {
   "display_name": "Python 3 (ipykernel)",
   "language": "python",
   "name": "python3"
  },
  "language_info": {
   "codemirror_mode": {
    "name": "ipython",
    "version": 3
   },
   "file_extension": ".py",
   "mimetype": "text/x-python",
   "name": "python",
   "nbconvert_exporter": "python",
   "pygments_lexer": "ipython3",
   "version": "3.10.12"
  }
 },
 "nbformat": 4,
 "nbformat_minor": 5
}
