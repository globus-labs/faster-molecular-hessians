{
 "cells": [
  {
   "cell_type": "markdown",
   "id": "201346ec-3f5a-4235-b8ef-4a0051373865",
   "metadata": {},
   "source": [
    "# Generate Approximate Hessians\n",
    "Use the random displacement data to get the full Hessian matrix. We assume that many parameters of the Hessian matrix are zero, and therefore that we can fit the Hessian matrix with a reduced number of points using [sparse linear regression](https://scikit-learn.org/stable/modules/linear_model.html#lasso)"
   ]
  },
  {
   "cell_type": "code",
   "execution_count": 12,
   "id": "ebbbc7f5-3007-420f-861a-9f65f84436be",
   "metadata": {
    "tags": []
   },
   "outputs": [],
   "source": [
    "%matplotlib inline\n",
    "from matplotlib import pyplot as plt\n",
    "from jitterbug.model.linear_internals import HarmonicModel\n",
    "from jitterbug.model.linear_internals import get_model_inputs\n",
    "from jitterbug.model.linear_internals import get_model_internal_inputs\n",
    "from sklearn.linear_model import LinearRegression, ElasticNetCV\n",
    "from ase.vibrations import VibrationsData\n",
    "from ase.db import connect\n",
    "from pathlib import Path\n",
    "from tqdm import tqdm\n",
    "import numpy as np\n",
    "import warnings"
   ]
  },
  {
   "cell_type": "markdown",
   "id": "85a147c1-2758-465b-bc54-dc373d73a0f3",
   "metadata": {},
   "source": [
    "Configuration"
   ]
  },
  {
   "cell_type": "code",
   "execution_count": 153,
   "id": "99bd4c92-9a7b-4e88-ac45-dbf30fbfc9e0",
   "metadata": {
    "tags": [
     "parameters"
    ]
   },
   "outputs": [],
   "source": [
    "molecule_name = 'ethanol'\n",
    "\n",
    "method = 'b3lyp'\n",
    "basis = '6-31g*'\n",
    "method = 'hf'\n",
    "basis = 'def2-svpd'\n",
    "method = 'wb97x-d'\n",
    "basis = 'cc-pvtz'\n",
    "step_size: float = 0.005 # Perturbation amount, used as maximum L2 norm\n",
    "regressor = LinearRegression"
   ]
  },
  {
   "cell_type": "code",
   "execution_count": null,
   "id": "1cafb642",
   "metadata": {},
   "outputs": [],
   "source": []
  },
  {
   "cell_type": "markdown",
   "id": "8505d400-8427-45b9-b626-3f9ca557d0c8",
   "metadata": {},
   "source": [
    "Derived"
   ]
  },
  {
   "cell_type": "code",
   "execution_count": 154,
   "id": "a8be3c37-bf1f-4ba4-ba8f-afff6d6bed7d",
   "metadata": {
    "tags": []
   },
   "outputs": [],
   "source": [
    "run_name = f'{molecule_name}_{method}_{basis}'\n",
    "out_dir = Path('data') / 'approx'\n",
    "db_path = out_dir / f'{run_name}-random-d={step_size:.2e}.db'"
   ]
  },
  {
   "cell_type": "markdown",
   "id": "de1f6aac-b93e-45a7-98e6-ffd5205916a6",
   "metadata": {},
   "source": [
    "## Read in the Data\n",
    "Get all computations for the desired calculation and the exact solution"
   ]
  },
  {
   "cell_type": "code",
   "execution_count": 155,
   "id": "797b96d8-050c-4bdf-9815-586cfb5bc311",
   "metadata": {
    "tags": []
   },
   "outputs": [
    {
     "name": "stdout",
     "output_type": "stream",
     "text": [
      "Loaded 392 structures\n"
     ]
    }
   ],
   "source": [
    "with connect(db_path) as db:\n",
    "    data = [a.toatoms() for a in db.select('')]\n",
    "print(f'Loaded {len(data)} structures')"
   ]
  },
  {
   "cell_type": "markdown",
   "id": "cb1a8e03-b045-49a4-95fd-61636a48fbad",
   "metadata": {},
   "source": [
    "Read in the exact Hessian"
   ]
  },
  {
   "cell_type": "code",
   "execution_count": 156,
   "id": "7389208d-9323-492c-8fc5-d05a372206c6",
   "metadata": {
    "tags": []
   },
   "outputs": [],
   "source": [
    "with open(f'data/exact/{run_name}-ase.json') as fp:\n",
    "    exact_vibs = VibrationsData.read(fp)"
   ]
  },
  {
   "cell_type": "code",
   "execution_count": 157,
   "id": "a9965595-532c-4067-ba24-7620bd977007",
   "metadata": {
    "tags": []
   },
   "outputs": [],
   "source": [
    "exact_hess = exact_vibs.get_hessian_2d()\n",
    "exact_zpe = exact_vibs.get_zero_point_energy()\n",
    "exact_freqs = exact_vibs.get_frequencies()"
   ]
  },
  {
   "cell_type": "markdown",
   "id": "04c60da8-4a1d-4ae3-b45d-b77e71fd598f",
   "metadata": {},
   "source": [
    "## Fit a Hessian with All Data\n",
    "Fit a model which explains the energy data by fitting a Hessian matrix using compressed sensing (i.e., Lasso)."
   ]
  },
  {
   "cell_type": "code",
   "execution_count": 158,
   "id": "d6a7d756-37d3-44e0-b5e2-348d07c9d296",
   "metadata": {
    "tags": []
   },
   "outputs": [],
   "source": [
    "model = HarmonicModel(reference=data[0], regressor=regressor)\n",
    "hess_model = model.train(data)"
   ]
  },
  {
   "cell_type": "code",
   "execution_count": 159,
   "id": "35baa4a3-5e0e-4067-92ea-f29b3c080477",
   "metadata": {
    "tags": []
   },
   "outputs": [
    {
     "name": "stdout",
     "output_type": "stream",
     "text": [
      "Trained a model with 252 terms. 252 are nonzero\n"
     ]
    }
   ],
   "source": [
    "print(f'Trained a model with {len(hess_model.coef_)} terms. {(np.abs(hess_model.coef_) > 1e-7).sum()} are nonzero')"
   ]
  },
  {
   "cell_type": "markdown",
   "id": "aa509659-701d-4001-8cc7-980c9d999976",
   "metadata": {},
   "source": [
    "Compare the forces estimated at a zero displacement to the true value"
   ]
  },
  {
   "cell_type": "code",
   "execution_count": 160,
   "id": "70d80f87-9983-4bd5-a6ae-b9c966b0d838",
   "metadata": {
    "tags": []
   },
   "outputs": [],
   "source": [
    "actual_forces = data[0].get_forces()\n",
    "n_atoms = len(data[0])\n",
    "to_compute = 3 * n_atoms + 3 * n_atoms * (3 * n_atoms + 1) // 2 + 1\n",
    "# ohdist = [datum.get_distance(0,1)- data[0].get_distance(0,1) for datum in data]\n",
    "# ohdist2 = [datum.get_distance(0,2)- data[0].get_distance(0,2) for datum in data]\n",
    "\n",
    "# enes = [23.06*(datum.get_potential_energy() - data[0].get_potential_energy()) for datum in data]\n",
    "# pred_enes = [23.06 * ene for ene in hess_model.predict([get_model_internal_inputs(atoms, data[0]) for atoms in data])]\n",
    "# fig, ax = plt.subplots(figsize=(5,5))\n",
    "# ax = plt.axes(projection='3d')\n",
    "# ax.scatter3D(ohdist, ohdist2, enes)\n",
    "\n",
    "\n",
    "# fig, ax = plt.subplots(figsize=(5,5))\n",
    "# ax = plt.axes(projection='3d')\n",
    "# ax.scatter3D(ohdist, ohdist2, pred_enes)\n",
    "\n",
    "\n",
    "\n",
    "# print(max([pred_ene - ene for pred_ene, ene in zip(pred_enes, enes)]))"
   ]
  },
  {
   "cell_type": "code",
   "execution_count": 161,
   "id": "fef38b82",
   "metadata": {},
   "outputs": [],
   "source": [
    "# fig, ax = plt.subplots(figsize=(5,5))\n",
    "# ax.scatter(ohdist2, enes)\n",
    "# pred_inp = []\n",
    "# new_pred_ohdists = []\n",
    "# for i in range(50):\n",
    "#     disp = np.random.normal(0, 1, size=(len(data[0]) * 3))\n",
    "#     disp /= np.linalg.norm(disp)\n",
    "#     disp *= step_size#*random.randint(20,100)/100\n",
    "#     disp = disp.reshape((-1, 3))\n",
    "    \n",
    "#     # Subtract off any translation\n",
    "#     disp -= disp.mean(axis=0)[None, :]\n",
    "\n",
    "#     # Make the new atoms\n",
    "#     new_atoms = data[0].copy()\n",
    "#     new_atoms.positions += disp\n",
    "#     pred_inp.append(get_model_internal_inputs(new_atoms, data[0]))\n",
    "#     new_pred_ohdists.append(new_atoms.get_distance(0,1)- data[0].get_distance(0,1))\n",
    "# new_pred_enes = hess_model.predict(pred_inp)\n",
    "# new_pred_enes = [23.06 * ene for ene in new_pred_enes]\n",
    "# ax.scatter(new_pred_ohdists, new_pred_enes)\n",
    "# ax.set_xlabel('O-H displacement')\n",
    "# ax.set_ylabel('energy')"
   ]
  },
  {
   "cell_type": "code",
   "execution_count": 162,
   "id": "f548b145-0aa8-47f7-802b-6b7232a74bd3",
   "metadata": {
    "tags": []
   },
   "outputs": [],
   "source": [
    "pred_forces = -hess_model.coef_[:actual_forces.size].reshape((-1, 3))"
   ]
  },
  {
   "cell_type": "code",
   "execution_count": 163,
   "id": "d7cd7762-6e12-4dcd-b564-67a33b18d9e0",
   "metadata": {
    "tags": []
   },
   "outputs": [
    {
     "name": "stdout",
     "output_type": "stream",
     "text": [
      "Maximum force: 7.72e+00 eV/Angstrom\n"
     ]
    }
   ],
   "source": [
    "print(f'Maximum force: {np.abs(pred_forces).max():.2e} eV/Angstrom')"
   ]
  },
  {
   "cell_type": "code",
   "execution_count": 164,
   "id": "425b77a9-7fd7-40da-af6f-eaed197c9ab6",
   "metadata": {
    "tags": []
   },
   "outputs": [
    {
     "data": {
      "image/png": "[encoded data removed]",
      "text/plain": [
       "<Figure size 400x200 with 2 Axes>"
      ]
     },
     "metadata": {},
     "output_type": "display_data"
    }
   ],
   "source": [
    "fig, axs = plt.subplots(1, 2, figsize=(4, 2))\n",
    "\n",
    "for ax, l, h in zip(axs, ['Actual', 'Estimated'], [actual_forces, pred_forces]):\n",
    "    ax.matshow(h, vmin=-0.05, vmax=0.05, aspect='auto', cmap='RdBu')\n",
    "\n",
    "    ax.set_xticklabels([])\n",
    "    ax.set_yticklabels([])\n",
    "    \n",
    "    ax.set_title(l, fontsize=10)\n",
    "\n",
    "fig.tight_layout()"
   ]
  },
  {
   "cell_type": "markdown",
   "id": "46a0f2f8-f863-4de3-bd97-97ebd92676d4",
   "metadata": {},
   "source": [
    "Get the mean Hessian"
   ]
  },
  {
   "cell_type": "code",
   "execution_count": 165,
   "id": "00a10907-667a-413c-851d-d47f0eff092b",
   "metadata": {},
   "outputs": [],
   "source": [
    "approx_hessian = model.mean_hessian(hess_model, data[0])"
   ]
  },
  {
   "cell_type": "markdown",
   "id": "f4de2e78-00c2-427f-b9bd-eb3ca881564b",
   "metadata": {},
   "source": [
    "Compare to exact answer"
   ]
  },
  {
   "cell_type": "code",
   "execution_count": 166,
   "id": "d48893fd-df0d-4fa8-bfbe-0d04b71fbf1a",
   "metadata": {
    "tags": []
   },
   "outputs": [
    {
     "data": {
      "text/plain": [
       "array([[ 2.69016123e+01, -1.28458641e+01,  3.36727325e+00,\n",
       "        -1.75307484e+01,  6.39414201e+00, -2.70410023e+00,\n",
       "        -4.19781009e+00,  3.00911307e+00,  1.25621745e-01,\n",
       "        -1.14264833e+00,  1.42416326e+00, -4.30216652e-01,\n",
       "        -5.63190896e-01,  7.06647583e-01,  3.20462967e-01,\n",
       "        -7.98375929e-01, -5.05108226e-01, -1.69079269e-02,\n",
       "         3.14585947e-01,  8.25866188e-02,  6.18862724e-02,\n",
       "         3.16352059e-01,  7.63867259e-02, -1.20350918e-01,\n",
       "        -3.29609746e+00,  1.67639180e+00, -6.03636525e-01],\n",
       "       [-1.28458641e+01,  3.22899398e+01,  2.49678233e+01,\n",
       "         9.11507477e+00, -1.27669506e+01,  2.98634995e-01,\n",
       "        -5.71854182e-01,  1.02078058e+00, -1.90378639e-01,\n",
       "         2.81137569e+00, -1.75327349e+00,  1.13238325e-01,\n",
       "         2.46104075e+00, -1.69009254e+00, -1.50141065e-01,\n",
       "        -3.27459074e-01, -2.68044395e-03,  3.97006717e-02,\n",
       "         1.67374426e-01,  2.15847540e-01, -1.53605712e-01,\n",
       "         4.22478642e-02,  1.91686322e-01,  1.57457938e-01,\n",
       "        -8.65766715e-01, -1.75103030e+01, -2.50305472e+01],\n",
       "       [ 3.36727325e+00,  2.49678233e+01,  4.28417550e+01,\n",
       "         5.79517946e-01, -1.98068769e+00, -8.77947105e+00,\n",
       "        -1.45046528e-02, -6.23201824e-02,  3.75475943e-01,\n",
       "        -2.35428768e+00,  1.43756780e+00,  7.33740611e-01,\n",
       "         2.73925150e+00, -1.95939210e+00,  3.02742181e-01,\n",
       "         5.94823849e-02,  1.25518407e-02,  1.58887771e-01,\n",
       "        -1.25173331e-01, -1.26552970e-01,  5.68382424e-02,\n",
       "         5.31434383e-03,  1.81880008e-01,  1.00949789e-01,\n",
       "        -4.23927305e+00, -2.24198247e+01, -3.57719966e+01],\n",
       "       [-1.75307484e+01,  9.11507477e+00,  5.79517946e-01,\n",
       "         4.43063017e+01,  6.06323568e-01,  4.70677819e-01,\n",
       "        -1.47603695e+01, -6.57395520e+00,  2.35734345e-02,\n",
       "        -4.78620603e+00, -8.63696229e-01,  7.73017416e-01,\n",
       "        -4.76541015e+00, -1.21791866e+00, -1.61602256e+00,\n",
       "        -1.58918880e+00, -1.21420425e+00,  3.59796759e-02,\n",
       "        -1.11583260e-01,  7.42074191e-02, -4.28426028e-02,\n",
       "        -2.99872491e-01,  4.46451359e-02,  1.52649975e-01,\n",
       "        -4.48235900e-01,  1.90501204e-02, -4.55277392e-01],\n",
       "       [ 6.39414201e+00, -1.27669506e+01, -1.98068769e+00,\n",
       "         6.06323568e-01,  5.41203042e+01,  2.22794186e+00,\n",
       "        -5.54288021e+00, -1.25534889e+01,  1.11221291e-01,\n",
       "        -7.96241751e-01, -1.32991429e+01,  1.10673989e+01,\n",
       "        -1.67180353e+00, -1.23505604e+01, -1.17349069e+01,\n",
       "         2.15649068e+00,  1.22927248e+00, -3.06495800e-02,\n",
       "        -1.93079328e+00, -1.33115018e+00,  8.67653924e-03,\n",
       "        -1.73411754e+00, -1.24188859e+00,  6.69828073e-02,\n",
       "         2.51786213e+00, -1.75631844e+00,  2.44340641e-01],\n",
       "       [-2.70410023e+00,  2.98634995e-01, -8.77947105e+00,\n",
       "         4.70677819e-01,  2.22794186e+00,  6.11177702e+01,\n",
       "         2.67839483e-01, -1.35967694e-02, -8.39246670e+00,\n",
       "         1.00360538e+00,  1.07601787e+01, -2.06862778e+01,\n",
       "        -2.34397573e+00, -1.09944312e+01, -2.30002151e+01,\n",
       "         8.97847089e-02,  6.87204606e-02, -2.11722445e-01,\n",
       "         2.47090151e+00,  1.57459216e+00,  1.41436042e-02,\n",
       "        -2.53199273e+00, -1.67125056e+00,  8.09570916e-02,\n",
       "         3.17089094e+00, -2.31946257e+00, -1.31941986e-01],\n",
       "       [-4.19781009e+00, -5.71854182e-01, -1.45046528e-02,\n",
       "        -1.47603695e+01, -5.54288021e+00,  2.67839483e-01,\n",
       "         4.93770421e+01, -4.39133684e+00,  9.09063552e-02,\n",
       "        -7.60671694e-02, -3.57577144e-01, -6.26212501e-02,\n",
       "        -2.65417878e-01, -3.28074683e-01,  2.29931536e-02,\n",
       "        -2.08562038e+01,  1.24742346e+01,  8.83880334e-01,\n",
       "        -4.57579400e+00, -2.01274727e-01,  2.10005436e-01,\n",
       "        -4.74589181e+00, -1.04019968e+00, -1.48819795e+00,\n",
       "         1.18618937e-01, -4.00910389e-02, -6.23904885e-02],\n",
       "       [ 3.00911307e+00,  1.02078058e+00, -6.23201824e-02,\n",
       "        -6.57395520e+00, -1.25534889e+01, -1.35967694e-02,\n",
       "        -4.39133684e+00,  5.38856847e+01, -4.96270587e-01,\n",
       "        -1.81677266e+00, -9.73594127e-01, -1.21330411e-01,\n",
       "        -1.62979103e+00, -9.26773327e-01,  1.69992033e-01,\n",
       "         1.23008680e+01, -1.42616920e+01, -6.60814684e-01,\n",
       "        -1.64478771e-02, -1.40613529e+01,  1.25301329e+01,\n",
       "        -9.37100484e-01, -1.23238117e+01, -1.16011384e+01,\n",
       "         6.28626172e-02,  2.74384414e-01,  1.80508029e-01],\n",
       "       [ 1.25621745e-01, -1.90378639e-01,  3.75475943e-01,\n",
       "         2.35734345e-02,  1.11221291e-01, -8.39246670e+00,\n",
       "         9.09063552e-02, -4.96270587e-01,  5.58135684e+01,\n",
       "         2.33242176e+00,  1.57302448e+00,  4.61246960e-02,\n",
       "        -2.38977929e+00, -1.49789359e+00,  1.86913850e-01,\n",
       "         8.91355889e-01, -6.26363118e-01, -4.56270445e+00,\n",
       "         9.42287277e-02,  1.24409601e+01, -2.13450746e+01,\n",
       "        -1.51521540e+00, -1.15381203e+01, -2.21968812e+01,\n",
       "         2.10161131e-01,  1.50446795e-01,  1.11238478e-01],\n",
       "       [-1.14264833e+00,  2.81137569e+00, -2.35428768e+00,\n",
       "        -4.78620603e+00, -7.96241751e-01,  1.00360538e+00,\n",
       "        -7.60671694e-02, -1.81677266e+00,  2.33242176e+00,\n",
       "         6.08705432e+00,  1.28099649e-01, -4.82175899e-01,\n",
       "         1.48844487e-01,  8.20736983e-02, -2.79733430e-01,\n",
       "         7.83644584e-02,  9.47701496e-02, -1.42573653e-02,\n",
       "        -4.82542115e-01, -3.71965746e-01, -2.53437014e-02,\n",
       "         1.05967721e-01,  6.02509828e-02, -5.83985896e-02,\n",
       "         7.61646530e-02, -1.25265871e-01, -7.13446086e-02],\n",
       "       [ 1.42416326e+00, -1.75327349e+00,  1.43756780e+00,\n",
       "        -8.63696229e-01, -1.32991429e+01,  1.07601787e+01,\n",
       "        -3.57577144e-01, -9.73594127e-01,  1.57302448e+00,\n",
       "         1.28099649e-01,  1.48777095e+01, -1.26107761e+01,\n",
       "         2.67599108e-02,  1.19214625e+00, -1.31093240e+00,\n",
       "        -5.31183253e-02,  3.59034882e-02,  1.10033339e-02,\n",
       "        -3.23727345e-01, -9.11117378e-02,  2.62634188e-03,\n",
       "         9.39365544e-02,  5.73597721e-03, -8.78621673e-03,\n",
       "         1.92108075e-03, -3.14771896e-03,  1.12671541e-01],\n",
       "       [-4.30216652e-01,  1.13238325e-01,  7.33740611e-01,\n",
       "         7.73017416e-01,  1.10673989e+01, -2.06862778e+01,\n",
       "        -6.26212501e-02, -1.21330411e-01,  4.61246960e-02,\n",
       "        -4.82175899e-01, -1.26107761e+01,  2.16116842e+01,\n",
       "         1.83391939e-01,  1.56897291e+00, -2.06272071e+00,\n",
       "         7.36193216e-02,  2.45216333e-02, -5.41371556e-03,\n",
       "         8.38672083e-03, -5.34178497e-02,  1.50526363e-01,\n",
       "         5.02887200e-02,  2.14262439e-02,  8.90090723e-02,\n",
       "        -7.05894409e-02, -2.83572427e-02,  1.10551402e-01],\n",
       "       [-5.63190896e-01,  2.46104075e+00,  2.73925150e+00,\n",
       "        -4.76541015e+00, -1.67180353e+00, -2.34397573e+00,\n",
       "        -2.65417878e-01, -1.62979103e+00, -2.38977929e+00,\n",
       "         1.48844487e-01,  2.67599108e-02,  1.83391939e-01,\n",
       "         6.15590681e+00,  5.55458427e-01,  1.65821004e+00,\n",
       "         6.75979512e-02,  8.17088163e-02,  4.27352960e-03,\n",
       "         1.12445867e-01,  4.52279125e-02,  6.21890521e-02,\n",
       "        -4.65702145e-01, -3.40396875e-01,  6.71443177e-02,\n",
       "        -4.54514399e-01,  4.09560577e-01,  7.05154991e-02],\n",
       "       [ 7.06647583e-01, -1.69009254e+00, -1.95939210e+00,\n",
       "        -1.21791866e+00, -1.23505604e+01, -1.09944312e+01,\n",
       "        -3.28074683e-01, -9.26773327e-01, -1.49789359e+00,\n",
       "         8.20736983e-02,  1.19214625e+00,  1.56897291e+00,\n",
       "         5.55458427e-01,  1.39641099e+01,  1.28618918e+01,\n",
       "        -1.35612377e-02,  5.42015095e-02,  8.96637948e-03,\n",
       "         9.49045108e-02,  5.34699965e-04, -5.97373806e-03,\n",
       "        -2.93165725e-01, -8.62089966e-02,  1.68467670e-02,\n",
       "         3.44091394e-01, -1.98044077e-01,  3.04650140e-02],\n",
       "       [ 3.20462967e-01, -1.50141065e-01,  3.02742181e-01,\n",
       "        -1.61602256e+00, -1.17349069e+01, -2.30002151e+01,\n",
       "         2.29931536e-02,  1.69992033e-01,  1.86913850e-01,\n",
       "        -2.79733430e-01, -1.31093240e+00, -2.06272071e+00,\n",
       "         1.65821004e+00,  1.28618918e+01,  2.41171793e+01,\n",
       "        -8.38249994e-02, -4.21273647e-02,  9.08506294e-04,\n",
       "        -1.34722513e-02, -1.72242672e-02,  7.65431376e-02,\n",
       "         5.18548923e-02,  8.96581313e-02,  1.47861495e-01,\n",
       "        -2.48665027e-02,  1.53732667e-01,  2.14498552e-01],\n",
       "       [-7.98375929e-01, -3.27459074e-01,  5.94823849e-02,\n",
       "        -1.58918880e+00,  2.15649068e+00,  8.97847089e-02,\n",
       "        -2.08562038e+01,  1.23008680e+01,  8.91355889e-01,\n",
       "         7.83644584e-02, -5.31183253e-02,  7.36193216e-02,\n",
       "         6.75979512e-02, -1.35612377e-02, -8.38249994e-02,\n",
       "         2.26680531e+01, -1.36196586e+01, -8.77147843e-01,\n",
       "         1.23812106e-01, -1.64742775e-01, -3.34325777e-02,\n",
       "         2.56254878e-01, -2.36349737e-01,  3.94926255e-03,\n",
       "         4.67918347e-02, -5.49413388e-02, -6.67666744e-02],\n",
       "       [-5.05108226e-01, -2.68044395e-03,  1.25518407e-02,\n",
       "        -1.21420425e+00,  1.22927248e+00,  6.87204606e-02,\n",
       "         1.24742346e+01, -1.42616920e+01, -6.26363118e-01,\n",
       "         9.47701496e-02,  3.59034882e-02,  2.45216333e-02,\n",
       "         8.17088163e-02,  5.42015095e-02, -4.21273647e-02,\n",
       "        -1.36196586e+01,  1.50970797e+01,  7.96199399e-01,\n",
       "         1.41464884e+00, -1.08872287e+00, -2.58237340e-01,\n",
       "         1.31786646e+00, -1.03600820e+00,  5.68817699e-02,\n",
       "        -4.38454171e-02, -4.11988855e-02,  1.77421563e-02],\n",
       "       [-1.69079269e-02,  3.97006717e-02,  1.58887771e-01,\n",
       "         3.59796759e-02, -3.06495800e-02, -2.11722445e-01,\n",
       "         8.83880334e-01, -6.60814684e-01, -4.56270445e+00,\n",
       "        -1.42573653e-02,  1.10033339e-02, -5.41371556e-03,\n",
       "         4.27352960e-03,  8.96637948e-03,  9.08506294e-04,\n",
       "        -8.77147843e-01,  7.96199399e-01,  4.48198819e+00,\n",
       "        -2.10351498e+00,  1.42863269e+00,  2.15394247e-01,\n",
       "         2.19120015e+00, -1.54305473e+00, -7.84776713e-02,\n",
       "        -7.31490944e-02,  1.18764513e-02,  1.08066575e-02],\n",
       "       [ 3.14585947e-01,  1.67374426e-01, -1.25173331e-01,\n",
       "        -1.11583260e-01, -1.93079328e+00,  2.47090151e+00,\n",
       "        -4.57579400e+00, -1.64478771e-02,  9.42287277e-02,\n",
       "        -4.82542115e-01, -3.23727345e-01,  8.38672083e-03,\n",
       "         1.12445867e-01,  9.49045108e-02, -1.34722513e-02,\n",
       "         1.23812106e-01,  1.41464884e+00, -2.10351498e+00,\n",
       "         4.75711639e+00,  5.67373061e-01, -1.81370880e-01,\n",
       "        -1.08025659e-01,  1.14755786e-01, -1.26267887e-01,\n",
       "        -1.82294628e-02, -1.36543937e-02,  1.39067749e-02],\n",
       "       [ 8.25866188e-02,  2.15847540e-01, -1.26552970e-01,\n",
       "         7.42074191e-02, -1.33115018e+00,  1.57459216e+00,\n",
       "        -2.01274727e-01, -1.40613529e+01,  1.24409601e+01,\n",
       "        -3.71965746e-01, -9.11117378e-02, -5.34178497e-02,\n",
       "         4.52279125e-02,  5.34699965e-04, -1.72242672e-02,\n",
       "        -1.64742775e-01, -1.08872287e+00,  1.42863269e+00,\n",
       "         5.67373061e-01,  1.51439593e+01, -1.37806558e+01,\n",
       "         3.70269616e-02,  1.18642654e+00, -1.49181521e+00,\n",
       "        -1.11955350e-02, -7.30662415e-03, -4.67059525e-03],\n",
       "       [ 6.18862724e-02, -1.53605712e-01,  5.68382424e-02,\n",
       "        -4.28426028e-02,  8.67653924e-03,  1.41436042e-02,\n",
       "         2.10005436e-01,  1.25301329e+01, -2.13450746e+01,\n",
       "        -2.53437014e-02,  2.62634188e-03,  1.50526363e-01,\n",
       "         6.21890521e-02, -5.97373806e-03,  7.65431376e-02,\n",
       "        -3.34325777e-02, -2.58237340e-01,  2.15394247e-01,\n",
       "        -1.81370880e-01, -1.37806558e+01,  2.27943007e+01,\n",
       "         6.75764615e-03,  1.61026641e+00, -1.95187969e+00,\n",
       "        -3.77748642e-03,  3.09920769e-02, -2.94535508e-02],\n",
       "       [ 3.16352059e-01,  4.22478642e-02,  5.31434383e-03,\n",
       "        -2.99872491e-01, -1.73411754e+00, -2.53199273e+00,\n",
       "        -4.74589181e+00, -9.37100484e-01, -1.51521540e+00,\n",
       "         1.05967721e-01,  9.39365544e-02,  5.02887200e-02,\n",
       "        -4.65702145e-01, -2.93165725e-01,  5.18548923e-02,\n",
       "         2.56254878e-01,  1.31786646e+00,  2.19120015e+00,\n",
       "        -1.08025659e-01,  3.70269616e-02,  6.75764615e-03,\n",
       "         5.00844706e+00,  1.33746545e+00,  1.73145753e+00,\n",
       "        -8.16996931e-02,  6.04032236e-02,  5.12315272e-02],\n",
       "       [ 7.63867259e-02,  1.91686322e-01,  1.81880008e-01,\n",
       "         4.46451359e-02, -1.24188859e+00, -1.67125056e+00,\n",
       "        -1.04019968e+00, -1.23238117e+01, -1.15381203e+01,\n",
       "         6.02509828e-02,  5.73597721e-03,  2.14262439e-02,\n",
       "        -3.40396875e-01, -8.62089966e-02,  8.96581313e-02,\n",
       "        -2.36349737e-01, -1.03600820e+00, -1.54305473e+00,\n",
       "         1.14755786e-01,  1.18642654e+00,  1.61026641e+00,\n",
       "         1.33746545e+00,  1.32347872e+01,  1.28895354e+01,\n",
       "        -7.84562808e-02,  4.56914129e-02, -2.06419342e-02],\n",
       "       [-1.20350918e-01,  1.57457938e-01,  1.00949789e-01,\n",
       "         1.52649975e-01,  6.69828073e-02,  8.09570916e-02,\n",
       "        -1.48819795e+00, -1.16011384e+01, -2.21968812e+01,\n",
       "        -5.83985896e-02, -8.78621673e-03,  8.90090723e-02,\n",
       "         6.71443177e-02,  1.68467670e-02,  1.47861495e-01,\n",
       "         3.94926255e-03,  5.68817699e-02, -7.84776713e-02,\n",
       "        -1.26267887e-01, -1.49181521e+00, -1.95187969e+00,\n",
       "         1.73145753e+00,  1.28895354e+01,  2.38214500e+01,\n",
       "        -1.07663146e-01, -5.60220751e-02, -3.88317035e-02],\n",
       "       [-3.29609746e+00, -8.65766715e-01, -4.23927305e+00,\n",
       "        -4.48235900e-01,  2.51786213e+00,  3.17089094e+00,\n",
       "         1.18618937e-01,  6.28626172e-02,  2.10161131e-01,\n",
       "         7.61646530e-02,  1.92108075e-03, -7.05894409e-02,\n",
       "        -4.54514399e-01,  3.44091394e-01, -2.48665027e-02,\n",
       "         4.67918347e-02, -4.38454171e-02, -7.31490944e-02,\n",
       "        -1.82294628e-02, -1.11955350e-02, -3.77748642e-03,\n",
       "        -8.16996931e-02, -7.84562808e-02, -1.07663146e-01,\n",
       "         4.04713956e+00, -1.92753300e+00,  1.13339531e+00],\n",
       "       [ 1.67639180e+00, -1.75103030e+01, -2.24198247e+01,\n",
       "         1.90501204e-02, -1.75631844e+00, -2.31946257e+00,\n",
       "        -4.00910389e-02,  2.74384414e-01,  1.50446795e-01,\n",
       "        -1.25265871e-01, -3.14771896e-03, -2.83572427e-02,\n",
       "         4.09560577e-01, -1.98044077e-01,  1.53732667e-01,\n",
       "        -5.49413388e-02, -4.11988855e-02,  1.18764513e-02,\n",
       "        -1.36543937e-02, -7.30662415e-03,  3.09920769e-02,\n",
       "         6.04032236e-02,  4.56914129e-02, -5.60220751e-02,\n",
       "        -1.92753300e+00,  1.91925972e+01,  2.44848240e+01],\n",
       "       [-6.03636525e-01, -2.50305472e+01, -3.57719966e+01,\n",
       "        -4.55277392e-01,  2.44340641e-01, -1.31941986e-01,\n",
       "        -6.23904885e-02,  1.80508029e-01,  1.11238478e-01,\n",
       "        -7.13446086e-02,  1.12671541e-01,  1.10551402e-01,\n",
       "         7.05154991e-02,  3.04650140e-02,  2.14498552e-01,\n",
       "        -6.67666744e-02,  1.77421563e-02,  1.08066575e-02,\n",
       "         1.39067749e-02, -4.67059525e-03, -2.94535508e-02,\n",
       "         5.12315272e-02, -2.06419342e-02, -3.88317035e-02,\n",
       "         1.13339531e+00,  2.44848240e+01,  3.55183420e+01]])"
      ]
     },
     "execution_count": 166,
     "metadata": {},
     "output_type": "execute_result"
    }
   ],
   "source": [
    "exact_hess"
   ]
  },
  {
   "cell_type": "code",
   "execution_count": 167,
   "id": "9b311dea-5744-4211-81cb-40aa1183301e",
   "metadata": {
    "tags": []
   },
   "outputs": [
    {
     "data": {
      "text/plain": [
       "array([[ 2.11405025e+01, -8.60117469e+00,  1.98456240e+00,\n",
       "        -1.49581689e+01,  6.24037908e+00, -3.37047553e-01,\n",
       "        -5.92642497e-01,  2.24208812e+00, -8.22656112e-01,\n",
       "        -8.01653930e-01,  2.28371228e+00, -7.50621434e-01,\n",
       "        -2.29629323e-01, -2.73036037e-01,  4.62198484e-01,\n",
       "        -6.25443179e-01, -2.99036124e-01, -3.75883120e-01,\n",
       "        -1.14666995e-01,  2.59019461e-02,  1.54814119e-01,\n",
       "        -1.49487629e-01, -8.64297140e-01,  4.01571181e-02,\n",
       "        -3.66881005e+00, -7.54537437e-01, -3.55523900e-01],\n",
       "       [-8.60117469e+00,  3.23457628e+01,  1.82862885e+01,\n",
       "         1.00617886e+01, -6.47868064e+00,  1.87805113e+00,\n",
       "         5.07962511e+00,  2.53488163e+00, -5.78225482e-01,\n",
       "         2.27159773e+00, -2.03292514e+00, -3.56464824e-01,\n",
       "        -7.00018065e-01, -4.46205877e+00, -4.67939194e-01,\n",
       "        -1.96916594e+00, -4.93330360e-02,  1.06502693e+00,\n",
       "        -3.63511080e-01, -1.73577776e+00, -2.62997909e-01,\n",
       "        -2.23436936e+00,  1.49083427e-01, -1.64288333e+00,\n",
       "        -3.54477229e+00, -2.02709525e+01, -1.79208558e+01],\n",
       "       [ 1.98456240e+00,  1.82862885e+01,  3.28149576e+01,\n",
       "         1.50360532e+00,  6.89061147e-01, -5.57932411e+00,\n",
       "        -1.55092612e+00, -1.10718777e+00,  2.21836671e-01,\n",
       "        -8.79768802e-01, -3.46785467e-02, -1.28828820e+00,\n",
       "         9.25052733e-01, -2.13489432e+00, -9.76890936e-01,\n",
       "         2.14947420e-01,  4.36550036e-02,  2.11807370e+00,\n",
       "         9.48817812e-01, -8.97831020e-01, -7.61723960e-01,\n",
       "        -7.01598284e-01,  1.59271007e+00, -5.00640856e-01,\n",
       "        -2.44469248e+00, -1.64371230e+01, -2.60479999e+01],\n",
       "       [-1.49581689e+01,  1.00617886e+01,  1.50360532e+00,\n",
       "         4.04037109e+01,  2.51542284e-01,  3.97858026e-01,\n",
       "        -1.11159408e+01, -6.58437662e+00, -1.24204221e-01,\n",
       "        -5.20932011e+00, -2.17446709e-01,  6.73173009e-01,\n",
       "        -5.10473562e+00, -1.90122941e+00, -1.24492336e+00,\n",
       "        -2.08058550e+00, -2.55679752e-01, -3.24099308e-03,\n",
       "        -6.62173609e-01,  4.22277624e-01,  2.99694818e-01,\n",
       "        -7.54913418e-01,  1.80105350e-01, -7.46747690e-02,\n",
       "        -5.17872977e-01, -1.95698135e+00, -1.42728783e+00],\n",
       "       [ 6.24037908e+00, -6.47868064e+00,  6.89061147e-01,\n",
       "         2.51542284e-01,  4.16368609e+01,  9.42539839e-01,\n",
       "        -6.20416916e+00, -5.32931827e+00,  1.44060423e-01,\n",
       "        -1.04602547e-01, -1.25294148e+01,  5.79948389e+00,\n",
       "        -3.69677445e-01, -1.24516721e+01, -6.28113655e+00,\n",
       "         9.06676001e-01, -1.12904654e-01, -1.51141164e-01,\n",
       "        -8.82580057e-01, -1.42349382e+00,  4.01368739e-01,\n",
       "        -6.86579714e-01, -1.54703235e+00, -2.71878233e-01,\n",
       "         8.49011558e-01, -1.76434420e+00, -1.27235809e+00],\n",
       "       [-3.37047553e-01,  1.87805113e+00, -5.57932411e+00,\n",
       "         3.97858026e-01,  9.42539839e-01,  4.52868665e+01,\n",
       "         5.32696648e-01,  5.34608067e-01, -2.43448043e+00,\n",
       "         1.37585164e+00,  5.85848298e+00, -1.55699892e+01,\n",
       "        -2.21033107e+00, -6.55050153e+00, -1.66804484e+01,\n",
       "        -9.84594012e-02, -2.99367345e-02, -7.67109719e-01,\n",
       "         1.54135581e+00,  3.45005080e-01, -1.38943806e+00,\n",
       "        -1.85228906e+00, -6.39129192e-01, -1.48456200e+00,\n",
       "         6.50364951e-01, -2.33911964e+00, -1.38151451e+00],\n",
       "       [-5.92642497e-01,  5.07962511e+00, -1.55092612e+00,\n",
       "        -1.11159408e+01, -6.20416916e+00,  5.32696648e-01,\n",
       "         3.84172114e+01, -2.81764479e+00,  9.66190280e-01,\n",
       "         1.12503156e-01,  3.27196955e-01,  4.44598334e-01,\n",
       "        -1.07663658e+00, -2.04508610e+00,  5.58052436e-01,\n",
       "        -1.50798374e+01,  7.93954336e+00, -3.96734667e-01,\n",
       "        -4.37604914e+00,  1.11050973e+00,  9.30774790e-01,\n",
       "        -4.58990288e+00,  2.09621471e-01, -2.07972932e+00,\n",
       "        -1.69870532e+00, -3.59959657e+00,  5.95077619e-01],\n",
       "       [ 2.24208812e+00,  2.53488163e+00, -1.10718777e+00,\n",
       "        -6.58437662e+00, -5.32931827e+00,  5.34608067e-01,\n",
       "        -2.81764479e+00,  4.17471512e+01,  4.66000047e-01,\n",
       "        -2.85021980e-01, -1.37526828e+00,  1.53879630e-01,\n",
       "        -7.53115985e-01, -2.63260878e+00,  3.87332654e-01,\n",
       "         8.60366683e+00, -9.63420231e+00, -9.64667119e-01,\n",
       "         5.20164614e-01, -1.20159572e+01,  6.78360912e+00,\n",
       "         7.35467066e-02, -1.13823895e+01, -6.76147526e+00,\n",
       "        -9.99306894e-01, -1.91228840e+00,  5.07900635e-01],\n",
       "       [-8.22656112e-01, -5.78225482e-01,  2.21836671e-01,\n",
       "        -1.24204221e-01,  1.44060423e-01, -2.43448043e+00,\n",
       "         9.66190280e-01,  4.66000047e-01,  4.45232110e+01,\n",
       "         1.25738425e+00,  7.99314469e-01, -1.27112190e+00,\n",
       "        -1.19951887e+00, -8.57181188e-01, -1.19643001e+00,\n",
       "         3.29702077e-01, -3.33020889e-01, -7.22713298e+00,\n",
       "         1.77689643e+00,  6.88504465e+00, -1.59171175e+01,\n",
       "        -2.89451547e+00, -6.96094396e+00, -1.63650634e+01,\n",
       "         7.10721637e-01,  4.34951924e-01, -3.33701364e-01],\n",
       "       [-8.01653930e-01,  2.27159773e+00, -8.79768802e-01,\n",
       "        -5.20932011e+00, -1.04602547e-01,  1.37585164e+00,\n",
       "         1.12503156e-01, -2.85021980e-01,  1.25738425e+00,\n",
       "         4.79937489e+00, -6.61983808e-01, -1.13690641e+00,\n",
       "         6.49621750e-01,  3.54932270e-01, -6.08049041e-01,\n",
       "         1.22940359e-01, -2.31364746e-02,  1.05460544e+00,\n",
       "         3.04037706e-01, -1.28857353e+00, -5.76953911e-01,\n",
       "        -1.64411663e-01,  2.84359281e-01, -5.86072971e-01,\n",
       "         1.86907843e-01, -5.47570947e-01,  9.99098003e-02],\n",
       "       [ 2.28371228e+00, -2.03292514e+00, -3.46785467e-02,\n",
       "        -2.17446709e-01, -1.25294148e+01,  5.85848298e+00,\n",
       "         3.27196955e-01, -1.37526828e+00,  7.99314469e-01,\n",
       "        -6.61983808e-01,  1.30219023e+01, -7.58805153e+00,\n",
       "        -2.05673511e-01,  1.10569701e+00, -1.30990223e+00,\n",
       "        -3.65753443e-01,  2.90232685e-01, -4.05268489e-01,\n",
       "        -9.84175200e-01,  6.89882379e-01,  9.40255140e-01,\n",
       "         4.25520840e-01, -2.83983157e-03,  3.18915708e-01,\n",
       "        -6.01397405e-01,  8.32733648e-01,  1.42093250e+00],\n",
       "       [-7.50621434e-01, -3.56464824e-01, -1.28828820e+00,\n",
       "         6.73173009e-01,  5.79948389e+00, -1.55699892e+01,\n",
       "         4.44598334e-01,  1.53879630e-01, -1.27112190e+00,\n",
       "        -1.13690641e+00, -7.58805153e+00,  1.97759627e+01,\n",
       "         4.30194876e-01,  1.72100291e+00, -3.30348036e+00,\n",
       "         8.58406452e-03,  1.88493079e-01, -8.58474231e-01,\n",
       "        -7.90883610e-01,  1.10331601e+00,  1.11591555e+00,\n",
       "         6.28707075e-01, -1.15561725e+00,  9.25372570e-01,\n",
       "         4.93154093e-01,  1.33958090e-01,  4.74103066e-01],\n",
       "       [-2.29629323e-01, -7.00018065e-01,  9.25052733e-01,\n",
       "        -5.10473562e+00, -3.69677445e-01, -2.21033107e+00,\n",
       "        -1.07663658e+00, -7.53115985e-01, -1.19951887e+00,\n",
       "         6.49621750e-01, -2.05673511e-01,  4.30194876e-01,\n",
       "         4.31525756e+00,  7.18571200e-01,  1.61084206e+00,\n",
       "        -2.99357138e-03,  1.36896223e-02, -4.40206170e-01,\n",
       "         4.22160773e-01,  2.68926057e-01,  4.73926048e-01,\n",
       "         4.60510855e-01, -4.40286297e-01,  2.83936712e-01,\n",
       "         5.66444152e-01,  1.46758442e+00,  1.26103676e-01],\n",
       "       [-2.73036037e-01, -4.46205877e+00, -2.13489432e+00,\n",
       "        -1.90122941e+00, -1.24516721e+01, -6.55050153e+00,\n",
       "        -2.04508610e+00, -2.63260878e+00, -8.57181188e-01,\n",
       "         3.54932270e-01,  1.10569701e+00,  1.72100291e+00,\n",
       "         7.18571200e-01,  1.37093421e+01,  8.04532885e+00,\n",
       "         6.76659261e-01,  4.23195174e-01,  1.15040415e-01,\n",
       "         7.68948306e-01,  7.37461485e-01, -3.36615137e-01,\n",
       "         7.17860828e-02,  9.44223787e-01, -1.24711966e-01,\n",
       "         1.62845443e+00,  2.62642015e+00,  1.22531964e-01],\n",
       "       [ 4.62198484e-01, -4.67939194e-01, -9.76890936e-01,\n",
       "        -1.24492336e+00, -6.28113655e+00, -1.66804484e+01,\n",
       "         5.58052436e-01,  3.87332654e-01, -1.19643001e+00,\n",
       "        -6.08049041e-01, -1.30990223e+00, -3.30348036e+00,\n",
       "         1.61084206e+00,  8.04532885e+00,  2.05204219e+01,\n",
       "        -3.63878451e-01, -6.88890304e-02, -3.27764234e-01,\n",
       "        -4.53240217e-01,  4.65851006e-01,  8.24887249e-01,\n",
       "         2.74987659e-01, -8.92252640e-01,  4.85545492e-01,\n",
       "        -2.35989572e-01,  1.21607136e-01,  6.54159317e-01],\n",
       "       [-6.25443179e-01, -1.96916594e+00,  2.14947420e-01,\n",
       "        -2.08058550e+00,  9.06676001e-01, -9.84594012e-02,\n",
       "        -1.50798374e+01,  8.60366683e+00,  3.29702077e-01,\n",
       "         1.22940359e-01, -3.65753443e-01,  8.58406452e-03,\n",
       "        -2.99357138e-03,  6.76659261e-01, -3.63878451e-01,\n",
       "         1.70076767e+01, -1.11281956e+01, -1.58797585e-01,\n",
       "        -1.90569471e-01,  9.31691012e-01,  1.68357893e-01,\n",
       "         2.31072446e-02,  1.10607958e+00, -1.48639798e-02,\n",
       "         8.25704757e-01,  1.23834227e+00, -8.55920373e-02],\n",
       "       [-2.99036124e-01, -4.93330360e-02,  4.36550036e-02,\n",
       "        -2.55679752e-01, -1.12904654e-01, -2.99367345e-02,\n",
       "         7.93954336e+00, -9.63420231e+00, -3.33020889e-01,\n",
       "        -2.31364746e-02,  2.90232685e-01,  1.88493079e-01,\n",
       "         1.36896223e-02,  4.23195174e-01, -6.88890304e-02,\n",
       "        -1.11281956e+01,  1.26196641e+01,  4.87706950e-01,\n",
       "         1.84322420e+00, -1.82525284e+00, -4.59856725e-03,\n",
       "         1.79579978e+00, -1.77363825e+00, -1.29840997e-01,\n",
       "         1.13790966e-01,  6.22391442e-02, -1.53568814e-01],\n",
       "       [-3.75883120e-01,  1.06502693e+00,  2.11807370e+00,\n",
       "        -3.24099308e-03, -1.51141164e-01, -7.67109719e-01,\n",
       "        -3.96734667e-01, -9.64667119e-01, -7.22713298e+00,\n",
       "         1.05460544e+00, -4.05268489e-01, -8.58474231e-01,\n",
       "        -4.40206170e-01,  1.15040415e-01, -3.27764234e-01,\n",
       "        -1.58797585e-01,  4.87706950e-01,  8.71619436e+00,\n",
       "        -1.75056162e+00,  2.18919322e+00, -8.75230646e-01,\n",
       "         2.20842312e+00, -1.91709218e+00, -8.31789833e-01,\n",
       "        -1.37604401e-01, -4.18798568e-01,  5.32335846e-02],\n",
       "       [-1.14666995e-01, -3.63511080e-01,  9.48817812e-01,\n",
       "        -6.62173609e-01, -8.82580057e-01,  1.54135581e+00,\n",
       "        -4.37604914e+00,  5.20164614e-01,  1.77689643e+00,\n",
       "         3.04037706e-01, -9.84175200e-01, -7.90883610e-01,\n",
       "         4.22160773e-01,  7.68948306e-01, -4.53240217e-01,\n",
       "        -1.90569471e-01,  1.84322420e+00, -1.75056162e+00,\n",
       "         3.98847152e+00, -1.94958411e+00, -9.71322564e-01,\n",
       "         3.74450933e-01,  5.38055056e-01,  1.80311718e-01,\n",
       "         2.54338281e-01,  5.09458268e-01, -4.81373760e-01],\n",
       "       [ 2.59019461e-02, -1.73577776e+00, -8.97831020e-01,\n",
       "         4.22277624e-01, -1.42349382e+00,  3.45005080e-01,\n",
       "         1.11050973e+00, -1.20159572e+01,  6.88504465e+00,\n",
       "        -1.28857353e+00,  6.89882379e-01,  1.10331601e+00,\n",
       "         2.68926057e-01,  7.37461485e-01,  4.65851006e-01,\n",
       "         9.31691012e-01, -1.82525284e+00,  2.18919322e+00,\n",
       "        -1.94958411e+00,  1.39050697e+01, -9.02517388e+00,\n",
       "         2.52569572e-01,  2.85779287e-01, -1.30746039e+00,\n",
       "         2.26281693e-01,  1.38228878e+00,  2.42055326e-01],\n",
       "       [ 1.54814119e-01, -2.62997909e-01, -7.61723960e-01,\n",
       "         2.99694818e-01,  4.01368739e-01, -1.38943806e+00,\n",
       "         9.30774790e-01,  6.78360912e+00, -1.59171175e+01,\n",
       "        -5.76953911e-01,  9.40255140e-01,  1.11591555e+00,\n",
       "         4.73926048e-01, -3.36615137e-01,  8.24887249e-01,\n",
       "         1.68357893e-01, -4.59856725e-03, -8.75230646e-01,\n",
       "        -9.71322564e-01, -9.02517388e+00,  1.98896423e+01,\n",
       "        -4.09460250e-01,  1.34422832e+00, -3.28683574e+00,\n",
       "        -6.98309436e-02,  1.59924169e-01,  3.99900772e-01],\n",
       "       [-1.49487629e-01, -2.23436936e+00, -7.01598284e-01,\n",
       "        -7.54913418e-01, -6.86579714e-01, -1.85228906e+00,\n",
       "        -4.58990288e+00,  7.35467066e-02, -2.89451547e+00,\n",
       "        -1.64411663e-01,  4.25520840e-01,  6.28707075e-01,\n",
       "         4.60510855e-01,  7.17860828e-02,  2.74987659e-01,\n",
       "         2.31072446e-02,  1.79579978e+00,  2.20842312e+00,\n",
       "         3.74450933e-01,  2.52569572e-01, -4.09460250e-01,\n",
       "         4.18459385e+00, -1.26960732e+00,  2.07084337e+00,\n",
       "         6.16052710e-01,  1.57133342e+00,  6.74901843e-01],\n",
       "       [-8.64297140e-01,  1.49083427e-01,  1.59271007e+00,\n",
       "         1.80105350e-01, -1.54703235e+00, -6.39129192e-01,\n",
       "         2.09621471e-01, -1.13823895e+01, -6.96094396e+00,\n",
       "         2.84359281e-01, -2.83983157e-03, -1.15561725e+00,\n",
       "        -4.40286297e-01,  9.44223787e-01, -8.92252640e-01,\n",
       "         1.10607958e+00, -1.77363825e+00, -1.91709218e+00,\n",
       "         5.38055056e-01,  2.85779287e-01,  1.34422832e+00,\n",
       "        -1.26960732e+00,  1.29410611e+01,  8.78567776e+00,\n",
       "         2.55970016e-01,  3.85752391e-01, -1.57580927e-01],\n",
       "       [ 4.01571181e-02, -1.64288333e+00, -5.00640856e-01,\n",
       "        -7.46747690e-02, -2.71878233e-01, -1.48456200e+00,\n",
       "        -2.07972932e+00, -6.76147526e+00, -1.63650634e+01,\n",
       "        -5.86072971e-01,  3.18915708e-01,  9.25372570e-01,\n",
       "         2.83936712e-01, -1.24711966e-01,  4.85545492e-01,\n",
       "        -1.48639798e-02, -1.29840997e-01, -8.31789833e-01,\n",
       "         1.80311718e-01, -1.30746039e+00, -3.28683574e+00,\n",
       "         2.07084337e+00,  8.78567776e+00,  2.05405496e+01,\n",
       "         1.80092124e-01,  1.13365671e+00,  5.17424217e-01],\n",
       "       [-3.66881005e+00, -3.54477229e+00, -2.44469248e+00,\n",
       "        -5.17872977e-01,  8.49011558e-01,  6.50364951e-01,\n",
       "        -1.69870532e+00, -9.99306894e-01,  7.10721637e-01,\n",
       "         1.86907843e-01, -6.01397405e-01,  4.93154093e-01,\n",
       "         5.66444152e-01,  1.62845443e+00, -2.35989572e-01,\n",
       "         8.25704757e-01,  1.13790966e-01, -1.37604401e-01,\n",
       "         2.54338281e-01,  2.26281693e-01, -6.98309436e-02,\n",
       "         6.16052710e-01,  2.55970016e-01,  1.80092124e-01,\n",
       "         3.43594060e+00,  2.07196792e+00,  8.53784591e-01],\n",
       "       [-7.54537437e-01, -2.02709525e+01, -1.64371230e+01,\n",
       "        -1.95698135e+00, -1.76434420e+00, -2.33911964e+00,\n",
       "        -3.59959657e+00, -1.91228840e+00,  4.34951924e-01,\n",
       "        -5.47570947e-01,  8.32733648e-01,  1.33958090e-01,\n",
       "         1.46758442e+00,  2.62642015e+00,  1.21607136e-01,\n",
       "         1.23834227e+00,  6.22391442e-02, -4.18798568e-01,\n",
       "         5.09458268e-01,  1.38228878e+00,  1.59924169e-01,\n",
       "         1.57133342e+00,  3.85752391e-01,  1.13365671e+00,\n",
       "         2.07196792e+00,  1.86581510e+01,  1.72109432e+01],\n",
       "       [-3.55523900e-01, -1.79208558e+01, -2.60479999e+01,\n",
       "        -1.42728783e+00, -1.27235809e+00, -1.38151451e+00,\n",
       "         5.95077619e-01,  5.07900635e-01, -3.33701364e-01,\n",
       "         9.99098003e-02,  1.42093250e+00,  4.74103066e-01,\n",
       "         1.26103676e-01,  1.22531964e-01,  6.54159317e-01,\n",
       "        -8.55920373e-02, -1.53568814e-01,  5.32335846e-02,\n",
       "        -4.81373760e-01,  2.42055326e-01,  3.99900772e-01,\n",
       "         6.74901843e-01, -1.57580927e-01,  5.17424217e-01,\n",
       "         8.53784591e-01,  1.72109432e+01,  2.56643948e+01]])"
      ]
     },
     "execution_count": 167,
     "metadata": {},
     "output_type": "execute_result"
    }
   ],
   "source": [
    "approx_hessian"
   ]
  },
  {
   "cell_type": "code",
   "execution_count": 168,
   "id": "addd7bef-854a-4b9f-96e9-2aa01b652495",
   "metadata": {
    "tags": []
   },
   "outputs": [
    {
     "data": {
      "image/png": "[encoded data removed]",
      "text/plain": [
       "<Figure size 400x200 with 2 Axes>"
      ]
     },
     "metadata": {},
     "output_type": "display_data"
    }
   ],
   "source": [
    "fig, axs = plt.subplots(1, 2, figsize=(4, 2))\n",
    "\n",
    "for ax, l, h in zip(axs, ['Exact', 'Approximate'], [exact_hess, approx_hessian]):\n",
    "    ax.matshow(h, vmin=-100, vmax=100, cmap='RdBu')\n",
    "\n",
    "    ax.set_xticklabels([])\n",
    "    ax.set_yticklabels([])\n",
    "    \n",
    "    ax.set_title(l, fontsize=10)\n",
    "fig.tight_layout()"
   ]
  },
  {
   "cell_type": "markdown",
   "id": "b516bb4e-d27d-4ad6-ad4b-b873c81670ff",
   "metadata": {},
   "source": [
    "Get the zero point energy"
   ]
  },
  {
   "cell_type": "code",
   "execution_count": 169,
   "id": "abbbbfd6-7d17-4b93-880a-3352903b56c4",
   "metadata": {
    "tags": []
   },
   "outputs": [
    {
     "name": "stdout",
     "output_type": "stream",
     "text": [
      "[-3.89983883e-04 -1.71867556e-04 -7.11394971e-15  5.82848976e-15\n",
      "  1.34448773e-14  7.99332376e-04  8.04244488e-01  1.45362418e+00\n",
      "  2.43120869e+00  3.08677324e+00  4.06079173e+00  5.92410416e+00\n",
      "  7.23141473e+00  1.14192054e+01  1.26521469e+01  1.66491206e+01\n",
      "  1.73611874e+01  1.75412399e+01  1.90691724e+01  2.45390967e+01\n",
      "  4.23310191e+01  5.51917811e+01  5.95863497e+01  6.11185120e+01\n",
      "  6.18334255e+01  6.26709710e+01  8.90542797e+01]\n",
      "[-1.55611349e-02 -4.26253757e-03 -2.19885489e-03 -7.28129306e-04\n",
      " -5.16033228e-04  1.82275255e-04  2.43419510e-01  4.48980314e-01\n",
      "  2.30045175e+00  3.02202121e+00  5.09296039e+00  6.52143862e+00\n",
      "  8.10341616e+00  8.87163034e+00  1.07894181e+01  1.17285537e+01\n",
      "  1.48030541e+01  1.73621694e+01  2.01483364e+01  2.78245586e+01\n",
      "  5.03103274e+01  6.65487612e+01  7.56938035e+01  7.85362795e+01\n",
      "  8.40871890e+01  8.81908576e+01  1.12628340e+02]\n",
      "[0.00000000e+00+42.52946942j 0.00000000e+00+23.69312092j\n",
      " 0.00000000e+00+11.70107322j 0.00000000e+00 +6.20558433j\n",
      " 0.00000000e+00 +5.48588273j 3.05313884e+00 +0.j\n",
      " 2.40827866e+02 +0.j         2.76991090e+02 +0.j\n",
      " 4.27569983e+02 +0.j         8.07573462e+02 +0.j\n",
      " 9.00310641e+02 +0.j         1.06891110e+03 +0.j\n",
      " 1.10316712e+03 +0.j         1.15052529e+03 +0.j\n",
      " 1.28753031e+03 +0.j         1.38394554e+03 +0.j\n",
      " 1.40767226e+03 +0.j         1.43424390e+03 +0.j\n",
      " 1.49002436e+03 +0.j         1.50277290e+03 +0.j\n",
      " 1.52405972e+03 +0.j         3.00868959e+03 +0.j\n",
      " 3.04065374e+03 +0.j         3.09278343e+03 +0.j\n",
      " 3.11684372e+03 +0.j         3.13183922e+03 +0.j\n",
      " 3.90159261e+03 +0.j        ]\n",
      "[0.00000000e+00+5.99219247e+00j 0.00000000e+00+4.35040394e+00j\n",
      " 0.00000000e+00+3.91695895e-05j 1.54810198e-05+0.00000000e+00j\n",
      " 2.10022159e-05+0.00000000e+00j 8.53812609e+00+0.00000000e+00j\n",
      " 2.70106221e+02+0.00000000e+00j 5.77376507e+02+0.00000000e+00j\n",
      " 7.43528352e+02+0.00000000e+00j 7.68657930e+02+0.00000000e+00j\n",
      " 8.30388935e+02+0.00000000e+00j 9.29450687e+02+0.00000000e+00j\n",
      " 9.60579407e+02+0.00000000e+00j 9.83613082e+02+0.00000000e+00j\n",
      " 1.10775442e+03+0.00000000e+00j 1.29818394e+03+0.00000000e+00j\n",
      " 1.41282891e+03+0.00000000e+00j 1.59376074e+03+0.00000000e+00j\n",
      " 1.74254927e+03+0.00000000e+00j 1.79964717e+03+0.00000000e+00j\n",
      " 1.88589962e+03+0.00000000e+00j 2.66032284e+03+0.00000000e+00j\n",
      " 2.72018606e+03+0.00000000e+00j 2.74115581e+03+0.00000000e+00j\n",
      " 2.74538618e+03+0.00000000e+00j 2.79871506e+03+0.00000000e+00j\n",
      " 3.41487724e+03+0.00000000e+00j]\n"
     ]
    }
   ],
   "source": [
    "approx_vibs = VibrationsData.from_2d(data[0], approx_hessian)\n",
    "print(np.linalg.eigh(approx_hessian)[0])\n",
    "print(np.linalg.eigh(exact_hess)[0])\n",
    "print(exact_freqs)\n",
    "print(approx_vibs.get_frequencies())"
   ]
  },
  {
   "cell_type": "code",
   "execution_count": 170,
   "id": "fdd80af3-8c18-40d8-b971-4a473bc91498",
   "metadata": {},
   "outputs": [
    {
     "data": {
      "text/plain": [
       "2.107328812193435"
      ]
     },
     "execution_count": 170,
     "metadata": {},
     "output_type": "execute_result"
    }
   ],
   "source": [
    "approx_vibs.get_zero_point_energy()"
   ]
  },
  {
   "cell_type": "code",
   "execution_count": 171,
   "id": "6b1af348-4bc9-4ced-9a12-44b3e49abe9c",
   "metadata": {
    "tags": []
   },
   "outputs": [
    {
     "data": {
      "text/plain": [
       "2.1884190925383207"
      ]
     },
     "execution_count": 171,
     "metadata": {},
     "output_type": "execute_result"
    }
   ],
   "source": [
    "exact_zpe"
   ]
  },
  {
   "cell_type": "markdown",
   "id": "ab6a6645-bf0e-4ed7-874e-6a345063e0b5",
   "metadata": {},
   "source": [
    "The two differ, but I'm not sure how important the difference is."
   ]
  },
  {
   "cell_type": "code",
   "execution_count": 172,
   "id": "b2ad9116",
   "metadata": {},
   "outputs": [],
   "source": [
    "freq_diff = [app_freq.real-ex_freq.real for app_freq, ex_freq in zip(approx_vibs.get_frequencies(), exact_freqs)]"
   ]
  },
  {
   "cell_type": "code",
   "execution_count": 173,
   "id": "b70a0581",
   "metadata": {
    "scrolled": true
   },
   "outputs": [
    {
     "name": "stderr",
     "output_type": "stream",
     "text": [
      "/lcrc/project/PACC/conda/elliott/miniconda3/envs/jitterbug/lib/python3.10/site-packages/matplotlib/cbook/__init__.py:1335: ComplexWarning: Casting complex values to real discards the imaginary part\n",
      "  return np.asarray(x, float)\n"
     ]
    },
    {
     "data": {
      "image/png": "[encoded data removed]",
      "text/plain": [
       "<Figure size 350x200 with 1 Axes>"
      ]
     },
     "metadata": {},
     "output_type": "display_data"
    }
   ],
   "source": [
    "fig, ax = plt.subplots(figsize=(3.5, 2))\n",
    "\n",
    "ax.plot(exact_freqs, freq_diff)\n",
    "\n",
    "ax.set_xlabel('Exact frequency')\n",
    "ax.set_ylabel('Frequency difference (cm-1)')\n",
    "\n",
    "fig.tight_layout()"
   ]
  },
  {
   "cell_type": "markdown",
   "id": "6489882c-acaf-4a07-bbe9-d643f7c5c882",
   "metadata": {},
   "source": [
    "## Plot as a Function of Data\n",
    "See what happens as we add more data to the training"
   ]
  },
  {
   "cell_type": "code",
   "execution_count": 174,
   "id": "bce41a81-6c88-4b0c-9d8d-0891d1832fd6",
   "metadata": {
    "tags": []
   },
   "outputs": [
    {
     "name": "stdout",
     "output_type": "stream",
     "text": [
      "Plotting at 39 steps: 5, 15, 25, 35, 45, ...\n"
     ]
    }
   ],
   "source": [
    "interval = 10\n",
    "steps = np.linspace(5, len(data), int(len(data)/interval), dtype=int)\n",
    "print(f'Plotting at {len(steps)} steps: {\", \".join(map(str, steps[:5]))}, ...')"
   ]
  },
  {
   "cell_type": "code",
   "execution_count": 175,
   "id": "fe39ce86-1806-4367-8c86-e3ef58f81f84",
   "metadata": {
    "tags": []
   },
   "outputs": [
    {
     "name": "stdout",
     "output_type": "stream",
     "text": [
      "Plotting at 19 steps: 50, 69, 88, 107, 126, ...\n"
     ]
    },
    {
     "name": "stderr",
     "output_type": "stream",
     "text": [
      "100%|██████████████████████████████████████████████████████████████████████████████████████████████████████████████████████████████████████████████████████████████████████████████████████████████████████████████████| 19/19 [00:32<00:00,  1.69s/it]\n"
     ]
    }
   ],
   "source": [
    "all_zpes = []\n",
    "all_freqs = []\n",
    "all_freq_diffs = []\n",
    "all_steps = []\n",
    "\n",
    "step_sizes = [0.005]\n",
    "step_sizes = [0.002, 0.004, .0045, 0.005, 0.0055, .0056, .0057, 0.006, .008, 0.01, .04]\n",
    "step_sizes = [.002, 0.0045, 0.005, 0.01]\n",
    "step_sizes = [0.005]\n",
    "interval = 20\n",
    "#for step_size in [0.005]:\n",
    "#for step_size in [0.002, 0.004, .0045, 0.005, 0.0055, .0056, .0057, 0.006, .008, 0.01, .04]:\n",
    "for step_size in step_sizes:\n",
    "    zpes = []\n",
    "    freqs = []\n",
    "    freq_diffs = []\n",
    "    db_path = out_dir / f'{run_name}-random-d={step_size:.2e}.db'\n",
    "    with connect(db_path) as db:\n",
    "        data = [a.toatoms() for a in db.select('')]\n",
    "    steps = np.linspace(50, len(data), int(len(data)/interval), dtype=int)\n",
    "    print(f'Plotting at {len(steps)} steps: {\", \".join(map(str, steps[:5]))}, ...')\n",
    "    for count in tqdm(steps):\n",
    "        with warnings.catch_warnings():\n",
    "            warnings.simplefilter(\"ignore\")\n",
    "            hess_model = model.train(data[:count])\n",
    "            approx_hessian = model.mean_hessian(hess_model, data[0])\n",
    "            approx_vibs = VibrationsData.from_2d(data[0], approx_hessian)\n",
    "            zpes.append(approx_vibs.get_zero_point_energy()*23.060541945329334)\n",
    "            freqs.append(approx_vibs.get_frequencies())\n",
    "            freq_diffs.append([app_freq.real-ex_freq.real for app_freq, ex_freq in zip(approx_vibs.get_frequencies(), exact_freqs)])\n",
    "    all_zpes.append(zpes)\n",
    "    all_freqs.append(freqs)\n",
    "    all_freq_diffs.append(freq_diffs)\n",
    "    all_steps.append(steps)"
   ]
  },
  {
   "cell_type": "markdown",
   "id": "c179c3ae-695f-44ad-b548-10002c4ff30b",
   "metadata": {},
   "source": [
    "Plot it"
   ]
  },
  {
   "cell_type": "code",
   "execution_count": 176,
   "id": "1c6706a9-a27f-448f-81d4-957939bb2ca8",
   "metadata": {
    "tags": []
   },
   "outputs": [
    {
     "data": {
      "image/png": "[encoded data removed]",
      "text/plain": [
       "<Figure size 800x300 with 1 Axes>"
      ]
     },
     "metadata": {},
     "output_type": "display_data"
    }
   ],
   "source": [
    "import matplotlib.pylab as pl\n",
    "max_steps = 0  \n",
    "fig, ax = plt.subplots(figsize=(8, 3))\n",
    "for zpes, sizes, steps in zip(all_zpes, step_sizes, all_steps):\n",
    "   \n",
    "    if steps[-1] > max_steps:\n",
    "        max_steps = steps[-1]\n",
    "    ax.plot(steps, zpes, label='stepsize: {:.2e}'.format(sizes))\n",
    "\n",
    "ax.set_xlim([0, 3000])\n",
    "ax.plot(ax.get_xlim(), [exact_zpe*23.060541945329334]*2, 'k--')\n",
    "plt.axvline(x=to_compute)\n",
    "ax.set_ylim([0,exact_zpe*23.060541945329334*2])\n",
    "ax.set_xlabel('Energies')\n",
    "ax.set_ylabel('ZPE (kcal/mol)')\n",
    "ax.legend()\n",
    "fig.tight_layout()\n"
   ]
  },
  {
   "cell_type": "markdown",
   "id": "e8788f74-c208-4939-aa9b-3bbdfd8310ee",
   "metadata": {},
   "source": [
    "We consistently underestimate the ZPE. Is it because we have too few oscillators?"
   ]
  },
  {
   "cell_type": "code",
   "execution_count": 177,
   "id": "384af4b3-5eb3-4eac-b176-160f19944853",
   "metadata": {},
   "outputs": [
    {
     "name": "stderr",
     "output_type": "stream",
     "text": [
      "/lcrc/project/PACC/conda/elliott/miniconda3/envs/jitterbug/lib/python3.10/site-packages/matplotlib/collections.py:192: ComplexWarning: Casting complex values to real discards the imaginary part\n",
      "  offsets = np.asanyarray(offsets, float)\n"
     ]
    },
    {
     "data": {
      "image/png": "[encoded data removed]",
      "text/plain": [
       "<Figure size 800x400 with 2 Axes>"
      ]
     },
     "metadata": {},
     "output_type": "display_data"
    }
   ],
   "source": [
    "import matplotlib.pylab as pl\n",
    "import matplotlib\n",
    "for freq_diffs, sizes, steps in zip(all_freq_diffs, step_sizes, all_steps):\n",
    "    start=0\n",
    "    end=200\n",
    "    fig, axs = plt.subplots(1, 2, figsize=(8, 4), gridspec_kw={'width_ratios': [20, 1]})\n",
    "    colors = pl.cm.jet(np.linspace(0,1,len(freq_diffs[start:end])))\n",
    "\n",
    "    for i, freq_diff in enumerate(freq_diffs[start:end]):\n",
    "        plot = axs[0].scatter(exact_freqs, freq_diff, color=colors[i], marker='o', facecolor='none') \n",
    "    axs[0].set_xlabel('Exact frequency')\n",
    "    axs[0].set_ylabel('Frequency difference (cm-1)')\n",
    "    axs[0].set_title('Step size: {:.2e}'.format(sizes))\n",
    "    cmap = matplotlib.cm.jet\n",
    "    norm = matplotlib.colors.Normalize(vmin=steps[start], vmax=steps[i])\n",
    "\n",
    "    cb1 = matplotlib.colorbar.ColorbarBase(axs[1], cmap=cmap,\n",
    "                                norm=norm,\n",
    "                                orientation='vertical')\n",
    "    cb1.set_label('number of energies', rotation=270)\n",
    "    fig.tight_layout()\n"
   ]
  },
  {
   "cell_type": "code",
   "execution_count": 178,
   "id": "6cee624f",
   "metadata": {},
   "outputs": [
    {
     "name": "stdout",
     "output_type": "stream",
     "text": [
      "Step sizes 0.005\n",
      "Max Deviation (cm-1) 361.83485295182095\n",
      "Mean Absolute Deviation (cm-1) 176.36908124015793\n",
      "Mean Deviation (cm-1) -48.42908414826238\n"
     ]
    },
    {
     "data": {
      "image/png": "[encoded data removed]",
      "text/plain": [
       "<Figure size 1000x500 with 1 Axes>"
      ]
     },
     "metadata": {},
     "output_type": "display_data"
    }
   ],
   "source": [
    "    for freq_diffs, sizes, steps in zip(all_freq_diffs, step_sizes, all_steps):\n",
    "        fig, ax = plt.subplots(figsize=(10, 5))\n",
    "\n",
    "        ax.boxplot(freq_diffs)\n",
    "        for i, val in enumerate(steps):\n",
    "            if val > to_compute:\n",
    "                break\n",
    "        plt.axvline(x=i+1)\n",
    "        fig.tight_layout()\n",
    "        ax.set_xticklabels(steps)\n",
    "        ax.set_xlabel('Number of energies')\n",
    "        ax.set_ylabel('Frequency difference (cm-1)')\n",
    "        print(\"Step sizes\", sizes)\n",
    "        print(\"Max Deviation (cm-1)\", max(freq_diffs[-1]))\n",
    "        print(\"Mean Absolute Deviation (cm-1)\", sum([abs(freq) for freq in freq_diffs[-1]])/len(freq_diffs[-1]))\n",
    "        print(\"Mean Deviation (cm-1)\", sum(freq_diffs[-1])/len(freq_diffs[-1]))"
   ]
  },
  {
   "cell_type": "code",
   "execution_count": null,
   "id": "c64ae17b",
   "metadata": {},
   "outputs": [],
   "source": []
  }
 ],
 "metadata": {
  "kernelspec": {
   "display_name": "Python 3 (ipykernel)",
   "language": "python",
   "name": "python3"
  },
  "language_info": {
   "codemirror_mode": {
    "name": "ipython",
    "version": 3
   },
   "file_extension": ".py",
   "mimetype": "text/x-python",
   "name": "python",
   "nbconvert_exporter": "python",
   "pygments_lexer": "ipython3",
   "version": "3.10.12"
  }
 },
 "nbformat": 4,
 "nbformat_minor": 5
}
