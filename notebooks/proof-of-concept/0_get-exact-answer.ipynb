{
 "cells": [
  {
   "cell_type": "markdown",
   "id": "4bdf2dd5-2160-4343-97c8-c140b028bc6f",
   "metadata": {},
   "source": [
    "# Get the Exact Answer\n",
    "Start off by computing the exact Hessian to use a reference point. \n",
    "First relax the structure then compute the Hessians using [ase's Vibrations module](https://databases.fysik.dtu.dk/ase/ase/vibrations/modes.html), which will compute them numerically using central derivatives"
   ]
  },
  {
   "cell_type": "code",
   "execution_count": 1,
   "id": "06732ce7-a249-448d-8b77-bd7974f83c59",
   "metadata": {
    "tags": []
   },
   "outputs": [],
   "source": [
    "from ase.thermochemistry import IdealGasThermo\n",
    "from ase.vibrations import VibrationsData, Vibrations\n",
    "from ase.calculators.psi4 import Psi4\n",
    "from ase.optimize import QuasiNewton\n",
    "from ase.io import write\n",
    "from ase import Atoms\n",
    "from pathlib import Path\n",
    "import numpy as np\n",
    "import shutil\n",
    "import json\n",
    "import os"
   ]
  },
  {
   "cell_type": "markdown",
   "id": "70e35fde-8d07-46e2-86e7-642a201a8c4a",
   "metadata": {},
   "source": [
    "Configuration"
   ]
  },
  {
   "cell_type": "code",
   "execution_count": 2,
   "id": "1abbc967-a788-4a2d-8342-6a88c75cebec",
   "metadata": {
    "tags": [
     "parameters"
    ]
   },
   "outputs": [],
   "source": [
    "molecule_name = 'caffeine'\n",
    "method = 'hf'\n",
    "basis = 'def2-svpd'\n",
    "threads = min(os.cpu_count(), 12)"
   ]
  },
  {
   "cell_type": "markdown",
   "id": "748e04a6-dd84-4142-aa0d-7bd543346d79",
   "metadata": {},
   "source": [
    "Derived"
   ]
  },
  {
   "cell_type": "code",
   "execution_count": 3,
   "id": "aeebbc77-70e4-4709-90a0-b9aaf54d4cd9",
   "metadata": {},
   "outputs": [],
   "source": [
    "run_name = f'{molecule_name}_{method}_{basis}'"
   ]
  },
  {
   "cell_type": "markdown",
   "id": "026bbc46-d5e6-4b67-a9a4-aa0cd86f9ad2",
   "metadata": {},
   "source": [
    "## Load in Target Molecule\n",
    "We have it in a JSON file from PubChem"
   ]
  },
  {
   "cell_type": "code",
   "execution_count": 4,
   "id": "d52bd814-a353-467f-99a6-02201a64416e",
   "metadata": {
    "tags": []
   },
   "outputs": [],
   "source": [
    "def load_molecule(name: str) -> Atoms:\n",
    "    \"\"\"Load a molecule from a PubChem JSON file\n",
    "    \n",
    "    Args:\n",
    "        name: Name of the molecule\n",
    "    Returns:\n",
    "        ASE Atoms object\n",
    "    \"\"\"\n",
    "    \n",
    "    # Get the compound data\n",
    "    with open(f'data/structures/{name}.json') as fp:\n",
    "        data = json.load(fp)\n",
    "    data = data['PC_Compounds'][0]\n",
    "        \n",
    "    # Extract data from the JSON\n",
    "    atomic_numbers = data['atoms']['element']\n",
    "    positions = np.zeros((len(atomic_numbers), 3))\n",
    "    conf_data = data['coords'][0]['conformers'][0]\n",
    "    for i, c in enumerate('xyz'):\n",
    "        if c in conf_data:\n",
    "            positions[:, i] = conf_data[c]\n",
    "        \n",
    "    # Build the object    \n",
    "    return Atoms(numbers=atomic_numbers, positions=positions)"
   ]
  },
  {
   "cell_type": "code",
   "execution_count": 5,
   "id": "02010c51-39a9-42e6-a4c8-f03d447267ff",
   "metadata": {
    "tags": []
   },
   "outputs": [],
   "source": [
    "atoms = load_molecule(molecule_name)"
   ]
  },
  {
   "cell_type": "markdown",
   "id": "9a42b230-c0c2-4512-9afb-57cea203c96e",
   "metadata": {},
   "source": [
    "## Perform the Geometry Optimization\n",
    "Build the ASE calculator then run QuasiNewton to a high tolerance"
   ]
  },
  {
   "cell_type": "code",
   "execution_count": 6,
   "id": "7073bdd7-9ee6-45bf-a401-93cfe122413a",
   "metadata": {
    "tags": []
   },
   "outputs": [
    {
     "name": "stdout",
     "output_type": "stream",
     "text": [
      "\n",
      "  Memory set to   3.815 GiB by Python driver.\n",
      "  Threads set to 12 by Python driver.\n"
     ]
    }
   ],
   "source": [
    "calc = Psi4(method=method, basis=basis, num_threads=threads, memory='4096MB')"
   ]
  },
  {
   "cell_type": "code",
   "execution_count": 7,
   "id": "ef903a43-5d6c-47fb-a500-837599c95f91",
   "metadata": {},
   "outputs": [
    {
     "name": "stdout",
     "output_type": "stream",
     "text": [
      "\n",
      "  Memory set to   3.815 GiB by Python driver.\n",
      "  Threads set to 12 by Python driver.\n",
      "                Step[ FC]     Time          Energy          fmax\n",
      "BFGSLineSearch:    0[  0] 08:51:24   -18390.794139        4.1661\n",
      "BFGSLineSearch:    1[  2] 08:51:57   -18391.020663        1.9419\n",
      "BFGSLineSearch:    2[  4] 08:52:30   -18391.134457        1.3043\n",
      "BFGSLineSearch:    3[  6] 08:53:02   -18391.190767        1.0587\n",
      "BFGSLineSearch:    4[  8] 08:53:36   -18391.215384        0.5745\n",
      "BFGSLineSearch:    5[ 10] 08:54:08   -18391.226242        0.3910\n",
      "BFGSLineSearch:    6[ 12] 08:54:41   -18391.233269        0.3498\n",
      "BFGSLineSearch:    7[ 14] 08:55:13   -18391.239126        0.2510\n",
      "BFGSLineSearch:    8[ 16] 08:55:46   -18391.244272        0.2339\n",
      "BFGSLineSearch:    9[ 18] 08:56:18   -18391.247255        0.1999\n",
      "BFGSLineSearch:   10[ 20] 08:56:51   -18391.249084        0.1266\n",
      "BFGSLineSearch:   11[ 22] 08:57:23   -18391.249937        0.1217\n",
      "BFGSLineSearch:   12[ 24] 08:57:55   -18391.251073        0.1063\n",
      "BFGSLineSearch:   13[ 26] 08:58:28   -18391.251901        0.1094\n",
      "BFGSLineSearch:   14[ 28] 08:59:00   -18391.252777        0.0840\n",
      "BFGSLineSearch:   15[ 30] 08:59:33   -18391.253606        0.1188\n",
      "BFGSLineSearch:   16[ 32] 09:00:05   -18391.254855        0.0857\n",
      "BFGSLineSearch:   17[ 34] 09:00:37   -18391.255317        0.0744\n",
      "BFGSLineSearch:   18[ 36] 09:01:10   -18391.256052        0.0942\n",
      "BFGSLineSearch:   19[ 38] 09:01:42   -18391.256326        0.0433\n",
      "BFGSLineSearch:   20[ 40] 09:02:15   -18391.256438        0.0386\n",
      "BFGSLineSearch:   21[ 42] 09:02:47   -18391.256503        0.0241\n",
      "BFGSLineSearch:   22[ 44] 09:03:20   -18391.256571        0.0299\n",
      "BFGSLineSearch:   23[ 46] 09:03:52   -18391.256651        0.0230\n",
      "BFGSLineSearch:   24[ 48] 09:04:25   -18391.256701        0.0239\n",
      "BFGSLineSearch:   25[ 50] 09:04:57   -18391.256791        0.0239\n",
      "BFGSLineSearch:   26[ 52] 09:05:30   -18391.256819        0.0185\n",
      "BFGSLineSearch:   27[ 54] 09:06:02   -18391.256859        0.0088\n",
      "CPU times: user 2h 39min 5s, sys: 5min 17s, total: 2h 44min 23s\n",
      "Wall time: 14min 55s\n"
     ]
    },
    {
     "data": {
      "text/plain": [
       "True"
      ]
     },
     "execution_count": 7,
     "metadata": {},
     "output_type": "execute_result"
    }
   ],
   "source": [
    "%%time\n",
    "atoms.calc = calc\n",
    "dyn = QuasiNewton(atoms)\n",
    "dyn.run(fmax=0.01)"
   ]
  },
  {
   "cell_type": "markdown",
   "id": "bce1a800-943a-4627-b383-eff82e43a456",
   "metadata": {},
   "source": [
    "Save the output file"
   ]
  },
  {
   "cell_type": "code",
   "execution_count": 8,
   "id": "a695054d-a768-466e-9771-54395a3c2b81",
   "metadata": {
    "tags": []
   },
   "outputs": [],
   "source": [
    "out_dir = Path('data') / 'exact'\n",
    "out_dir.mkdir(exist_ok=True)"
   ]
  },
  {
   "cell_type": "code",
   "execution_count": 9,
   "id": "16317d90-cb1d-4347-9eca-4ba3123bdf4b",
   "metadata": {
    "tags": []
   },
   "outputs": [],
   "source": [
    "write(out_dir / f'{run_name}.xyz', atoms)"
   ]
  },
  {
   "cell_type": "markdown",
   "id": "da5b9bdc-a0b1-4c0e-b2d9-42f79dfbac6a",
   "metadata": {},
   "source": [
    "## Compute the Hessian\n",
    "Use Psi4's analytic gradients to get a runtime, but ASE's for the actual value"
   ]
  },
  {
   "cell_type": "code",
   "execution_count": 10,
   "id": "857e38e3-8b92-4246-8469-5ce6f381d56b",
   "metadata": {
    "tags": []
   },
   "outputs": [],
   "source": [
    "if Path('vib').is_dir():\n",
    "    shutil.rmtree('vib')"
   ]
  },
  {
   "cell_type": "code",
   "execution_count": 11,
   "id": "73b9b8bb-1d32-4e29-9380-95002bb1081e",
   "metadata": {
    "tags": []
   },
   "outputs": [
    {
     "name": "stdout",
     "output_type": "stream",
     "text": [
      "CPU times: user 4h 21min 47s, sys: 8min 58s, total: 4h 30min 46s\n",
      "Wall time: 24min 47s\n"
     ]
    }
   ],
   "source": [
    "%%time\n",
    "vib = Vibrations(atoms)\n",
    "vib.run()"
   ]
  },
  {
   "cell_type": "markdown",
   "id": "497a7013-9ac6-484f-a5e3-d19e11224f4a",
   "metadata": {},
   "source": [
    "Save the vibration data"
   ]
  },
  {
   "cell_type": "code",
   "execution_count": 12,
   "id": "588b0344-ad43-4a6b-b57b-03782327f1e7",
   "metadata": {
    "tags": []
   },
   "outputs": [],
   "source": [
    "vib_data = vib.get_vibrations()\n",
    "with (out_dir / f'{run_name}.json').open('w') as fp:\n",
    "    vib_data.write(fp)"
   ]
  },
  {
   "cell_type": "code",
   "execution_count": null,
   "id": "ea6305bc-7fc7-4462-bf88-ecd78e23d8d0",
   "metadata": {},
   "outputs": [],
   "source": []
  }
 ],
 "metadata": {
  "kernelspec": {
   "display_name": "Python 3 (ipykernel)",
   "language": "python",
   "name": "python3"
  },
  "language_info": {
   "codemirror_mode": {
    "name": "ipython",
    "version": 3
   },
   "file_extension": ".py",
   "mimetype": "text/x-python",
   "name": "python",
   "nbconvert_exporter": "python",
   "pygments_lexer": "ipython3",
   "version": "3.10.12"
  }
 },
 "nbformat": 4,
 "nbformat_minor": 5
}
