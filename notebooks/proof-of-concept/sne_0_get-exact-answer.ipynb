{
 "cells": [
  {
   "cell_type": "markdown",
   "id": "4bdf2dd5-2160-4343-97c8-c140b028bc6f",
   "metadata": {},
   "source": [
    "# Get the Exact Answer\n",
    "Start off by computing the exact Hessian to use a reference point. \n",
    "First relax the structure then compute the Hessians using [ase's Vibrations module](https://databases.fysik.dtu.dk/ase/ase/vibrations/modes.html), which will compute them numerically using central derivatives"
   ]
  },
  {
   "cell_type": "code",
   "execution_count": 1,
   "id": "06732ce7-a249-448d-8b77-bd7974f83c59",
   "metadata": {
    "tags": []
   },
   "outputs": [],
   "source": [
    "from ase.thermochemistry import IdealGasThermo\n",
    "from ase.vibrations import VibrationsData, Vibrations\n",
    "from ase.calculators.psi4 import Psi4\n",
    "from ase.optimize import QuasiNewton\n",
    "from ase import Atoms, units\n",
    "from ase.io import write\n",
    "from time import perf_counter\n",
    "from platform import node\n",
    "from pathlib import Path\n",
    "import numpy as np\n",
    "import shutil\n",
    "import json\n",
    "import os"
   ]
  },
  {
   "cell_type": "markdown",
   "id": "70e35fde-8d07-46e2-86e7-642a201a8c4a",
   "metadata": {},
   "source": [
    "Configuration"
   ]
  },
  {
   "cell_type": "code",
   "execution_count": 32,
   "id": "1abbc967-a788-4a2d-8342-6a88c75cebec",
   "metadata": {
    "tags": [
     "parameters"
    ]
   },
   "outputs": [],
   "source": [
    "molecule_name = 'ethanol'\n",
    "method = 'wb97x-d'\n",
    "basis = 'cc-pvtz'\n",
    "threads = min(os.cpu_count(), 12)"
   ]
  },
  {
   "cell_type": "markdown",
   "id": "748e04a6-dd84-4142-aa0d-7bd543346d79",
   "metadata": {},
   "source": [
    "Derived"
   ]
  },
  {
   "cell_type": "code",
   "execution_count": 33,
   "id": "aeebbc77-70e4-4709-90a0-b9aaf54d4cd9",
   "metadata": {},
   "outputs": [],
   "source": [
    "run_name = f'{molecule_name}_{method}_{basis}'"
   ]
  },
  {
   "cell_type": "markdown",
   "id": "026bbc46-d5e6-4b67-a9a4-aa0cd86f9ad2",
   "metadata": {},
   "source": [
    "## Load in Target Molecule\n",
    "We have it in a JSON file from PubChem"
   ]
  },
  {
   "cell_type": "code",
   "execution_count": 34,
   "id": "d52bd814-a353-467f-99a6-02201a64416e",
   "metadata": {
    "tags": []
   },
   "outputs": [],
   "source": [
    "def load_molecule(name: str) -> Atoms:\n",
    "    \"\"\"Load a molecule from a PubChem JSON file\n",
    "    \n",
    "    Args:\n",
    "        name: Name of the molecule\n",
    "    Returns:\n",
    "        ASE Atoms object\n",
    "    \"\"\"\n",
    "    \n",
    "    # Get the compound data\n",
    "    with open(f'data/structures/{name}.json') as fp:\n",
    "        data = json.load(fp)\n",
    "    data = data['PC_Compounds'][0]\n",
    "        \n",
    "    # Extract data from the JSON\n",
    "    atomic_numbers = data['atoms']['element']\n",
    "    positions = np.zeros((len(atomic_numbers), 3))\n",
    "    conf_data = data['coords'][0]['conformers'][0]\n",
    "    for i, c in enumerate('xyz'):\n",
    "        if c in conf_data:\n",
    "            positions[:, i] = conf_data[c]\n",
    "        \n",
    "    # Build the object    \n",
    "    return Atoms(numbers=atomic_numbers, positions=positions)"
   ]
  },
  {
   "cell_type": "code",
   "execution_count": 35,
   "id": "02010c51-39a9-42e6-a4c8-f03d447267ff",
   "metadata": {
    "tags": []
   },
   "outputs": [],
   "source": [
    "atoms = load_molecule(molecule_name)"
   ]
  },
  {
   "cell_type": "markdown",
   "id": "9a42b230-c0c2-4512-9afb-57cea203c96e",
   "metadata": {},
   "source": [
    "## Perform the Geometry Optimization\n",
    "Build the ASE calculator then run QuasiNewton to a high tolerance"
   ]
  },
  {
   "cell_type": "code",
   "execution_count": 36,
   "id": "7073bdd7-9ee6-45bf-a401-93cfe122413a",
   "metadata": {
    "tags": []
   },
   "outputs": [],
   "source": [
    "calc = Psi4(method=method, basis=basis, num_threads=threads, memory='4096MB')"
   ]
  },
  {
   "cell_type": "code",
   "execution_count": 37,
   "id": "ef903a43-5d6c-47fb-a500-837599c95f91",
   "metadata": {},
   "outputs": [
    {
     "name": "stdout",
     "output_type": "stream",
     "text": [
      "                Step[ FC]     Time          Energy          fmax\n",
      "BFGSLineSearch:    0[  0] 14:30:14    -4219.144408        0.7930\n",
      "BFGSLineSearch:    1[  2] 14:30:31    -4219.158073        0.5048\n",
      "BFGSLineSearch:    2[  4] 14:30:49    -4219.168016        0.3333\n",
      "BFGSLineSearch:    3[  6] 14:31:07    -4219.173063        0.1898\n",
      "BFGSLineSearch:    4[  8] 14:31:24    -4219.176127        0.2506\n",
      "BFGSLineSearch:    5[ 10] 14:31:42    -4219.180164        0.1618\n",
      "BFGSLineSearch:    6[ 12] 14:31:59    -4219.181108        0.0880\n",
      "BFGSLineSearch:    7[ 14] 14:32:16    -4219.181824        0.1177\n",
      "BFGSLineSearch:    8[ 16] 14:32:33    -4219.182404        0.0521\n",
      "BFGSLineSearch:    9[ 17] 14:32:42    -4219.182678        0.0919\n",
      "BFGSLineSearch:   10[ 19] 14:32:59    -4219.182811        0.0259\n",
      "BFGSLineSearch:   11[ 20] 14:33:08    -4219.182914        0.0207\n",
      "BFGSLineSearch:   12[ 22] 14:33:26    -4219.182940        0.0211\n",
      "BFGSLineSearch:   13[ 24] 14:33:43    -4219.182970        0.0185\n",
      "BFGSLineSearch:   14[ 25] 14:33:52    -4219.183027        0.0181\n",
      "BFGSLineSearch:   15[ 28] 14:34:18    -4219.183230        0.0440\n",
      "BFGSLineSearch:   16[ 29] 14:34:27    -4219.183314        0.0179\n",
      "BFGSLineSearch:   17[ 30] 14:34:35    -4219.183355        0.0054\n",
      "CPU times: user 47min 18s, sys: 1min 28s, total: 48min 47s\n",
      "Wall time: 4min 32s\n"
     ]
    },
    {
     "data": {
      "text/plain": [
       "True"
      ]
     },
     "execution_count": 37,
     "metadata": {},
     "output_type": "execute_result"
    }
   ],
   "source": [
    "%%time\n",
    "atoms.calc = calc\n",
    "dyn = QuasiNewton(atoms)\n",
    "dyn.run(fmax=0.01)"
   ]
  },
  {
   "cell_type": "markdown",
   "id": "bce1a800-943a-4627-b383-eff82e43a456",
   "metadata": {},
   "source": [
    "Save the output file"
   ]
  },
  {
   "cell_type": "code",
   "execution_count": 38,
   "id": "a695054d-a768-466e-9771-54395a3c2b81",
   "metadata": {
    "tags": []
   },
   "outputs": [],
   "source": [
    "out_dir = Path('data') / 'exact'\n",
    "out_dir.mkdir(exist_ok=True)"
   ]
  },
  {
   "cell_type": "code",
   "execution_count": 39,
   "id": "16317d90-cb1d-4347-9eca-4ba3123bdf4b",
   "metadata": {
    "tags": []
   },
   "outputs": [],
   "source": [
    "write(out_dir / f'{run_name}.xyz', atoms)"
   ]
  },
  {
   "cell_type": "markdown",
   "id": "da5b9bdc-a0b1-4c0e-b2d9-42f79dfbac6a",
   "metadata": {},
   "source": [
    "## Compute the Hessian using ASE\n",
    "ASE has a built-in method which uses finite displacements"
   ]
  },
  {
   "cell_type": "code",
   "execution_count": 40,
   "id": "857e38e3-8b92-4246-8469-5ce6f381d56b",
   "metadata": {
    "tags": []
   },
   "outputs": [],
   "source": [
    "if Path('vib').is_dir():\n",
    "    shutil.rmtree('vib')"
   ]
  },
  {
   "cell_type": "code",
   "execution_count": 41,
   "id": "73b9b8bb-1d32-4e29-9380-95002bb1081e",
   "metadata": {
    "tags": []
   },
   "outputs": [
    {
     "name": "stdout",
     "output_type": "stream",
     "text": [
      "CPU times: user 53min 15s, sys: 1min 35s, total: 54min 51s\n",
      "Wall time: 5min 6s\n"
     ]
    }
   ],
   "source": [
    "%%time\n",
    "finite_diff_time = perf_counter()\n",
    "vib = Vibrations(atoms)\n",
    "vib.run()\n",
    "finite_diff_time = perf_counter() - finite_diff_time"
   ]
  },
  {
   "cell_type": "markdown",
   "id": "497a7013-9ac6-484f-a5e3-d19e11224f4a",
   "metadata": {},
   "source": [
    "Save the vibration data"
   ]
  },
  {
   "cell_type": "code",
   "execution_count": 42,
   "id": "588b0344-ad43-4a6b-b57b-03782327f1e7",
   "metadata": {
    "tags": []
   },
   "outputs": [],
   "source": [
    "vib_data = vib.get_vibrations()\n",
    "with (out_dir / f'{run_name}-ase.json').open('w') as fp:\n",
    "    vib_data.write(fp)"
   ]
  },
  {
   "cell_type": "markdown",
   "id": "4711060e-aaee-4d64-ac26-0833965703ad",
   "metadata": {},
   "source": [
    "Print the ZPE for reference"
   ]
  },
  {
   "cell_type": "code",
   "execution_count": 43,
   "id": "450b9a10-5c0b-434a-8b20-fedf5f1b1f48",
   "metadata": {
    "tags": []
   },
   "outputs": [
    {
     "data": {
      "text/plain": [
       "2.1884190925383207"
      ]
     },
     "execution_count": 43,
     "metadata": {},
     "output_type": "execute_result"
    }
   ],
   "source": [
    "vib_data.get_zero_point_energy()"
   ]
  },
  {
   "cell_type": "markdown",
   "id": "47b7eea7-b7c6-4765-961d-7ebaf7332fe6",
   "metadata": {},
   "source": [
    "## Repeat with Psi4's analytic derivatives\n",
    "See if we get the same answer faster"
   ]
  },
  {
   "cell_type": "code",
   "execution_count": 44,
   "id": "577cd427-7829-4f7b-8457-a6c709c3ea80",
   "metadata": {
    "tags": []
   },
   "outputs": [],
   "source": [
    "analytic_time = perf_counter()\n",
    "calc.set_psi4(atoms)\n",
    "hess = calc.psi4.hessian(f'{method}/{basis}')\n",
    "analytic_time = perf_counter() - analytic_time"
   ]
  },
  {
   "cell_type": "code",
   "execution_count": 45,
   "id": "0d611176-e94d-44de-a57b-6750625463a1",
   "metadata": {
    "tags": []
   },
   "outputs": [],
   "source": [
    "analytic_hess = hess.to_array() * units.Hartree / units.Bohr / units.Bohr"
   ]
  },
  {
   "cell_type": "markdown",
   "id": "9567ec44-fda4-4052-87dc-c6c257adbc4e",
   "metadata": {},
   "source": [
    "Convert it to an ASE object and save"
   ]
  },
  {
   "cell_type": "code",
   "execution_count": 46,
   "id": "8a767054-2b20-4a87-8f51-5e715d71d539",
   "metadata": {
    "tags": []
   },
   "outputs": [],
   "source": [
    "vib_data = VibrationsData.from_2d(atoms, analytic_hess)"
   ]
  },
  {
   "cell_type": "code",
   "execution_count": 47,
   "id": "b5053fa4-e301-472a-8982-1b02c7727d90",
   "metadata": {
    "tags": []
   },
   "outputs": [],
   "source": [
    "vib_data = vib.get_vibrations()\n",
    "with (out_dir / f'{run_name}-psi4.json').open('w') as fp:\n",
    "    vib_data.write(fp)"
   ]
  },
  {
   "cell_type": "markdown",
   "id": "36d8ad22-2ad6-45c0-ba9d-0aeed39cb41f",
   "metadata": {},
   "source": [
    "Print the ZPE for reference"
   ]
  },
  {
   "cell_type": "code",
   "execution_count": 48,
   "id": "9e9422b7-a62d-49b7-af4a-b433d24804ae",
   "metadata": {
    "tags": []
   },
   "outputs": [
    {
     "data": {
      "text/plain": [
       "2.1884190925383207"
      ]
     },
     "execution_count": 48,
     "metadata": {},
     "output_type": "execute_result"
    }
   ],
   "source": [
    "vib_data.get_zero_point_energy()"
   ]
  },
  {
   "cell_type": "markdown",
   "id": "74673a35-e2c9-43ac-a261-be03dfc61208",
   "metadata": {},
   "source": [
    "Save the runtimes"
   ]
  },
  {
   "cell_type": "code",
   "execution_count": 49,
   "id": "273b5116-06ec-4098-8b20-537d1f9d7e84",
   "metadata": {
    "tags": []
   },
   "outputs": [],
   "source": [
    "with (out_dir / f'{run_name}-times.json').open('w') as fp:\n",
    "    json.dump({\n",
    "        'hostname': node(),\n",
    "        'finite-diff': finite_diff_time,\n",
    "        'analytic': analytic_time,\n",
    "    }, fp)"
   ]
  },
  {
   "cell_type": "code",
   "execution_count": 50,
   "id": "b24037ee-0ecc-4616-9fa5-f5941fb049d9",
   "metadata": {},
   "outputs": [
    {
     "name": "stdout",
     "output_type": "stream",
     "text": [
      "306.2348163090646\n",
      "300.2469820249826\n"
     ]
    }
   ],
   "source": [
    "print(finite_diff_time)\n",
    "print(analytic_time)"
   ]
  },
  {
   "cell_type": "code",
   "execution_count": null,
   "id": "04dfcdeb",
   "metadata": {},
   "outputs": [],
   "source": []
  },
  {
   "cell_type": "code",
   "execution_count": null,
   "id": "b204a441",
   "metadata": {},
   "outputs": [],
   "source": []
  }
 ],
 "metadata": {
  "kernelspec": {
   "display_name": "Python 3 (ipykernel)",
   "language": "python",
   "name": "python3"
  },
  "language_info": {
   "codemirror_mode": {
    "name": "ipython",
    "version": 3
   },
   "file_extension": ".py",
   "mimetype": "text/x-python",
   "name": "python",
   "nbconvert_exporter": "python",
   "pygments_lexer": "ipython3",
   "version": "3.10.12"
  }
 },
 "nbformat": 4,
 "nbformat_minor": 5
}
