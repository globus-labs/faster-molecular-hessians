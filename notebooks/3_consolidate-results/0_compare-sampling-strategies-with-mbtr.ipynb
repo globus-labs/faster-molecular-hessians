{
 "cells": [
  {
   "cell_type": "markdown",
   "id": "b592b18c-a459-4563-99fd-2ecd66474ed5",
   "metadata": {},
   "source": [
    "# Compare Sampling Strategies using an MBTR Forcefield\n",
    "Here, we hold our learning strategy constant and vary the strategies used in sampling"
   ]
  },
  {
   "cell_type": "code",
   "execution_count": 1,
   "id": "4f6bfbb4-9d13-45d0-88a6-7470111204fe",
   "metadata": {
    "tags": []
   },
   "outputs": [],
   "source": [
    "%matplotlib inline\n",
    "from matplotlib import pyplot as plt\n",
    "from jitterbug.compare import compare_hessians\n",
    "from ase.vibrations import VibrationsData\n",
    "from scipy.interpolate import interp1d\n",
    "from dataclasses import asdict\n",
    "from pathlib import Path\n",
    "from ase.io import read\n",
    "from tqdm import tqdm\n",
    "import pandas as pd\n",
    "import numpy as np\n",
    "import json\n",
    "import re"
   ]
  },
  {
   "cell_type": "markdown",
   "id": "f4e97ce7-31c1-4542-9aff-b06c83bbefd8",
   "metadata": {},
   "source": [
    "Configuration"
   ]
  },
  {
   "cell_type": "code",
   "execution_count": 2,
   "id": "02e04cef-054c-47ad-9334-d1cf6d4412e0",
   "metadata": {
    "tags": []
   },
   "outputs": [],
   "source": [
    "target_result = '../0_create-test-set/data/exact/caffeine_pm7_None_at_pm7_None_d=0.01-ase.json'\n",
    "target_method = '../2_testing-fitting-strategies/data/mbtr/'\n",
    "target_size: int = 1500"
   ]
  },
  {
   "cell_type": "markdown",
   "id": "5af51ec8-7a05-4000-8194-998dd08ce315",
   "metadata": {},
   "source": [
    "Derived"
   ]
  },
  {
   "cell_type": "code",
   "execution_count": 3,
   "id": "7094c318-9f4c-448c-b1cb-bf61b3678851",
   "metadata": {
    "tags": []
   },
   "outputs": [],
   "source": [
    "mol_name, _ = Path(target_result).name.rsplit(\"_\", 1)"
   ]
  },
  {
   "cell_type": "markdown",
   "id": "8874ea91-b4f3-432a-bd28-0d33b50e24ee",
   "metadata": {},
   "source": [
    "## Load the Exact Result\n",
    "The target molecule filename determines which molecule we'll look for. The name includes both the molecule name and method used to evaluate the hessian"
   ]
  },
  {
   "cell_type": "code",
   "execution_count": 4,
   "id": "11895c35-43e9-4880-af59-be157df37b55",
   "metadata": {
    "tags": []
   },
   "outputs": [
    {
     "data": {
      "text/plain": [
       "<ase.vibrations.data.VibrationsData at 0x7fed406b4730>"
      ]
     },
     "execution_count": 4,
     "metadata": {},
     "output_type": "execute_result"
    }
   ],
   "source": [
    "exact_hess = VibrationsData.read(target_result)\n",
    "exact_hess"
   ]
  },
  {
   "cell_type": "markdown",
   "id": "16c37359-0d6e-4299-8f40-8fc78708e691",
   "metadata": {},
   "source": [
    "## Find All Fittings\n",
    "Find the approximate hessians produced using each method"
   ]
  },
  {
   "cell_type": "code",
   "execution_count": 5,
   "id": "20b2213c-d98f-47d2-a2ed-b628f00e7cf7",
   "metadata": {
    "tags": []
   },
   "outputs": [
    {
     "name": "stdout",
     "output_type": "stream",
     "text": [
      "Found 22 approximate Hessians\n"
     ]
    }
   ],
   "source": [
    "all_hessians = list(Path(target_method).glob(f\"{mol_name}_*-increment.json\"))\n",
    "print(f'Found {len(all_hessians)} approximate Hessians')"
   ]
  },
  {
   "cell_type": "code",
   "execution_count": null,
   "id": "2056b382-8566-4f2e-a574-961a3268d3c3",
   "metadata": {
    "tags": []
   },
   "outputs": [
    {
     "name": "stderr",
     "output_type": "stream",
     "text": [
      "  0%|                                                                                                                                                                                                                                                              | 0/22 [00:00<?, ?it/s]/home/lward/miniconda3/envs/jitterbug/lib/python3.9/site-packages/pmutt/statmech/vib.py:87: RuntimeWarning: overflow encountered in sinh\n",
      "  (0.5 * vib_dimless)**2 * (1. / np.sinh(vib_dimless / 2.))**2\n",
      " 41%|████████████████████████████████████████████████████████████████████████████████████████████████████▋                                                                                                                                                 | 9/22 [00:02<00:03,  4.05it/s]"
     ]
    }
   ],
   "source": [
    "def load_hessian(path: Path) -> list[dict[str, object], str]:\n",
    "    \"\"\"Load the Hessian and parse the metadata from the filename\n",
    "    \n",
    "    Args:\n",
    "        path: Path to the run path\n",
    "    Returns:\n",
    "        Dictionary the includes the metadata:\n",
    "    \"\"\"\n",
    "    \n",
    "    # Get some of the basic information\n",
    "    _, sampling_method, sampling_options_str = path.name[:-15].rsplit(\"_\", 2)\n",
    "    try:\n",
    "        if sampling_options_str.count(\"=\") == 1:\n",
    "            sampling_options = dict([sampling_options_str.split(\"=\")])\n",
    "        else:\n",
    "            sampling_options = dict(x.split(\"=\") for x in re.split(\"-([^\\d]+=.+?)-\", sampling_options_str + \"-\") if len(x) > 0)\n",
    "    except ValueError as e:\n",
    "        raise ValueError(f'Failure for {sampling_options_str}') from e\n",
    "    \n",
    "    # For each, load the Hessian on the full dataset and compare to exact answer\n",
    "    output = []\n",
    "    with path.open() as fp:\n",
    "        for line in fp:\n",
    "            record = json.loads(line)\n",
    "            compare = compare_hessians(exact_hess.get_atoms(), exact_hess.get_hessian_2d(), record['hessian'])\n",
    "            output.append({\n",
    "                'path': path,\n",
    "                'sampling_method': sampling_method,\n",
    "                'options': sampling_options_str,\n",
    "                'size': record['count'],\n",
    "                **sampling_options,\n",
    "                **asdict(compare)\n",
    "            })      \n",
    "    return output\n",
    "all_results = pd.DataFrame(sum([load_hessian(path) for path in tqdm(all_hessians)], []))\n",
    "print(f'Loaded {len(all_results)} approximate hessians')"
   ]
  },
  {
   "cell_type": "code",
   "execution_count": null,
   "id": "c3aa94ce-1f23-4007-8766-3da998db628e",
   "metadata": {
    "tags": []
   },
   "outputs": [],
   "source": [
    "all_results.iloc[0]"
   ]
  },
  {
   "cell_type": "markdown",
   "id": "0f243a23-ed89-4f5e-aeac-f23722ef10af",
   "metadata": {},
   "source": [
    "Coerce columns I know should be numeric"
   ]
  },
  {
   "cell_type": "code",
   "execution_count": null,
   "id": "2d315d44-7564-468f-bd03-8bbedf8b424c",
   "metadata": {
    "tags": []
   },
   "outputs": [],
   "source": [
    "for col in ['d', 'N']:\n",
    "    all_results[col] = pd.to_numeric(all_results[col])"
   ]
  },
  {
   "cell_type": "code",
   "execution_count": null,
   "id": "a238ef1e-eae0-4195-a254-7c34fc63cc8d",
   "metadata": {
    "tags": []
   },
   "outputs": [],
   "source": [
    "all_results.drop_duplicates('path')['sampling_method'].value_counts()"
   ]
  },
  {
   "cell_type": "markdown",
   "id": "c04c6df3-882c-4ab8-954b-ff316ff1134c",
   "metadata": {},
   "source": [
    "## Compute Performance Metrics\n",
    "Get things like the error in ZPE or vibrational frequencies"
   ]
  },
  {
   "cell_type": "markdown",
   "id": "e3940c79-8d13-4ae2-b863-de203d0868fa",
   "metadata": {},
   "source": [
    "## Find the Best Method for Each Sampling Strategy\n",
    "Interpolate performance at 1500 entries"
   ]
  },
  {
   "cell_type": "code",
   "execution_count": null,
   "id": "45dd474a-22e7-49d7-bf7e-81321c1c470c",
   "metadata": {
    "tags": []
   },
   "outputs": [],
   "source": [
    "def evaluate_group(group: pd.DataFrame) -> float:\n",
    "    \"\"\"Estimate performance at 1500 data points using interpolation\"\"\"\n",
    "    \n",
    "    return interp1d(group['size'], group['vib_mae'], fill_value=group['vib_mae'].max(), bounds_error=False)(target_size)"
   ]
  },
  {
   "cell_type": "code",
   "execution_count": null,
   "id": "cc0ca444-01d5-4a25-80e7-6676bb90f3bc",
   "metadata": {
    "tags": []
   },
   "outputs": [],
   "source": [
    "best_for_sampling_method = set(all_results.groupby(['path', 'sampling_method']).apply(evaluate_group).groupby('sampling_method').apply(lambda x: x.index[np.argmin(x)][0]))"
   ]
  },
  {
   "cell_type": "code",
   "execution_count": null,
   "id": "83063556-ea68-42d6-8feb-0bf863f8882f",
   "metadata": {
    "tags": []
   },
   "outputs": [],
   "source": [
    "best_for_sampling_method"
   ]
  },
  {
   "cell_type": "markdown",
   "id": "f03747a9-32db-4356-8e14-b9eb52e17538",
   "metadata": {},
   "source": [
    "Plot the best for each sampling methods"
   ]
  },
  {
   "cell_type": "code",
   "execution_count": null,
   "id": "38d7ff93-3cd6-4489-96fb-5a1f6a917465",
   "metadata": {
    "tags": []
   },
   "outputs": [],
   "source": [
    "subset = all_results[all_results['path'].apply(best_for_sampling_method.__contains__)]"
   ]
  },
  {
   "cell_type": "code",
   "execution_count": null,
   "id": "16cdf7cf-4d09-415e-8996-3222ee33307b",
   "metadata": {
    "tags": []
   },
   "outputs": [],
   "source": [
    "fig, ax = plt.subplots(figsize=(3.5, 2.5))\n",
    "\n",
    "for gid, group in subset.groupby('sampling_method'):\n",
    "    ax.plot(group['size'], group['vib_mae'], '--o', label=gid)\n",
    "    \n",
    "ax.legend()\n",
    "\n",
    "ax.set_yscale('log')\n",
    "ax.set_ylim([10, 1000])\n",
    "\n",
    "ax.set_xlabel('Training Size')\n",
    "ax.set_ylabel('Vibration MAE (cm$^{-1}$)')\n",
    "\n",
    "fig.tight_layout()"
   ]
  },
  {
   "cell_type": "code",
   "execution_count": null,
   "id": "7dc273cc-6b8e-47a9-8f58-31bd385368da",
   "metadata": {
    "tags": []
   },
   "outputs": [],
   "source": [
    "fig, ax = plt.subplots(figsize=(3.5, 2.5))\n",
    "\n",
    "for gid, group in subset.groupby('sampling_method'):\n",
    "    ax.plot(group['size'], group['zpe_error'].abs(), '--o', label=gid)\n",
    "    \n",
    "#ax.legend()\n",
    "\n",
    "ax.set_yscale('log')\n",
    "ax.set_ylim(1e-2, 100)\n",
    "\n",
    "ax.set_xlim(ax.get_xlim())\n",
    "ax.plot(ax.get_xlim(), [1, 1], 'k--')\n",
    "\n",
    "ax.set_xlabel('Training Size')\n",
    "ax.set_ylabel('ZPE Error (kcal/mol)')\n",
    "\n",
    "fig.tight_layout()"
   ]
  },
  {
   "cell_type": "markdown",
   "id": "3d1cd9a6-ec4d-4dbe-9e92-188c401dd548",
   "metadata": {},
   "source": [
    "It seems like random sampling is preferred, and it is especially stable if we sample random directions"
   ]
  },
  {
   "cell_type": "markdown",
   "id": "9704b823-18f4-4195-884d-12fadd602993",
   "metadata": {},
   "source": [
    "## Explore Effect of Sampling Size\n",
    "What is the best magnitude?"
   ]
  },
  {
   "cell_type": "code",
   "execution_count": null,
   "id": "edbf9938-54b0-4182-b9e2-8de6ec96404e",
   "metadata": {
    "tags": []
   },
   "outputs": [],
   "source": [
    "best_strategy = all_results.query('sampling_method==\"random-dir-variable-dist\"')"
   ]
  },
  {
   "cell_type": "code",
   "execution_count": null,
   "id": "b0e1309b-a6dd-4728-9583-e8ec5d8a765e",
   "metadata": {
    "tags": []
   },
   "outputs": [],
   "source": [
    "fig, axs = plt.subplots(3, 1, figsize=(3.5, 3.8), sharex=True)\n",
    "\n",
    "for gid, group in best_strategy.groupby('d'):\n",
    "    axs[0].plot(group['size'], group['vib_mae'], '--o', label=f'd={gid}')\n",
    "    axs[1].plot(group['size'], group['zpe_error'].abs(), '--o', label=f'd={gid}')\n",
    "    axs[2].plot(group['size'], group['cp_error'].apply(np.array).apply(np.abs).apply(np.mean), '--o', label=f'd={gid}')\n",
    "    \n",
    "    \n",
    "# Labels\n",
    "axs[0].legend()\n",
    "axs[0].set_ylabel('Vibration MAE\\n(cm$^{-1}$)')\n",
    "axs[1].set_ylabel('ZPE Error\\n(kcal/mol)')\n",
    "axs[2].set_ylabel('$C_p$ Error\\n(kcal/mol/K)')\n",
    "\n",
    "for ax in axs:\n",
    "    ax.set_yscale('log')\n",
    "\n",
    "axs[-1].set_xlabel('Training Size')\n",
    "\n",
    "fig.tight_layout()"
   ]
  },
  {
   "cell_type": "markdown",
   "id": "0ee09462-b4e4-4a3a-9f14-dea85668da0b",
   "metadata": {},
   "source": [
    "Evaluate the enthalpy differences"
   ]
  },
  {
   "cell_type": "code",
   "execution_count": null,
   "id": "bc042000-02a6-4b07-ade7-849c74a4fadf",
   "metadata": {
    "tags": []
   },
   "outputs": [],
   "source": [
    "best_model = best_strategy.query('d==0.01').sort_values('size').tail().iloc[0]"
   ]
  },
  {
   "cell_type": "code",
   "execution_count": null,
   "id": "137b0999-98fe-414b-ae6c-c7c39f37314a",
   "metadata": {
    "tags": []
   },
   "outputs": [],
   "source": [
    "fig, ax = plt.subplots(figsize=(3.5, 2.5))\n",
    "\n",
    "ax.plot(best_model['temps'], best_model['h'], 'r', label='Approx')\n",
    "ax.plot(best_model['temps'], np.add(best_model['h'], best_model['h_error']), '--k', label='True')\n",
    "\n",
    "ax.legend()\n",
    "ax.set_xlabel('Temp (K)')\n",
    "ax.set_ylabel('$H$ (kcal/mol)')"
   ]
  },
  {
   "cell_type": "code",
   "execution_count": null,
   "id": "95680e61-587f-4cff-937b-583196fe6193",
   "metadata": {},
   "outputs": [],
   "source": []
  }
 ],
 "metadata": {
  "kernelspec": {
   "display_name": "Python 3 (ipykernel)",
   "language": "python",
   "name": "python3"
  },
  "language_info": {
   "codemirror_mode": {
    "name": "ipython",
    "version": 3
   },
   "file_extension": ".py",
   "mimetype": "text/x-python",
   "name": "python",
   "nbconvert_exporter": "python",
   "pygments_lexer": "ipython3",
   "version": "3.9.18"
  }
 },
 "nbformat": 4,
 "nbformat_minor": 5
}
