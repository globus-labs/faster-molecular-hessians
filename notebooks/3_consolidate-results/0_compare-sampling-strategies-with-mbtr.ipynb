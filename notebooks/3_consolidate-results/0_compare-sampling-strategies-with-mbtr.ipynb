{
 "cells": [
  {
   "cell_type": "markdown",
   "id": "b592b18c-a459-4563-99fd-2ecd66474ed5",
   "metadata": {},
   "source": [
    "# Compare Sampling Strategies using an MBTR Forcefield\n",
    "Here, we hold our learning strategy constant and vary the strategies used in sampling"
   ]
  },
  {
   "cell_type": "code",
   "execution_count": 1,
   "id": "4f6bfbb4-9d13-45d0-88a6-7470111204fe",
   "metadata": {
    "tags": []
   },
   "outputs": [],
   "source": [
    "%matplotlib inline\n",
    "from matplotlib import pyplot as plt\n",
    "from jitterbug.compare import compare_hessians\n",
    "from ase.vibrations import VibrationsData\n",
    "from dataclasses import asdict\n",
    "from pathlib import Path\n",
    "from ase.io import read\n",
    "from tqdm import tqdm\n",
    "import pandas as pd\n",
    "import numpy as np\n",
    "import json\n",
    "import re"
   ]
  },
  {
   "cell_type": "markdown",
   "id": "f4e97ce7-31c1-4542-9aff-b06c83bbefd8",
   "metadata": {},
   "source": [
    "Configuration"
   ]
  },
  {
   "cell_type": "code",
   "execution_count": 2,
   "id": "02e04cef-054c-47ad-9334-d1cf6d4412e0",
   "metadata": {
    "tags": []
   },
   "outputs": [],
   "source": [
    "target_mol = '../data/exact/caffeine_pm7_None.xyz'\n",
    "target_method = '../2_testing-fitting-strategies/data/mbtr/'"
   ]
  },
  {
   "cell_type": "markdown",
   "id": "8874ea91-b4f3-432a-bd28-0d33b50e24ee",
   "metadata": {},
   "source": [
    "## Load the Exact Result\n",
    "The target molecule filename determines which molecule we'll look for. The name includes both the molecule name and method used to evaluate the hessian"
   ]
  },
  {
   "cell_type": "code",
   "execution_count": 3,
   "id": "db22a33d-e70a-4e7b-aad7-39aa4e552804",
   "metadata": {
    "tags": []
   },
   "outputs": [],
   "source": [
    "target_mol = Path(target_mol)\n",
    "mol_name = target_mol.name[:-4]\n",
    "atoms = read(target_mol)"
   ]
  },
  {
   "cell_type": "code",
   "execution_count": 4,
   "id": "11895c35-43e9-4880-af59-be157df37b55",
   "metadata": {
    "tags": []
   },
   "outputs": [
    {
     "data": {
      "text/plain": [
       "<ase.vibrations.data.VibrationsData at 0x7f22fec89f40>"
      ]
     },
     "execution_count": 4,
     "metadata": {},
     "output_type": "execute_result"
    }
   ],
   "source": [
    "exact_hess = VibrationsData.read(target_mol.parent / f'{mol_name}-ase.json')\n",
    "exact_hess"
   ]
  },
  {
   "cell_type": "markdown",
   "id": "16c37359-0d6e-4299-8f40-8fc78708e691",
   "metadata": {},
   "source": [
    "## Find All Fittings\n",
    "Find the approximate hessians produced using each method"
   ]
  },
  {
   "cell_type": "code",
   "execution_count": 5,
   "id": "20b2213c-d98f-47d2-a2ed-b628f00e7cf7",
   "metadata": {
    "tags": []
   },
   "outputs": [],
   "source": [
    "all_hessians = list(Path(target_method).glob(f\"{mol_name}_*-increment.json\"))"
   ]
  },
  {
   "cell_type": "code",
   "execution_count": 6,
   "id": "2056b382-8566-4f2e-a574-961a3268d3c3",
   "metadata": {
    "tags": []
   },
   "outputs": [
    {
     "name": "stderr",
     "output_type": "stream",
     "text": [
      "  0%|                                                                                                                                                                                                                                                              | 0/15 [00:00<?, ?it/s]/home/lward/miniconda3/envs/jitterbug/lib/python3.9/site-packages/pmutt/statmech/vib.py:87: RuntimeWarning: overflow encountered in sinh\n",
      "  (0.5 * vib_dimless)**2 * (1. / np.sinh(vib_dimless / 2.))**2\n",
      "100%|█████████████████████████████████████████████████████████████████████████████████████████████████████████████████████████████████████████████████████████████████████████████████████████████████████████████████████████████████████████████████████| 15/15 [00:05<00:00,  2.96it/s]"
     ]
    },
    {
     "name": "stdout",
     "output_type": "stream",
     "text": [
      "Loaded 229 approximate hessians\n"
     ]
    },
    {
     "name": "stderr",
     "output_type": "stream",
     "text": [
      "\n"
     ]
    }
   ],
   "source": [
    "def load_hessian(path: Path) -> list[dict[str, object], str]:\n",
    "    \"\"\"Load the Hessian and parse the metadata from the filename\n",
    "    \n",
    "    Args:\n",
    "        path: Path to the run path\n",
    "    Returns:\n",
    "        Dictionary the includes the metadata:\n",
    "    \"\"\"\n",
    "    \n",
    "    # Get some of the basic information\n",
    "    _, sampling_method, sampling_options_str = path.name[:-15].rsplit(\"_\", 2)\n",
    "    sampling_options = dict(x.split(\"=\") for x in re.split(\"-([^\\d]+=.*)\", sampling_options_str) if len(x) > 0)\n",
    "    \n",
    "    # For each, load the Hessian on the full dataset and compare to exact answer\n",
    "    output = []\n",
    "    with path.open() as fp:\n",
    "        for line in fp:\n",
    "            record = json.loads(line)\n",
    "            compare = compare_hessians(exact_hess.get_atoms(), exact_hess.get_hessian_2d(), record['hessian'])\n",
    "            output.append({\n",
    "                'sampling_method': sampling_method,\n",
    "                'options': sampling_options_str,\n",
    "                'size': record['count'],\n",
    "                **sampling_options,\n",
    "                **asdict(compare)\n",
    "            })      \n",
    "    return output\n",
    "all_results = pd.DataFrame(sum([load_hessian(path) for path in tqdm(all_hessians)], []))\n",
    "print(f'Loaded {len(all_results)} approximate hessians')"
   ]
  },
  {
   "cell_type": "code",
   "execution_count": 7,
   "id": "db4ec32b-2b6b-44a5-8bdb-dc95feb6e395",
   "metadata": {
    "tags": []
   },
   "outputs": [
    {
     "data": {
      "text/html": [
       "<div>\n",
       "<style scoped>\n",
       "    .dataframe tbody tr th:only-of-type {\n",
       "        vertical-align: middle;\n",
       "    }\n",
       "\n",
       "    .dataframe tbody tr th {\n",
       "        vertical-align: top;\n",
       "    }\n",
       "\n",
       "    .dataframe thead th {\n",
       "        text-align: right;\n",
       "    }\n",
       "</style>\n",
       "<table border=\"1\" class=\"dataframe\">\n",
       "  <thead>\n",
       "    <tr style=\"text-align: right;\">\n",
       "      <th></th>\n",
       "      <th>sampling_method</th>\n",
       "      <th>options</th>\n",
       "      <th>size</th>\n",
       "      <th>d</th>\n",
       "      <th>N</th>\n",
       "      <th>zpe</th>\n",
       "      <th>zpe_error</th>\n",
       "      <th>cp</th>\n",
       "      <th>cp_error</th>\n",
       "      <th>h</th>\n",
       "      <th>h_error</th>\n",
       "      <th>temps</th>\n",
       "      <th>vib_freqs</th>\n",
       "      <th>vib_errors</th>\n",
       "      <th>vib_mae</th>\n",
       "    </tr>\n",
       "  </thead>\n",
       "  <tbody>\n",
       "    <tr>\n",
       "      <th>0</th>\n",
       "      <td>along-axes</td>\n",
       "      <td>d=1.00e-02-N=8</td>\n",
       "      <td>5</td>\n",
       "      <td>1.00e-02</td>\n",
       "      <td>8</td>\n",
       "      <td>14.200987</td>\n",
       "      <td>-95.264864</td>\n",
       "      <td>[0.000397593092606875, 0.002386964975551445, 0...</td>\n",
       "      <td>[0.0036833759055666425, 0.0032014502665919545,...</td>\n",
       "      <td>[14.201069696784895, 14.20544123215772, 14.216...</td>\n",
       "      <td>[95.26810423257896, 95.27849857026263, 95.2846...</td>\n",
       "      <td>[1.0, 3.9291338582677167, 6.858267716535433, 9...</td>\n",
       "      <td>[0.0, 0.0, 0.0, 0.0, 0.0, 0.0, 0.0, 0.0, 0.0, ...</td>\n",
       "      <td>[365.26521782818406, 345.1085529599917, 194.17...</td>\n",
       "      <td>1027.154434</td>\n",
       "    </tr>\n",
       "    <tr>\n",
       "      <th>1</th>\n",
       "      <td>along-axes</td>\n",
       "      <td>d=1.00e-02-N=8</td>\n",
       "      <td>91</td>\n",
       "      <td>1.00e-02</td>\n",
       "      <td>8</td>\n",
       "      <td>5.163324</td>\n",
       "      <td>-104.302527</td>\n",
       "      <td>[0.0019348995359107907, 0.008929018823987386, ...</td>\n",
       "      <td>[0.002146069462262727, -0.0033406035818439863,...</td>\n",
       "      <td>[5.163950489872683, 5.179473698114745, 5.21578...</td>\n",
       "      <td>[104.30522343949119, 104.3044661043056, 104.28...</td>\n",
       "      <td>[1.0, 3.9291338582677167, 6.858267716535433, 9...</td>\n",
       "      <td>[0.0, 0.0, 0.0, 0.0, 0.0, 0.0, 0.0, 0.0, 0.0, ...</td>\n",
       "      <td>[136.3752974454976, 116.1372867519512, 97.3719...</td>\n",
       "      <td>1113.227006</td>\n",
       "    </tr>\n",
       "    <tr>\n",
       "      <th>2</th>\n",
       "      <td>along-axes</td>\n",
       "      <td>d=1.00e-02-N=8</td>\n",
       "      <td>177</td>\n",
       "      <td>1.00e-02</td>\n",
       "      <td>8</td>\n",
       "      <td>6.876866</td>\n",
       "      <td>-102.588985</td>\n",
       "      <td>[0.0020382429986622493, 0.008341448274375083, ...</td>\n",
       "      <td>[0.0020427259995112685, -0.0027530330322316837...</td>\n",
       "      <td>[6.878002515584569, 6.8926516980488675, 6.9274...</td>\n",
       "      <td>[102.59117141377929, 102.59128810437149, 102.5...</td>\n",
       "      <td>[1.0, 3.9291338582677167, 6.858267716535433, 9...</td>\n",
       "      <td>[0.0, 0.0, 0.0, 0.0, 0.0, 0.0, 0.0, 0.0, 0.0, ...</td>\n",
       "      <td>[96.75265542338498, 90.41924803705203, 74.0875...</td>\n",
       "      <td>1092.500033</td>\n",
       "    </tr>\n",
       "    <tr>\n",
       "      <th>3</th>\n",
       "      <td>along-axes</td>\n",
       "      <td>d=1.00e-02-N=8</td>\n",
       "      <td>263</td>\n",
       "      <td>1.00e-02</td>\n",
       "      <td>8</td>\n",
       "      <td>89.958157</td>\n",
       "      <td>-19.507693</td>\n",
       "      <td>[0.0014020270591578593, 0.0023843729911753324,...</td>\n",
       "      <td>[0.0026789419390156584, 0.003204042250968067, ...</td>\n",
       "      <td>[89.9587466410539, 89.96445676642922, 89.97267...</td>\n",
       "      <td>[19.510427288309955, 19.51948303599113, 19.528...</td>\n",
       "      <td>[1.0, 3.9291338582677167, 6.858267716535433, 9...</td>\n",
       "      <td>[0.0, 0.0, 0.0, 0.0, 0.0, 0.0, 0.0, 0.0, 1.446...</td>\n",
       "      <td>[111.37319602907411, 108.7601947486991, 66.937...</td>\n",
       "      <td>263.944079</td>\n",
       "    </tr>\n",
       "    <tr>\n",
       "      <th>4</th>\n",
       "      <td>along-axes</td>\n",
       "      <td>d=1.00e-02-N=8</td>\n",
       "      <td>350</td>\n",
       "      <td>1.00e-02</td>\n",
       "      <td>8</td>\n",
       "      <td>93.839129</td>\n",
       "      <td>-15.626722</td>\n",
       "      <td>[1.6382310852832182e-08, 0.0004830509673205082...</td>\n",
       "      <td>[0.004080952615862665, 0.005105364274822891, 0...</td>\n",
       "      <td>[93.83912881523764, 93.83954779804499, 93.8423...</td>\n",
       "      <td>[15.630045114126219, 15.644392004375362, 15.65...</td>\n",
       "      <td>[1.0, 3.9291338582677167, 6.858267716535433, 9...</td>\n",
       "      <td>[0.0, 0.0, 0.0, 0.0, 0.0, 0.0, 0.0, 0.0, 0.0, ...</td>\n",
       "      <td>[118.00864162563397, 110.49254554846664, 100.8...</td>\n",
       "      <td>237.597413</td>\n",
       "    </tr>\n",
       "  </tbody>\n",
       "</table>\n",
       "</div>"
      ],
      "text/plain": [
       "  sampling_method         options  size         d  N        zpe   zpe_error  \\\n",
       "0      along-axes  d=1.00e-02-N=8     5  1.00e-02  8  14.200987  -95.264864   \n",
       "1      along-axes  d=1.00e-02-N=8    91  1.00e-02  8   5.163324 -104.302527   \n",
       "2      along-axes  d=1.00e-02-N=8   177  1.00e-02  8   6.876866 -102.588985   \n",
       "3      along-axes  d=1.00e-02-N=8   263  1.00e-02  8  89.958157  -19.507693   \n",
       "4      along-axes  d=1.00e-02-N=8   350  1.00e-02  8  93.839129  -15.626722   \n",
       "\n",
       "                                                  cp  \\\n",
       "0  [0.000397593092606875, 0.002386964975551445, 0...   \n",
       "1  [0.0019348995359107907, 0.008929018823987386, ...   \n",
       "2  [0.0020382429986622493, 0.008341448274375083, ...   \n",
       "3  [0.0014020270591578593, 0.0023843729911753324,...   \n",
       "4  [1.6382310852832182e-08, 0.0004830509673205082...   \n",
       "\n",
       "                                            cp_error  \\\n",
       "0  [0.0036833759055666425, 0.0032014502665919545,...   \n",
       "1  [0.002146069462262727, -0.0033406035818439863,...   \n",
       "2  [0.0020427259995112685, -0.0027530330322316837...   \n",
       "3  [0.0026789419390156584, 0.003204042250968067, ...   \n",
       "4  [0.004080952615862665, 0.005105364274822891, 0...   \n",
       "\n",
       "                                                   h  \\\n",
       "0  [14.201069696784895, 14.20544123215772, 14.216...   \n",
       "1  [5.163950489872683, 5.179473698114745, 5.21578...   \n",
       "2  [6.878002515584569, 6.8926516980488675, 6.9274...   \n",
       "3  [89.9587466410539, 89.96445676642922, 89.97267...   \n",
       "4  [93.83912881523764, 93.83954779804499, 93.8423...   \n",
       "\n",
       "                                             h_error  \\\n",
       "0  [95.26810423257896, 95.27849857026263, 95.2846...   \n",
       "1  [104.30522343949119, 104.3044661043056, 104.28...   \n",
       "2  [102.59117141377929, 102.59128810437149, 102.5...   \n",
       "3  [19.510427288309955, 19.51948303599113, 19.528...   \n",
       "4  [15.630045114126219, 15.644392004375362, 15.65...   \n",
       "\n",
       "                                               temps  \\\n",
       "0  [1.0, 3.9291338582677167, 6.858267716535433, 9...   \n",
       "1  [1.0, 3.9291338582677167, 6.858267716535433, 9...   \n",
       "2  [1.0, 3.9291338582677167, 6.858267716535433, 9...   \n",
       "3  [1.0, 3.9291338582677167, 6.858267716535433, 9...   \n",
       "4  [1.0, 3.9291338582677167, 6.858267716535433, 9...   \n",
       "\n",
       "                                           vib_freqs  \\\n",
       "0  [0.0, 0.0, 0.0, 0.0, 0.0, 0.0, 0.0, 0.0, 0.0, ...   \n",
       "1  [0.0, 0.0, 0.0, 0.0, 0.0, 0.0, 0.0, 0.0, 0.0, ...   \n",
       "2  [0.0, 0.0, 0.0, 0.0, 0.0, 0.0, 0.0, 0.0, 0.0, ...   \n",
       "3  [0.0, 0.0, 0.0, 0.0, 0.0, 0.0, 0.0, 0.0, 1.446...   \n",
       "4  [0.0, 0.0, 0.0, 0.0, 0.0, 0.0, 0.0, 0.0, 0.0, ...   \n",
       "\n",
       "                                          vib_errors      vib_mae  \n",
       "0  [365.26521782818406, 345.1085529599917, 194.17...  1027.154434  \n",
       "1  [136.3752974454976, 116.1372867519512, 97.3719...  1113.227006  \n",
       "2  [96.75265542338498, 90.41924803705203, 74.0875...  1092.500033  \n",
       "3  [111.37319602907411, 108.7601947486991, 66.937...   263.944079  \n",
       "4  [118.00864162563397, 110.49254554846664, 100.8...   237.597413  "
      ]
     },
     "execution_count": 7,
     "metadata": {},
     "output_type": "execute_result"
    }
   ],
   "source": [
    "all_results.head()"
   ]
  },
  {
   "cell_type": "markdown",
   "id": "0f243a23-ed89-4f5e-aeac-f23722ef10af",
   "metadata": {},
   "source": [
    "Coerce columns I know should be numeric"
   ]
  },
  {
   "cell_type": "code",
   "execution_count": 8,
   "id": "2d315d44-7564-468f-bd03-8bbedf8b424c",
   "metadata": {
    "tags": []
   },
   "outputs": [],
   "source": [
    "for col in ['d', 'N']:\n",
    "    all_results[col] = pd.to_numeric(all_results[col])"
   ]
  },
  {
   "cell_type": "code",
   "execution_count": 9,
   "id": "eee03c3a-4a53-4e84-995a-c2191e6f6332",
   "metadata": {
    "tags": []
   },
   "outputs": [
    {
     "data": {
      "text/html": [
       "<div>\n",
       "<style scoped>\n",
       "    .dataframe tbody tr th:only-of-type {\n",
       "        vertical-align: middle;\n",
       "    }\n",
       "\n",
       "    .dataframe tbody tr th {\n",
       "        vertical-align: top;\n",
       "    }\n",
       "\n",
       "    .dataframe thead th {\n",
       "        text-align: right;\n",
       "    }\n",
       "</style>\n",
       "<table border=\"1\" class=\"dataframe\">\n",
       "  <thead>\n",
       "    <tr style=\"text-align: right;\">\n",
       "      <th></th>\n",
       "      <th>sampling_method</th>\n",
       "      <th>options</th>\n",
       "      <th>size</th>\n",
       "      <th>d</th>\n",
       "      <th>N</th>\n",
       "      <th>zpe</th>\n",
       "      <th>zpe_error</th>\n",
       "      <th>cp</th>\n",
       "      <th>cp_error</th>\n",
       "      <th>h</th>\n",
       "      <th>h_error</th>\n",
       "      <th>temps</th>\n",
       "      <th>vib_freqs</th>\n",
       "      <th>vib_errors</th>\n",
       "      <th>vib_mae</th>\n",
       "    </tr>\n",
       "  </thead>\n",
       "  <tbody>\n",
       "    <tr>\n",
       "      <th>0</th>\n",
       "      <td>along-axes</td>\n",
       "      <td>d=1.00e-02-N=8</td>\n",
       "      <td>5</td>\n",
       "      <td>0.01</td>\n",
       "      <td>8.0</td>\n",
       "      <td>14.200987</td>\n",
       "      <td>-95.264864</td>\n",
       "      <td>[0.000397593092606875, 0.002386964975551445, 0...</td>\n",
       "      <td>[0.0036833759055666425, 0.0032014502665919545,...</td>\n",
       "      <td>[14.201069696784895, 14.20544123215772, 14.216...</td>\n",
       "      <td>[95.26810423257896, 95.27849857026263, 95.2846...</td>\n",
       "      <td>[1.0, 3.9291338582677167, 6.858267716535433, 9...</td>\n",
       "      <td>[0.0, 0.0, 0.0, 0.0, 0.0, 0.0, 0.0, 0.0, 0.0, ...</td>\n",
       "      <td>[365.26521782818406, 345.1085529599917, 194.17...</td>\n",
       "      <td>1027.154434</td>\n",
       "    </tr>\n",
       "    <tr>\n",
       "      <th>1</th>\n",
       "      <td>along-axes</td>\n",
       "      <td>d=1.00e-02-N=8</td>\n",
       "      <td>91</td>\n",
       "      <td>0.01</td>\n",
       "      <td>8.0</td>\n",
       "      <td>5.163324</td>\n",
       "      <td>-104.302527</td>\n",
       "      <td>[0.0019348995359107907, 0.008929018823987386, ...</td>\n",
       "      <td>[0.002146069462262727, -0.0033406035818439863,...</td>\n",
       "      <td>[5.163950489872683, 5.179473698114745, 5.21578...</td>\n",
       "      <td>[104.30522343949119, 104.3044661043056, 104.28...</td>\n",
       "      <td>[1.0, 3.9291338582677167, 6.858267716535433, 9...</td>\n",
       "      <td>[0.0, 0.0, 0.0, 0.0, 0.0, 0.0, 0.0, 0.0, 0.0, ...</td>\n",
       "      <td>[136.3752974454976, 116.1372867519512, 97.3719...</td>\n",
       "      <td>1113.227006</td>\n",
       "    </tr>\n",
       "    <tr>\n",
       "      <th>2</th>\n",
       "      <td>along-axes</td>\n",
       "      <td>d=1.00e-02-N=8</td>\n",
       "      <td>177</td>\n",
       "      <td>0.01</td>\n",
       "      <td>8.0</td>\n",
       "      <td>6.876866</td>\n",
       "      <td>-102.588985</td>\n",
       "      <td>[0.0020382429986622493, 0.008341448274375083, ...</td>\n",
       "      <td>[0.0020427259995112685, -0.0027530330322316837...</td>\n",
       "      <td>[6.878002515584569, 6.8926516980488675, 6.9274...</td>\n",
       "      <td>[102.59117141377929, 102.59128810437149, 102.5...</td>\n",
       "      <td>[1.0, 3.9291338582677167, 6.858267716535433, 9...</td>\n",
       "      <td>[0.0, 0.0, 0.0, 0.0, 0.0, 0.0, 0.0, 0.0, 0.0, ...</td>\n",
       "      <td>[96.75265542338498, 90.41924803705203, 74.0875...</td>\n",
       "      <td>1092.500033</td>\n",
       "    </tr>\n",
       "    <tr>\n",
       "      <th>3</th>\n",
       "      <td>along-axes</td>\n",
       "      <td>d=1.00e-02-N=8</td>\n",
       "      <td>263</td>\n",
       "      <td>0.01</td>\n",
       "      <td>8.0</td>\n",
       "      <td>89.958157</td>\n",
       "      <td>-19.507693</td>\n",
       "      <td>[0.0014020270591578593, 0.0023843729911753324,...</td>\n",
       "      <td>[0.0026789419390156584, 0.003204042250968067, ...</td>\n",
       "      <td>[89.9587466410539, 89.96445676642922, 89.97267...</td>\n",
       "      <td>[19.510427288309955, 19.51948303599113, 19.528...</td>\n",
       "      <td>[1.0, 3.9291338582677167, 6.858267716535433, 9...</td>\n",
       "      <td>[0.0, 0.0, 0.0, 0.0, 0.0, 0.0, 0.0, 0.0, 1.446...</td>\n",
       "      <td>[111.37319602907411, 108.7601947486991, 66.937...</td>\n",
       "      <td>263.944079</td>\n",
       "    </tr>\n",
       "    <tr>\n",
       "      <th>4</th>\n",
       "      <td>along-axes</td>\n",
       "      <td>d=1.00e-02-N=8</td>\n",
       "      <td>350</td>\n",
       "      <td>0.01</td>\n",
       "      <td>8.0</td>\n",
       "      <td>93.839129</td>\n",
       "      <td>-15.626722</td>\n",
       "      <td>[1.6382310852832182e-08, 0.0004830509673205082...</td>\n",
       "      <td>[0.004080952615862665, 0.005105364274822891, 0...</td>\n",
       "      <td>[93.83912881523764, 93.83954779804499, 93.8423...</td>\n",
       "      <td>[15.630045114126219, 15.644392004375362, 15.65...</td>\n",
       "      <td>[1.0, 3.9291338582677167, 6.858267716535433, 9...</td>\n",
       "      <td>[0.0, 0.0, 0.0, 0.0, 0.0, 0.0, 0.0, 0.0, 0.0, ...</td>\n",
       "      <td>[118.00864162563397, 110.49254554846664, 100.8...</td>\n",
       "      <td>237.597413</td>\n",
       "    </tr>\n",
       "  </tbody>\n",
       "</table>\n",
       "</div>"
      ],
      "text/plain": [
       "  sampling_method         options  size     d    N        zpe   zpe_error  \\\n",
       "0      along-axes  d=1.00e-02-N=8     5  0.01  8.0  14.200987  -95.264864   \n",
       "1      along-axes  d=1.00e-02-N=8    91  0.01  8.0   5.163324 -104.302527   \n",
       "2      along-axes  d=1.00e-02-N=8   177  0.01  8.0   6.876866 -102.588985   \n",
       "3      along-axes  d=1.00e-02-N=8   263  0.01  8.0  89.958157  -19.507693   \n",
       "4      along-axes  d=1.00e-02-N=8   350  0.01  8.0  93.839129  -15.626722   \n",
       "\n",
       "                                                  cp  \\\n",
       "0  [0.000397593092606875, 0.002386964975551445, 0...   \n",
       "1  [0.0019348995359107907, 0.008929018823987386, ...   \n",
       "2  [0.0020382429986622493, 0.008341448274375083, ...   \n",
       "3  [0.0014020270591578593, 0.0023843729911753324,...   \n",
       "4  [1.6382310852832182e-08, 0.0004830509673205082...   \n",
       "\n",
       "                                            cp_error  \\\n",
       "0  [0.0036833759055666425, 0.0032014502665919545,...   \n",
       "1  [0.002146069462262727, -0.0033406035818439863,...   \n",
       "2  [0.0020427259995112685, -0.0027530330322316837...   \n",
       "3  [0.0026789419390156584, 0.003204042250968067, ...   \n",
       "4  [0.004080952615862665, 0.005105364274822891, 0...   \n",
       "\n",
       "                                                   h  \\\n",
       "0  [14.201069696784895, 14.20544123215772, 14.216...   \n",
       "1  [5.163950489872683, 5.179473698114745, 5.21578...   \n",
       "2  [6.878002515584569, 6.8926516980488675, 6.9274...   \n",
       "3  [89.9587466410539, 89.96445676642922, 89.97267...   \n",
       "4  [93.83912881523764, 93.83954779804499, 93.8423...   \n",
       "\n",
       "                                             h_error  \\\n",
       "0  [95.26810423257896, 95.27849857026263, 95.2846...   \n",
       "1  [104.30522343949119, 104.3044661043056, 104.28...   \n",
       "2  [102.59117141377929, 102.59128810437149, 102.5...   \n",
       "3  [19.510427288309955, 19.51948303599113, 19.528...   \n",
       "4  [15.630045114126219, 15.644392004375362, 15.65...   \n",
       "\n",
       "                                               temps  \\\n",
       "0  [1.0, 3.9291338582677167, 6.858267716535433, 9...   \n",
       "1  [1.0, 3.9291338582677167, 6.858267716535433, 9...   \n",
       "2  [1.0, 3.9291338582677167, 6.858267716535433, 9...   \n",
       "3  [1.0, 3.9291338582677167, 6.858267716535433, 9...   \n",
       "4  [1.0, 3.9291338582677167, 6.858267716535433, 9...   \n",
       "\n",
       "                                           vib_freqs  \\\n",
       "0  [0.0, 0.0, 0.0, 0.0, 0.0, 0.0, 0.0, 0.0, 0.0, ...   \n",
       "1  [0.0, 0.0, 0.0, 0.0, 0.0, 0.0, 0.0, 0.0, 0.0, ...   \n",
       "2  [0.0, 0.0, 0.0, 0.0, 0.0, 0.0, 0.0, 0.0, 0.0, ...   \n",
       "3  [0.0, 0.0, 0.0, 0.0, 0.0, 0.0, 0.0, 0.0, 1.446...   \n",
       "4  [0.0, 0.0, 0.0, 0.0, 0.0, 0.0, 0.0, 0.0, 0.0, ...   \n",
       "\n",
       "                                          vib_errors      vib_mae  \n",
       "0  [365.26521782818406, 345.1085529599917, 194.17...  1027.154434  \n",
       "1  [136.3752974454976, 116.1372867519512, 97.3719...  1113.227006  \n",
       "2  [96.75265542338498, 90.41924803705203, 74.0875...  1092.500033  \n",
       "3  [111.37319602907411, 108.7601947486991, 66.937...   263.944079  \n",
       "4  [118.00864162563397, 110.49254554846664, 100.8...   237.597413  "
      ]
     },
     "execution_count": 9,
     "metadata": {},
     "output_type": "execute_result"
    }
   ],
   "source": [
    "all_results.head()"
   ]
  },
  {
   "cell_type": "code",
   "execution_count": 10,
   "id": "a238ef1e-eae0-4195-a254-7c34fc63cc8d",
   "metadata": {
    "tags": []
   },
   "outputs": [
    {
     "data": {
      "text/plain": [
       "along-axes                  133\n",
       "random-dir-same-dist         48\n",
       "random-dir-variable-dist     48\n",
       "Name: sampling_method, dtype: int64"
      ]
     },
     "execution_count": 10,
     "metadata": {},
     "output_type": "execute_result"
    }
   ],
   "source": [
    "all_results['sampling_method'].value_counts()"
   ]
  },
  {
   "cell_type": "markdown",
   "id": "c04c6df3-882c-4ab8-954b-ff316ff1134c",
   "metadata": {},
   "source": [
    "## Compute Performance Metrics\n",
    "Get things like the error in ZPE or vibrational frequencies"
   ]
  },
  {
   "cell_type": "code",
   "execution_count": 11,
   "id": "38d7ff93-3cd6-4489-96fb-5a1f6a917465",
   "metadata": {
    "tags": []
   },
   "outputs": [],
   "source": [
    "subset = all_results.query('d==0.01 and (sampling_method != \"along-axes\" or N == 4)')"
   ]
  },
  {
   "cell_type": "code",
   "execution_count": 12,
   "id": "16cdf7cf-4d09-415e-8996-3222ee33307b",
   "metadata": {
    "tags": []
   },
   "outputs": [
    {
     "data": {
      "image/png": "[encoded data removed]",
      "text/plain": [
       "<Figure size 350x250 with 1 Axes>"
      ]
     },
     "metadata": {},
     "output_type": "display_data"
    }
   ],
   "source": [
    "fig, ax = plt.subplots(figsize=(3.5, 2.5))\n",
    "\n",
    "for gid, group in subset.groupby('sampling_method'):\n",
    "    ax.plot(group['size'], group['vib_mae'], '--o', label=gid)\n",
    "    \n",
    "ax.legend()\n",
    "\n",
    "ax.set_yscale('log')\n",
    "\n",
    "ax.set_xlabel('Training Size')\n",
    "ax.set_ylabel('Vibration MAE (cm$^{-1}$)')\n",
    "\n",
    "fig.tight_layout()"
   ]
  },
  {
   "cell_type": "code",
   "execution_count": 13,
   "id": "7dc273cc-6b8e-47a9-8f58-31bd385368da",
   "metadata": {
    "tags": []
   },
   "outputs": [
    {
     "data": {
      "image/png": "[encoded data removed]",
      "text/plain": [
       "<Figure size 350x250 with 1 Axes>"
      ]
     },
     "metadata": {},
     "output_type": "display_data"
    }
   ],
   "source": [
    "fig, ax = plt.subplots(figsize=(3.5, 2.5))\n",
    "\n",
    "for gid, group in subset.groupby('sampling_method'):\n",
    "    ax.plot(group['size'], group['zpe_error'].abs(), '--o', label=gid)\n",
    "    \n",
    "ax.legend()\n",
    "\n",
    "ax.set_yscale('log')\n",
    "\n",
    "ax.set_xlabel('Training Size')\n",
    "ax.set_ylabel('ZPE Error (kcal/mol)')\n",
    "\n",
    "fig.tight_layout()"
   ]
  },
  {
   "cell_type": "markdown",
   "id": "3d1cd9a6-ec4d-4dbe-9e92-188c401dd548",
   "metadata": {},
   "source": [
    "It seems like random sampling is preferred, and it is especially stable if we sample random directions"
   ]
  },
  {
   "cell_type": "markdown",
   "id": "9704b823-18f4-4195-884d-12fadd602993",
   "metadata": {},
   "source": [
    "## Explore Effect of Sampling Size\n",
    "What is the best magnitude?"
   ]
  },
  {
   "cell_type": "code",
   "execution_count": 14,
   "id": "edbf9938-54b0-4182-b9e2-8de6ec96404e",
   "metadata": {
    "tags": []
   },
   "outputs": [],
   "source": [
    "best_strategy = all_results.query('sampling_method==\"random-dir-variable-dist\"')"
   ]
  },
  {
   "cell_type": "code",
   "execution_count": 15,
   "id": "b0e1309b-a6dd-4728-9583-e8ec5d8a765e",
   "metadata": {
    "tags": []
   },
   "outputs": [
    {
     "data": {
      "image/png": "[encoded data removed]",
      "text/plain": [
       "<Figure size 350x380 with 3 Axes>"
      ]
     },
     "metadata": {},
     "output_type": "display_data"
    }
   ],
   "source": [
    "fig, axs = plt.subplots(3, 1, figsize=(3.5, 3.8), sharex=True)\n",
    "\n",
    "for gid, group in best_strategy.groupby('d'):\n",
    "    axs[0].plot(group['size'], group['vib_mae'], '--o', label=f'd={gid}')\n",
    "    axs[1].plot(group['size'], group['zpe_error'].abs(), '--o', label=f'd={gid}')\n",
    "    axs[2].plot(group['size'], group['cp_error'].apply(np.array).apply(np.abs).apply(np.mean), '--o', label=f'd={gid}')\n",
    "    \n",
    "    \n",
    "# Labels\n",
    "axs[0].legend()\n",
    "axs[0].set_ylabel('Vibration MAE\\n(cm$^{-1}$)')\n",
    "axs[1].set_ylabel('ZPE Error\\n(kcal/mol)')\n",
    "axs[2].set_ylabel('$C_p$ Error\\n(kcal/mol/K)')\n",
    "\n",
    "for ax in axs:\n",
    "    ax.set_yscale('log')\n",
    "\n",
    "axs[-1].set_xlabel('Training Size')\n",
    "\n",
    "fig.tight_layout()"
   ]
  },
  {
   "cell_type": "markdown",
   "id": "0ee09462-b4e4-4a3a-9f14-dea85668da0b",
   "metadata": {},
   "source": [
    "Evaluate the enthalpy differences"
   ]
  },
  {
   "cell_type": "code",
   "execution_count": 16,
   "id": "bc042000-02a6-4b07-ade7-849c74a4fadf",
   "metadata": {
    "tags": []
   },
   "outputs": [],
   "source": [
    "best_model = best_strategy.query('d==0.01').sort_values('size').tail().iloc[0]"
   ]
  },
  {
   "cell_type": "code",
   "execution_count": 17,
   "id": "137b0999-98fe-414b-ae6c-c7c39f37314a",
   "metadata": {
    "tags": []
   },
   "outputs": [
    {
     "data": {
      "text/plain": [
       "Text(0, 0.5, '$H$ (kcal/mol)')"
      ]
     },
     "execution_count": 17,
     "metadata": {},
     "output_type": "execute_result"
    },
    {
     "data": {
      "image/png": "[encoded data removed]",
      "text/plain": [
       "<Figure size 350x250 with 1 Axes>"
      ]
     },
     "metadata": {},
     "output_type": "display_data"
    }
   ],
   "source": [
    "fig, ax = plt.subplots(figsize=(3.5, 2.5))\n",
    "\n",
    "ax.plot(best_model['temps'], best_model['h'], 'r', label='Approx')\n",
    "ax.plot(best_model['temps'], np.add(best_model['h'], best_model['h_error']), '--k', label='True')\n",
    "\n",
    "ax.legend()\n",
    "ax.set_xlabel('Temp (K)')\n",
    "ax.set_ylabel('$H$ (kcal/mol)')"
   ]
  },
  {
   "cell_type": "code",
   "execution_count": null,
   "id": "95680e61-587f-4cff-937b-583196fe6193",
   "metadata": {},
   "outputs": [],
   "source": []
  }
 ],
 "metadata": {
  "kernelspec": {
   "display_name": "Python 3 (ipykernel)",
   "language": "python",
   "name": "python3"
  },
  "language_info": {
   "codemirror_mode": {
    "name": "ipython",
    "version": 3
   },
   "file_extension": ".py",
   "mimetype": "text/x-python",
   "name": "python",
   "nbconvert_exporter": "python",
   "pygments_lexer": "ipython3",
   "version": "3.9.18"
  }
 },
 "nbformat": 4,
 "nbformat_minor": 5
}
