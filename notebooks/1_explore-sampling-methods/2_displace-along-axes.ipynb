{
 "cells": [
  {
   "cell_type": "markdown",
   "id": "8233267b-e98b-44be-b9aa-116d0e67a94b",
   "metadata": {},
   "source": [
    "# Compute Energies of Displacements Along Coordinate Systems\n",
    "Displace each atom along the axes, in the same way that we would when computing finite differences. The code is similar to what is used in [ASE's vibration analysis](https://databases.fysik.dtu.dk/ase/ase/vibrations/vibrations.html) with a few differences:\n",
    "\n",
    "- We perturb every pair of coordinates to compute numerical second derivatives. ASE compute the first derivatives of force to access the Hessian.\n",
    "- Optionally, perturb more than pair at a time."
   ]
  },
  {
   "cell_type": "code",
   "execution_count": null,
   "id": "c6a28419-6831-4197-8973-00c5591e19cb",
   "metadata": {
    "tags": []
   },
   "outputs": [],
   "source": [
    "from jitterbug.utils import make_calculator\n",
    "from itertools import permutations\n",
    "from ase.io import write, read\n",
    "from ase.db import connect\n",
    "from ase import Atoms\n",
    "from pathlib import Path\n",
    "from tqdm import tqdm \n",
    "import numpy as np\n",
    "import os"
   ]
  },
  {
   "cell_type": "markdown",
   "id": "cec456a7-3c13-4b00-936a-abc31c898262",
   "metadata": {},
   "source": [
    "Configuration"
   ]
  },
  {
   "cell_type": "code",
   "execution_count": null,
   "id": "52252ee2-315c-48bb-8cba-07620e6e2faa",
   "metadata": {
    "tags": [
     "parameters"
    ]
   },
   "outputs": [],
   "source": [
    "starting_geometry = '../data/exact/caffeine_pm7_None.xyz'\n",
    "threads = min(os.cpu_count(), 12)\n",
    "step_size: float = 0.005 # Lambda parameter for an expontential distribution for the Perturbation amount\n",
    "perturbs_per_evaluation: int = 2  # Number of perturbations to perform at once"
   ]
  },
  {
   "cell_type": "markdown",
   "id": "7010df09-73b2-4d58-be03-15a5f0d04b4c",
   "metadata": {},
   "source": [
    "Derived"
   ]
  },
  {
   "cell_type": "code",
   "execution_count": null,
   "id": "0b6794cd-477f-45a1-b96f-2332804ddb20",
   "metadata": {},
   "outputs": [],
   "source": [
    "run_name = Path(starting_geometry).name[:-4]\n",
    "name, method, basis = run_name.split(\"_\")"
   ]
  },
  {
   "cell_type": "markdown",
   "id": "cf9ff792-6b5b-46ce-9a78-78912e372912",
   "metadata": {},
   "source": [
    "## Load in the Relaxed Structure\n",
    "We generated a relaxed structure in the previous notebook"
   ]
  },
  {
   "cell_type": "code",
   "execution_count": null,
   "id": "ad9fd725-b1ba-4fec-ae41-959be0e540b3",
   "metadata": {
    "tags": []
   },
   "outputs": [],
   "source": [
    "atoms = read(starting_geometry)\n",
    "atoms"
   ]
  },
  {
   "cell_type": "markdown",
   "id": "2284056b-ddf2-4a3b-88ca-b1c6dc84a2d5",
   "metadata": {},
   "source": [
    "## Assemble the List of Perturbations\n",
    "We are going to set up all of the perturbations needed for numerical partial second derivatives, which include [perturbing only one coordinate for the diagonal terms and every pair of coordinates for the off-diagonal](https://en.wikipedia.org/wiki/Finite_difference#Multivariate_finite_differences)."
   ]
  },
  {
   "cell_type": "code",
   "execution_count": null,
   "id": "c50272bb-4c71-4851-8bf8-86514d7e690c",
   "metadata": {
    "tags": []
   },
   "outputs": [],
   "source": [
    "n_coords = len(atoms) * 3\n",
    "perturbations = [\n",
    "    (d * i,) for d in [-1, 1] for i in range(1, n_coords + 1)  # Start from 1 so we can encode direction with the sign (-0 == 0)\n",
    "]\n",
    "print(f'Collected {len(perturbations)} diagonal terms')\n",
    "perturbations.extend(\n",
    "    (d * i, d * j) for d in [-1, 1] for i, j in permutations(range(1, n_coords + 1), 2)  # Assumes we re-use the data from diagonal terms for the off-diagonal\n",
    ")\n",
    "print(f'Collected {len(perturbations)} with off-diagonal terms')"
   ]
  },
  {
   "cell_type": "markdown",
   "id": "9adf035b-5c49-4479-90de-f505bad1c977",
   "metadata": {},
   "source": [
    "Combine several if desired"
   ]
  },
  {
   "cell_type": "code",
   "execution_count": null,
   "id": "ba9dab3e-6376-4a2c-87f7-730d3621bd82",
   "metadata": {
    "tags": []
   },
   "outputs": [],
   "source": [
    "def combine_peturbations(singles: list[tuple[int, ...]], num_to_combine: int, seed: int = 1) -> list[tuple[int, ...]]:\n",
    "    \"\"\"Combine multiple perturbations into a single task\n",
    "    \n",
    "    Does them in a repeatable order and ensures that we do not \n",
    "    combine perturbations that act on the same atoms\n",
    "    \n",
    "    Args:\n",
    "        singles: List of all perturbations to combine. \n",
    "            Each entry contains a list of coordinates to perturb (1-indexed)\n",
    "            where the sign dictaes whether it is a positive or negative direction.\n",
    "        num_to_combine: Number of perturbations to combine into one task.\n",
    "            Some may be smaller than this number\n",
    "        seed: Random seed\n",
    "    Returns:\n",
    "        List of combined purtbations\n",
    "    \"\"\"\n",
    "    \n",
    "    # Start by shuffling\n",
    "    rng = np.random.default_rng(seed)\n",
    "    shuffled = singles.copy()\n",
    "    rng.shuffle(shuffled)\n",
    "    \n",
    "    # Combine them\n",
    "    output = []\n",
    "    while len(shuffled) > 0:\n",
    "        # Add to the new task until we reach the desired number\n",
    "        new_task = ()  # New perturbation vector\n",
    "        num_combined = 0  # Number of perturbations which were combined\n",
    "        new_inds = set()  # Coordinates which are perturbed in this new vector\n",
    "        \n",
    "        while num_combined < num_to_combine:  # Loop until we've merged enough\n",
    "            for i in range(len(shuffled)):\n",
    "                # Check if this new one contains only new atoms\n",
    "                if all(abs(d) not in new_inds for d in shuffled[i]):\n",
    "                    # Add it to the new task\n",
    "                    to_add = shuffled.pop(i)\n",
    "                    num_combined += 1\n",
    "                    new_inds.update(abs(d) for d in to_add)\n",
    "                    new_task = new_task + to_add\n",
    "                    break\n",
    "            else: \n",
    "                break  # If we fail to find a perturbation with new coordinates, stop looking\n",
    "        \n",
    "        output.append(new_task)\n",
    "        \n",
    "    return output"
   ]
  },
  {
   "cell_type": "code",
   "execution_count": null,
   "id": "31498d2e-63eb-4ecb-8223-27a3f157a8fe",
   "metadata": {
    "tags": []
   },
   "outputs": [],
   "source": [
    "if perturbs_per_evaluation > 1:\n",
    "    perturbations = combine_peturbations(perturbations, perturbs_per_evaluation)\n",
    "    print(f'Combined {perturbs_per_evaluation} tasks into 1, reducing to {len(perturbations)}')"
   ]
  },
  {
   "cell_type": "markdown",
   "id": "83964db7-8b15-4552-b9d3-d3ba4953db2c",
   "metadata": {},
   "source": [
    "Make sure the same coordinate does not appear in the same task twice"
   ]
  },
  {
   "cell_type": "code",
   "execution_count": null,
   "id": "97c0a040-68ee-448c-9879-b5a551fe9701",
   "metadata": {},
   "outputs": [],
   "source": [
    "for task in perturbations:\n",
    "    inds = [abs(i) for i in task]\n",
    "    assert len(inds) == len(set(inds))"
   ]
  },
  {
   "cell_type": "markdown",
   "id": "3dbfc92b-a561-4b8f-9fab-98b36029653e",
   "metadata": {},
   "source": [
    "## Run the Perturbations"
   ]
  },
  {
   "cell_type": "markdown",
   "id": "ad4c5d8e-96d4-4bb6-9bf2-6474d7563448",
   "metadata": {},
   "source": [
    "Prepare the output directory"
   ]
  },
  {
   "cell_type": "code",
   "execution_count": null,
   "id": "23502eea-0974-4248-8f19-e85447069c61",
   "metadata": {
    "tags": []
   },
   "outputs": [],
   "source": [
    "out_dir = Path('data') / 'along-axes'\n",
    "out_dir.mkdir(exist_ok=True, parents=True)"
   ]
  },
  {
   "cell_type": "code",
   "execution_count": null,
   "id": "bf1366fc-d9a7-4a98-b9c9-cb3a0209b406",
   "metadata": {
    "tags": []
   },
   "outputs": [],
   "source": [
    "db_path = out_dir / f'{run_name}_d={step_size:.2e}-N={perturbs_per_evaluation}.db'\n",
    "print(f'Writing to {db_path}')"
   ]
  },
  {
   "cell_type": "markdown",
   "id": "004158dc-3fe9-47a6-99dd-268aa69bb27b",
   "metadata": {},
   "source": [
    "Add the relaxed geometry if needed"
   ]
  },
  {
   "cell_type": "code",
   "execution_count": null,
   "id": "d4f21e81-5ec3-4877-a4d1-402077be2ee8",
   "metadata": {
    "tags": []
   },
   "outputs": [],
   "source": [
    "if not db_path.is_file():\n",
    "    with connect(db_path) as db:\n",
    "        db.write(atoms, name='initial')"
   ]
  },
  {
   "cell_type": "markdown",
   "id": "56ebf431-75a0-44d5-8e18-43f2898d6dab",
   "metadata": {},
   "source": [
    "Make the calculator"
   ]
  },
  {
   "cell_type": "code",
   "execution_count": null,
   "id": "0915595d-133a-43df-84fc-4ff6a3b538ea",
   "metadata": {
    "tags": []
   },
   "outputs": [],
   "source": [
    "calc = make_calculator(method, basis, num_threads=threads)"
   ]
  },
  {
   "cell_type": "markdown",
   "id": "8e9e5ff2-3728-459b-b3d3-09acba0f71bc",
   "metadata": {},
   "source": [
    "Generate the energies"
   ]
  },
  {
   "cell_type": "code",
   "execution_count": null,
   "id": "4f9ac37d-6c2f-4ece-bb8c-3d3eb7fbd8a1",
   "metadata": {
    "tags": []
   },
   "outputs": [],
   "source": [
    "with connect(db_path) as db:\n",
    "    num_done = len(db) - 1\n",
    "print(f'We have finished {num_done} perturbations already. {len(perturbations) - num_done} left to do.')"
   ]
  },
  {
   "cell_type": "code",
   "execution_count": null,
   "id": "a6fa1b33-defc-4b35-895d-052eb64453fb",
   "metadata": {},
   "outputs": [],
   "source": [
    "iterator = tqdm(perturbations[num_done:])\n",
    "for perturb in iterator:\n",
    "    # Create the perturbation vector\n",
    "    disp = np.zeros((n_coords,))\n",
    "    for d in perturb:\n",
    "        disp[abs(d) - 1] = (1 if abs(d) > 0 else -1) * step_size / perturbs_per_evaluation\n",
    "    disp = disp.reshape((-1, 3))\n",
    "    \n",
    "    # Make the new atoms\n",
    "    new_atoms = atoms.copy()\n",
    "    new_atoms.positions += disp\n",
    "    \n",
    "    # Make the name for the computation\n",
    "    name = \"d\" + \"\".join(f'{\"+\" if d > 0 else \"-\"}{abs(d)-1}' for d in perturb)\n",
    "    iterator.set_description(name)\n",
    "    \n",
    "    # Compute the energy and store in the db\n",
    "    new_atoms.calc = calc\n",
    "    new_atoms.get_potential_energy()\n",
    "    with connect(db_path) as db:\n",
    "        db.write(new_atoms, name=name)"
   ]
  },
  {
   "cell_type": "code",
   "execution_count": null,
   "id": "b0850be6-bd52-450e-991a-46a20649c98a",
   "metadata": {},
   "outputs": [],
   "source": []
  }
 ],
 "metadata": {
  "kernelspec": {
   "display_name": "Python 3 (ipykernel)",
   "language": "python",
   "name": "python3"
  },
  "language_info": {
   "codemirror_mode": {
    "name": "ipython",
    "version": 3
   },
   "file_extension": ".py",
   "mimetype": "text/x-python",
   "name": "python",
   "nbconvert_exporter": "python",
   "pygments_lexer": "ipython3",
   "version": "3.9.18"
  }
 },
 "nbformat": 4,
 "nbformat_minor": 5
}
