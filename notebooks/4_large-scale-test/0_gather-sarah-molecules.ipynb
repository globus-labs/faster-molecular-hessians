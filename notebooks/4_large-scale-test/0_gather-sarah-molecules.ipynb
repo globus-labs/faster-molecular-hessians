{
 "cells": [
  {
   "cell_type": "markdown",
   "id": "67823348-e2f1-4e5f-a99a-54d0209bec4a",
   "metadata": {},
   "source": [
    "# Gather Test Structures\n",
    "Get a list of structures to evaluate from those which Sarah provided"
   ]
  },
  {
   "cell_type": "code",
   "execution_count": null,
   "id": "847c484a-f5cb-40ab-9c95-67e8232a0ced",
   "metadata": {
    "tags": []
   },
   "outputs": [],
   "source": [
    "from jitterbug.utils import read_from_string, write_to_string\n",
    "from rdkit import Chem\n",
    "from rdkit.Chem import AllChem\n",
    "from pathlib import Path\n",
    "from ase import Atoms\n",
    "import pandas as pd\n",
    "import gzip\n",
    "import json"
   ]
  },
  {
   "cell_type": "markdown",
   "id": "761cd942-47b2-4d5a-bc3f-17cec5a692c3",
   "metadata": {},
   "source": [
    "Configuration"
   ]
  },
  {
   "cell_type": "code",
   "execution_count": null,
   "id": "b74b19e0-c6bb-416a-bdfd-287cf829604b",
   "metadata": {
    "tags": []
   },
   "outputs": [],
   "source": [
    "num_to_save: int = 128  # How many molecules to save to XYZ-format"
   ]
  },
  {
   "cell_type": "markdown",
   "id": "48478974-eb4c-4ba2-893e-88159e309e44",
   "metadata": {},
   "source": [
    "## Load in the Molecules\n",
    "They are from three different files which each are nested dictionaries:\n",
    "- First key: InChI\n",
    "- Second key: Conformer identifier\n",
    "- Third key: Either geometry (xyz), or some other bits about the molecule"
   ]
  },
  {
   "cell_type": "code",
   "execution_count": null,
   "id": "e93d28e8-fcc2-4a7d-963d-8be8d9a1cce7",
   "metadata": {
    "tags": []
   },
   "outputs": [],
   "source": [
    "records = []\n",
    "for path in Path('raw/combustion/').glob('set*'):\n",
    "    with gzip.open(path, 'rt') as fp:\n",
    "        data = json.load(fp)\n",
    "        \n",
    "    for inchi, geoms in data.items():\n",
    "        for geom_id, geom_data in geoms.items():\n",
    "            records.append({\n",
    "                'inchi': inchi,\n",
    "                'geom_id': geom_id,\n",
    "                'xyz': geom_data['geometry']\n",
    "            })\n",
    "records = pd.DataFrame(records)\n",
    "print(f'Loaded {len(records)} geometries')"
   ]
  },
  {
   "cell_type": "code",
   "execution_count": null,
   "id": "8028e0c7-3311-434b-bb7d-6a597c36345d",
   "metadata": {
    "tags": []
   },
   "outputs": [],
   "source": [
    "records.head()"
   ]
  },
  {
   "cell_type": "markdown",
   "id": "04332838-eb36-4b30-8de7-bfa740ab1e73",
   "metadata": {},
   "source": [
    "## Make a uniform name\n",
    "Get the InChI key to give each a uniform name without filesystem-unfriendly characters, like slashes"
   ]
  },
  {
   "cell_type": "code",
   "execution_count": null,
   "id": "4eb24d36-a4f3-4076-9396-843b3b903ed2",
   "metadata": {
    "tags": []
   },
   "outputs": [],
   "source": [
    "records['inchi_key'] = records['inchi'].apply(Chem.MolFromInchi).apply(Chem.MolToInchiKey)"
   ]
  },
  {
   "cell_type": "code",
   "execution_count": null,
   "id": "2d503fb7-a0a0-42cf-849e-8fcf2ff61faf",
   "metadata": {
    "tags": []
   },
   "outputs": [],
   "source": [
    "records['name'] = [f'{x}_{y}' for x, y in records[['inchi_key', 'geom_id']].values]"
   ]
  },
  {
   "cell_type": "markdown",
   "id": "62ec2232-d608-471b-ac09-b9e56a0d7b5f",
   "metadata": {},
   "source": [
    "## Assign Electronic States\n",
    "Get the charge on the molecule and assign magnetic moments, charges as appropriate."
   ]
  },
  {
   "cell_type": "code",
   "execution_count": null,
   "id": "1315124a-1061-46bf-b45b-a927b60598ca",
   "metadata": {
    "tags": []
   },
   "outputs": [],
   "source": [
    "def assign_atomic_states(xyz: str, inchi: str) -> str:\n",
    "    \"\"\"Assign initial charges and magmom to atoms based on electronic states\n",
    "    \n",
    "    Our quantum chemistry methods do not use this information as initial guesses\n",
    "    for atomic charges, but only as a way of determining multiplicity.\n",
    "    so we just place it on any atom.\n",
    "    \n",
    "    Returns:\n",
    "        Updated structure in extxyz format, which preserves this information\n",
    "    \"\"\"\n",
    "    \n",
    "    # Load XYZ\n",
    "    atoms = read_from_string(xyz, 'xyz')\n",
    "    mol = Chem.MolFromInchi(inchi)\n",
    "    mol = Chem.AddHs(mol)\n",
    "    AllChem.AssignRadicals(mol)\n",
    "    \n",
    "    # Get the magmom and charges\n",
    "    magmom = [atom.GetNumRadicalElectrons() for atom in mol.GetAtoms()]\n",
    "    charges = [atom.GetFormalCharge() for atom in mol.GetAtoms()]\n",
    "    \n",
    "    # Assign them to the molecule and print\n",
    "    atoms.set_initial_charges(charges)\n",
    "    atoms.set_initial_magnetic_moments(magmom)\n",
    "    \n",
    "    # Assign them to the atoms\n",
    "    return write_to_string(atoms, 'extxyz')"
   ]
  },
  {
   "cell_type": "code",
   "execution_count": null,
   "id": "df3412fe-4149-49c1-8353-ef1fa6167251",
   "metadata": {
    "tags": []
   },
   "outputs": [],
   "source": [
    "records['extxyz'] = records.apply(lambda x: assign_atomic_states(x.xyz, x.inchi), axis=1)"
   ]
  },
  {
   "cell_type": "markdown",
   "id": "114fd645-d05e-4ac2-bf4a-d8a67135d5e9",
   "metadata": {
    "tags": []
   },
   "source": [
    "## Save Some to Disk\n",
    "Sort, shuffle, then save a sample to disk to use for validation"
   ]
  },
  {
   "cell_type": "code",
   "execution_count": null,
   "id": "9c7bb2b7-0c7e-4248-9768-5bee5280a23b",
   "metadata": {
    "tags": []
   },
   "outputs": [],
   "source": [
    "records.sort_values('name', inplace=True)\n",
    "records = records.sample(frac=1., random_state=1)"
   ]
  },
  {
   "cell_type": "code",
   "execution_count": null,
   "id": "f0da8789-63ff-4da3-ab8a-37b85a12d2f3",
   "metadata": {
    "tags": []
   },
   "outputs": [],
   "source": [
    "records['inchi'].head().tolist()"
   ]
  },
  {
   "cell_type": "markdown",
   "id": "62401e23-599d-4ba8-bab8-2ed2b1cb9251",
   "metadata": {},
   "source": [
    "Write some XYZ files"
   ]
  },
  {
   "cell_type": "code",
   "execution_count": null,
   "id": "d85282da-ef1f-4f98-961a-e8708c6db459",
   "metadata": {
    "tags": []
   },
   "outputs": [],
   "source": [
    "out_dir = Path('xyzs') / 'combustion'\n",
    "out_dir.mkdir(exist_ok=True, parents=True)"
   ]
  },
  {
   "cell_type": "code",
   "execution_count": null,
   "id": "8ce37a90-d3ad-451e-8b7e-163dc2861035",
   "metadata": {
    "tags": []
   },
   "outputs": [],
   "source": [
    "for _, row in records.head(num_to_save).iterrows():\n",
    "    (out_dir / f'{row[\"name\"]}.xyz').write_text(row['extxyz'])"
   ]
  }
 ],
 "metadata": {
  "kernelspec": {
   "display_name": "Python 3 (ipykernel)",
   "language": "python",
   "name": "python3"
  },
  "language_info": {
   "codemirror_mode": {
    "name": "ipython",
    "version": 3
   },
   "file_extension": ".py",
   "mimetype": "text/x-python",
   "name": "python",
   "nbconvert_exporter": "python",
   "pygments_lexer": "ipython3",
   "version": "3.9.18"
  }
 },
 "nbformat": 4,
 "nbformat_minor": 5
}
