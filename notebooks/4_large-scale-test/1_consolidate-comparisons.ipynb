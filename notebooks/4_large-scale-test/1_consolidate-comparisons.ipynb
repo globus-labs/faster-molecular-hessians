{
 "cells": [
  {
   "cell_type": "markdown",
   "id": "40b832d3-24ee-434e-8d32-765f5bbda661",
   "metadata": {},
   "source": [
    "# Consolidate Results\n",
    "Get the Hessians for all molecules we ran, collapse into a comparison table where we compare against the exact Hessaian at MP2/AVTZ."
   ]
  },
  {
   "cell_type": "code",
   "execution_count": null,
   "id": "fb58e077-d47f-437a-a954-f0e6af34c324",
   "metadata": {
    "tags": []
   },
   "outputs": [],
   "source": [
    "from jitterbug.compare import compare_hessians\n",
    "from dataclasses import asdict\n",
    "from pathlib import Path\n",
    "from ase.io import read\n",
    "from tqdm import tqdm\n",
    "import pandas as pd\n",
    "import numpy as np"
   ]
  },
  {
   "cell_type": "markdown",
   "id": "dd2e4b24-77c5-405f-9363-c761f4b94d14",
   "metadata": {},
   "source": [
    "Configuration"
   ]
  },
  {
   "cell_type": "code",
   "execution_count": null,
   "id": "fe2fc70d-6b1c-43d7-8a1c-9330a507819d",
   "metadata": {
    "tags": []
   },
   "outputs": [],
   "source": [
    "top_method = 'mp2'\n",
    "top_basis = 'aug-cc-pvtz'"
   ]
  },
  {
   "cell_type": "markdown",
   "id": "449c45ea-9d5d-46fa-91e4-78b431d5fcb7",
   "metadata": {},
   "source": [
    "## Find All Runs\n",
    "Get all runs of jitterbug and store the path, settings, and execution time."
   ]
  },
  {
   "cell_type": "code",
   "execution_count": null,
   "id": "85052643-0ffe-4788-89fc-25ccd36c1a03",
   "metadata": {
    "tags": []
   },
   "outputs": [],
   "source": [
    "exact_runs = [x.parent for x in Path('../../run/').rglob('hessian.npy')]\n",
    "print(f'Found {len(exact_runs)} exact Hessians')"
   ]
  },
  {
   "cell_type": "code",
   "execution_count": null,
   "id": "b1b466eb-49f7-483d-b568-11e7e75024aa",
   "metadata": {
    "tags": []
   },
   "outputs": [],
   "source": [
    "def load_run(path: Path) -> dict:\n",
    "    \"\"\"Load information about a run\n",
    "    \n",
    "    Args:\n",
    "        path: Path to the run file\n",
    "    Returns:\n",
    "        Dictionary describing the run\n",
    "    \"\"\"\n",
    "    \n",
    "    # Start by getting the run metadata\n",
    "    mol_name = path.parent.name\n",
    "    method, basis, _ = path.name.split(\"_\")\n",
    "    \n",
    "    # Get molecule details\n",
    "    atoms = read(path / f'{mol_name}.xyz')\n",
    "    formula = atoms.get_chemical_formula()\n",
    "    heavy_count = sum(1 for x in atoms.get_chemical_symbols() if x != 'H')\n",
    "    \n",
    "    # Load in the run files\n",
    "    result = pd.read_json(path / 'simulation-results.json', lines=True).query('success')\n",
    "    run_time = result['time_running'].sum()\n",
    "    run_time_no_startup = result['time_running'].median() * len(result)\n",
    "    \n",
    "    # Guess the system\n",
    "    hostname = result.iloc[0]['worker_info']['hostname']\n",
    "    if hostname.startswith('nid'):\n",
    "        host = 'theta'\n",
    "    else:\n",
    "        host = hostname\n",
    "    \n",
    "    \n",
    "    return {\n",
    "        'path': path,\n",
    "        'atoms': atoms,\n",
    "        'geometry': mol_name,\n",
    "        'formula': formula,\n",
    "        'heavy_atoms': heavy_count,\n",
    "        'n_atoms': len(atoms),\n",
    "        'method': method,\n",
    "        'basis': basis,\n",
    "        'num_energies': len(result), \n",
    "        'host': host,\n",
    "        'cost': run_time / 3600.,\n",
    "        'cost_corrected': run_time_no_startup / 3600.\n",
    "    }"
   ]
  },
  {
   "cell_type": "code",
   "execution_count": null,
   "id": "2ce5d1af-03db-4e5a-9220-5356f0854b26",
   "metadata": {
    "tags": []
   },
   "outputs": [],
   "source": [
    "all_runs = pd.DataFrame(map(load_run, tqdm(exact_runs)))"
   ]
  },
  {
   "cell_type": "markdown",
   "id": "2df44057-5618-4434-a37b-00b7b53cf783",
   "metadata": {},
   "source": [
    "## Compare to Top Level\n",
    "Compare each Hessian to that of the top level"
   ]
  },
  {
   "cell_type": "code",
   "execution_count": null,
   "id": "598e276a-9d30-4f32-8db1-353d058c88f8",
   "metadata": {
    "tags": []
   },
   "outputs": [],
   "source": [
    "top_mols = all_runs.query(f'method==\"{top_method}\" and basis==\"{top_basis}\"')\n",
    "print(f'Ran {len(top_mols)} molecules at {top_method}//{top_basis}')"
   ]
  },
  {
   "cell_type": "markdown",
   "id": "9303d0a5-8b4b-4b99-9370-52e00b5bf4ae",
   "metadata": {},
   "source": [
    "Filter down to only molecules with the top level"
   ]
  },
  {
   "cell_type": "code",
   "execution_count": null,
   "id": "5410cf31-b938-434d-acad-ce21d822bc96",
   "metadata": {
    "tags": []
   },
   "outputs": [],
   "source": [
    "completed_mols = all_runs[all_runs['geometry'].apply(set(top_mols['geometry'].tolist()).__contains__)]\n",
    "print(f'Have a total of {len(completed_mols)} at this level')"
   ]
  },
  {
   "cell_type": "markdown",
   "id": "b864d26f-7e3f-46ec-98e0-787625f9cd9b",
   "metadata": {},
   "source": [
    "Run the comparisons"
   ]
  },
  {
   "cell_type": "code",
   "execution_count": null,
   "id": "0b667e00-c7b0-451b-b4ac-1a685d878889",
   "metadata": {},
   "outputs": [],
   "source": [
    "comparisons = []\n",
    "for rid, row in top_mols.iterrows():\n",
    "    # Get the exact answer\n",
    "    exact_hess = np.load(row['path'] / 'hessian.npy')\n",
    "    atoms = row['atoms']\n",
    "    \n",
    "    # Run the comparisons\n",
    "    for rid, row in completed_mols.query(f'geometry==\"{row[\"geometry\"]}\"').iterrows():\n",
    "        my_hess = np.load(row['path'] / 'hessian.npy')\n",
    "        comparison = compare_hessians(atoms, exact_hess, my_hess)\n",
    "        comparisons.append({**row, **asdict(comparison)})\n",
    "comparisons = pd.DataFrame(comparisons)"
   ]
  },
  {
   "cell_type": "markdown",
   "id": "959b96e6-976c-49fc-a29d-d663227d4527",
   "metadata": {},
   "source": [
    "Save there results"
   ]
  },
  {
   "cell_type": "code",
   "execution_count": null,
   "id": "e7429686-9207-4cdb-ad9c-fefe773c4f67",
   "metadata": {
    "tags": []
   },
   "outputs": [],
   "source": [
    "comparisons.to_csv(f'comparison-to-{top_method}_{top_basis}.csv', index=False)"
   ]
  },
  {
   "cell_type": "code",
   "execution_count": null,
   "id": "175d067e-7409-43eb-992c-43b3f62bfc82",
   "metadata": {},
   "outputs": [],
   "source": []
  }
 ],
 "metadata": {
  "kernelspec": {
   "display_name": "Python 3 (ipykernel)",
   "language": "python",
   "name": "python3"
  },
  "language_info": {
   "codemirror_mode": {
    "name": "ipython",
    "version": 3
   },
   "file_extension": ".py",
   "mimetype": "text/x-python",
   "name": "python",
   "nbconvert_exporter": "python",
   "pygments_lexer": "ipython3",
   "version": "3.9.18"
  }
 },
 "nbformat": 4,
 "nbformat_minor": 5
}
