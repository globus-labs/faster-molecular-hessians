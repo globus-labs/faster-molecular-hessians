{
 "cells": [
  {
   "cell_type": "markdown",
   "id": "201346ec-3f5a-4235-b8ef-4a0051373865",
   "metadata": {},
   "source": [
    "# Generate Approximate Hessians\n",
    "Like the previous notebook, fit an approximate model and use that to compute the Hessian. Instead of treating the Hessian parameters as separate, we try here to fit a forcefield using the data."
   ]
  },
  {
   "cell_type": "code",
   "execution_count": 1,
   "id": "ebbbc7f5-3007-420f-861a-9f65f84436be",
   "metadata": {
    "tags": []
   },
   "outputs": [],
   "source": [
    "%matplotlib inline\n",
    "from matplotlib import pyplot as plt\n",
    "from jitterbug.model.mbtr import MBTREnergyModel, MBTRCalculator\n",
    "from sklearn.model_selection import GridSearchCV\n",
    "from sklearn.kernel_ridge import KernelRidge\n",
    "from dscribe.descriptors import MBTR\n",
    "from ase.vibrations import VibrationsData\n",
    "from ase.db import connect\n",
    "from pathlib import Path\n",
    "from tqdm import tqdm\n",
    "import numpy as np\n",
    "import warnings"
   ]
  },
  {
   "cell_type": "markdown",
   "id": "85a147c1-2758-465b-bc54-dc373d73a0f3",
   "metadata": {},
   "source": [
    "Configuration"
   ]
  },
  {
   "cell_type": "code",
   "execution_count": 2,
   "id": "99bd4c92-9a7b-4e88-ac45-dbf30fbfc9e0",
   "metadata": {
    "tags": [
     "parameters"
    ]
   },
   "outputs": [],
   "source": [
    "db_path = '../1_explore-sampling-methods/data/along-axes/caffeine_pm7_None_d=5.00e-03-N=2.db'"
   ]
  },
  {
   "cell_type": "markdown",
   "id": "8505d400-8427-45b9-b626-3f9ca557d0c8",
   "metadata": {},
   "source": [
    "Derived"
   ]
  },
  {
   "cell_type": "code",
   "execution_count": 3,
   "id": "a8be3c37-bf1f-4ba4-ba8f-afff6d6bed7d",
   "metadata": {
    "tags": []
   },
   "outputs": [],
   "source": [
    "run_name, sampling_options = Path(db_path).name[:-3].rsplit(\"_\", 1)\n",
    "exact_path = Path('../data/exact/') / f'{run_name}-ase.json'\n",
    "sampling_name = Path(db_path).parent.name\n",
    "out_name = '_'.join([run_name, sampling_name, sampling_options])"
   ]
  },
  {
   "cell_type": "markdown",
   "id": "de1f6aac-b93e-45a7-98e6-ffd5205916a6",
   "metadata": {},
   "source": [
    "## Read in the Data\n",
    "Get all computations for the desired calculation and the exact solution"
   ]
  },
  {
   "cell_type": "code",
   "execution_count": 4,
   "id": "797b96d8-050c-4bdf-9815-586cfb5bc311",
   "metadata": {
    "tags": []
   },
   "outputs": [
    {
     "name": "stdout",
     "output_type": "stream",
     "text": [
      "Loaded 5185 structures\n"
     ]
    }
   ],
   "source": [
    "with connect(db_path) as db:\n",
    "    data = [a.toatoms() for a in db.select('')]\n",
    "print(f'Loaded {len(data)} structures')"
   ]
  },
  {
   "cell_type": "markdown",
   "id": "cb1a8e03-b045-49a4-95fd-61636a48fbad",
   "metadata": {},
   "source": [
    "Read in the exact Hessian"
   ]
  },
  {
   "cell_type": "code",
   "execution_count": 5,
   "id": "7389208d-9323-492c-8fc5-d05a372206c6",
   "metadata": {
    "tags": []
   },
   "outputs": [],
   "source": [
    "with open(exact_path) as fp:\n",
    "    exact_vibs = VibrationsData.read(fp)"
   ]
  },
  {
   "cell_type": "code",
   "execution_count": 6,
   "id": "a9965595-532c-4067-ba24-7620bd977007",
   "metadata": {
    "tags": []
   },
   "outputs": [],
   "source": [
    "exact_hess = exact_vibs.get_hessian_2d()\n",
    "exact_zpe = exact_vibs.get_zero_point_energy()"
   ]
  },
  {
   "cell_type": "markdown",
   "id": "04c60da8-4a1d-4ae3-b45d-b77e71fd598f",
   "metadata": {},
   "source": [
    "## Fit a Hessian with All Data\n",
    "Fit a model which explains the energy data by fitting a Hessian matrix using compressed sensing (i.e., Lasso)."
   ]
  },
  {
   "cell_type": "markdown",
   "id": "fe72ad76-2772-4094-a9b7-065be9a356d4",
   "metadata": {},
   "source": [
    "Make the MBTR calculator using half the available data"
   ]
  },
  {
   "cell_type": "code",
   "execution_count": 7,
   "id": "5a5b4a37-bd58-4855-bc3e-85d4258a25c8",
   "metadata": {
    "tags": []
   },
   "outputs": [
    {
     "name": "stdout",
     "output_type": "stream",
     "text": [
      "CPU times: user 3min 38s, sys: 9.7 s, total: 3min 48s\n",
      "Wall time: 20.1 s\n"
     ]
    }
   ],
   "source": [
    "%%time\n",
    "mbtr = MBTRCalculator(\n",
    "    model=GridSearchCV(\n",
    "        KernelRidge(kernel='rbf', alpha=1e-10), {\n",
    "            'gamma': np.logspace(-5, 5, 32)\n",
    "    }),\n",
    "    descriptor=MBTR(\n",
    "        species=[\"H\", \"C\", \"N\", \"O\"],\n",
    "        geometry={\"function\": \"distance\"},\n",
    "        grid={\"min\": 0, \"max\": 6, \"n\": 64, \"sigma\": 0.05},\n",
    "        weighting={\"function\": \"exp\", \"scale\": 0.1, \"threshold\": 1e-3},\n",
    "        periodic=False,\n",
    "    )\n",
    ")\n",
    "with warnings.catch_warnings():\n",
    "    warnings.simplefilter('ignore')\n",
    "    mbtr.train(data[:len(data) // 2])"
   ]
  },
  {
   "cell_type": "markdown",
   "id": "503240dd-b52c-4111-a024-ec44766940e5",
   "metadata": {},
   "source": [
    "Plot the model performance"
   ]
  },
  {
   "cell_type": "code",
   "execution_count": 8,
   "id": "c0038a85-5a70-4a4e-b830-c3c54e5a8efc",
   "metadata": {
    "tags": []
   },
   "outputs": [],
   "source": [
    "pred_energy= [mbtr.get_potential_energy(x) * 1000 for x in data[len(data) // 2:]]\n",
    "true_energy = [x.get_potential_energy() * 1000 for x in data[len(data) // 2:]]"
   ]
  },
  {
   "cell_type": "code",
   "execution_count": 9,
   "id": "fba09717-7b2b-40a7-a6d3-543c40080d02",
   "metadata": {
    "tags": []
   },
   "outputs": [
    {
     "data": {
      "text/plain": [
       "Text(0, 0.5, '$E-E_0$, True (meV)')"
      ]
     },
     "execution_count": 9,
     "metadata": {},
     "output_type": "execute_result"
    },
    {
     "data": {
      "image/png": "[encoded data removed]",
      "text/plain": [
       "<Figure size 350x350 with 1 Axes>"
      ]
     },
     "metadata": {},
     "output_type": "display_data"
    }
   ],
   "source": [
    "fig, ax = plt.subplots(figsize=(3.5, 3.5))\n",
    "\n",
    "base_energy = data[0].get_potential_energy() * 1000  # in meV\n",
    "ax.scatter(np.subtract(pred_energy, base_energy), np.subtract(true_energy, base_energy), s=2)\n",
    "\n",
    "ax.set_xlim(ax.get_ylim())\n",
    "ax.set_ylim(ax.get_ylim())\n",
    "ax.plot(ax.get_xlim(), ax.get_xlim(), 'k--')\n",
    "\n",
    "ax.set_xlabel('$E-E_0$, ML (meV)')\n",
    "ax.set_ylabel('$E-E_0$, True (meV)')"
   ]
  },
  {
   "cell_type": "markdown",
   "id": "71e8e883-2c4b-4929-a000-297233dabe96",
   "metadata": {},
   "source": [
    "Build the ASE-compatible calculator"
   ]
  },
  {
   "cell_type": "code",
   "execution_count": 10,
   "id": "d6a7d756-37d3-44e0-b5e2-348d07c9d296",
   "metadata": {
    "tags": []
   },
   "outputs": [
    {
     "name": "stdout",
     "output_type": "stream",
     "text": [
      "CPU times: user 14min 25s, sys: 43.9 s, total: 15min 9s\n",
      "Wall time: 1min 23s\n"
     ]
    }
   ],
   "source": [
    "%%time\n",
    "model = MBTREnergyModel(reference=data[0], calc=mbtr)\n",
    "with warnings.catch_warnings():\n",
    "    warnings.simplefilter(\"ignore\")\n",
    "    hess_model = model.train(data)"
   ]
  },
  {
   "cell_type": "code",
   "execution_count": 11,
   "id": "372a4089-88cb-47ae-a917-190bc26287ff",
   "metadata": {},
   "outputs": [
    {
     "data": {
      "text/plain": [
       "{'gamma': 9.284145445194744e-05}"
      ]
     },
     "execution_count": 11,
     "metadata": {},
     "output_type": "execute_result"
    }
   ],
   "source": [
    "hess_model.parameters['model'].best_params_"
   ]
  },
  {
   "cell_type": "markdown",
   "id": "aa509659-701d-4001-8cc7-980c9d999976",
   "metadata": {},
   "source": [
    "Compare the forces estimated at a zero displacement to the true value"
   ]
  },
  {
   "cell_type": "code",
   "execution_count": 12,
   "id": "70d80f87-9983-4bd5-a6ae-b9c966b0d838",
   "metadata": {
    "tags": []
   },
   "outputs": [],
   "source": [
    "actual_forces = data[0].get_forces()"
   ]
  },
  {
   "cell_type": "code",
   "execution_count": 13,
   "id": "f548b145-0aa8-47f7-802b-6b7232a74bd3",
   "metadata": {
    "tags": []
   },
   "outputs": [],
   "source": [
    "pred_forces = hess_model.get_forces(data[0])"
   ]
  },
  {
   "cell_type": "code",
   "execution_count": 14,
   "id": "d7cd7762-6e12-4dcd-b564-67a33b18d9e0",
   "metadata": {
    "tags": []
   },
   "outputs": [
    {
     "name": "stdout",
     "output_type": "stream",
     "text": [
      "Maximum force: 1.51e-02 eV/Angstrom\n"
     ]
    }
   ],
   "source": [
    "print(f'Maximum force: {np.abs(pred_forces).max():.2e} eV/Angstrom')"
   ]
  },
  {
   "cell_type": "code",
   "execution_count": 15,
   "id": "425b77a9-7fd7-40da-af6f-eaed197c9ab6",
   "metadata": {
    "tags": []
   },
   "outputs": [
    {
     "data": {
      "image/png": "[encoded data removed]",
      "text/plain": [
       "<Figure size 400x200 with 2 Axes>"
      ]
     },
     "metadata": {},
     "output_type": "display_data"
    }
   ],
   "source": [
    "fig, axs = plt.subplots(1, 2, figsize=(4, 2))\n",
    "\n",
    "for ax, l, h in zip(axs, ['Actual', 'Estimated'], [actual_forces, pred_forces]):\n",
    "    ax.matshow(h, vmin=-0.05, vmax=0.05, aspect='auto', cmap='RdBu')\n",
    "\n",
    "    ax.set_xticklabels([])\n",
    "    ax.set_yticklabels([])\n",
    "    \n",
    "    ax.set_title(l, fontsize=10)\n",
    "\n",
    "fig.tight_layout()"
   ]
  },
  {
   "cell_type": "markdown",
   "id": "46a0f2f8-f863-4de3-bd97-97ebd92676d4",
   "metadata": {},
   "source": [
    "Get the mean Hessian"
   ]
  },
  {
   "cell_type": "code",
   "execution_count": 16,
   "id": "00a10907-667a-413c-851d-d47f0eff092b",
   "metadata": {},
   "outputs": [
    {
     "name": "stdout",
     "output_type": "stream",
     "text": [
      "CPU times: user 4min 8s, sys: 3.23 s, total: 4min 12s\n",
      "Wall time: 1min 24s\n"
     ]
    }
   ],
   "source": [
    "%%time\n",
    "approx_hessian = model.mean_hessian(hess_model)"
   ]
  },
  {
   "cell_type": "markdown",
   "id": "f4de2e78-00c2-427f-b9bd-eb3ca881564b",
   "metadata": {},
   "source": [
    "Compare to exact answer"
   ]
  },
  {
   "cell_type": "code",
   "execution_count": 17,
   "id": "d48893fd-df0d-4fa8-bfbe-0d04b71fbf1a",
   "metadata": {
    "tags": []
   },
   "outputs": [
    {
     "data": {
      "text/plain": [
       "array([[ 1.42193910e+01,  2.19101005e+01, -2.39586674e-04],\n",
       "       [ 2.19101005e+01,  7.86328494e+01, -3.46912831e-05],\n",
       "       [-2.39586674e-04, -3.46912831e-05,  2.52655314e+00]])"
      ]
     },
     "execution_count": 17,
     "metadata": {},
     "output_type": "execute_result"
    }
   ],
   "source": [
    "exact_hess[:3, :3]"
   ]
  },
  {
   "cell_type": "code",
   "execution_count": 18,
   "id": "9b311dea-5744-4211-81cb-40aa1183301e",
   "metadata": {
    "tags": []
   },
   "outputs": [
    {
     "data": {
      "text/plain": [
       "array([[ 1.50773132e+01,  2.24398727e+01,  4.01418338e-03],\n",
       "       [ 2.24398727e+01,  8.10175928e+01, -5.86781535e-03],\n",
       "       [ 4.01418338e-03, -5.86781535e-03,  2.09022244e+00]])"
      ]
     },
     "execution_count": 18,
     "metadata": {},
     "output_type": "execute_result"
    }
   ],
   "source": [
    "approx_hessian[:3, :3]"
   ]
  },
  {
   "cell_type": "code",
   "execution_count": 19,
   "id": "addd7bef-854a-4b9f-96e9-2aa01b652495",
   "metadata": {
    "tags": []
   },
   "outputs": [
    {
     "data": {
      "image/png": "[encoded data removed]",
      "text/plain": [
       "<Figure size 400x200 with 2 Axes>"
      ]
     },
     "metadata": {},
     "output_type": "display_data"
    }
   ],
   "source": [
    "fig, axs = plt.subplots(1, 2, figsize=(4, 2))\n",
    "\n",
    "for ax, l, h in zip(axs, ['Exact', 'Approximate'], [exact_hess, approx_hessian]):\n",
    "    ax.matshow(h, vmin=-100, vmax=100, cmap='RdBu')\n",
    "\n",
    "    ax.set_xticklabels([])\n",
    "    ax.set_yticklabels([])\n",
    "    \n",
    "    ax.set_title(l, fontsize=10)\n",
    "\n",
    "fig.tight_layout()"
   ]
  },
  {
   "cell_type": "markdown",
   "id": "b516bb4e-d27d-4ad6-ad4b-b873c81670ff",
   "metadata": {},
   "source": [
    "Get the zero point energy"
   ]
  },
  {
   "cell_type": "code",
   "execution_count": 20,
   "id": "abbbbfd6-7d17-4b93-880a-3352903b56c4",
   "metadata": {
    "tags": []
   },
   "outputs": [],
   "source": [
    "approx_vibs = VibrationsData.from_2d(data[0], approx_hessian)"
   ]
  },
  {
   "cell_type": "code",
   "execution_count": 21,
   "id": "fdd80af3-8c18-40d8-b971-4a473bc91498",
   "metadata": {},
   "outputs": [
    {
     "data": {
      "text/plain": [
       "4.684709110728037"
      ]
     },
     "execution_count": 21,
     "metadata": {},
     "output_type": "execute_result"
    }
   ],
   "source": [
    "approx_vibs.get_zero_point_energy()"
   ]
  },
  {
   "cell_type": "code",
   "execution_count": 22,
   "id": "6b1af348-4bc9-4ced-9a12-44b3e49abe9c",
   "metadata": {
    "tags": []
   },
   "outputs": [
    {
     "data": {
      "text/plain": [
       "4.746888516975277"
      ]
     },
     "execution_count": 22,
     "metadata": {},
     "output_type": "execute_result"
    }
   ],
   "source": [
    "exact_zpe"
   ]
  },
  {
   "cell_type": "markdown",
   "id": "ab6a6645-bf0e-4ed7-874e-6a345063e0b5",
   "metadata": {},
   "source": [
    "The two differ, but I'm not sure how important the difference is."
   ]
  },
  {
   "cell_type": "markdown",
   "id": "29a44b3d-cd3e-44af-9bc2-3e0164b22a38",
   "metadata": {},
   "source": [
    "Save it to disk"
   ]
  },
  {
   "cell_type": "code",
   "execution_count": 23,
   "id": "40fd3d44-df72-4b9d-b7b0-f09fabe74c0d",
   "metadata": {
    "tags": []
   },
   "outputs": [],
   "source": [
    "out_dir = Path('data/mbtr')\n",
    "out_dir.mkdir(exist_ok=True, parents=True)\n",
    "with open(f'data/mbtr/{out_name}.json', 'w') as fp:\n",
    "    approx_vibs.write(fp)"
   ]
  },
  {
   "cell_type": "markdown",
   "id": "6489882c-acaf-4a07-bbe9-d643f7c5c882",
   "metadata": {},
   "source": [
    "## Plot as a Function of Data\n",
    "See what happens as we add more data to the training"
   ]
  },
  {
   "cell_type": "code",
   "execution_count": 24,
   "id": "bce41a81-6c88-4b0c-9d8d-0891d1832fd6",
   "metadata": {
    "tags": []
   },
   "outputs": [
    {
     "name": "stdout",
     "output_type": "stream",
     "text": [
      "Plotting at 16 steps: 5, 350, 695, 1041, 1386, ...\n"
     ]
    }
   ],
   "source": [
    "steps = np.linspace(5, len(data), 16, dtype=int)\n",
    "print(f'Plotting at {len(steps)} steps: {\", \".join(map(str, steps[:5]))}, ...')"
   ]
  },
  {
   "cell_type": "code",
   "execution_count": 25,
   "id": "fe39ce86-1806-4367-8c86-e3ef58f81f84",
   "metadata": {
    "tags": []
   },
   "outputs": [
    {
     "name": "stderr",
     "output_type": "stream",
     "text": [
      "100%|█████████████████████████████████████████████████████████████████████████████████████████████████████████████████████████████████████████████████████████████████████████████████████████████████████████████████████████████████████████████████████| 16/16 [18:07<00:00, 67.94s/it]\n"
     ]
    }
   ],
   "source": [
    "zpes = []\n",
    "for count in tqdm(steps):\n",
    "    with warnings.catch_warnings():\n",
    "        warnings.simplefilter(\"ignore\")\n",
    "        hess_model = model.train(data[:count])\n",
    "    \n",
    "    approx_hessian = model.mean_hessian(hess_model)\n",
    "    approx_vibs = VibrationsData.from_2d(data[0], approx_hessian)\n",
    "    zpes.append(approx_vibs.get_zero_point_energy())"
   ]
  },
  {
   "cell_type": "markdown",
   "id": "c179c3ae-695f-44ad-b548-10002c4ff30b",
   "metadata": {},
   "source": [
    "Plot it"
   ]
  },
  {
   "cell_type": "code",
   "execution_count": 26,
   "id": "1c6706a9-a27f-448f-81d4-957939bb2ca8",
   "metadata": {
    "tags": []
   },
   "outputs": [
    {
     "data": {
      "image/png": "[encoded data removed]",
      "text/plain": [
       "<Figure size 350x200 with 1 Axes>"
      ]
     },
     "metadata": {},
     "output_type": "display_data"
    }
   ],
   "source": [
    "fig, ax = plt.subplots(figsize=(3.5, 2))\n",
    "\n",
    "ax.plot(steps, zpes)\n",
    "\n",
    "ax.set_xlim([0, steps.max()])\n",
    "ax.plot(ax.get_xlim(), [exact_zpe]*2, 'k--')\n",
    "\n",
    "ax.set_xlabel('Energies')\n",
    "ax.set_ylabel('ZPE (eV)')\n",
    "\n",
    "fig.tight_layout()"
   ]
  },
  {
   "cell_type": "markdown",
   "id": "e8788f74-c208-4939-aa9b-3bbdfd8310ee",
   "metadata": {},
   "source": [
    "We consistently underestimate the ZPE. Is it because we have too few oscillators?\n",
    "\n",
    "TODO: \n",
    "- Save this data so we can compare it in a later notebook"
   ]
  },
  {
   "cell_type": "code",
   "execution_count": null,
   "id": "384af4b3-5eb3-4eac-b176-160f19944853",
   "metadata": {},
   "outputs": [],
   "source": []
  }
 ],
 "metadata": {
  "kernelspec": {
   "display_name": "Python 3 (ipykernel)",
   "language": "python",
   "name": "python3"
  },
  "language_info": {
   "codemirror_mode": {
    "name": "ipython",
    "version": 3
   },
   "file_extension": ".py",
   "mimetype": "text/x-python",
   "name": "python",
   "nbconvert_exporter": "python",
   "pygments_lexer": "ipython3",
   "version": "3.9.17"
  }
 },
 "nbformat": 4,
 "nbformat_minor": 5
}
