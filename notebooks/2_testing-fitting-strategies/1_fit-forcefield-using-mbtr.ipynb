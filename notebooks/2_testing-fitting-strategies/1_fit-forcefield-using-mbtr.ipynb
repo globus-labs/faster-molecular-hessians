{
 "cells": [
  {
   "cell_type": "markdown",
   "id": "201346ec-3f5a-4235-b8ef-4a0051373865",
   "metadata": {},
   "source": [
    "# Generate Approximate Hessians\n",
    "Like the previous notebook, fit an approximate model and use that to compute the Hessian. Instead of treating the Hessian parameters as separate, we try here to fit a forcefield using the data."
   ]
  },
  {
   "cell_type": "code",
   "execution_count": 2,
   "id": "ebbbc7f5-3007-420f-861a-9f65f84436be",
   "metadata": {
    "tags": []
   },
   "outputs": [],
   "source": [
    "%matplotlib inline\n",
    "from matplotlib import pyplot as plt\n",
    "from jitterbug.model.dscribe.globald import DScribeGlobalEnergyModel\n",
    "from sklearn.model_selection import GridSearchCV, train_test_split\n",
    "from sklearn.preprocessing import StandardScaler\n",
    "from sklearn.metrics import mean_absolute_error\n",
    "from sklearn.kernel_ridge import KernelRidge\n",
    "from sklearn.pipeline import Pipeline\n",
    "from dscribe.descriptors import MBTR\n",
    "from ase.vibrations import VibrationsData\n",
    "from ase.db import connect\n",
    "from pathlib import Path\n",
    "from tqdm import tqdm\n",
    "import numpy as np\n",
    "import warnings\n",
    "import json\n",
    "import ase"
   ]
  },
  {
   "cell_type": "markdown",
   "id": "85a147c1-2758-465b-bc54-dc373d73a0f3",
   "metadata": {},
   "source": [
    "Configuration"
   ]
  },
  {
   "cell_type": "code",
   "execution_count": 8,
   "id": "99bd4c92-9a7b-4e88-ac45-dbf30fbfc9e0",
   "metadata": {
    "tags": [
     "parameters"
    ]
   },
   "outputs": [],
   "source": [
    "db_path = '../1_explore-sampling-methods/data/along-axes/caffeine_pm7_None_d=5.00e-03-N=2.db'\n",
    "overwrite = False"
   ]
  },
  {
   "cell_type": "markdown",
   "id": "8505d400-8427-45b9-b626-3f9ca557d0c8",
   "metadata": {},
   "source": [
    "Derived"
   ]
  },
  {
   "cell_type": "code",
   "execution_count": 9,
   "id": "a8be3c37-bf1f-4ba4-ba8f-afff6d6bed7d",
   "metadata": {
    "tags": []
   },
   "outputs": [],
   "source": [
    "run_name, sampling_options = Path(db_path).name[:-3].rsplit(\"_\", 1)\n",
    "exact_path = Path('../data/exact/') / f'{run_name}-ase.json'\n",
    "sampling_name = Path(db_path).parent.name\n",
    "out_name = '_'.join([run_name, sampling_name, sampling_options])\n",
    "out_dir = Path('data/mbtr/')"
   ]
  },
  {
   "cell_type": "markdown",
   "id": "41f31375-9cf5-412b-949c-406711358781",
   "metadata": {},
   "source": [
    "Skip if done"
   ]
  },
  {
   "cell_type": "code",
   "execution_count": 12,
   "id": "75d22086-f020-40d7-8327-1154491b9821",
   "metadata": {
    "tags": []
   },
   "outputs": [
    {
     "ename": "ValueError",
     "evalue": "Already done!",
     "output_type": "error",
     "traceback": [
      "\u001b[0;31m---------------------------------------------------------------------------\u001b[0m",
      "\u001b[0;31mValueError\u001b[0m                                Traceback (most recent call last)",
      "Cell \u001b[0;32mIn[12], line 2\u001b[0m\n\u001b[1;32m      1\u001b[0m \u001b[38;5;28;01mif\u001b[39;00m (out_dir \u001b[38;5;241m/\u001b[39m \u001b[38;5;124mf\u001b[39m\u001b[38;5;124m'\u001b[39m\u001b[38;5;132;01m{\u001b[39;00mout_name\u001b[38;5;132;01m}\u001b[39;00m\u001b[38;5;124m.json\u001b[39m\u001b[38;5;124m'\u001b[39m)\u001b[38;5;241m.\u001b[39mexists() \u001b[38;5;129;01mand\u001b[39;00m \u001b[38;5;129;01mnot\u001b[39;00m overwrite:\n\u001b[0;32m----> 2\u001b[0m     \u001b[38;5;28;01mraise\u001b[39;00m \u001b[38;5;167;01mValueError\u001b[39;00m(\u001b[38;5;124m'\u001b[39m\u001b[38;5;124mAlready done!\u001b[39m\u001b[38;5;124m'\u001b[39m)\n",
      "\u001b[0;31mValueError\u001b[0m: Already done!"
     ]
    }
   ],
   "source": [
    "if (out_dir / f'{out_name}-full.json').exists() and not overwrite:\n",
    "    raise ValueError('Already done!')"
   ]
  },
  {
   "cell_type": "markdown",
   "id": "de1f6aac-b93e-45a7-98e6-ffd5205916a6",
   "metadata": {},
   "source": [
    "## Read in the Data\n",
    "Get all computations for the desired calculation and the exact solution"
   ]
  },
  {
   "cell_type": "code",
   "execution_count": null,
   "id": "797b96d8-050c-4bdf-9815-586cfb5bc311",
   "metadata": {
    "tags": []
   },
   "outputs": [],
   "source": [
    "with connect(db_path) as db:\n",
    "    data = [a.toatoms() for a in db.select('')]\n",
    "print(f'Loaded {len(data)} structures')"
   ]
  },
  {
   "cell_type": "markdown",
   "id": "cb1a8e03-b045-49a4-95fd-61636a48fbad",
   "metadata": {},
   "source": [
    "Read in the exact Hessian"
   ]
  },
  {
   "cell_type": "code",
   "execution_count": null,
   "id": "7389208d-9323-492c-8fc5-d05a372206c6",
   "metadata": {
    "tags": []
   },
   "outputs": [],
   "source": [
    "with open(exact_path) as fp:\n",
    "    exact_vibs = VibrationsData.read(fp)"
   ]
  },
  {
   "cell_type": "code",
   "execution_count": null,
   "id": "a9965595-532c-4067-ba24-7620bd977007",
   "metadata": {
    "tags": []
   },
   "outputs": [],
   "source": [
    "exact_hess = exact_vibs.get_hessian_2d()\n",
    "exact_zpe = exact_vibs.get_zero_point_energy()"
   ]
  },
  {
   "cell_type": "markdown",
   "id": "03154497-b882-4531-bc66-0a3b51a4b9a9",
   "metadata": {},
   "source": [
    "## Adjust Hyperparameters\n",
    "We have a few different hyperparameters to fit, the type of descriptors we use and those of the underlying model."
   ]
  },
  {
   "cell_type": "code",
   "execution_count": null,
   "id": "8711d448-0c8e-459b-9158-92dcfa4ddfd8",
   "metadata": {
    "tags": []
   },
   "outputs": [],
   "source": [
    "train_data, test_data = train_test_split(data, test_size=0.5)"
   ]
  },
  {
   "cell_type": "markdown",
   "id": "d83a86b0-78ad-40be-9f29-77d91457835b",
   "metadata": {},
   "source": [
    "Get a baseline score"
   ]
  },
  {
   "cell_type": "code",
   "execution_count": null,
   "id": "207fbca5-6020-4983-980a-9da5f6ff2e67",
   "metadata": {
    "tags": []
   },
   "outputs": [],
   "source": [
    "test_y = np.array([a.get_potential_energy() for a in test_data])\n",
    "baseline_y = np.abs(test_y - test_y.mean()).mean()\n",
    "print(f'Baseline score: {baseline_y*1000:.2e} meV/atom')"
   ]
  },
  {
   "cell_type": "code",
   "execution_count": null,
   "id": "287c812d-76c9-4907-b649-401a60a4ff1f",
   "metadata": {
    "tags": []
   },
   "outputs": [],
   "source": [
    "def test_model(train_data: list[ase.Atoms], test_data: list[ase.Atoms], descriptor: MBTR, model: GridSearchCV) -> float:\n",
    "    \"\"\"Get the MAE for a combination of descriptor and model\"\"\"\n",
    "    \n",
    "    # Compute descriptors and get energies\n",
    "    train_x = descriptor.create(train_data)\n",
    "    train_y = np.array([a.get_potential_energy() for a in train_data])\n",
    "    scale_y, offset_y = train_y.std(), train_y.mean()\n",
    "    train_y = (train_y - offset_y) / scale_y\n",
    "    \n",
    "    # Fit the model\n",
    "    model.fit(train_x, train_y)\n",
    "    \n",
    "    # Run on the test set\n",
    "    test_x = descriptor.create(test_data)\n",
    "    pred_y = (model.predict(test_x) * scale_y) + offset_y\n",
    "    \n",
    "    # Return the error\n",
    "    test_y = np.array([a.get_potential_energy() for a in test_data])\n",
    "    return mean_absolute_error(test_y, pred_y)"
   ]
  },
  {
   "cell_type": "markdown",
   "id": "b8b1440f-6e1f-4681-b402-b56ecc81462c",
   "metadata": {},
   "source": [
    "We'll use KRR for all the tests"
   ]
  },
  {
   "cell_type": "code",
   "execution_count": null,
   "id": "5726b0d1-ef03-4d93-ace7-f7636977ba07",
   "metadata": {
    "tags": []
   },
   "outputs": [],
   "source": [
    "model = Pipeline(\n",
    "    [('scale', StandardScaler()), \n",
    "     ('krr', GridSearchCV(KernelRidge(kernel='rbf', alpha=1e-10), {'gamma': np.logspace(-5, 5, 32)}))]\n",
    ")"
   ]
  },
  {
   "cell_type": "markdown",
   "id": "8e088dc8-f603-4e5e-ae50-4444f0d9fb97",
   "metadata": {},
   "source": [
    "Start off with testing 2D descriptors. We'll want to evaluate the maximum distance of the grid and the number of points"
   ]
  },
  {
   "cell_type": "code",
   "execution_count": null,
   "id": "574bb81a-ea70-45bc-b6bb-8556bf4ea753",
   "metadata": {
    "tags": []
   },
   "outputs": [],
   "source": [
    "max_dists = np.arange(2, 6.01, 0.25)\n",
    "n_points = 32\n",
    "sigma = 0.1\n",
    "test_score = []\n",
    "for max_dist in tqdm(max_dists):\n",
    "    desc = MBTR(\n",
    "        species=[\"H\", \"C\", \"N\", \"O\"],\n",
    "        geometry={\"function\": \"distance\"},\n",
    "        grid={\"min\": 0.5, \"max\": max_dist, \"n\": n_points, \"sigma\": sigma},\n",
    "        weighting={\"function\": \"exp\", \"scale\": 0.1, \"threshold\": 1e-3},\n",
    "        periodic=False,\n",
    "    )\n",
    "    test_score.append(test_model(train_data, test_data, desc, model))"
   ]
  },
  {
   "cell_type": "code",
   "execution_count": null,
   "id": "a59e6921-4baa-4a6c-bde0-bde54bbe59ee",
   "metadata": {
    "tags": []
   },
   "outputs": [],
   "source": [
    "max_dist = max_dists[np.argmin(test_score)]\n",
    "print(f'Selected a maximum distance of {max_dist:.2f} A')"
   ]
  },
  {
   "cell_type": "code",
   "execution_count": null,
   "id": "8921b7bc-6be6-44ae-a820-da15dce0c496",
   "metadata": {
    "tags": []
   },
   "outputs": [],
   "source": [
    "n_pointss = [8, 16, 32, 64, 128]\n",
    "sigma = 0.1\n",
    "test_score = []\n",
    "for n_points in tqdm(n_pointss):\n",
    "    desc = MBTR(\n",
    "        species=[\"H\", \"C\", \"N\", \"O\"],\n",
    "        geometry={\"function\": \"distance\"},\n",
    "        grid={\"min\": 0.5, \"max\": max_dist, \"n\": n_points, \"sigma\": sigma},\n",
    "        weighting={\"function\": \"exp\", \"scale\": 0.1, \"threshold\": 1e-3},\n",
    "        periodic=False,\n",
    "    )\n",
    "    test_score.append(test_model(train_data, test_data, desc, model))"
   ]
  },
  {
   "cell_type": "code",
   "execution_count": null,
   "id": "4c60271b-5d52-4606-a224-d1230c8c03ac",
   "metadata": {
    "tags": []
   },
   "outputs": [],
   "source": [
    "n_points = n_pointss[np.argmin(test_score)]\n",
    "best_2d_score = min(test_score)\n",
    "best_2d_desc = MBTR(\n",
    "    species=[\"H\", \"C\", \"N\", \"O\"],\n",
    "    geometry={\"function\": \"distance\"},\n",
    "    grid={\"min\": 0.5, \"max\": max_dist, \"n\": n_points, \"sigma\": sigma},\n",
    "    weighting={\"function\": \"exp\", \"scale\": 0.1, \"threshold\": 1e-3},\n",
    "    periodic=False,\n",
    ")\n",
    "print(f'Selected {n_points} grid points. Best 2D score: {best_2d_score*1000:.2e} meV/atom')"
   ]
  },
  {
   "cell_type": "markdown",
   "id": "7dd23c1d-bbed-4751-ba06-baa1532e745f",
   "metadata": {},
   "source": [
    "Optimize for 3D. We have a cutoff distance, but it appears in the weighting now."
   ]
  },
  {
   "cell_type": "code",
   "execution_count": null,
   "id": "d61044e9-e93f-4a4d-898d-34bd7517c2d1",
   "metadata": {
    "tags": []
   },
   "outputs": [],
   "source": [
    "r_cutoffs = np.arange(2, 12.01, 2.)\n",
    "n_points = 32\n",
    "test_score = []\n",
    "for r_cutoff in tqdm(r_cutoffs):\n",
    "    desc = MBTR(\n",
    "        species=[\"H\", \"C\", \"N\", \"O\"],\n",
    "        geometry={\"function\": \"angle\"},\n",
    "        grid={\"min\": 0., \"max\": 180, \"n\": n_points, \"sigma\": 180. / n_points / 2.},\n",
    "        weighting={\"function\": \"smooth_cutoff\", \"r_cut\": r_cutoff, \"threshold\": 1e-3},\n",
    "        periodic=False,\n",
    "    )\n",
    "    test_score.append(test_model(train_data, test_data, desc, model))"
   ]
  },
  {
   "cell_type": "code",
   "execution_count": null,
   "id": "5ec34b9c-14a7-45f9-986e-8406106fdd37",
   "metadata": {
    "tags": []
   },
   "outputs": [],
   "source": [
    "r_cutoff = r_cutoffs[np.argmin(test_score)]\n",
    "print(f'Selected a maximum distance of {r_cutoff:.2f} A. Score: {min(test_score)*1000:.2e} meV/atom')"
   ]
  },
  {
   "cell_type": "code",
   "execution_count": null,
   "id": "471ac3f2-4d9f-4ee9-9859-802b9a40f5bf",
   "metadata": {
    "tags": []
   },
   "outputs": [],
   "source": [
    "n_pointss = [8, 16, 32, 64]\n",
    "test_score = []\n",
    "for n_points in tqdm(n_pointss):\n",
    "    desc = MBTR(\n",
    "        species=[\"H\", \"C\", \"N\", \"O\"],\n",
    "        geometry={\"function\": \"angle\"},\n",
    "        grid={\"min\": 0., \"max\": 180, \"n\": n_points, \"sigma\": 180. / n_points / 2.},\n",
    "        weighting={\"function\": \"smooth_cutoff\", \"r_cut\": r_cutoff, \"threshold\": 1e-3},\n",
    "        periodic=False,\n",
    "    )\n",
    "    test_score.append(test_model(train_data, test_data, desc, model))"
   ]
  },
  {
   "cell_type": "code",
   "execution_count": null,
   "id": "c6387acd-37ec-40b7-9b3c-fe0a642a44e8",
   "metadata": {
    "tags": []
   },
   "outputs": [],
   "source": [
    "n_points = n_pointss[np.argmin(test_score)]\n",
    "best_3d_score = min(test_score)\n",
    "best_3d_desc = MBTR(\n",
    "    species=[\"H\", \"C\", \"N\", \"O\"],\n",
    "    geometry={\"function\": \"angle\"},\n",
    "    grid={\"min\": 0., \"max\": 180, \"n\": n_points, \"sigma\": 180. / n_points / 2.},\n",
    "    weighting={\"function\": \"smooth_cutoff\", \"r_cut\": r_cutoff, \"threshold\": 1e-3},\n",
    "    periodic=False,\n",
    ")\n",
    "print(f'Selected {n_points:} points. Score: {min(test_score)*1000:.2e} meV/atom')"
   ]
  },
  {
   "cell_type": "markdown",
   "id": "29162290-044f-4386-a542-a95a3c979613",
   "metadata": {},
   "source": [
    "Pick either the 2D or 3D, as applicable"
   ]
  },
  {
   "cell_type": "code",
   "execution_count": null,
   "id": "95041363-dc5a-4d94-9c17-04d1b6f4f040",
   "metadata": {
    "tags": []
   },
   "outputs": [],
   "source": [
    "desc = best_2d_desc if best_2d_score < best_3d_score else best_3d_desc"
   ]
  },
  {
   "cell_type": "markdown",
   "id": "04c60da8-4a1d-4ae3-b45d-b77e71fd598f",
   "metadata": {},
   "source": [
    "## Fit a Hessian with All Data\n",
    "Use the provided energy model"
   ]
  },
  {
   "cell_type": "code",
   "execution_count": null,
   "id": "788d95d1-7e13-45b0-a337-5d53b0c059a6",
   "metadata": {
    "tags": []
   },
   "outputs": [],
   "source": [
    "model = DScribeGlobalEnergyModel(\n",
    "    reference=data[0],\n",
    "    model=model,\n",
    "    descriptors=desc,\n",
    "    num_calculators=2\n",
    ")"
   ]
  },
  {
   "cell_type": "code",
   "execution_count": null,
   "id": "d6a7d756-37d3-44e0-b5e2-348d07c9d296",
   "metadata": {
    "tags": []
   },
   "outputs": [],
   "source": [
    "%%time\n",
    "with warnings.catch_warnings():\n",
    "    warnings.simplefilter(\"ignore\")\n",
    "    hess_models = model.train(data)"
   ]
  },
  {
   "cell_type": "markdown",
   "id": "aa509659-701d-4001-8cc7-980c9d999976",
   "metadata": {},
   "source": [
    "Compare the forces estimated at a zero displacement to the true value"
   ]
  },
  {
   "cell_type": "code",
   "execution_count": null,
   "id": "70d80f87-9983-4bd5-a6ae-b9c966b0d838",
   "metadata": {
    "tags": []
   },
   "outputs": [],
   "source": [
    "actual_forces = data[0].get_forces()"
   ]
  },
  {
   "cell_type": "code",
   "execution_count": null,
   "id": "f548b145-0aa8-47f7-802b-6b7232a74bd3",
   "metadata": {
    "tags": []
   },
   "outputs": [],
   "source": [
    "pred_forces = hess_models[0].get_forces(data[0])"
   ]
  },
  {
   "cell_type": "code",
   "execution_count": null,
   "id": "d7cd7762-6e12-4dcd-b564-67a33b18d9e0",
   "metadata": {
    "tags": []
   },
   "outputs": [],
   "source": [
    "print(f'Maximum force: {np.abs(pred_forces).max():.2e} eV/Angstrom')"
   ]
  },
  {
   "cell_type": "code",
   "execution_count": null,
   "id": "425b77a9-7fd7-40da-af6f-eaed197c9ab6",
   "metadata": {
    "tags": []
   },
   "outputs": [],
   "source": [
    "fig, axs = plt.subplots(1, 2, figsize=(4, 2))\n",
    "\n",
    "for ax, l, h in zip(axs, ['Actual', 'Estimated'], [actual_forces, pred_forces]):\n",
    "    ax.matshow(h, vmin=-0.05, vmax=0.05, aspect='auto', cmap='RdBu')\n",
    "\n",
    "    ax.set_xticklabels([])\n",
    "    ax.set_yticklabels([])\n",
    "    \n",
    "    ax.set_title(l, fontsize=10)\n",
    "\n",
    "fig.tight_layout()"
   ]
  },
  {
   "cell_type": "markdown",
   "id": "46a0f2f8-f863-4de3-bd97-97ebd92676d4",
   "metadata": {},
   "source": [
    "Get the mean Hessian"
   ]
  },
  {
   "cell_type": "code",
   "execution_count": null,
   "id": "00a10907-667a-413c-851d-d47f0eff092b",
   "metadata": {},
   "outputs": [],
   "source": [
    "%%time\n",
    "approx_hessian = model.mean_hessian(hess_models)"
   ]
  },
  {
   "cell_type": "markdown",
   "id": "f4de2e78-00c2-427f-b9bd-eb3ca881564b",
   "metadata": {},
   "source": [
    "Compare to exact answer"
   ]
  },
  {
   "cell_type": "code",
   "execution_count": null,
   "id": "d48893fd-df0d-4fa8-bfbe-0d04b71fbf1a",
   "metadata": {
    "tags": []
   },
   "outputs": [],
   "source": [
    "exact_hess[:3, :3]"
   ]
  },
  {
   "cell_type": "code",
   "execution_count": null,
   "id": "9b311dea-5744-4211-81cb-40aa1183301e",
   "metadata": {
    "tags": []
   },
   "outputs": [],
   "source": [
    "approx_hessian[:3, :3]"
   ]
  },
  {
   "cell_type": "code",
   "execution_count": null,
   "id": "addd7bef-854a-4b9f-96e9-2aa01b652495",
   "metadata": {
    "tags": []
   },
   "outputs": [],
   "source": [
    "fig, axs = plt.subplots(1, 2, figsize=(4, 2))\n",
    "\n",
    "for ax, l, h in zip(axs, ['Exact', 'Approximate'], [exact_hess, approx_hessian]):\n",
    "    ax.matshow(h, vmin=-100, vmax=100, cmap='RdBu')\n",
    "\n",
    "    ax.set_xticklabels([])\n",
    "    ax.set_yticklabels([])\n",
    "    \n",
    "    ax.set_title(l, fontsize=10)\n",
    "\n",
    "fig.tight_layout()"
   ]
  },
  {
   "cell_type": "markdown",
   "id": "b516bb4e-d27d-4ad6-ad4b-b873c81670ff",
   "metadata": {},
   "source": [
    "Get the zero point energy"
   ]
  },
  {
   "cell_type": "code",
   "execution_count": null,
   "id": "abbbbfd6-7d17-4b93-880a-3352903b56c4",
   "metadata": {
    "tags": []
   },
   "outputs": [],
   "source": [
    "approx_vibs = VibrationsData.from_2d(data[0], approx_hessian)"
   ]
  },
  {
   "cell_type": "code",
   "execution_count": null,
   "id": "fdd80af3-8c18-40d8-b971-4a473bc91498",
   "metadata": {},
   "outputs": [],
   "source": [
    "approx_vibs.get_zero_point_energy()"
   ]
  },
  {
   "cell_type": "code",
   "execution_count": null,
   "id": "6b1af348-4bc9-4ced-9a12-44b3e49abe9c",
   "metadata": {
    "tags": []
   },
   "outputs": [],
   "source": [
    "exact_zpe"
   ]
  },
  {
   "cell_type": "markdown",
   "id": "ab6a6645-bf0e-4ed7-874e-6a345063e0b5",
   "metadata": {},
   "source": [
    "The two differ, but I'm not sure how important the difference is."
   ]
  },
  {
   "cell_type": "markdown",
   "id": "29a44b3d-cd3e-44af-9bc2-3e0164b22a38",
   "metadata": {},
   "source": [
    "Save it to disk"
   ]
  },
  {
   "cell_type": "code",
   "execution_count": null,
   "id": "40fd3d44-df72-4b9d-b7b0-f09fabe74c0d",
   "metadata": {
    "tags": []
   },
   "outputs": [],
   "source": [
    "out_dir = Path('data/mbtr')\n",
    "out_dir.mkdir(exist_ok=True, parents=True)\n",
    "with open(f'data/mbtr/{out_name}-full.json', 'w') as fp:\n",
    "    approx_vibs.write(fp)"
   ]
  },
  {
   "cell_type": "markdown",
   "id": "6489882c-acaf-4a07-bbe9-d643f7c5c882",
   "metadata": {},
   "source": [
    "## Plot as a Function of Data\n",
    "See what happens as we add more data to the training"
   ]
  },
  {
   "cell_type": "code",
   "execution_count": null,
   "id": "bce41a81-6c88-4b0c-9d8d-0891d1832fd6",
   "metadata": {
    "tags": []
   },
   "outputs": [],
   "source": [
    "steps = np.linspace(5, len(data), 16, dtype=int)\n",
    "print(f'Plotting at {len(steps)} steps: {\", \".join(map(str, steps[:5]))}, ...')"
   ]
  },
  {
   "cell_type": "code",
   "execution_count": null,
   "id": "fe39ce86-1806-4367-8c86-e3ef58f81f84",
   "metadata": {
    "tags": []
   },
   "outputs": [],
   "source": [
    "zpes = []\n",
    "with open(f'data/mbtr/{out_name}-increment.json', 'w') as fp:\n",
    "    for count in tqdm(steps):\n",
    "        with warnings.catch_warnings():\n",
    "            warnings.simplefilter(\"ignore\")\n",
    "            hess_model = model.train(data[:count])\n",
    "\n",
    "        approx_hessian = model.mean_hessian(hess_model)\n",
    "        \n",
    "        # Save the incremental\n",
    "        print(json.dumps({'count': int(count), 'hessian': approx_hessian.tolist()}), file=fp)\n",
    "        \n",
    "        # Compute the ZPE\n",
    "        approx_vibs = VibrationsData.from_2d(data[0], approx_hessian)\n",
    "        zpes.append(approx_vibs.get_zero_point_energy())"
   ]
  },
  {
   "cell_type": "markdown",
   "id": "c179c3ae-695f-44ad-b548-10002c4ff30b",
   "metadata": {},
   "source": [
    "Plot it"
   ]
  },
  {
   "cell_type": "code",
   "execution_count": null,
   "id": "1c6706a9-a27f-448f-81d4-957939bb2ca8",
   "metadata": {
    "tags": []
   },
   "outputs": [],
   "source": [
    "fig, ax = plt.subplots(figsize=(3.5, 2))\n",
    "\n",
    "ax.plot(steps, zpes)\n",
    "\n",
    "ax.set_xlim([0, steps.max()])\n",
    "ax.plot(ax.get_xlim(), [exact_zpe]*2, 'k--')\n",
    "\n",
    "ax.set_xlabel('Energies')\n",
    "ax.set_ylabel('ZPE (eV)')\n",
    "\n",
    "fig.tight_layout()"
   ]
  },
  {
   "cell_type": "code",
   "execution_count": null,
   "id": "384af4b3-5eb3-4eac-b176-160f19944853",
   "metadata": {},
   "outputs": [],
   "source": []
  }
 ],
 "metadata": {
  "kernelspec": {
   "display_name": "Python 3 (ipykernel)",
   "language": "python",
   "name": "python3"
  },
  "language_info": {
   "codemirror_mode": {
    "name": "ipython",
    "version": 3
   },
   "file_extension": ".py",
   "mimetype": "text/x-python",
   "name": "python",
   "nbconvert_exporter": "python",
   "pygments_lexer": "ipython3",
   "version": "3.9.18"
  }
 },
 "nbformat": 4,
 "nbformat_minor": 5
}
