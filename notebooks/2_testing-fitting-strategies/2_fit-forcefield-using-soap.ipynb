{
 "cells": [
  {
   "cell_type": "markdown",
   "id": "201346ec-3f5a-4235-b8ef-4a0051373865",
   "metadata": {},
   "source": [
    "# Generate Approximate Hessians\n",
    "Like the previous notebook, fit an approximate model and use that to compute the Hessian. Instead of treating the Hessian parameters as separate, we try here to fit a forcefield using the data."
   ]
  },
  {
   "cell_type": "code",
   "execution_count": 1,
   "id": "ebbbc7f5-3007-420f-861a-9f65f84436be",
   "metadata": {
    "tags": []
   },
   "outputs": [],
   "source": [
    "%matplotlib inline\n",
    "from matplotlib import pyplot as plt\n",
    "from jitterbug.model.dscribe.local import make_gpr_model, train_model, DScribeLocalCalculator, DScribeLocalEnergyModel\n",
    "from sklearn.preprocessing import StandardScaler\n",
    "from sklearn.model_selection import train_test_split\n",
    "from dscribe.descriptors.soap import SOAP\n",
    "from ase.vibrations import VibrationsData\n",
    "from ase.db import connect\n",
    "from pathlib import Path\n",
    "from tqdm import tqdm\n",
    "from io import StringIO\n",
    "import pandas as pd\n",
    "import numpy as np\n",
    "import warnings\n",
    "import torch\n",
    "import json\n",
    "import ase"
   ]
  },
  {
   "cell_type": "markdown",
   "id": "85a147c1-2758-465b-bc54-dc373d73a0f3",
   "metadata": {},
   "source": [
    "Configuration"
   ]
  },
  {
   "cell_type": "code",
   "execution_count": 2,
   "id": "99bd4c92-9a7b-4e88-ac45-dbf30fbfc9e0",
   "metadata": {
    "tags": [
     "parameters"
    ]
   },
   "outputs": [],
   "source": [
    "db_path = '../1_explore-sampling-methods/data/along-axes/caffeine_pm7_None_d=5.00e-03-N=2.db'\n",
    "device = 'cuda'"
   ]
  },
  {
   "cell_type": "markdown",
   "id": "8505d400-8427-45b9-b626-3f9ca557d0c8",
   "metadata": {},
   "source": [
    "Derived"
   ]
  },
  {
   "cell_type": "code",
   "execution_count": 3,
   "id": "a8be3c37-bf1f-4ba4-ba8f-afff6d6bed7d",
   "metadata": {
    "tags": []
   },
   "outputs": [],
   "source": [
    "run_name, sampling_options = Path(db_path).name[:-3].rsplit(\"_\", 1)\n",
    "exact_path = Path('../data/exact/') / f'{run_name}-ase.json'\n",
    "sampling_name = Path(db_path).parent.name\n",
    "out_name = '_'.join([run_name, sampling_name, sampling_options])"
   ]
  },
  {
   "cell_type": "markdown",
   "id": "de1f6aac-b93e-45a7-98e6-ffd5205916a6",
   "metadata": {},
   "source": [
    "## Read in the Data\n",
    "Get all computations for the desired calculation and the exact solution"
   ]
  },
  {
   "cell_type": "code",
   "execution_count": 4,
   "id": "797b96d8-050c-4bdf-9815-586cfb5bc311",
   "metadata": {
    "tags": []
   },
   "outputs": [
    {
     "name": "stdout",
     "output_type": "stream",
     "text": [
      "Loaded 5185 structures\n"
     ]
    }
   ],
   "source": [
    "with connect(db_path) as db:\n",
    "    data = [a.toatoms() for a in db.select('')]\n",
    "print(f'Loaded {len(data)} structures')"
   ]
  },
  {
   "cell_type": "markdown",
   "id": "3fa7d5d6-f9ee-431f-b16b-dcc556cdeb49",
   "metadata": {},
   "source": [
    "Read in the exact Hessian"
   ]
  },
  {
   "cell_type": "code",
   "execution_count": 5,
   "id": "7389208d-9323-492c-8fc5-d05a372206c6",
   "metadata": {
    "tags": []
   },
   "outputs": [],
   "source": [
    "with open(exact_path) as fp:\n",
    "    exact_vibs = VibrationsData.read(fp)"
   ]
  },
  {
   "cell_type": "code",
   "execution_count": 6,
   "id": "a9965595-532c-4067-ba24-7620bd977007",
   "metadata": {
    "tags": []
   },
   "outputs": [],
   "source": [
    "exact_hess = exact_vibs.get_hessian_2d()\n",
    "exact_zpe = exact_vibs.get_zero_point_energy()"
   ]
  },
  {
   "cell_type": "markdown",
   "id": "52d04ec1-6ecc-458a-a580-79de2c327c09",
   "metadata": {},
   "source": [
    "## Start by Adjusting Hyperparameters\n",
    "There are many layers of things we can adjust with SOAP, including\n",
    "- The descriptors which are used. SOAP has at least 3 main adjustable parameters\n",
    "- The complexity of the GPR model, which is mainly varied by the number of inducing points (more points -> more complexity)\n",
    "- How the model is trained: E.g., batch size, learning rate\n",
    "\n",
    "Here, we adjust them for our particular problem and start with the descriptors. \n",
    "\n",
    "We'll start from a reasonable guess for all then tweak each"
   ]
  },
  {
   "cell_type": "code",
   "execution_count": 7,
   "id": "b3abeb98-ad43-4411-9b70-b86d28dcf0f4",
   "metadata": {
    "tags": []
   },
   "outputs": [],
   "source": [
    "train_data, test_data = train_test_split(data, test_size=0.1)"
   ]
  },
  {
   "cell_type": "markdown",
   "id": "bbe4599a-3928-4420-9156-a4ee66adfc5b",
   "metadata": {},
   "source": [
    "Get a baseline score"
   ]
  },
  {
   "cell_type": "code",
   "execution_count": 8,
   "id": "26c0f2c0-58fe-4ad8-8f99-22e29e2ef9a2",
   "metadata": {
    "tags": []
   },
   "outputs": [
    {
     "name": "stdout",
     "output_type": "stream",
     "text": [
      "Baseline score: 5.61e-01 meV\n"
     ]
    }
   ],
   "source": [
    "test_y = np.array([a.get_potential_energy() for a in test_data])\n",
    "baseline_y = np.abs(test_y - test_y.mean()).mean()\n",
    "print(f'Baseline score: {baseline_y*1000:.2e} meV')"
   ]
  },
  {
   "cell_type": "markdown",
   "id": "a4989393-60cc-4cd1-b97d-1291a4cd6083",
   "metadata": {},
   "source": [
    "Make a model testing function"
   ]
  },
  {
   "cell_type": "code",
   "execution_count": 9,
   "id": "da82d49d-62ad-4219-bbbc-e37ec9c0fba4",
   "metadata": {
    "tags": []
   },
   "outputs": [],
   "source": [
    "def test_soap_model(train_data: list[ase.Atoms],\n",
    "                    test_data: list[ase.Atoms],\n",
    "                    soap: SOAP,\n",
    "                    num_inducing_points: int,\n",
    "                    train_steps: int,\n",
    "                    batch_size: int,\n",
    "                    learning_rate: float,\n",
    "                    fit_inducing_points: bool = False,\n",
    "                    device: str = 'cpu',\n",
    "                    verbose: bool = False):\n",
    "    \"\"\"Train a model then evaluate on a test set\n",
    "    \n",
    "    Args:\n",
    "        train_data: Training data\n",
    "        test_data: Test data\n",
    "        soap: SOAP descriptor computer\n",
    "        train_steps: Number of training steps\n",
    "        batch_size: Batch size to use for training\n",
    "        learning_rate: Learning rate to use for training\n",
    "        fit_inducing_points: Whether to fit inducing points during training\n",
    "        device: Device used for training\n",
    "        verbose: Whether to display progress bar\n",
    "    Returns:\n",
    "        - Training curve\n",
    "        - Predictions on each entry in the test set\n",
    "        - MAE on the test set\n",
    "    \"\"\"\n",
    "    \n",
    "    # Prepare the training set, scaling the input\n",
    "    train_x = soap.create(train_data).astype(np.float32)\n",
    "    offset_x = train_x.mean(axis=(0, 1))\n",
    "    train_x -= offset_x\n",
    "    scale_x = np.clip(train_x.std(axis=(0, 1)), a_min=1e-6, a_max=None)\n",
    "    train_x /= scale_x\n",
    "    \n",
    "    train_y_per_atom = np.array([a.get_potential_energy() / len(a) for a in train_data])\n",
    "    scale, offset = train_y_per_atom.std(), train_y_per_atom.mean()\n",
    "    train_y = np.array([(a.get_potential_energy() - len(a) * offset) / scale for a in train_data]).astype(np.float32)\n",
    "    \n",
    "    # Make the model and train it\n",
    "    model = make_gpr_model(train_x, num_inducing_points=num_inducing_points, use_ard_kernel=True)\n",
    "    model.inducing_x.requires_grad = fit_inducing_points\n",
    "    log = train_model(model, train_x, train_y, steps=train_steps, batch_size=batch_size, verbose=verbose, learning_rate=learning_rate, device=device)\n",
    "    \n",
    "    # Run it on the test set\n",
    "    calc = DScribeLocalCalculator(model=model, desc=soap, desc_scaling=(offset_x, scale_x), energy_scaling=(offset, scale), device=device)\n",
    "    test_preds = {'true': [], 'pred': []}\n",
    "    for atoms in test_data:\n",
    "        test_preds['true'].append(atoms.get_potential_energy())\n",
    "        atoms = atoms.copy()\n",
    "        test_preds['pred'].append(calc.get_potential_energy(atoms))\n",
    "        \n",
    "    # Get the MAE\n",
    "    preds = pd.DataFrame(test_preds)\n",
    "    mae = (preds['true'] - preds['pred']).abs().mean()\n",
    "    return log, preds, mae"
   ]
  },
  {
   "cell_type": "markdown",
   "id": "a72ba9ca-5776-478f-87a0-797cb3289cf6",
   "metadata": {},
   "source": [
    "Determine a good cutoff"
   ]
  },
  {
   "cell_type": "code",
   "execution_count": 10,
   "id": "61ac83ed-585c-409c-8ca9-a8368dd81fa9",
   "metadata": {
    "tags": []
   },
   "outputs": [
    {
     "name": "stderr",
     "output_type": "stream",
     "text": [
      "100%|███████████████████████████████████████████████████████████████████████████████████████████████████████████████████████████████████████████████████████████████████████████████████████████████████████████████████████████████████████████████████████| 4/4 [01:33<00:00, 23.31s/it]\n"
     ]
    }
   ],
   "source": [
    "species = ['C', 'O', 'N', 'H']\n",
    "n_max = 4\n",
    "l_max = 4\n",
    "cutoffs = np.arange(3., 6.01, 1)\n",
    "inducing_points = 64\n",
    "train_steps = 8\n",
    "test_scores = []\n",
    "for cutoff in tqdm(cutoffs):\n",
    "    soap = SOAP(\n",
    "        species=species,\n",
    "        n_max=n_max,\n",
    "        l_max=l_max,\n",
    "        periodic=False,\n",
    "        r_cut=cutoff\n",
    "    )\n",
    "    log, preds, mae = test_soap_model(train_data, test_data, soap, inducing_points, train_steps=train_steps, batch_size=2, learning_rate=0.01, device=device)\n",
    "    test_scores.append(mae)"
   ]
  },
  {
   "cell_type": "code",
   "execution_count": 11,
   "id": "61393e22-7343-4064-bb3e-d92988fdfd31",
   "metadata": {
    "tags": []
   },
   "outputs": [
    {
     "name": "stdout",
     "output_type": "stream",
     "text": [
      "Selected a maximum distance of 6.00 A. Best score: 1.97e-01 meV\n"
     ]
    }
   ],
   "source": [
    "cutoff = cutoffs[np.argmin(test_scores)]\n",
    "print(f'Selected a maximum distance of {cutoff:.2f} A. Best score: {min(test_scores)*1000:.2e} meV')"
   ]
  },
  {
   "cell_type": "markdown",
   "id": "9633efde-b487-4976-a3a2-5a33a10127ce",
   "metadata": {},
   "source": [
    "Determine a good descriptor complexity. We are going to optimize $n$ and $l$ together for simplicty, but they do describe very different types of orbitals"
   ]
  },
  {
   "cell_type": "code",
   "execution_count": 12,
   "id": "f8f3b5aa-012c-4a90-ae4f-1e84edfa17c2",
   "metadata": {
    "tags": []
   },
   "outputs": [
    {
     "name": "stderr",
     "output_type": "stream",
     "text": [
      "100%|███████████████████████████████████████████████████████████████████████████████████████████████████████████████████████████████████████████████████████████████████████████████████████████████████████████████████████████████████████████████████████| 6/6 [02:52<00:00, 28.77s/it]\n"
     ]
    }
   ],
   "source": [
    "nl_maxes = range(1, 7)\n",
    "test_scores = []\n",
    "for nl_max in tqdm(nl_maxes):\n",
    "    soap = SOAP(\n",
    "        species=species,\n",
    "        n_max=nl_max,\n",
    "        l_max=nl_max,\n",
    "        periodic=False,\n",
    "        r_cut=cutoff\n",
    "    )\n",
    "    log, preds, mae = test_soap_model(train_data, test_data, soap, inducing_points, train_steps=train_steps, batch_size=2, learning_rate=0.01, device=device)\n",
    "    test_scores.append(mae)"
   ]
  },
  {
   "cell_type": "code",
   "execution_count": 13,
   "id": "80ff45c3-3dfb-4f9d-ba10-03a9b1593a71",
   "metadata": {
    "tags": []
   },
   "outputs": [
    {
     "name": "stdout",
     "output_type": "stream",
     "text": [
      "Selected a complexity of 6. Best score: 1.79e-01 meV\n"
     ]
    }
   ],
   "source": [
    "nl_max = nl_maxes[np.argmin(test_scores)]\n",
    "print(f'Selected a complexity of {nl_max}. Best score: {min(test_scores)*1000:.2e} meV')"
   ]
  },
  {
   "cell_type": "markdown",
   "id": "5101fa9c-08f8-4ac5-a488-d9e47a3e14f4",
   "metadata": {},
   "source": [
    "Determine a good model complexity, increaseing the number of steps to allow more complex models to train effectively"
   ]
  },
  {
   "cell_type": "code",
   "execution_count": 14,
   "id": "ff6fb4e5-e77b-419d-993a-0b18aa5d2fe3",
   "metadata": {
    "tags": []
   },
   "outputs": [
    {
     "name": "stderr",
     "output_type": "stream",
     "text": [
      "100%|██████████████████████████████████████████████████████████████████████████████████████████████████████████████████████████████████████████████████████████████████████████████████████████████████████████████████████████████████████████████████████| 5/5 [12:13<00:00, 146.69s/it]\n"
     ]
    }
   ],
   "source": [
    "inducing_pointss = [32, 64, 128, 256, 512]\n",
    "train_steps *= 2\n",
    "test_scores = []\n",
    "for inducing_points in tqdm(inducing_pointss):\n",
    "    soap = SOAP(\n",
    "        species=species,\n",
    "        n_max=nl_max,\n",
    "        l_max=nl_max,\n",
    "        periodic=False,\n",
    "        r_cut=cutoff\n",
    "    )\n",
    "    log, preds, mae = test_soap_model(train_data, test_data, soap, inducing_points, train_steps=train_steps, batch_size=2, learning_rate=0.01, device=device)\n",
    "    test_scores.append(mae)"
   ]
  },
  {
   "cell_type": "code",
   "execution_count": 15,
   "id": "244c59e1-799f-4d91-ba4f-5a4fa69b94dc",
   "metadata": {
    "tags": []
   },
   "outputs": [
    {
     "data": {
      "image/png": "[encoded data removed]",
      "text/plain": [
       "<Figure size 450x200 with 2 Axes>"
      ]
     },
     "metadata": {},
     "output_type": "display_data"
    }
   ],
   "source": [
    "fig, axs = plt.subplots(1, 2, figsize=(4.5, 2.))\n",
    "\n",
    "ax = axs[0]\n",
    "ax.semilogx(inducing_pointss, np.multiply(test_scores, 1000), '--o')\n",
    "ax.set_xlabel('Inducing Points')\n",
    "ax.set_ylabel('MAE (meV)')\n",
    "\n",
    "ax = axs[1]\n",
    "ax.semilogy(log['loss'])\n",
    "ax.set_xlabel('Epoch')\n",
    "ax.set_ylabel('Loss')\n",
    "\n",
    "fig.tight_layout()"
   ]
  },
  {
   "cell_type": "markdown",
   "id": "401d908c-386c-4237-b150-79c90c4bcd01",
   "metadata": {},
   "source": [
    "At least 512 is fine, let's just increase the number of training steps"
   ]
  },
  {
   "cell_type": "code",
   "execution_count": 16,
   "id": "8049f3e3-c51d-4b00-9d1d-0c61c6264bf0",
   "metadata": {
    "tags": []
   },
   "outputs": [],
   "source": [
    "inducing_points = 512\n",
    "train_steps = 128"
   ]
  },
  {
   "cell_type": "code",
   "execution_count": 17,
   "id": "533109bb-d210-49f5-a97d-8598b4ea7cbc",
   "metadata": {
    "tags": []
   },
   "outputs": [
    {
     "name": "stderr",
     "output_type": "stream",
     "text": [
      "                                                                                                                                                                                                                                                                                          \r"
     ]
    },
    {
     "name": "stdout",
     "output_type": "stream",
     "text": [
      "CPU times: user 5h 52min 46s, sys: 17min 29s, total: 6h 10min 16s\n",
      "Wall time: 31min 33s\n"
     ]
    }
   ],
   "source": [
    "%%time\n",
    "log, preds, mae = test_soap_model(train_data, test_data, soap, inducing_points, train_steps=train_steps, batch_size=2, learning_rate=0.01, device=device, verbose=True)"
   ]
  },
  {
   "cell_type": "markdown",
   "id": "2a4ea177-b258-412e-8405-08f3e372f345",
   "metadata": {},
   "source": [
    "Plot the learning curve of the final model"
   ]
  },
  {
   "cell_type": "code",
   "execution_count": 18,
   "id": "3043cc87-30ef-4ebb-98d0-5d2deedf0a25",
   "metadata": {
    "tags": []
   },
   "outputs": [
    {
     "name": "stdout",
     "output_type": "stream",
     "text": [
      "Final MAE: 1.61e-01 meV\n"
     ]
    }
   ],
   "source": [
    "print(f'Final MAE: {mae*1000:.2e} meV')"
   ]
  },
  {
   "cell_type": "code",
   "execution_count": 19,
   "id": "2edfad92-6cc6-48a7-8232-d8741a987363",
   "metadata": {
    "tags": []
   },
   "outputs": [
    {
     "data": {
      "image/png": "[encoded data removed]",
      "text/plain": [
       "<Figure size 450x200 with 2 Axes>"
      ]
     },
     "metadata": {},
     "output_type": "display_data"
    }
   ],
   "source": [
    "fig, axs = plt.subplots(1, 2, figsize=(4.5, 2.))\n",
    "\n",
    "ax = axs[0]\n",
    "ax.semilogy(log['loss'])\n",
    "ax.set_xlabel('Epoch')\n",
    "ax.set_ylabel('Loss')\n",
    "\n",
    "\n",
    "ax = axs[1]\n",
    "ax.scatter((preds['pred'] - preds['true'].min()) * 1000,\n",
    "           (preds['true'] - preds['true'].min()) * 1000, s=5)\n",
    "ax.set_xlabel('Pred (eV)')\n",
    "ax.set_ylabel('True (eV)')\n",
    "ax.set_xlim(ax.get_ylim())\n",
    "ax.set_ylim(ax.get_ylim())\n",
    "\n",
    "ax.plot(ax.get_xlim(), ax.get_xlim(), 'k--', lw=1)\n",
    "\n",
    "fig.tight_layout()"
   ]
  },
  {
   "cell_type": "markdown",
   "id": "04c60da8-4a1d-4ae3-b45d-b77e71fd598f",
   "metadata": {},
   "source": [
    "## Fit a Hessian with All Data\n",
    "Fit a model with the parameters tuned above"
   ]
  },
  {
   "cell_type": "code",
   "execution_count": 24,
   "id": "a29c67ad-dc76-4bfb-94f0-d567a3544a9f",
   "metadata": {
    "tags": []
   },
   "outputs": [],
   "source": [
    "model = DScribeLocalEnergyModel(\n",
    "    reference=data[0],\n",
    "    model_fn=lambda x: make_gpr_model(x, num_inducing_points=512, use_ard_kernel=True),\n",
    "    descriptors=soap,\n",
    "    num_calculators=1,\n",
    "    device=device,\n",
    "    train_options=dict(steps=128, batch_size=2, learning_rate=0.01, verbose=True),\n",
    ")"
   ]
  },
  {
   "cell_type": "markdown",
   "id": "503240dd-b52c-4111-a024-ec44766940e5",
   "metadata": {},
   "source": [
    "Plot the model performance"
   ]
  },
  {
   "cell_type": "code",
   "execution_count": 25,
   "id": "5749c977-51bf-46e1-a4fc-d22159daf2e5",
   "metadata": {
    "tags": []
   },
   "outputs": [
    {
     "name": "stderr",
     "output_type": "stream",
     "text": [
      "                                                                                                                                                                                                                                                                                          "
     ]
    },
    {
     "name": "stdout",
     "output_type": "stream",
     "text": [
      "CPU times: user 1d 4h 36min 50s, sys: 1h 24min 52s, total: 1d 6h 1min 43s\n",
      "Wall time: 2h 30min 15s\n"
     ]
    },
    {
     "name": "stderr",
     "output_type": "stream",
     "text": [
      "\r"
     ]
    }
   ],
   "source": [
    "%%time\n",
    "with warnings.catch_warnings():\n",
    "    warnings.simplefilter(\"ignore\")\n",
    "    hess_models = model.train(data)"
   ]
  },
  {
   "cell_type": "markdown",
   "id": "aa509659-701d-4001-8cc7-980c9d999976",
   "metadata": {},
   "source": [
    "Compare the forces estimated at a zero displacement to the true value"
   ]
  },
  {
   "cell_type": "code",
   "execution_count": 26,
   "id": "70d80f87-9983-4bd5-a6ae-b9c966b0d838",
   "metadata": {
    "tags": []
   },
   "outputs": [],
   "source": [
    "actual_forces = data[0].get_forces()"
   ]
  },
  {
   "cell_type": "code",
   "execution_count": 27,
   "id": "b8a3d38e-09f9-498b-9066-a5c2a87c427b",
   "metadata": {
    "tags": []
   },
   "outputs": [],
   "source": [
    "pred_forces = hess_models[0].get_forces(data[0])"
   ]
  },
  {
   "cell_type": "code",
   "execution_count": 28,
   "id": "d7cd7762-6e12-4dcd-b564-67a33b18d9e0",
   "metadata": {
    "tags": []
   },
   "outputs": [
    {
     "name": "stdout",
     "output_type": "stream",
     "text": [
      "Maximum force: 2.79e-17 eV/Angstrom\n"
     ]
    }
   ],
   "source": [
    "print(f'Maximum force: {np.abs(pred_forces).max():.2e} eV/Angstrom')"
   ]
  },
  {
   "cell_type": "code",
   "execution_count": 29,
   "id": "425b77a9-7fd7-40da-af6f-eaed197c9ab6",
   "metadata": {
    "tags": []
   },
   "outputs": [
    {
     "data": {
      "image/png": "[encoded data removed]",
      "text/plain": [
       "<Figure size 400x200 with 2 Axes>"
      ]
     },
     "metadata": {},
     "output_type": "display_data"
    }
   ],
   "source": [
    "fig, axs = plt.subplots(1, 2, figsize=(4, 2))\n",
    "\n",
    "for ax, l, h in zip(axs, ['Actual', 'Estimated'], [actual_forces, pred_forces]):\n",
    "    ax.matshow(h, vmin=-0.05, vmax=0.05, aspect='auto', cmap='RdBu')\n",
    "\n",
    "    ax.set_xticklabels([])\n",
    "    ax.set_yticklabels([])\n",
    "    \n",
    "    ax.set_title(l, fontsize=10)\n",
    "\n",
    "fig.tight_layout()"
   ]
  },
  {
   "cell_type": "markdown",
   "id": "46a0f2f8-f863-4de3-bd97-97ebd92676d4",
   "metadata": {},
   "source": [
    "Get the mean Hessian"
   ]
  },
  {
   "cell_type": "code",
   "execution_count": 30,
   "id": "00a10907-667a-413c-851d-d47f0eff092b",
   "metadata": {},
   "outputs": [
    {
     "name": "stdout",
     "output_type": "stream",
     "text": [
      "CPU times: user 13.5 s, sys: 214 ms, total: 13.7 s\n",
      "Wall time: 13.6 s\n"
     ]
    }
   ],
   "source": [
    "%%time\n",
    "approx_hessian = model.mean_hessian(hess_models)"
   ]
  },
  {
   "cell_type": "markdown",
   "id": "f4de2e78-00c2-427f-b9bd-eb3ca881564b",
   "metadata": {},
   "source": [
    "Compare to exact answer"
   ]
  },
  {
   "cell_type": "code",
   "execution_count": 31,
   "id": "d48893fd-df0d-4fa8-bfbe-0d04b71fbf1a",
   "metadata": {
    "tags": []
   },
   "outputs": [
    {
     "data": {
      "text/plain": [
       "array([[ 1.42193910e+01,  2.19101005e+01, -2.39586674e-04],\n",
       "       [ 2.19101005e+01,  7.86328494e+01, -3.46912831e-05],\n",
       "       [-2.39586674e-04, -3.46912831e-05,  2.52655314e+00]])"
      ]
     },
     "execution_count": 31,
     "metadata": {},
     "output_type": "execute_result"
    }
   ],
   "source": [
    "exact_hess[:3, :3]"
   ]
  },
  {
   "cell_type": "code",
   "execution_count": 32,
   "id": "9b311dea-5744-4211-81cb-40aa1183301e",
   "metadata": {
    "tags": []
   },
   "outputs": [
    {
     "data": {
      "text/plain": [
       "array([[-5.55912223e-14, -3.93125436e-15, -3.51610438e-17],\n",
       "       [-3.93125436e-15, -2.08549314e-16, -2.18213076e-17],\n",
       "       [-3.51610438e-17, -2.18213076e-17,  3.54173454e-20]])"
      ]
     },
     "execution_count": 32,
     "metadata": {},
     "output_type": "execute_result"
    }
   ],
   "source": [
    "approx_hessian[:3, :3]"
   ]
  },
  {
   "cell_type": "code",
   "execution_count": 33,
   "id": "addd7bef-854a-4b9f-96e9-2aa01b652495",
   "metadata": {
    "tags": []
   },
   "outputs": [
    {
     "data": {
      "image/png": "[encoded data removed]",
      "text/plain": [
       "<Figure size 400x200 with 2 Axes>"
      ]
     },
     "metadata": {},
     "output_type": "display_data"
    }
   ],
   "source": [
    "fig, axs = plt.subplots(1, 2, figsize=(4, 2))\n",
    "\n",
    "for ax, l, h in zip(axs, ['Exact', 'Approximate'], [exact_hess, approx_hessian]):\n",
    "    ax.matshow(h, vmin=-100, vmax=100, cmap='RdBu')\n",
    "\n",
    "    ax.set_xticklabels([])\n",
    "    ax.set_yticklabels([])\n",
    "    \n",
    "    ax.set_title(l, fontsize=10)\n",
    "\n",
    "fig.tight_layout()"
   ]
  },
  {
   "cell_type": "markdown",
   "id": "b516bb4e-d27d-4ad6-ad4b-b873c81670ff",
   "metadata": {},
   "source": [
    "Get the zero point energy"
   ]
  },
  {
   "cell_type": "code",
   "execution_count": 34,
   "id": "abbbbfd6-7d17-4b93-880a-3352903b56c4",
   "metadata": {
    "tags": []
   },
   "outputs": [],
   "source": [
    "approx_vibs = VibrationsData.from_2d(data[0], approx_hessian)"
   ]
  },
  {
   "cell_type": "code",
   "execution_count": 35,
   "id": "fdd80af3-8c18-40d8-b971-4a473bc91498",
   "metadata": {},
   "outputs": [
    {
     "data": {
      "text/plain": [
       "6.83574459431342e-08"
      ]
     },
     "execution_count": 35,
     "metadata": {},
     "output_type": "execute_result"
    }
   ],
   "source": [
    "approx_vibs.get_zero_point_energy()"
   ]
  },
  {
   "cell_type": "code",
   "execution_count": 36,
   "id": "6b1af348-4bc9-4ced-9a12-44b3e49abe9c",
   "metadata": {
    "tags": []
   },
   "outputs": [
    {
     "data": {
      "text/plain": [
       "4.746888516975277"
      ]
     },
     "execution_count": 36,
     "metadata": {},
     "output_type": "execute_result"
    }
   ],
   "source": [
    "exact_zpe"
   ]
  },
  {
   "cell_type": "markdown",
   "id": "ab6a6645-bf0e-4ed7-874e-6a345063e0b5",
   "metadata": {},
   "source": [
    "The two differ, but I'm not sure how important the difference is."
   ]
  },
  {
   "cell_type": "markdown",
   "id": "29a44b3d-cd3e-44af-9bc2-3e0164b22a38",
   "metadata": {},
   "source": [
    "Save it to disk"
   ]
  },
  {
   "cell_type": "code",
   "execution_count": 37,
   "id": "40fd3d44-df72-4b9d-b7b0-f09fabe74c0d",
   "metadata": {
    "tags": []
   },
   "outputs": [],
   "source": [
    "out_dir = Path('data/soap')\n",
    "out_dir.mkdir(exist_ok=True, parents=True)\n",
    "with open(f'data/soap/{out_name}.json', 'w') as fp:\n",
    "    approx_vibs.write(fp)"
   ]
  },
  {
   "cell_type": "markdown",
   "id": "6489882c-acaf-4a07-bbe9-d643f7c5c882",
   "metadata": {},
   "source": [
    "## Plot as a Function of Data\n",
    "See what happens as we add more data to the training"
   ]
  },
  {
   "cell_type": "code",
   "execution_count": 38,
   "id": "3842d670-67b7-42e8-a6af-04b65f6eb77a",
   "metadata": {
    "tags": []
   },
   "outputs": [],
   "source": [
    "model.train_options['verbose'] = False"
   ]
  },
  {
   "cell_type": "code",
   "execution_count": 39,
   "id": "bce41a81-6c88-4b0c-9d8d-0891d1832fd6",
   "metadata": {
    "tags": []
   },
   "outputs": [
    {
     "name": "stdout",
     "output_type": "stream",
     "text": [
      "Plotting at 16 steps: 5, 350, 695, 1041, 1386, ...\n"
     ]
    }
   ],
   "source": [
    "steps = np.linspace(5, len(data), 16, dtype=int)\n",
    "print(f'Plotting at {len(steps)} steps: {\", \".join(map(str, steps[:5]))}, ...')"
   ]
  },
  {
   "cell_type": "code",
   "execution_count": 43,
   "id": "fe39ce86-1806-4367-8c86-e3ef58f81f84",
   "metadata": {
    "tags": []
   },
   "outputs": [
    {
     "name": "stderr",
     "output_type": "stream",
     "text": [
      " 25%|████████████████████████████████████████████████████████████                                                                                                                                                                                    | 4/16 [1:14:57<3:44:53, 1124.42s/it]\n"
     ]
    },
    {
     "ename": "KeyboardInterrupt",
     "evalue": "",
     "output_type": "error",
     "traceback": [
      "\u001b[0;31m---------------------------------------------------------------------------\u001b[0m",
      "\u001b[0;31mKeyboardInterrupt\u001b[0m                         Traceback (most recent call last)",
      "Cell \u001b[0;32mIn[43], line 6\u001b[0m\n\u001b[1;32m      4\u001b[0m \u001b[38;5;28;01mwith\u001b[39;00m warnings\u001b[38;5;241m.\u001b[39mcatch_warnings():\n\u001b[1;32m      5\u001b[0m     warnings\u001b[38;5;241m.\u001b[39msimplefilter(\u001b[38;5;124m\"\u001b[39m\u001b[38;5;124mignore\u001b[39m\u001b[38;5;124m\"\u001b[39m)\n\u001b[0;32m----> 6\u001b[0m     hess_model \u001b[38;5;241m=\u001b[39m \u001b[43mmodel\u001b[49m\u001b[38;5;241;43m.\u001b[39;49m\u001b[43mtrain\u001b[49m\u001b[43m(\u001b[49m\u001b[43mdata\u001b[49m\u001b[43m[\u001b[49m\u001b[43m:\u001b[49m\u001b[43mcount\u001b[49m\u001b[43m]\u001b[49m\u001b[43m)\u001b[49m\n\u001b[1;32m      8\u001b[0m \u001b[38;5;66;03m# Compute the approximate Hessian\u001b[39;00m\n\u001b[1;32m      9\u001b[0m approx_hessian \u001b[38;5;241m=\u001b[39m model\u001b[38;5;241m.\u001b[39mmean_hessian(hess_model)\n",
      "File \u001b[0;32m~/Work/ExaLearn/faster-molecular-hessians/jitterbug/model/base.py:72\u001b[0m, in \u001b[0;36mASEEnergyModel.train\u001b[0;34m(self, data)\u001b[0m\n\u001b[1;32m     70\u001b[0m \u001b[38;5;28;01mfor\u001b[39;00m _ \u001b[38;5;129;01min\u001b[39;00m \u001b[38;5;28mrange\u001b[39m(\u001b[38;5;28mself\u001b[39m\u001b[38;5;241m.\u001b[39mnum_calculators):\n\u001b[1;32m     71\u001b[0m     sampled_data \u001b[38;5;241m=\u001b[39m choices(data, k\u001b[38;5;241m=\u001b[39m\u001b[38;5;28mlen\u001b[39m(data))\n\u001b[0;32m---> 72\u001b[0m     output\u001b[38;5;241m.\u001b[39mappend(\u001b[38;5;28;43mself\u001b[39;49m\u001b[38;5;241;43m.\u001b[39;49m\u001b[43mtrain_calculator\u001b[49m\u001b[43m(\u001b[49m\u001b[43msampled_data\u001b[49m\u001b[43m)\u001b[49m)\n\u001b[1;32m     73\u001b[0m \u001b[38;5;28;01mreturn\u001b[39;00m output\n",
      "File \u001b[0;32m~/Work/ExaLearn/faster-molecular-hessians/jitterbug/model/dscribe/local.py:265\u001b[0m, in \u001b[0;36mDScribeLocalEnergyModel.train_calculator\u001b[0;34m(self, data)\u001b[0m\n\u001b[1;32m    263\u001b[0m \u001b[38;5;66;03m# Make then train the model\u001b[39;00m\n\u001b[1;32m    264\u001b[0m model \u001b[38;5;241m=\u001b[39m \u001b[38;5;28mself\u001b[39m\u001b[38;5;241m.\u001b[39mmodel_fn(train_x)\n\u001b[0;32m--> 265\u001b[0m \u001b[43mtrain_model\u001b[49m\u001b[43m(\u001b[49m\u001b[43mmodel\u001b[49m\u001b[43m,\u001b[49m\u001b[43m \u001b[49m\u001b[43mtrain_x\u001b[49m\u001b[43m,\u001b[49m\u001b[43m \u001b[49m\u001b[43mtrain_y\u001b[49m\u001b[43m,\u001b[49m\u001b[43m \u001b[49m\u001b[43mdevice\u001b[49m\u001b[38;5;241;43m=\u001b[39;49m\u001b[38;5;28;43mself\u001b[39;49m\u001b[38;5;241;43m.\u001b[39;49m\u001b[43mdevice\u001b[49m\u001b[43m,\u001b[49m\u001b[43m \u001b[49m\u001b[38;5;241;43m*\u001b[39;49m\u001b[38;5;241;43m*\u001b[39;49m\u001b[38;5;28;43mself\u001b[39;49m\u001b[38;5;241;43m.\u001b[39;49m\u001b[43mtrain_options\u001b[49m\u001b[43m)\u001b[49m\n\u001b[1;32m    267\u001b[0m \u001b[38;5;66;03m# Make the calculator\u001b[39;00m\n\u001b[1;32m    268\u001b[0m \u001b[38;5;28;01mreturn\u001b[39;00m DScribeLocalCalculator(\n\u001b[1;32m    269\u001b[0m     model\u001b[38;5;241m=\u001b[39mmodel,\n\u001b[1;32m    270\u001b[0m     desc\u001b[38;5;241m=\u001b[39m\u001b[38;5;28mself\u001b[39m\u001b[38;5;241m.\u001b[39mdescriptors,\n\u001b[0;32m   (...)\u001b[0m\n\u001b[1;32m    273\u001b[0m     device\u001b[38;5;241m=\u001b[39m\u001b[38;5;28mself\u001b[39m\u001b[38;5;241m.\u001b[39mdevice\n\u001b[1;32m    274\u001b[0m )\n",
      "File \u001b[0;32m~/Work/ExaLearn/faster-molecular-hessians/jitterbug/model/dscribe/local.py:141\u001b[0m, in \u001b[0;36mtrain_model\u001b[0;34m(model, train_x, train_y, steps, batch_size, learning_rate, device, verbose)\u001b[0m\n\u001b[1;32m    138\u001b[0m         batch_loss\u001b[38;5;241m.\u001b[39mbackward()\n\u001b[1;32m    140\u001b[0m         opt\u001b[38;5;241m.\u001b[39mstep()\n\u001b[0;32m--> 141\u001b[0m         epoch_loss \u001b[38;5;241m+\u001b[39m\u001b[38;5;241m=\u001b[39m \u001b[43mbatch_loss\u001b[49m\u001b[38;5;241;43m.\u001b[39;49m\u001b[43mitem\u001b[49m\u001b[43m(\u001b[49m\u001b[43m)\u001b[49m\n\u001b[1;32m    143\u001b[0m     losses\u001b[38;5;241m.\u001b[39mappend(epoch_loss)\n\u001b[1;32m    145\u001b[0m \u001b[38;5;66;03m# Pull the model back off the GPU\u001b[39;00m\n",
      "\u001b[0;31mKeyboardInterrupt\u001b[0m: "
     ]
    }
   ],
   "source": [
    "zpes = []\n",
    "vib_data = []\n",
    "for count in tqdm(steps):\n",
    "    with warnings.catch_warnings():\n",
    "        warnings.simplefilter(\"ignore\")\n",
    "        hess_model = model.train(data[:count])\n",
    "    \n",
    "    # Compute the approximate Hessian\n",
    "    approx_hessian = model.mean_hessian(hess_model)\n",
    "    approx_vibs = VibrationsData.from_2d(data[0], approx_hessian)\n",
    "    \n",
    "    # Save a ZPE and the JSON as a summary\n",
    "    \n",
    "    zpes.append(approx_vibs.get_zero_point_energy())\n",
    "    fp = StringIO()\n",
    "    approx_vibs.write(fp)\n",
    "    vib_data.append({'count': int(count), 'vib_data': fp.getvalue()})"
   ]
  },
  {
   "cell_type": "code",
   "execution_count": 44,
   "id": "4b4563c7-f35c-458b-bb4f-36c466d59cd5",
   "metadata": {
    "tags": []
   },
   "outputs": [],
   "source": [
    "with (out_dir / f'{out_name}-incremental.json').open('w') as fp:\n",
    "    json.dump(vib_data, fp)"
   ]
  },
  {
   "cell_type": "markdown",
   "id": "c179c3ae-695f-44ad-b548-10002c4ff30b",
   "metadata": {},
   "source": [
    "Plot it"
   ]
  },
  {
   "cell_type": "code",
   "execution_count": 45,
   "id": "1c6706a9-a27f-448f-81d4-957939bb2ca8",
   "metadata": {
    "tags": []
   },
   "outputs": [
    {
     "data": {
      "image/png": "[encoded data removed]",
      "text/plain": [
       "<Figure size 350x200 with 1 Axes>"
      ]
     },
     "metadata": {},
     "output_type": "display_data"
    }
   ],
   "source": [
    "fig, ax = plt.subplots(figsize=(3.5, 2))\n",
    "\n",
    "ax.plot(steps[:len(zpes)], zpes)\n",
    "\n",
    "ax.set_xlim([0, steps.max()])\n",
    "ax.plot(ax.get_xlim(), [exact_zpe]*2, 'k--')\n",
    "\n",
    "ax.set_xlabel('Energies')\n",
    "ax.set_ylabel('ZPE (eV)')\n",
    "\n",
    "fig.tight_layout()"
   ]
  },
  {
   "cell_type": "code",
   "execution_count": null,
   "id": "384af4b3-5eb3-4eac-b176-160f19944853",
   "metadata": {},
   "outputs": [],
   "source": []
  }
 ],
 "metadata": {
  "kernelspec": {
   "display_name": "Python 3 (ipykernel)",
   "language": "python",
   "name": "python3"
  },
  "language_info": {
   "codemirror_mode": {
    "name": "ipython",
    "version": 3
   },
   "file_extension": ".py",
   "mimetype": "text/x-python",
   "name": "python",
   "nbconvert_exporter": "python",
   "pygments_lexer": "ipython3",
   "version": "3.9.18"
  }
 },
 "nbformat": 4,
 "nbformat_minor": 5
}
