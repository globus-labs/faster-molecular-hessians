{
 "cells": [
  {
   "cell_type": "markdown",
   "id": "4bdf2dd5-2160-4343-97c8-c140b028bc6f",
   "metadata": {},
   "source": [
    "# Get the Exact Answer\n",
    "Start off by computing the exact Hessian to use a reference point. \n",
    "First relax the structure then compute the Hessians using [ase's Vibrations module](https://databases.fysik.dtu.dk/ase/ase/vibrations/modes.html), which will compute them numerically using central derivatives"
   ]
  },
  {
   "cell_type": "code",
   "execution_count": null,
   "id": "06732ce7-a249-448d-8b77-bd7974f83c59",
   "metadata": {
    "tags": []
   },
   "outputs": [],
   "source": [
    "from ase.thermochemistry import IdealGasThermo\n",
    "from ase.vibrations import VibrationsData, Vibrations\n",
    "from ase.calculators.mopac import MOPAC\n",
    "from ase.calculators.psi4 import Psi4\n",
    "from ase.optimize import BFGS\n",
    "from ase import Atoms, units\n",
    "from ase.io import write, read\n",
    "from jitterbug.utils import make_calculator\n",
    "from contextlib import redirect_stderr\n",
    "from time import perf_counter\n",
    "from platform import node\n",
    "from pathlib import Path\n",
    "from os import devnull\n",
    "import numpy as np\n",
    "import shutil\n",
    "import json\n",
    "import os"
   ]
  },
  {
   "cell_type": "markdown",
   "id": "70e35fde-8d07-46e2-86e7-642a201a8c4a",
   "metadata": {},
   "source": [
    "Configuration"
   ]
  },
  {
   "cell_type": "code",
   "execution_count": null,
   "id": "1abbc967-a788-4a2d-8342-6a88c75cebec",
   "metadata": {
    "tags": [
     "parameters"
    ]
   },
   "outputs": [],
   "source": [
    "molecule_name = 'caffeine'\n",
    "relax_method = 'pm7/None'  # Method used to relax geometry \n",
    "hess_method = None  # Method used to perform Hessian computation, None to use same\n",
    "basis = None  # Set to None for MOPAC methods\n",
    "threads = min(os.cpu_count(), 12)\n",
    "delta = 0.01"
   ]
  },
  {
   "cell_type": "markdown",
   "id": "748e04a6-dd84-4142-aa0d-7bd543346d79",
   "metadata": {},
   "source": [
    "Derived"
   ]
  },
  {
   "cell_type": "code",
   "execution_count": null,
   "id": "2f543fd2-ca4c-4d68-a523-14515f351c4b",
   "metadata": {
    "tags": []
   },
   "outputs": [],
   "source": [
    "relax_method, relax_basis = relax_method.split(\"/\")\n",
    "if hess_method is None:\n",
    "    hess_method, hess_basis = relax_method, relax_basis\n",
    "else:\n",
    "    hess_method, hess_basis = hess_method.split(\"/\")"
   ]
  },
  {
   "cell_type": "code",
   "execution_count": null,
   "id": "aeebbc77-70e4-4709-90a0-b9aaf54d4cd9",
   "metadata": {
    "tags": []
   },
   "outputs": [],
   "source": [
    "run_name = f'{molecule_name}_{hess_method}_{hess_basis}_at_{relax_method}_{relax_basis}'\n",
    "run_name_with_delta = f'{run_name}_d={delta:.3g}'\n",
    "out_dir = Path('data') / 'exact'\n",
    "if (out_dir / f'{run_name_with_delta}-times.json').exists():\n",
    "    raise ValueError('Already done!')\n",
    "print(f'Run name: {run_name_with_delta}')"
   ]
  },
  {
   "cell_type": "markdown",
   "id": "026bbc46-d5e6-4b67-a9a4-aa0cd86f9ad2",
   "metadata": {},
   "source": [
    "## Load in Target Molecule\n",
    "We have it in a JSON file from PubChem"
   ]
  },
  {
   "cell_type": "code",
   "execution_count": null,
   "id": "d52bd814-a353-467f-99a6-02201a64416e",
   "metadata": {
    "tags": []
   },
   "outputs": [],
   "source": [
    "def load_molecule(name: str) -> Atoms:\n",
    "    \"\"\"Load a molecule from a PubChem JSON file\n",
    "    \n",
    "    Args:\n",
    "        name: Name of the molecule\n",
    "    Returns:\n",
    "        ASE Atoms object\n",
    "    \"\"\"\n",
    "    \n",
    "    # Get the compound data\n",
    "    with open(f'data/structures/{name}.json') as fp:\n",
    "        data = json.load(fp)\n",
    "    data = data['PC_Compounds'][0]\n",
    "        \n",
    "    # Extract data from the JSON\n",
    "    atomic_numbers = data['atoms']['element']\n",
    "    positions = np.zeros((len(atomic_numbers), 3))\n",
    "    conf_data = data['coords'][0]['conformers'][0]\n",
    "    for i, c in enumerate('xyz'):\n",
    "        if c in conf_data:\n",
    "            positions[:, i] = conf_data[c]\n",
    "        \n",
    "    # Build the object    \n",
    "    return Atoms(numbers=atomic_numbers, positions=positions)"
   ]
  },
  {
   "cell_type": "code",
   "execution_count": null,
   "id": "02010c51-39a9-42e6-a4c8-f03d447267ff",
   "metadata": {
    "tags": []
   },
   "outputs": [],
   "source": [
    "atoms = load_molecule(molecule_name)"
   ]
  },
  {
   "cell_type": "markdown",
   "id": "9a42b230-c0c2-4512-9afb-57cea203c96e",
   "metadata": {},
   "source": [
    "## Perform the Geometry Optimization\n",
    "Build the ASE calculator then run QuasiNewton to a high tolerance"
   ]
  },
  {
   "cell_type": "code",
   "execution_count": null,
   "id": "7073bdd7-9ee6-45bf-a401-93cfe122413a",
   "metadata": {
    "tags": []
   },
   "outputs": [],
   "source": [
    "calc = make_calculator(relax_method, relax_basis, num_threads=threads)"
   ]
  },
  {
   "cell_type": "markdown",
   "id": "72950710-6b21-488f-98fb-3efc01ab2f06",
   "metadata": {},
   "source": [
    "Either relax or load the existing molecule"
   ]
  },
  {
   "cell_type": "code",
   "execution_count": null,
   "id": "33f13e91-894e-45b7-9c54-3a4c98e6390e",
   "metadata": {
    "tags": []
   },
   "outputs": [],
   "source": [
    "geom_path = out_dir / f'{molecule_name}_{relax_method}_{relax_basis}.xyz'\n",
    "print(f'Geometry path: {geom_path}')"
   ]
  },
  {
   "cell_type": "code",
   "execution_count": null,
   "id": "ef903a43-5d6c-47fb-a500-837599c95f91",
   "metadata": {
    "tags": []
   },
   "outputs": [],
   "source": [
    "%%time\n",
    "if geom_path.exists():\n",
    "    atoms = read(geom_path)\n",
    "    atoms.calc = calc\n",
    "else:\n",
    "    atoms.calc = calc\n",
    "    dyn = BFGS(atoms)\n",
    "    with redirect_stderr(devnull):\n",
    "        dyn.run(fmax=0.01)"
   ]
  },
  {
   "cell_type": "markdown",
   "id": "bce1a800-943a-4627-b383-eff82e43a456",
   "metadata": {},
   "source": [
    "Save the output file"
   ]
  },
  {
   "cell_type": "code",
   "execution_count": null,
   "id": "a695054d-a768-466e-9771-54395a3c2b81",
   "metadata": {
    "tags": []
   },
   "outputs": [],
   "source": [
    "out_dir.mkdir(exist_ok=True)"
   ]
  },
  {
   "cell_type": "code",
   "execution_count": null,
   "id": "16317d90-cb1d-4347-9eca-4ba3123bdf4b",
   "metadata": {
    "tags": []
   },
   "outputs": [],
   "source": [
    "write(geom_path, atoms)"
   ]
  },
  {
   "cell_type": "markdown",
   "id": "da5b9bdc-a0b1-4c0e-b2d9-42f79dfbac6a",
   "metadata": {},
   "source": [
    "## Compute the Hessian using ASE\n",
    "ASE has a built-in method which uses finite displacements"
   ]
  },
  {
   "cell_type": "markdown",
   "id": "0e70265b-cefd-4d3c-925b-8b2cf13419e4",
   "metadata": {},
   "source": [
    "Make the calculator for the hessian"
   ]
  },
  {
   "cell_type": "code",
   "execution_count": null,
   "id": "a144434b-e478-42e0-a2bd-5c43beab31d0",
   "metadata": {
    "tags": []
   },
   "outputs": [],
   "source": [
    "calc = make_calculator(hess_method, hess_basis, num_threads=threads)\n",
    "atoms.calc = calc"
   ]
  },
  {
   "cell_type": "markdown",
   "id": "71949047-df5f-47a5-883f-c329b7ca12bf",
   "metadata": {},
   "source": [
    "Perform the computation"
   ]
  },
  {
   "cell_type": "code",
   "execution_count": null,
   "id": "857e38e3-8b92-4246-8469-5ce6f381d56b",
   "metadata": {
    "tags": []
   },
   "outputs": [],
   "source": [
    "if Path('vib').is_dir():\n",
    "    shutil.rmtree('vib')"
   ]
  },
  {
   "cell_type": "code",
   "execution_count": null,
   "id": "73b9b8bb-1d32-4e29-9380-95002bb1081e",
   "metadata": {
    "tags": []
   },
   "outputs": [],
   "source": [
    "%%time\n",
    "finite_diff_time = perf_counter()\n",
    "vib = Vibrations(atoms, delta=delta)\n",
    "vib.run()\n",
    "finite_diff_time = perf_counter() - finite_diff_time"
   ]
  },
  {
   "cell_type": "markdown",
   "id": "497a7013-9ac6-484f-a5e3-d19e11224f4a",
   "metadata": {},
   "source": [
    "Save the vibration data"
   ]
  },
  {
   "cell_type": "code",
   "execution_count": null,
   "id": "588b0344-ad43-4a6b-b57b-03782327f1e7",
   "metadata": {
    "tags": []
   },
   "outputs": [],
   "source": [
    "vib_data = vib.get_vibrations()\n",
    "with (out_dir / f'{run_name_with_delta}-ase.json').open('w') as fp:\n",
    "    vib_data.write(fp)"
   ]
  },
  {
   "cell_type": "markdown",
   "id": "4711060e-aaee-4d64-ac26-0833965703ad",
   "metadata": {},
   "source": [
    "Print the ZPE for reference"
   ]
  },
  {
   "cell_type": "code",
   "execution_count": null,
   "id": "450b9a10-5c0b-434a-8b20-fedf5f1b1f48",
   "metadata": {
    "tags": []
   },
   "outputs": [],
   "source": [
    "vib_data.get_zero_point_energy()"
   ]
  },
  {
   "cell_type": "markdown",
   "id": "47b7eea7-b7c6-4765-961d-7ebaf7332fe6",
   "metadata": {},
   "source": [
    "## Repeat with Psi4's analytic derivatives\n",
    "See if we get the same answer faster"
   ]
  },
  {
   "cell_type": "code",
   "execution_count": null,
   "id": "da5a4aea-134d-4950-8dbd-df83338983a8",
   "metadata": {
    "tags": []
   },
   "outputs": [],
   "source": [
    "psi4_path = out_dir / f'{run_name}-psi4.json'\n",
    "if isinstance(calc, Psi4) and \"cc\" not in hess_method and not psi4_path.exists():\n",
    "    # Compute\n",
    "    analytic_time = perf_counter()\n",
    "    calc.set_psi4(atoms)\n",
    "    hess = calc.psi4.hessian(f'{hess_method}/{hess_basis}')\n",
    "    analytic_time = perf_counter() - analytic_time\n",
    "\n",
    "    # Convert to ASE format\n",
    "    analytic_hess = hess.to_array() * units.Hartree / units.Bohr / units.Bohr\n",
    "    vib_data = VibrationsData.from_2d(atoms, analytic_hess)\n",
    "    with psi4_path.open('w') as fp:\n",
    "        vib_data.write(fp)\n",
    "else:\n",
    "    analytic_time = None"
   ]
  },
  {
   "cell_type": "markdown",
   "id": "74673a35-e2c9-43ac-a261-be03dfc61208",
   "metadata": {},
   "source": [
    "Save the runtimes"
   ]
  },
  {
   "cell_type": "code",
   "execution_count": null,
   "id": "273b5116-06ec-4098-8b20-537d1f9d7e84",
   "metadata": {
    "tags": []
   },
   "outputs": [],
   "source": [
    "with (out_dir / f'{run_name_with_delta}-times.json').open('w') as fp:\n",
    "    json.dump({\n",
    "        'hostname': node(),\n",
    "        'finite-diff': finite_diff_time,\n",
    "        'analytic': analytic_time,\n",
    "    }, fp)"
   ]
  },
  {
   "cell_type": "code",
   "execution_count": null,
   "id": "b24037ee-0ecc-4616-9fa5-f5941fb049d9",
   "metadata": {},
   "outputs": [],
   "source": []
  }
 ],
 "metadata": {
  "kernelspec": {
   "display_name": "Python 3 (ipykernel)",
   "language": "python",
   "name": "python3"
  },
  "language_info": {
   "codemirror_mode": {
    "name": "ipython",
    "version": 3
   },
   "file_extension": ".py",
   "mimetype": "text/x-python",
   "name": "python",
   "nbconvert_exporter": "python",
   "pygments_lexer": "ipython3",
   "version": "3.9.18"
  }
 },
 "nbformat": 4,
 "nbformat_minor": 5
}
