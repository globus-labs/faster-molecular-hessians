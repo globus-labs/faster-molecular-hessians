{
 "cells": [
  {
   "cell_type": "markdown",
   "id": "4bdf2dd5-2160-4343-97c8-c140b028bc6f",
   "metadata": {},
   "source": [
    "# Evaluate Effect of Step Size and Method Choice\n",
    "We are going to establish the effect of displacement step size and quantum chemistry method on the accuracy of vibrational properties."
   ]
  },
  {
   "cell_type": "code",
   "execution_count": null,
   "id": "06732ce7-a249-448d-8b77-bd7974f83c59",
   "metadata": {
    "tags": []
   },
   "outputs": [],
   "source": [
    "%matplotlib inline\n",
    "from matplotlib import pyplot as plt\n",
    "from ase.thermochemistry import IdealGasThermo\n",
    "from ase.vibrations import VibrationsData, Vibrations\n",
    "from jitterbug.compare import compare_hessians\n",
    "from dataclasses import asdict\n",
    "from pathlib import Path\n",
    "import seaborn as sns\n",
    "import pandas as pd\n",
    "import numpy as np\n",
    "import shutil\n",
    "import json\n",
    "import os"
   ]
  },
  {
   "cell_type": "markdown",
   "id": "70e35fde-8d07-46e2-86e7-642a201a8c4a",
   "metadata": {},
   "source": [
    "Configure"
   ]
  },
  {
   "cell_type": "code",
   "execution_count": null,
   "id": "1abbc967-a788-4a2d-8342-6a88c75cebec",
   "metadata": {
    "tags": [
     "parameters"
    ]
   },
   "outputs": [],
   "source": [
    "molecule_name = 'water'\n",
    "relax_level = 'b3lyp_cc-pvtz'  # Which water molecule to evaluate. Need both the molecule name and relaxation level\n",
    "target_method = ('ccsd(t)', 'cc-pvtz')"
   ]
  },
  {
   "cell_type": "markdown",
   "id": "748e04a6-dd84-4142-aa0d-7bd543346d79",
   "metadata": {},
   "source": [
    "## Load in Target Hessians\n",
    "We have it in a JSON file from PubChem"
   ]
  },
  {
   "cell_type": "code",
   "execution_count": null,
   "id": "031bd072-4695-456b-bb36-e49beb47d74e",
   "metadata": {
    "tags": []
   },
   "outputs": [],
   "source": [
    "hessian_paths = list(Path('data/exact/').glob(f'{molecule_name}_*_at_{relax_level}_d=*-ase.json'))\n",
    "print(f'Found {len(hessian_paths)} hessians for {molecule_name}')"
   ]
  },
  {
   "cell_type": "code",
   "execution_count": null,
   "id": "7461b4d2-b0e6-4db3-99db-13f9278e116b",
   "metadata": {
    "tags": []
   },
   "outputs": [],
   "source": [
    "exact_path = Path(f'data/exact/{molecule_name}_{\"_\".join(target_method)}_at_{relax_level}_d=0.005-ase.json')\n",
    "assert exact_path.exists(), f'Missing reference calculation: {exact_path}'\n",
    "exact_hess = VibrationsData.read(exact_path)"
   ]
  },
  {
   "cell_type": "code",
   "execution_count": null,
   "id": "20079c53",
   "metadata": {
    "tags": []
   },
   "outputs": [],
   "source": [
    "def load_hessian(path: Path):\n",
    "    \"\"\"Load the Hessian and parse the metadata from the filename\n",
    "    \n",
    "    Args:\n",
    "        path: Path to the Hessian\n",
    "    Returns:\n",
    "        Dictionary the includes the metadata for the calculation and errors wrt true Hessian\n",
    "    \"\"\"\n",
    "    \n",
    "    # Get some of the basic information\n",
    "    method_name, delta = path.name[:-9].rsplit(\"_d=\", 1)\n",
    "    delta = float(delta)\n",
    "    _, method, basis = method_name.split(\"_\")[:3]\n",
    "    \n",
    "    # Compare to reference\n",
    "    approx_hess = VibrationsData.read(path)\n",
    "    compare = compare_hessians(exact_hess.get_atoms(), exact_hess.get_hessian_2d(), approx_hess.get_hessian_2d(), scale_factor=1.)\n",
    "    \n",
    "    return {\n",
    "        'method': method,\n",
    "        'basis': basis,\n",
    "        'title': (method + '//' + basis if basis != \"None\" else method),\n",
    "        'delta': delta,\n",
    "        'path': path,\n",
    "        **asdict(compare)\n",
    "    }"
   ]
  },
  {
   "cell_type": "code",
   "execution_count": null,
   "id": "fcdbe0af-c153-4969-8625-17718b2aeed3",
   "metadata": {
    "tags": []
   },
   "outputs": [],
   "source": [
    "all_hessians = pd.DataFrame(load_hessian(p) for p in hessian_paths)\n",
    "print(f'Loaded comparisons from {len(all_hessians)} Hessians')"
   ]
  },
  {
   "cell_type": "code",
   "execution_count": null,
   "id": "242b519f-2aa9-46a3-927f-804f9de4b288",
   "metadata": {
    "tags": []
   },
   "outputs": [],
   "source": [
    "all_hessians['zpe_error_abs'] = all_hessians['zpe_error'].abs()"
   ]
  },
  {
   "cell_type": "markdown",
   "id": "886bcbba-7c42-44fe-97c3-911c46e76bb3",
   "metadata": {},
   "source": [
    "Save results"
   ]
  },
  {
   "cell_type": "code",
   "execution_count": null,
   "id": "1983d503-b1f2-4742-81b9-ddbea5436e76",
   "metadata": {
    "tags": []
   },
   "outputs": [],
   "source": [
    "out_dir = Path('data/error-bounds/')\n",
    "out_dir.mkdir(exist_ok=True)\n",
    "all_hessians.to_csv(out_dir / f'{molecule_name}-target={\"_\".join(target_method)}-methods.csv')"
   ]
  },
  {
   "cell_type": "markdown",
   "id": "56f328ab-d8f6-4213-8ce7-709003f3f81f",
   "metadata": {},
   "source": [
    "## Summarize Methods\n",
    "\n",
    "Order the methods by best ZPE"
   ]
  },
  {
   "cell_type": "code",
   "execution_count": null,
   "id": "cebf7b4e-3bf4-43ab-8991-9619e5a874a8",
   "metadata": {
    "tags": []
   },
   "outputs": [],
   "source": [
    "sorted_methods = all_hessians.groupby('title')['zpe_error_abs'].min().sort_values().reset_index()\n",
    "sorted_methods.iloc[1:]"
   ]
  },
  {
   "cell_type": "code",
   "execution_count": null,
   "id": "b2431d26-7e17-4cd1-b3d5-5984d5e4e1e7",
   "metadata": {
    "tags": []
   },
   "outputs": [],
   "source": [
    "method_order = sorted_methods['title'][1:]"
   ]
  },
  {
   "cell_type": "markdown",
   "id": "49183330-d296-4b30-a8b4-3ce0030bf843",
   "metadata": {},
   "source": [
    "## Plot Performance\n",
    "Use a heatmap"
   ]
  },
  {
   "cell_type": "code",
   "execution_count": null,
   "id": "4e969d23-69f1-4c16-bb65-a0b9d5e3296a",
   "metadata": {
    "tags": []
   },
   "outputs": [],
   "source": [
    "def assemble_heatmap(col_name: str) -> tuple[np.ndarray, list[str]]:\n",
    "    \"\"\"Assemble the data needed for a heatmap\n",
    "    \n",
    "    Args:\n",
    "        Name of column to be plotted\n",
    "    Returns:\n",
    "        Data used for the plot\n",
    "    \"\"\"\n",
    "    \n",
    "    # Make sure all methods have the same deltas\n",
    "    deltas = all_hessians.query(f'title != \"ccsd(t)//cc-pvtz\"').sort_values('delta').groupby('title')['delta'].apply(list)\n",
    "    assert all(deltas[0] == d for d in deltas), deltas\n",
    "    \n",
    "    \n",
    "    return np.array([\n",
    "        all_hessians.query(f'title == \"{method}\"').sort_values('delta')[col_name].tolist()\n",
    "        for method in method_order\n",
    "    ]), [str(x) for x in deltas[0]]"
   ]
  },
  {
   "cell_type": "code",
   "execution_count": null,
   "id": "de2b576c",
   "metadata": {
    "tags": []
   },
   "outputs": [],
   "source": [
    "fig, ax = plt.subplots()\n",
    "\n",
    "zpe_accuracy, xticklabels = assemble_heatmap('zpe_error_abs')\n",
    "ax = sns.heatmap(zpe_accuracy, cmap=\"YlGnBu\", linewidth=1, annot=True, yticklabels=method_order, xticklabels=xticklabels, ax=ax)\n",
    "ax.set_title(f'ZPVE error from {\"/\".join(target_method)} (kcal/mol)')\n",
    "ax.set_xlabel('Step size')\n",
    "\n",
    "fig.tight_layout()"
   ]
  },
  {
   "cell_type": "code",
   "execution_count": null,
   "id": "72614278-19c9-4007-9702-8300219f7de9",
   "metadata": {
    "tags": []
   },
   "outputs": [],
   "source": [
    "fig, ax = plt.subplots()\n",
    "\n",
    "zpe_accuracy, xticklabels = assemble_heatmap('vib_mae')\n",
    "ax = sns.heatmap(zpe_accuracy, cmap=\"YlGnBu\", linewidth=1, annot=True, fmt='.3g', yticklabels=method_order, xticklabels=xticklabels, ax=ax)\n",
    "ax.set_title(f'Mean Absolute Frequency Error from {\"/\".join(target_method)} (cm$^{-1}$)')\n",
    "ax.set_xlabel('Step size')\n",
    "\n",
    "fig.tight_layout()"
   ]
  },
  {
   "cell_type": "code",
   "execution_count": null,
   "id": "b24037ee-0ecc-4616-9fa5-f5941fb049d9",
   "metadata": {},
   "outputs": [],
   "source": []
  }
 ],
 "metadata": {
  "kernelspec": {
   "display_name": "Python 3 (ipykernel)",
   "language": "python",
   "name": "python3"
  },
  "language_info": {
   "codemirror_mode": {
    "name": "ipython",
    "version": 3
   },
   "file_extension": ".py",
   "mimetype": "text/x-python",
   "name": "python",
   "nbconvert_exporter": "python",
   "pygments_lexer": "ipython3",
   "version": "3.9.18"
  }
 },
 "nbformat": 4,
 "nbformat_minor": 5
}
