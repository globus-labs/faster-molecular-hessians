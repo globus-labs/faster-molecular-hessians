{
 "cells": [
  {
   "cell_type": "markdown",
   "id": "33ea06c4-dca8-4957-861c-6d7898178f5f",
   "metadata": {},
   "source": [
    "# Evaluate Effect of Rotating Molecule\n",
    "The vibrational frequencies of a molecule are invariant to rotation of the coordinate system, in theory.\n",
    "In practice, computing the vibrational frequencies requires numerical derivatives performed in a specific coordinate system.\n",
    "Here, we evaluate the effect of the choice of coordinate system."
   ]
  },
  {
   "cell_type": "code",
   "execution_count": 1,
   "id": "ef74ccfe-8cde-4027-b7d7-dcdc15dcbbc3",
   "metadata": {
    "tags": []
   },
   "outputs": [],
   "source": [
    "%matplotlib inline\n",
    "from matplotlib import pyplot as plt\n",
    "from jitterbug.compare import compare_hessians\n",
    "from jitterbug.utils import make_calculator\n",
    "from ase.vibrations import Vibrations\n",
    "from ase.io import read\n",
    "from pathlib import Path\n",
    "from tqdm import tqdm\n",
    "import pandas as pd\n",
    "import numpy as np\n",
    "import shutil"
   ]
  },
  {
   "cell_type": "markdown",
   "id": "cbfeea26-177e-492c-94d1-f3e8f44db4a6",
   "metadata": {},
   "source": [
    "Configuration"
   ]
  },
  {
   "cell_type": "code",
   "execution_count": 2,
   "id": "8d044f72-cbf9-4b5f-a8b3-426f2ecf1304",
   "metadata": {
    "tags": [
     "parameters"
    ]
   },
   "outputs": [],
   "source": [
    "molecule_path = 'data/exact/caffeine_pm7_None.xyz'\n",
    "num_samples: int = 256"
   ]
  },
  {
   "cell_type": "markdown",
   "id": "f6282672-b202-4605-acd6-2ce58f1fdb40",
   "metadata": {},
   "source": [
    "Derived"
   ]
  },
  {
   "cell_type": "code",
   "execution_count": 3,
   "id": "b6d6f2bd-1101-451f-bf45-7e927cc20448",
   "metadata": {
    "tags": []
   },
   "outputs": [],
   "source": [
    "molecule_path = Path(molecule_path)\n",
    "molecule_name, method, basis = molecule_path.name[:-4].split(\"_\")"
   ]
  },
  {
   "cell_type": "markdown",
   "id": "e9da8690-a5d3-47b3-93ae-a5a02f34bc05",
   "metadata": {},
   "source": [
    "## Load the Relaxed Geometry, Make Calculator\n",
    "Prepare to run the Hessian computation"
   ]
  },
  {
   "cell_type": "code",
   "execution_count": 4,
   "id": "c73177fb-bf69-480f-a44b-cf357581426b",
   "metadata": {
    "tags": []
   },
   "outputs": [],
   "source": [
    "atoms = read(molecule_path)"
   ]
  },
  {
   "cell_type": "code",
   "execution_count": 5,
   "id": "1dde50f7-1072-44ec-96b9-d6323c6f0572",
   "metadata": {
    "tags": []
   },
   "outputs": [],
   "source": [
    "calc = make_calculator(method, basis)\n",
    "atoms.calc = calc"
   ]
  },
  {
   "cell_type": "markdown",
   "id": "c6872f88-7aa0-471d-b1e3-9aad06deaeac",
   "metadata": {},
   "source": [
    "## Compute Hessian for the Original Orientation\n",
    "We'll use this as the reference"
   ]
  },
  {
   "cell_type": "code",
   "execution_count": 6,
   "id": "c24e3f73-dd2a-4674-a456-e916bf7b2653",
   "metadata": {
    "tags": []
   },
   "outputs": [],
   "source": [
    "def get_hessian(atoms) -> np.ndarray:\n",
    "    \"\"\"Compute the Hessian\"\"\"\n",
    "    \n",
    "    if Path('vib').exists():\n",
    "        shutil.rmtree('vib')\n",
    "    vib = Vibrations(atoms)\n",
    "    vib.run()\n",
    "    ref_hessian = vib.get_vibrations()\n",
    "    return ref_hessian.get_hessian_2d()"
   ]
  },
  {
   "cell_type": "code",
   "execution_count": 7,
   "id": "6340a3ee-fcb8-4c52-aaca-75776397afd3",
   "metadata": {
    "tags": []
   },
   "outputs": [
    {
     "name": "stdout",
     "output_type": "stream",
     "text": [
      "CPU times: user 151 ms, sys: 696 ms, total: 847 ms\n",
      "Wall time: 5.57 s\n"
     ]
    }
   ],
   "source": [
    "%%time\n",
    "ref_hessian = get_hessian(atoms)"
   ]
  },
  {
   "cell_type": "markdown",
   "id": "db04c26d-a561-4d1f-9d1d-2f216e99f0fc",
   "metadata": {},
   "source": [
    "## Compute Hessian for Many Rotations, Measure Differences\n",
    "We will measure the ZPE error and vibration MAE"
   ]
  },
  {
   "cell_type": "code",
   "execution_count": 8,
   "id": "ded280bd-57e9-4557-ae06-1673f177a070",
   "metadata": {
    "tags": []
   },
   "outputs": [
    {
     "name": "stderr",
     "output_type": "stream",
     "text": [
      "  0%|                                                                                                                                                                                                                                                             | 0/256 [00:00<?, ?it/s]/home/lward/miniconda3/envs/jitterbug/lib/python3.9/site-packages/pmutt/statmech/vib.py:87: RuntimeWarning: overflow encountered in sinh\n",
      "  (0.5 * vib_dimless)**2 * (1. / np.sinh(vib_dimless / 2.))**2\n",
      "100%|███████████████████████████████████████████████████████████████████████████████████████████████████████████████████████████████████████████████████████████████████████████████████████████████████████████████████████████████████████████████████| 256/256 [30:09<00:00,  7.07s/it]\n"
     ]
    }
   ],
   "source": [
    "comparisons = []\n",
    "for i in tqdm(range(num_samples)):\n",
    "    # Make a random rotation vector\n",
    "    u = np.random.uniform(-1, 1)\n",
    "    v = np.random.uniform(0, 2 * np.pi)\n",
    "    v = (np.sqrt(1 - u ** 2) * np.cos(v), np.sqrt(1 - u ** 2) * np.sin(v), u)\n",
    "    \n",
    "    # Make a random rotation \n",
    "    atoms.rotate(np.random.uniform(0, 360), v)\n",
    "    \n",
    "    # Compute and compare hessian\n",
    "    new_hessian = get_hessian(atoms)\n",
    "    comparison = compare_hessians(atoms, ref_hessian, new_hessian)\n",
    "    comparisons.append({\n",
    "        'zpe_error': abs(comparison.zpe_error),\n",
    "        'vib_mae': comparison.vib_mae\n",
    "    })  "
   ]
  },
  {
   "cell_type": "markdown",
   "id": "472b9e55-4ac5-4d69-8e27-56f39bc3a1d2",
   "metadata": {},
   "source": [
    "Compare for many samples"
   ]
  },
  {
   "cell_type": "code",
   "execution_count": 9,
   "id": "12cdf4d0-6ed7-41a8-bc46-c3f95e89cb23",
   "metadata": {
    "tags": []
   },
   "outputs": [
    {
     "data": {
      "text/html": [
       "<div>\n",
       "<style scoped>\n",
       "    .dataframe tbody tr th:only-of-type {\n",
       "        vertical-align: middle;\n",
       "    }\n",
       "\n",
       "    .dataframe tbody tr th {\n",
       "        vertical-align: top;\n",
       "    }\n",
       "\n",
       "    .dataframe thead th {\n",
       "        text-align: right;\n",
       "    }\n",
       "</style>\n",
       "<table border=\"1\" class=\"dataframe\">\n",
       "  <thead>\n",
       "    <tr style=\"text-align: right;\">\n",
       "      <th></th>\n",
       "      <th>zpe_error</th>\n",
       "      <th>vib_mae</th>\n",
       "    </tr>\n",
       "  </thead>\n",
       "  <tbody>\n",
       "    <tr>\n",
       "      <th>count</th>\n",
       "      <td>256.000000</td>\n",
       "      <td>256.000000</td>\n",
       "    </tr>\n",
       "    <tr>\n",
       "      <th>mean</th>\n",
       "      <td>0.008504</td>\n",
       "      <td>0.124474</td>\n",
       "    </tr>\n",
       "    <tr>\n",
       "      <th>std</th>\n",
       "      <td>0.004583</td>\n",
       "      <td>0.045956</td>\n",
       "    </tr>\n",
       "    <tr>\n",
       "      <th>min</th>\n",
       "      <td>0.000007</td>\n",
       "      <td>0.016011</td>\n",
       "    </tr>\n",
       "    <tr>\n",
       "      <th>25%</th>\n",
       "      <td>0.004681</td>\n",
       "      <td>0.088121</td>\n",
       "    </tr>\n",
       "    <tr>\n",
       "      <th>50%</th>\n",
       "      <td>0.008094</td>\n",
       "      <td>0.124565</td>\n",
       "    </tr>\n",
       "    <tr>\n",
       "      <th>75%</th>\n",
       "      <td>0.013257</td>\n",
       "      <td>0.168693</td>\n",
       "    </tr>\n",
       "    <tr>\n",
       "      <th>max</th>\n",
       "      <td>0.015370</td>\n",
       "      <td>0.219113</td>\n",
       "    </tr>\n",
       "  </tbody>\n",
       "</table>\n",
       "</div>"
      ],
      "text/plain": [
       "        zpe_error     vib_mae\n",
       "count  256.000000  256.000000\n",
       "mean     0.008504    0.124474\n",
       "std      0.004583    0.045956\n",
       "min      0.000007    0.016011\n",
       "25%      0.004681    0.088121\n",
       "50%      0.008094    0.124565\n",
       "75%      0.013257    0.168693\n",
       "max      0.015370    0.219113"
      ]
     },
     "execution_count": 9,
     "metadata": {},
     "output_type": "execute_result"
    }
   ],
   "source": [
    "comparisons = pd.DataFrame(comparisons)\n",
    "comparisons.describe()"
   ]
  },
  {
   "cell_type": "code",
   "execution_count": 10,
   "id": "3e4ffe3f-b8c3-4112-ba7b-7e22119591ca",
   "metadata": {
    "tags": []
   },
   "outputs": [
    {
     "data": {
      "text/plain": [
       "Text(0, 0.5, 'Frequency')"
      ]
     },
     "execution_count": 10,
     "metadata": {},
     "output_type": "execute_result"
    },
    {
     "data": {
      "image/png": "[encoded data removed]",
      "text/plain": [
       "<Figure size 550x200 with 2 Axes>"
      ]
     },
     "metadata": {},
     "output_type": "display_data"
    }
   ],
   "source": [
    "fig, axs = plt.subplots(1, 2, figsize=(5.5, 2.), sharey=True)\n",
    "\n",
    "for ax, c, t in zip(axs, ['zpe_error', 'vib_mae'], ['ZPE Error (kcal/mol)', 'Vibrations MAE (cm$^{-1}$)']):\n",
    "    ax.hist(comparisons[c], bins=32)\n",
    "    \n",
    "    ax.set_xlabel(t)\n",
    "    \n",
    "axs[0].set_ylabel('Frequency')"
   ]
  },
  {
   "cell_type": "markdown",
   "id": "45eeb78b-5629-40f4-b492-360aea5c1b85",
   "metadata": {},
   "source": [
    "Errors due to coordinate system are very small"
   ]
  },
  {
   "cell_type": "code",
   "execution_count": 11,
   "id": "f2151e7b-79d4-4c3d-95f4-45d4f61006a5",
   "metadata": {},
   "outputs": [],
   "source": [
    "out_dir = Path('data') / 'error-bounds' \n",
    "out_dir.mkdir(exist_ok=True)\n",
    "comparisons.to_csv(out_dir / f'{molecule_path.name[:-4]}-rotations.csv', index=False)"
   ]
  },
  {
   "cell_type": "code",
   "execution_count": null,
   "id": "e163ec06-4179-4ab5-8d19-dfeaf9a4c4a3",
   "metadata": {},
   "outputs": [],
   "source": []
  }
 ],
 "metadata": {
  "kernelspec": {
   "display_name": "Python 3 (ipykernel)",
   "language": "python",
   "name": "python3"
  },
  "language_info": {
   "codemirror_mode": {
    "name": "ipython",
    "version": 3
   },
   "file_extension": ".py",
   "mimetype": "text/x-python",
   "name": "python",
   "nbconvert_exporter": "python",
   "pygments_lexer": "ipython3",
   "version": "3.9.18"
  }
 },
 "nbformat": 4,
 "nbformat_minor": 5
}
